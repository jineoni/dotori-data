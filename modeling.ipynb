{
 "cells": [
  {
   "cell_type": "markdown",
   "id": "867fe259",
   "metadata": {},
   "source": [
    "### Applicants Sample"
   ]
  },
  {
   "cell_type": "code",
   "execution_count": 1,
   "id": "42291858",
   "metadata": {},
   "outputs": [],
   "source": [
    "applicant1 = {\n",
    "    \"high_school_completion\": 1,\n",
    "    \"general_college_requirement\": \n",
    "        {\n",
    "            \"english\": 4,\n",
    "            \"math\": 4,\n",
    "            \"science\": 4,\n",
    "            \"scienceLab\": 2,\n",
    "            \"language\": 2,\n",
    "            \"social\": 3,\n",
    "            \"arts\": 4\n",
    "        },\n",
    "    \"alumni\": 1,\n",
    "    \"first\": 0,\n",
    "    \"alumni_school_names\": [\"Georgia Tech\", \"NYU\", \"University of Minnesota\", \"U Georgia\"],\n",
    "    \"residency\": \"domestic\",\n",
    "    \"state\": \"MN\",\n",
    "    \"country\": \"\",\n",
    "    \"sat\": 1520,\n",
    "    \"act\": 0,\n",
    "    \"gpa\": 3.7,\n",
    "    \"volunteering_hours\": 150,\n",
    "    \"work_months\": 0\n",
    "}"
   ]
  },
  {
   "cell_type": "code",
   "execution_count": 2,
   "id": "8881a401",
   "metadata": {},
   "outputs": [],
   "source": [
    "applicant2 = {\n",
    "    \"high_school_completion\": 1,\n",
    "    \"general_college_requirement\": \n",
    "        {\n",
    "            \"english\": 4,\n",
    "            \"math\": 4,\n",
    "            \"science\": 4,\n",
    "            \"scienceLab\": 2,\n",
    "            \"language\": 2,\n",
    "            \"social\": 3,\n",
    "            \"arts\": 4\n",
    "        },\n",
    "    \"alumni\": 0,\n",
    "    \"first\": 0,\n",
    "    \"alumni_school_names\": [],\n",
    "    \"residency\": \"international\",\n",
    "    \"state\": \"\",\n",
    "    \"country\": \"Korea, Republic of\",\n",
    "    \"sat\": 1520,\n",
    "    \"act\": 0,\n",
    "    \"gpa\": 3.7,\n",
    "    \"volunteering_hours\": 150,\n",
    "    \"work_months\": 0\n",
    "}"
   ]
  },
  {
   "cell_type": "code",
   "execution_count": 3,
   "id": "cf401c12",
   "metadata": {},
   "outputs": [],
   "source": [
    "applicant3 = {\n",
    "    \"high_school_completion\": 1,\n",
    "    \"general_college_requirement\":         \n",
    "        {\n",
    "            \"english\": 4,\n",
    "            \"math\": 4,\n",
    "            \"science\": 4,\n",
    "            \"scienceLab\": 2,\n",
    "            \"language\": 2,\n",
    "            \"social\": 3,\n",
    "            \"arts\": 4\n",
    "        },\n",
    "    \"alumni\": 0,\n",
    "    \"first\": 0,\n",
    "    \"alumni_school_names\": [],\n",
    "    \"residency\": \"international\",\n",
    "    \"state\": \"\",\n",
    "    \"country\": \"Korea, Republic of\",\n",
    "    \"sat\": 1480,\n",
    "    \"act\": 0,\n",
    "    \"gpa\": 3.9,\n",
    "    \"volunteering_hours\": 150,\n",
    "    \"work_months\": 3\n",
    "}"
   ]
  },
  {
   "cell_type": "code",
   "execution_count": 4,
   "id": "07aa1116",
   "metadata": {},
   "outputs": [],
   "source": [
    "applicant4 = {\n",
    "    \"high_school_completion\": 1,\n",
    "    \"general_college_requirement\": \n",
    "        {\n",
    "            \"english\": 4,\n",
    "            \"math\": 4,\n",
    "            \"science\": 4,\n",
    "            \"scienceLab\": 2,\n",
    "            \"language\": 2,\n",
    "            \"social\": 3,\n",
    "            \"arts\": 4\n",
    "        },\n",
    "    \"alumni\": 0,\n",
    "    \"first\": 0,\n",
    "    \"alumni_school_names\": [],\n",
    "    \"residency\": \"international\",\n",
    "    \"state\": \"\",\n",
    "    \"country\": \"Korea, Republic of\",\n",
    "    \"sat\": 1300,\n",
    "    \"act\": 0,\n",
    "    \"gpa\": 2.8,\n",
    "    \"volunteering_hours\": 150,\n",
    "    \"work_months\": 0\n",
    "}"
   ]
  },
  {
   "cell_type": "markdown",
   "id": "cf07ff57",
   "metadata": {},
   "source": [
    "### Crawling"
   ]
  },
  {
   "cell_type": "code",
   "execution_count": 5,
   "id": "745e9ba5",
   "metadata": {},
   "outputs": [],
   "source": [
    "import os\n",
    "import pdfplumber\n",
    "import re\n",
    "\n",
    "import pandas as pd\n",
    "\n",
    "import openpyxl"
   ]
  },
  {
   "cell_type": "code",
   "execution_count": 6,
   "id": "5302b8df",
   "metadata": {},
   "outputs": [],
   "source": [
    "input_folder = 'pdf'\n",
    "\n",
    "gatech_file_path = os.path.join(input_folder, 'gatech.pdf')\n",
    "umn_file_path = os.path.join(input_folder, 'umn.pdf')\n",
    "nyu_file_path = os.path.join(input_folder, 'nyu.pdf')\n",
    "uga_file_path = os.path.join(input_folder, 'uga.pdf')"
   ]
  },
  {
   "cell_type": "code",
   "execution_count": 7,
   "id": "f13da305",
   "metadata": {},
   "outputs": [],
   "source": [
    "# Remove None and empty string from row\n",
    "def clean_row(row):\n",
    "    return [cell for cell in row if cell not in [None, '']]"
   ]
  },
  {
   "cell_type": "code",
   "execution_count": 8,
   "id": "9719df68",
   "metadata": {},
   "outputs": [],
   "source": [
    "# Extract only numbers from the cell\n",
    "def clean_number(cell):\n",
    "    cell = re.sub(r'[^\\d.]', '', str(cell)) # Remove all non-numeric characters\n",
    "    try:\n",
    "        return float(cell)\n",
    "    except:\n",
    "        return 0"
   ]
  },
  {
   "cell_type": "code",
   "execution_count": 9,
   "id": "a30f6a70",
   "metadata": {},
   "outputs": [],
   "source": [
    "# Extract text from a section like \"C{#}.\" up to before \"C{#+1}.\"\n",
    "\n",
    "def extract_section_by_label(file_path, section_label):\n",
    "    next_label = \"c\" + str(int(section_label[1:]) + 1)\n",
    "\n",
    "    full_text = \"\"\n",
    "    with pdfplumber.open(file_path) as pdf:\n",
    "        for page in pdf.pages:\n",
    "            text = page.extract_text()\n",
    "            if text:\n",
    "                full_text += text.lower()\n",
    "\n",
    "    # Match exact line starting with \"c{#}.\"\n",
    "    # ^ = matches the beginning of a line\n",
    "    start_match = re.search(rf\"({section_label.lower()}[\\. ])\", full_text)\n",
    "    if not start_match:\n",
    "        print(f\"Section {section_label.upper()} not found.\")\n",
    "        return\n",
    "    start_idx = start_match.start()\n",
    "\n",
    "    # Look for the start of the next section\n",
    "    next_match = re.search(rf\"({next_label}[\\. ])\", full_text[start_idx:])\n",
    "    end_idx = start_idx + next_match.start() if next_match else None # If we don't find the next label, go to the end of the document\n",
    "\n",
    "    section_text = full_text[start_idx:end_idx]\n",
    "\n",
    "    return section_text"
   ]
  },
  {
   "cell_type": "markdown",
   "id": "5d3d3aae",
   "metadata": {},
   "source": [
    "##### Residency"
   ]
  },
  {
   "cell_type": "code",
   "execution_count": 10,
   "id": "e7d2d8a7",
   "metadata": {},
   "outputs": [],
   "source": [
    "def extract_residency_data(file_path):\n",
    "    \n",
    "    result = {\n",
    "        'applicants': {'in-state': 0, 'out-of-state': 0, 'international': 0, 'others': 0},\n",
    "        'admitted': {'in-state': 0, 'out-of-state': 0, 'international': 0, 'others': 0}\n",
    "    }\n",
    "\n",
    "    # Define keywords to identify residency-related and first-year-related tables\n",
    "    residency_keywords = ['in-state', 'out-of-state', 'international']\n",
    "    first_keywords = ['first-time', 'first-year']\n",
    "\n",
    "    with pdfplumber.open(file_path) as pdf:\n",
    "        for page in pdf.pages:\n",
    "            tables = page.extract_tables()\n",
    "\n",
    "            for table in tables:\n",
    "                \n",
    "                # Check if this table is relevant\n",
    "                table_str = ' '.join(str(cell).lower() for row in table for cell in row if cell)\n",
    "                if not (any(keyword in table_str for keyword in residency_keywords) and all(keyword in table_str for keyword in first_keywords)):\n",
    "                    continue\n",
    "                \n",
    "                # Extract header row\n",
    "                header_row = clean_row([str(cell or '').lower() for cell in table[0]])\n",
    "\n",
    "                # Find index of each column\n",
    "                col_idx = {'in-state': -1, 'out-of-state': -1, 'international': -1, 'others': -1}\n",
    "                for idx, col in enumerate(header_row):\n",
    "                    if 'in-' in col:\n",
    "                        col_idx['in-state'] = idx\n",
    "                    elif 'out-' in col:\n",
    "                        col_idx['out-of-state'] = idx\n",
    "                    elif 'inter' in col:\n",
    "                        col_idx['international'] = idx\n",
    "                    elif 'unk' in col:\n",
    "                        col_idx['others'] = idx\n",
    "\n",
    "                # Loop through data rows\n",
    "                for row in table[1:]:  # skip header\n",
    "                    row = clean_row(row)\n",
    "                    row_str = ' '.join(str(cell or '').lower() for cell in row)\n",
    "\n",
    "                   # Identify whether this row is about applicants or admitted students\n",
    "                    if 'applied' in row_str:\n",
    "                        target = 'applicants'\n",
    "                    elif 'admitted' in row_str:\n",
    "                        target = 'admitted'\n",
    "                    else:\n",
    "                        continue # Skip if not relevant\n",
    "                    \n",
    "                    # Add residency-specific count\n",
    "                    if col_idx['in-state'] != -1 and col_idx['in-state'] < len(row):\n",
    "                        result[target]['in-state'] += clean_number(row[col_idx['in-state']])\n",
    "                    if col_idx['out-of-state'] != -1 and col_idx['out-of-state'] < len(row):\n",
    "                        result[target]['out-of-state'] += clean_number(row[col_idx['out-of-state']])\n",
    "                    if col_idx['international'] != -1 and col_idx['international'] < len(row):\n",
    "                        result[target]['international'] += clean_number(row[col_idx['international']])\n",
    "                    if col_idx['others'] != -1 and col_idx['others'] < len(row):\n",
    "                        result[target]['others'] += clean_number(row[col_idx['others']])\n",
    "\n",
    "    return result\n"
   ]
  },
  {
   "cell_type": "code",
   "execution_count": 11,
   "id": "3cf59995",
   "metadata": {},
   "outputs": [
    {
     "data": {
      "text/plain": [
       "{'applicants': {'in-state': 10674.0,\n",
       "  'out-of-state': 38320.0,\n",
       "  'international': 10795.0,\n",
       "  'others': 0.0},\n",
       " 'admitted': {'in-state': 3536.0,\n",
       "  'out-of-state': 3992.0,\n",
       "  'international': 885.0,\n",
       "  'others': 0.0}}"
      ]
     },
     "execution_count": 11,
     "metadata": {},
     "output_type": "execute_result"
    }
   ],
   "source": [
    "extract_residency_data(gatech_file_path)"
   ]
  },
  {
   "cell_type": "code",
   "execution_count": 12,
   "id": "a39785fb",
   "metadata": {},
   "outputs": [
    {
     "data": {
      "text/plain": [
       "{'applicants': {'in-state': 13982.0,\n",
       "  'out-of-state': 19461.0,\n",
       "  'international': 1256.0,\n",
       "  'others': 0},\n",
       " 'admitted': {'in-state': 10498.0,\n",
       "  'out-of-state': 15400.0,\n",
       "  'international': 982.0,\n",
       "  'others': 0}}"
      ]
     },
     "execution_count": 12,
     "metadata": {},
     "output_type": "execute_result"
    }
   ],
   "source": [
    "extract_residency_data(umn_file_path)"
   ]
  },
  {
   "cell_type": "code",
   "execution_count": 13,
   "id": "acf64d16",
   "metadata": {},
   "outputs": [
    {
     "data": {
      "text/plain": [
       "{'applicants': {'in-state': 0,\n",
       "  'out-of-state': 0.0,\n",
       "  'international': 0,\n",
       "  'others': 0},\n",
       " 'admitted': {'in-state': 0,\n",
       "  'out-of-state': 0.0,\n",
       "  'international': 0,\n",
       "  'others': 0}}"
      ]
     },
     "execution_count": 13,
     "metadata": {},
     "output_type": "execute_result"
    }
   ],
   "source": [
    "extract_residency_data(nyu_file_path)"
   ]
  },
  {
   "cell_type": "code",
   "execution_count": 14,
   "id": "3c150608",
   "metadata": {},
   "outputs": [
    {
     "data": {
      "text/plain": [
       "{'applicants': {'in-state': 18210.0,\n",
       "  'out-of-state': 23867.0,\n",
       "  'international': 1338.0,\n",
       "  'others': 1.0},\n",
       " 'admitted': {'in-state': 9149.0,\n",
       "  'out-of-state': 6709.0,\n",
       "  'international': 289.0,\n",
       "  'others': 1.0}}"
      ]
     },
     "execution_count": 14,
     "metadata": {},
     "output_type": "execute_result"
    }
   ],
   "source": [
    "extract_residency_data(uga_file_path)"
   ]
  },
  {
   "cell_type": "markdown",
   "id": "662dee14",
   "metadata": {},
   "source": [
    "##### High School Completion Requirement"
   ]
  },
  {
   "cell_type": "code",
   "execution_count": 15,
   "id": "9aa9fb81",
   "metadata": {},
   "outputs": [],
   "source": [
    "def extract_highschool_requirement(file_path):\n",
    "\n",
    "    result = {\n",
    "        'high school diploma required': 0,\n",
    "        'GED accepted': 0\n",
    "    }\n",
    "\n",
    "    # Define exact phrases expected in each case\n",
    "    diploma_and_ged = \"high school diploma is required and ged is accepted\"\n",
    "    diploma_only = \"high school diploma is required and ged is not accepted\"\n",
    "    no_diploma_needed = \"high school diploma or equivalent is not required\"\n",
    "    \n",
    "    # Define marks\n",
    "    marks = ['x', '☒', '✓', '✔', '4']\n",
    "\n",
    "    # Extract only the C3 section using helper function\n",
    "    section_text = extract_section_by_label(file_path, \"C3\")\n",
    "    if not section_text:\n",
    "        return result  # Return default if section not found\n",
    "\n",
    "    section_text = section_text.lower()\n",
    "    found_checked_option = False # Will be set to True if a checkbox is detected\n",
    "\n",
    "    # Go through each line to find checked options\n",
    "    for line in section_text.split('\\n'):\n",
    "        # '4' is included because some pdf files incorrectly render checkmarks as '4'\n",
    "        if diploma_and_ged in line and any(mark in line for mark in marks):\n",
    "            result['high school diploma required'] = 1\n",
    "            result['GED accepted'] = 1\n",
    "            found_checked_option = True\n",
    "            break\n",
    "        elif diploma_only in line and any(mark in line for mark in marks):\n",
    "            result['high school diploma required'] = 1\n",
    "            result['GED accepted'] = 0\n",
    "            found_checked_option = True\n",
    "            break\n",
    "        elif no_diploma_needed in line and any(mark in line for mark in marks):\n",
    "            result['high school diploma required'] = 0\n",
    "            result['GED accepted'] = 0\n",
    "            found_checked_option = True\n",
    "            break\n",
    "\n",
    "    # If no checkboxes were found, use a fallback approach based on keyword presence\n",
    "    if not found_checked_option:\n",
    "        if diploma_and_ged in section_text:\n",
    "            result['high school diploma required'] = 1\n",
    "            result['GED accepted'] = 1\n",
    "        elif diploma_only in section_text:\n",
    "            result['high school diploma required'] = 1\n",
    "            result['GED accepted'] = 0\n",
    "        elif no_diploma_needed in section_text:\n",
    "            result['high school diploma required'] = 0\n",
    "            result['GED accepted'] = 0\n",
    "\n",
    "    return result"
   ]
  },
  {
   "cell_type": "code",
   "execution_count": 16,
   "id": "27ed2ae9",
   "metadata": {},
   "outputs": [
    {
     "data": {
      "text/plain": [
       "{'high school diploma required': 1, 'GED accepted': 0}"
      ]
     },
     "execution_count": 16,
     "metadata": {},
     "output_type": "execute_result"
    }
   ],
   "source": [
    "extract_highschool_requirement(gatech_file_path)"
   ]
  },
  {
   "cell_type": "code",
   "execution_count": 17,
   "id": "4e54b9e8",
   "metadata": {},
   "outputs": [
    {
     "data": {
      "text/plain": [
       "{'high school diploma required': 1, 'GED accepted': 1}"
      ]
     },
     "execution_count": 17,
     "metadata": {},
     "output_type": "execute_result"
    }
   ],
   "source": [
    "extract_highschool_requirement(umn_file_path)"
   ]
  },
  {
   "cell_type": "code",
   "execution_count": 18,
   "id": "14a6fc7a",
   "metadata": {},
   "outputs": [
    {
     "data": {
      "text/plain": [
       "{'high school diploma required': 1, 'GED accepted': 1}"
      ]
     },
     "execution_count": 18,
     "metadata": {},
     "output_type": "execute_result"
    }
   ],
   "source": [
    "extract_highschool_requirement(nyu_file_path)"
   ]
  },
  {
   "cell_type": "code",
   "execution_count": 19,
   "id": "6d83b95d",
   "metadata": {},
   "outputs": [
    {
     "data": {
      "text/plain": [
       "{'high school diploma required': 1, 'GED accepted': 1}"
      ]
     },
     "execution_count": 19,
     "metadata": {},
     "output_type": "execute_result"
    }
   ],
   "source": [
    "extract_highschool_requirement(uga_file_path)"
   ]
  },
  {
   "cell_type": "markdown",
   "id": "81483cb7",
   "metadata": {},
   "source": [
    "##### State"
   ]
  },
  {
   "cell_type": "code",
   "execution_count": 20,
   "id": "efdc7136",
   "metadata": {},
   "outputs": [],
   "source": [
    "def extract_state(file_path):\n",
    "    state_name_to_abbr = {\n",
    "        'Alabama': 'AL', 'Alaska': 'AK', 'Arizona': 'AZ', 'Arkansas': 'AR',\n",
    "        'California': 'CA', 'Colorado': 'CO', 'Connecticut': 'CT', 'Delaware': 'DE',\n",
    "        'Florida': 'FL', 'Georgia': 'GA', 'Hawaii': 'HI', 'Idaho': 'ID',\n",
    "        'Illinois': 'IL', 'Indiana': 'IN', 'Iowa': 'IA', 'Kansas': 'KS',\n",
    "        'Kentucky': 'KY', 'Louisiana': 'LA', 'Maine': 'ME', 'Maryland': 'MD',\n",
    "        'Massachusetts': 'MA', 'Michigan': 'MI', 'Minnesota': 'MN',\n",
    "        'Mississippi': 'MS', 'Missouri': 'MO', 'Montana': 'MT', 'Nebraska': 'NE',\n",
    "        'Nevada': 'NV', 'New Hampshire': 'NH', 'New Jersey': 'NJ',\n",
    "        'New Mexico': 'NM', 'New York': 'NY', 'North Carolina': 'NC',\n",
    "        'North Dakota': 'ND', 'Ohio': 'OH', 'Oklahoma': 'OK', 'Oregon': 'OR',\n",
    "        'Pennsylvania': 'PA', 'Rhode Island': 'RI', 'South Carolina': 'SC',\n",
    "        'South Dakota': 'SD', 'Tennessee': 'TN', 'Texas': 'TX', 'Utah': 'UT',\n",
    "        'Vermont': 'VT', 'Virginia': 'VA', 'Washington': 'WA',\n",
    "        'West Virginia': 'WV', 'Wisconsin': 'WI', 'Wyoming': 'WY'\n",
    "    }\n",
    "\n",
    "    section_text = extract_section_by_label(file_path, 'A1')\n",
    "    if not section_text:\n",
    "        return {\"State\": \"Unknown\"}\n",
    "\n",
    "    lines = section_text.lower().splitlines()[:20]\n",
    "\n",
    "    for line in lines:\n",
    "        if 'state' in line:\n",
    "            # Full state name\n",
    "            for state, abbr in state_name_to_abbr.items():\n",
    "                if state.lower() in line:\n",
    "                    return {\"State\": abbr}\n",
    "            # Abbreviation state name \n",
    "            for abbr in state_name_to_abbr.values():\n",
    "                if f' {abbr.lower()} ' in f' {line} ':\n",
    "                    return {\"State\": abbr}\n",
    "\n",
    "    return {\"State\": \"Unknown\"}"
   ]
  },
  {
   "cell_type": "code",
   "execution_count": 21,
   "id": "65ecdf42",
   "metadata": {},
   "outputs": [
    {
     "data": {
      "text/plain": [
       "{'State': 'GA'}"
      ]
     },
     "execution_count": 21,
     "metadata": {},
     "output_type": "execute_result"
    }
   ],
   "source": [
    "extract_state(gatech_file_path)"
   ]
  },
  {
   "cell_type": "code",
   "execution_count": 22,
   "id": "7aa354bb",
   "metadata": {},
   "outputs": [
    {
     "data": {
      "text/plain": [
       "{'State': 'MN'}"
      ]
     },
     "execution_count": 22,
     "metadata": {},
     "output_type": "execute_result"
    }
   ],
   "source": [
    "extract_state(umn_file_path)"
   ]
  },
  {
   "cell_type": "code",
   "execution_count": 23,
   "id": "f09e983e",
   "metadata": {},
   "outputs": [
    {
     "data": {
      "text/plain": [
       "{'State': 'NY'}"
      ]
     },
     "execution_count": 23,
     "metadata": {},
     "output_type": "execute_result"
    }
   ],
   "source": [
    "extract_state(nyu_file_path)"
   ]
  },
  {
   "cell_type": "code",
   "execution_count": 24,
   "id": "4132153f",
   "metadata": {},
   "outputs": [
    {
     "data": {
      "text/plain": [
       "{'State': 'GA'}"
      ]
     },
     "execution_count": 24,
     "metadata": {},
     "output_type": "execute_result"
    }
   ],
   "source": [
    "extract_state(uga_file_path)"
   ]
  },
  {
   "cell_type": "markdown",
   "id": "20479a43",
   "metadata": {},
   "source": [
    "##### School Name"
   ]
  },
  {
   "cell_type": "code",
   "execution_count": 25,
   "id": "fefa43d5",
   "metadata": {},
   "outputs": [],
   "source": [
    "def extract_school_name(file_path):\n",
    "    text = extract_section_by_label(file_path, \"A1\")\n",
    "    lines = text.lower().splitlines()\n",
    "    for line in lines:\n",
    "        # Handle both \"name of college or university\" and \"name of college/university\" formats\n",
    "        match = re.match(r\"\\s*name of college\\s*(?:or|/)\\s*university[:\\s]+(.+)\", line, re.IGNORECASE)\n",
    "        if match:\n",
    "            return match.group(1).strip()\n",
    "    return None"
   ]
  },
  {
   "cell_type": "code",
   "execution_count": 26,
   "id": "70402bd3",
   "metadata": {},
   "outputs": [
    {
     "data": {
      "text/plain": [
       "'georgia institute of technology'"
      ]
     },
     "execution_count": 26,
     "metadata": {},
     "output_type": "execute_result"
    }
   ],
   "source": [
    "extract_school_name(gatech_file_path)"
   ]
  },
  {
   "cell_type": "code",
   "execution_count": 27,
   "id": "dd138aef",
   "metadata": {},
   "outputs": [
    {
     "data": {
      "text/plain": [
       "'university of minnesota – twin cities campus'"
      ]
     },
     "execution_count": 27,
     "metadata": {},
     "output_type": "execute_result"
    }
   ],
   "source": [
    "extract_school_name(umn_file_path)"
   ]
  },
  {
   "cell_type": "code",
   "execution_count": 28,
   "id": "5a2d6b72",
   "metadata": {},
   "outputs": [
    {
     "data": {
      "text/plain": [
       "'new york university'"
      ]
     },
     "execution_count": 28,
     "metadata": {},
     "output_type": "execute_result"
    }
   ],
   "source": [
    "extract_school_name(nyu_file_path)"
   ]
  },
  {
   "cell_type": "code",
   "execution_count": 29,
   "id": "52622a73",
   "metadata": {},
   "outputs": [
    {
     "data": {
      "text/plain": [
       "'university of georgia'"
      ]
     },
     "execution_count": 29,
     "metadata": {},
     "output_type": "execute_result"
    }
   ],
   "source": [
    "extract_school_name(uga_file_path)"
   ]
  },
  {
   "cell_type": "markdown",
   "id": "517842ce",
   "metadata": {},
   "source": [
    "##### General College-Preparatory Program Requirement"
   ]
  },
  {
   "cell_type": "code",
   "execution_count": 30,
   "id": "8652dccd",
   "metadata": {},
   "outputs": [],
   "source": [
    "def extract_college_prep_requirement(file_path):\n",
    "    \n",
    "    result = {\n",
    "        'general college-preparatory program': \n",
    "            {\n",
    "                'required': 0,\n",
    "                'recommended': 0,\n",
    "                'neither required or recommended': 0\n",
    "            }\n",
    "        }\n",
    "\n",
    "    # Define key phrases to match\n",
    "    required = \"require\"\n",
    "    recommended = \"recommend\"\n",
    "    neither = \"neither require nor recommend\"\n",
    "    \n",
    "    # Define marks\n",
    "    marks = ['x', '☒', '✓', '✔', '4']\n",
    "\n",
    "    # Extract only the C4 section using helper function\n",
    "    section_text = extract_section_by_label(file_path, 'C4')\n",
    "    if not section_text:\n",
    "        return result # Return default if section not found\n",
    "    section_text = section_text.lower()\n",
    "    \n",
    "    found_checked_option = False # Will be set to True if a checkbox is detected\n",
    "\n",
    "    # Go through each line to find checked options\n",
    "    for line in section_text.split('\\n'):\n",
    "        \n",
    "        # Skip the question sectence\n",
    "        if line.startswith('c4'):\n",
    "            continue\n",
    "        \n",
    "        # '4' is included because some pdf files incorrectly render checkmarks as '4'\n",
    "        if neither in line and any(mark in line for mark in marks):\n",
    "            result['general college-preparatory program']['neither required or recommended'] = 1\n",
    "            found_checked_option = True\n",
    "            break\n",
    "        elif required in line and any(mark in line for mark in marks):\n",
    "            result['general college-preparatory program']['required'] = 1\n",
    "            found_checked_option = True\n",
    "            break\n",
    "        elif recommended in line and any(mark in line for mark in marks):\n",
    "            result['general college-preparatory program']['recommended'] = 1\n",
    "            found_checked_option = True\n",
    "            break\n",
    "\n",
    "    # If no checkboxes were found, use a fallback approach based on keyword presence\n",
    "    if not found_checked_option:\n",
    "        if \"neither require nor recommend\" in section_text:\n",
    "            result['general college-preparatory program']['neither required or recommended'] = 1\n",
    "        elif \"recommend\" in section_text:\n",
    "            result['general college-preparatory program']['recommended'] = 1\n",
    "        elif \"require\" in section_text:\n",
    "            result['general college-preparatory program']['required'] = 1\n",
    "\n",
    "    return result"
   ]
  },
  {
   "cell_type": "code",
   "execution_count": 31,
   "id": "097cbd6b",
   "metadata": {},
   "outputs": [
    {
     "data": {
      "text/plain": [
       "{'general college-preparatory program': {'required': 1,\n",
       "  'recommended': 0,\n",
       "  'neither required or recommended': 0}}"
      ]
     },
     "execution_count": 31,
     "metadata": {},
     "output_type": "execute_result"
    }
   ],
   "source": [
    "extract_college_prep_requirement(gatech_file_path)"
   ]
  },
  {
   "cell_type": "code",
   "execution_count": 32,
   "id": "36b1fb78",
   "metadata": {},
   "outputs": [
    {
     "data": {
      "text/plain": [
       "{'general college-preparatory program': {'required': 0,\n",
       "  'recommended': 1,\n",
       "  'neither required or recommended': 0}}"
      ]
     },
     "execution_count": 32,
     "metadata": {},
     "output_type": "execute_result"
    }
   ],
   "source": [
    "extract_college_prep_requirement(umn_file_path)"
   ]
  },
  {
   "cell_type": "code",
   "execution_count": 33,
   "id": "05554447",
   "metadata": {},
   "outputs": [
    {
     "data": {
      "text/plain": [
       "{'general college-preparatory program': {'required': 0,\n",
       "  'recommended': 1,\n",
       "  'neither required or recommended': 0}}"
      ]
     },
     "execution_count": 33,
     "metadata": {},
     "output_type": "execute_result"
    }
   ],
   "source": [
    "extract_college_prep_requirement(nyu_file_path)"
   ]
  },
  {
   "cell_type": "code",
   "execution_count": 34,
   "id": "a9388da4",
   "metadata": {},
   "outputs": [
    {
     "data": {
      "text/plain": [
       "{'general college-preparatory program': {'required': 1,\n",
       "  'recommended': 0,\n",
       "  'neither required or recommended': 0}}"
      ]
     },
     "execution_count": 34,
     "metadata": {},
     "output_type": "execute_result"
    }
   ],
   "source": [
    "extract_college_prep_requirement(uga_file_path)"
   ]
  },
  {
   "cell_type": "code",
   "execution_count": 35,
   "id": "fefbd4fe",
   "metadata": {},
   "outputs": [],
   "source": [
    "def extract_general_college_subjects(file_path):\n",
    "    import pdfplumber\n",
    "\n",
    "    result = {\n",
    "        \"english\": 0,\n",
    "        \"math\": 0,\n",
    "        \"science\": 0,\n",
    "        \"scienceLab\": 0,\n",
    "        \"language\": 0,\n",
    "        \"social\": 0,\n",
    "        \"arts\": 0\n",
    "    }\n",
    "\n",
    "    # Keywords that commonly appear in the C5 subject distribution table\n",
    "    subject_keywords = [\"english\", \"math\", \"science\"]\n",
    "\n",
    "    with pdfplumber.open(file_path) as pdf:\n",
    "        for page in pdf.pages:\n",
    "            tables = page.extract_tables()\n",
    "            for table in tables:\n",
    "                if not table or len(table[0]) < 2:\n",
    "                    continue  # Skip empty or invalid tables\n",
    "\n",
    "                # Convert header cells to lowercase for comparison\n",
    "                headers = [cell.lower() if cell else \"\" for cell in table[0]]\n",
    "\n",
    "                # Check if table looks like a C5 table based on header content\n",
    "                header_match = \"distribution of high\" in headers[0] or \\\n",
    "                               (\"units required\" in headers[1] if len(headers) > 1 else False)\n",
    "\n",
    "                # nyu - Check if at least 3 subject-related keywords appear in row labels\n",
    "                match_count = 0\n",
    "                for row in table:\n",
    "                    if not row or len(row) < 1:\n",
    "                        continue\n",
    "                    label = row[0].lower().strip() if row[0] else \"\"\n",
    "                    if any(keyword in label for keyword in subject_keywords):\n",
    "                        match_count += 1\n",
    "                keyword_match = match_count >= 3\n",
    "\n",
    "                # Skip this table if neither condition is satisfied\n",
    "                if not (header_match or keyword_match):\n",
    "                    continue\n",
    "\n",
    "                # Parse the table rows: skip first row if headers are matched\n",
    "                for row in table[1:] if header_match else table:\n",
    "                    row = clean_row([cell.lower().strip() if cell else \"\" for cell in row])\n",
    "                    if not row or len(row) < 1:\n",
    "                        continue\n",
    "\n",
    "                    label = row[0]\n",
    "                    value = row[1] if len(row) > 1 else \"\"\n",
    "\n",
    "                    # Match labels to subjects and clean the numerical value\n",
    "                    if \"english\" in label:\n",
    "                        result[\"english\"] = clean_number(value)\n",
    "                    elif \"math\" in label:\n",
    "                        result[\"math\"] = clean_number(value)\n",
    "                    elif label == \"science\":\n",
    "                        result[\"science\"] = clean_number(value)\n",
    "                    elif \"lab\" in label:\n",
    "                        result[\"scienceLab\"] = clean_number(value)\n",
    "                    elif \"language\" in label:\n",
    "                        result[\"language\"] = clean_number(value)\n",
    "                    elif \"social studies\" in label:\n",
    "                        result[\"social\"] = clean_number(value)\n",
    "                    elif \"arts\" in label:\n",
    "                        result[\"arts\"] = clean_number(value)\n",
    "\n",
    "                # Return immediately after finding and parsing the correct C5 table\n",
    "                return result\n",
    "\n",
    "    return result  # Return default if no matching table was found\n"
   ]
  },
  {
   "cell_type": "code",
   "execution_count": 36,
   "id": "ab812b5f",
   "metadata": {},
   "outputs": [
    {
     "data": {
      "text/plain": [
       "{'english': 4.0,\n",
       " 'math': 4.0,\n",
       " 'science': 4.0,\n",
       " 'scienceLab': 2.0,\n",
       " 'language': 2.0,\n",
       " 'social': 3.0,\n",
       " 'arts': 0}"
      ]
     },
     "execution_count": 36,
     "metadata": {},
     "output_type": "execute_result"
    }
   ],
   "source": [
    "extract_general_college_subjects(gatech_file_path)"
   ]
  },
  {
   "cell_type": "code",
   "execution_count": 37,
   "id": "f8264b57",
   "metadata": {},
   "outputs": [
    {
     "data": {
      "text/plain": [
       "{'english': 4.0,\n",
       " 'math': 4.0,\n",
       " 'science': 3.0,\n",
       " 'scienceLab': 1.0,\n",
       " 'language': 2.0,\n",
       " 'social': 3.0,\n",
       " 'arts': 1.0}"
      ]
     },
     "execution_count": 37,
     "metadata": {},
     "output_type": "execute_result"
    }
   ],
   "source": [
    "extract_general_college_subjects(umn_file_path)"
   ]
  },
  {
   "cell_type": "code",
   "execution_count": 38,
   "id": "b43468e4",
   "metadata": {},
   "outputs": [
    {
     "data": {
      "text/plain": [
       "{'english': 4.0,\n",
       " 'math': 3.0,\n",
       " 'science': 3.0,\n",
       " 'scienceLab': 3.0,\n",
       " 'language': 3.0,\n",
       " 'social': 3.0,\n",
       " 'arts': 0}"
      ]
     },
     "execution_count": 38,
     "metadata": {},
     "output_type": "execute_result"
    }
   ],
   "source": [
    "extract_general_college_subjects(nyu_file_path)"
   ]
  },
  {
   "cell_type": "code",
   "execution_count": 39,
   "id": "3ad7c606",
   "metadata": {},
   "outputs": [
    {
     "data": {
      "text/plain": [
       "{'english': 4.0,\n",
       " 'math': 4.0,\n",
       " 'science': 4.0,\n",
       " 'scienceLab': 2.0,\n",
       " 'language': 2.0,\n",
       " 'social': 3.0,\n",
       " 'arts': 0}"
      ]
     },
     "execution_count": 39,
     "metadata": {},
     "output_type": "execute_result"
    }
   ],
   "source": [
    "extract_general_college_subjects(uga_file_path)"
   ]
  },
  {
   "cell_type": "markdown",
   "id": "3968b5f2",
   "metadata": {},
   "source": [
    "### Preprocessing"
   ]
  },
  {
   "cell_type": "code",
   "execution_count": 40,
   "id": "ae0f79d5",
   "metadata": {},
   "outputs": [],
   "source": [
    "def calculate_acceptance_rates(data):\n",
    "    applicants = data['applicants']\n",
    "    admitted = data['admitted']\n",
    "    rates = {}\n",
    "    for category in applicants:\n",
    "        applied = applicants[category]\n",
    "        accepted = admitted.get(category, 0)\n",
    "        if applied > 0:\n",
    "            rates[category] = accepted / applied\n",
    "        else:\n",
    "            rates[category] = None \n",
    "    return rates"
   ]
  },
  {
   "cell_type": "code",
   "execution_count": 41,
   "id": "fee924da",
   "metadata": {},
   "outputs": [
    {
     "data": {
      "text/plain": [
       "{'in-state': 0.3312722503278996,\n",
       " 'out-of-state': 0.10417536534446764,\n",
       " 'international': 0.08198239925891616,\n",
       " 'others': None}"
      ]
     },
     "execution_count": 41,
     "metadata": {},
     "output_type": "execute_result"
    }
   ],
   "source": [
    "calculate_acceptance_rates(extract_residency_data(gatech_file_path))"
   ]
  },
  {
   "cell_type": "code",
   "execution_count": 42,
   "id": "58c98e68",
   "metadata": {},
   "outputs": [
    {
     "data": {
      "text/plain": [
       "{'in-state': 0.7508224860534973,\n",
       " 'out-of-state': 0.7913262422280458,\n",
       " 'international': 0.7818471337579618,\n",
       " 'others': None}"
      ]
     },
     "execution_count": 42,
     "metadata": {},
     "output_type": "execute_result"
    }
   ],
   "source": [
    "calculate_acceptance_rates(extract_residency_data(umn_file_path))"
   ]
  },
  {
   "cell_type": "code",
   "execution_count": 43,
   "id": "9e5bffe9",
   "metadata": {},
   "outputs": [
    {
     "data": {
      "text/plain": [
       "{'in-state': None, 'out-of-state': None, 'international': None, 'others': None}"
      ]
     },
     "execution_count": 43,
     "metadata": {},
     "output_type": "execute_result"
    }
   ],
   "source": [
    "calculate_acceptance_rates(extract_residency_data(nyu_file_path))"
   ]
  },
  {
   "cell_type": "code",
   "execution_count": 44,
   "id": "ee814554",
   "metadata": {},
   "outputs": [
    {
     "data": {
      "text/plain": [
       "{'in-state': 0.5024162548050521,\n",
       " 'out-of-state': 0.2810994259856706,\n",
       " 'international': 0.21599402092675635,\n",
       " 'others': 1.0}"
      ]
     },
     "execution_count": 44,
     "metadata": {},
     "output_type": "execute_result"
    }
   ],
   "source": [
    "calculate_acceptance_rates(extract_residency_data(uga_file_path))"
   ]
  },
  {
   "cell_type": "markdown",
   "id": "2dfee778",
   "metadata": {},
   "source": [
    "##### SAT or ACT"
   ]
  },
  {
   "cell_type": "code",
   "execution_count": 45,
   "id": "552e4457",
   "metadata": {},
   "outputs": [],
   "source": [
    "def is_marked(cell, marks=['x', '☑', '☒', '✓', '✔', '4']):\n",
    "    if not cell:\n",
    "        return False\n",
    "    cell_str = str(cell).strip().lower()\n",
    "    return any(mark in cell_str for mark in marks)"
   ]
  },
  {
   "cell_type": "code",
   "execution_count": 46,
   "id": "7896d2ca",
   "metadata": {},
   "outputs": [],
   "source": [
    "def classify_requirement(text):\n",
    "    text = text.lower().replace('\\n', ' ')\n",
    "    if \"required to be considered\" in text:\n",
    "        return \"Required\"\n",
    "    elif \"required for some\" in text:\n",
    "        return \"Required for some\"\n",
    "    elif \"recommended\" in text:\n",
    "        return \"Recommended\"\n",
    "    elif \"not required\" in text:\n",
    "        return \"Optional\"\n",
    "    elif \"not considered\" in text:\n",
    "        return \"Not considered\"\n",
    "    return \"Unknown\"\n",
    "\n",
    "# Nyu case\n",
    "def extract_requirement_from_text_lines(text_lines, keyword):\n",
    "    for i, line in enumerate(text_lines):\n",
    "        if keyword.lower() in line.lower():\n",
    "            if i + 1 < len(text_lines):\n",
    "                next_line = text_lines[i + 1].strip()\n",
    "                return classify_requirement(next_line)\n",
    "    return \"Unknown\"\n",
    "\n",
    "# Nyu case\n",
    "def extract_from_text(pdf):\n",
    "    labels = {\n",
    "        \"SAT or ACT\": \"SAT and/or ACT\",\n",
    "        \"ACT Only\": \"ACT Only\",\n",
    "        \"SAT Only\": \"SAT Only\"\n",
    "    }\n",
    "    result = {f\"{label} Requirement\": \"Unknown\" for label in labels}\n",
    "\n",
    "    full_text = \"\"\n",
    "    for page in pdf.pages:\n",
    "        text = page.extract_text()\n",
    "        if text:\n",
    "            full_text += \"\\n\" + text\n",
    "\n",
    "    lines = full_text.split(\"\\n\")\n",
    "\n",
    "    for label, keyword in labels.items():\n",
    "        result[f\"{label} Requirement\"] = extract_requirement_from_text_lines(lines, keyword)\n",
    "\n",
    "    return result\n",
    "\n",
    "# Gatech, Umn case\n",
    "def extract_from_table(pdf):\n",
    "    labels = [\"SAT or ACT\", \"ACT Only\", \"SAT Only\"]\n",
    "    result = {f\"{label} Requirement\": \"Unknown\" for label in labels}\n",
    "\n",
    "    for page in pdf.pages:\n",
    "        tables = page.extract_tables()\n",
    "        for table in tables:\n",
    "            if not table or len(table) < 2:\n",
    "                continue\n",
    "\n",
    "            table_str = ' '.join(str(cell).lower() for row in table for cell in row if cell)\n",
    "            if \"sat or act\" not in table_str:\n",
    "                continue\n",
    "\n",
    "            headers = [str(cell).strip().lower() if cell else \"\" for cell in table[0]]\n",
    "\n",
    "            for row in table[1:]:\n",
    "                row_cells = [str(cell).strip().lower() if cell else \"\" for cell in row]\n",
    "                for label in labels:\n",
    "                    if label.lower() in row_cells[0]:\n",
    "                        for i in range(1, len(row)):\n",
    "                            if i < len(headers) and is_marked(row[i]):\n",
    "                                category = classify_requirement(headers[i])\n",
    "                                if category:\n",
    "                                    result[f\"{label} Requirement\"] = category\n",
    "                                    break\n",
    "    return result\n",
    "\n",
    "def extract_sat_act_required(file_path):\n",
    "    with pdfplumber.open(file_path) as pdf:\n",
    "        table_result = extract_from_table(pdf)\n",
    "        if all(value == \"Unknown\" for value in table_result.values()):\n",
    "            return extract_from_text(pdf)\n",
    "        return table_result"
   ]
  },
  {
   "cell_type": "code",
   "execution_count": 47,
   "id": "103262bb",
   "metadata": {},
   "outputs": [
    {
     "data": {
      "text/plain": [
       "{'SAT or ACT Requirement': 'Required',\n",
       " 'ACT Only Requirement': 'Unknown',\n",
       " 'SAT Only Requirement': 'Unknown'}"
      ]
     },
     "execution_count": 47,
     "metadata": {},
     "output_type": "execute_result"
    }
   ],
   "source": [
    "extract_sat_act_required(gatech_file_path)"
   ]
  },
  {
   "cell_type": "code",
   "execution_count": 48,
   "id": "95a4e64c",
   "metadata": {},
   "outputs": [
    {
     "data": {
      "text/plain": [
       "{'SAT or ACT Requirement': 'Optional',\n",
       " 'ACT Only Requirement': 'Unknown',\n",
       " 'SAT Only Requirement': 'Unknown'}"
      ]
     },
     "execution_count": 48,
     "metadata": {},
     "output_type": "execute_result"
    }
   ],
   "source": [
    "extract_sat_act_required(umn_file_path)"
   ]
  },
  {
   "cell_type": "code",
   "execution_count": 49,
   "id": "c1ae9756",
   "metadata": {},
   "outputs": [
    {
     "data": {
      "text/plain": [
       "{'SAT or ACT Requirement': 'Recommended',\n",
       " 'ACT Only Requirement': 'Optional',\n",
       " 'SAT Only Requirement': 'Optional'}"
      ]
     },
     "execution_count": 49,
     "metadata": {},
     "output_type": "execute_result"
    }
   ],
   "source": [
    "extract_sat_act_required(nyu_file_path)"
   ]
  },
  {
   "cell_type": "code",
   "execution_count": 50,
   "id": "253276bc",
   "metadata": {},
   "outputs": [
    {
     "data": {
      "text/plain": [
       "{'SAT or ACT Requirement': 'Unknown',\n",
       " 'ACT Only Requirement': 'Unknown',\n",
       " 'SAT Only Requirement': 'Unknown'}"
      ]
     },
     "execution_count": 50,
     "metadata": {},
     "output_type": "execute_result"
    }
   ],
   "source": [
    "extract_sat_act_required(uga_file_path)"
   ]
  },
  {
   "cell_type": "code",
   "execution_count": 51,
   "id": "36169f81",
   "metadata": {},
   "outputs": [],
   "source": [
    "def extract_sat_act_scores(file_path):\n",
    "    regex_map = {\n",
    "        \"SAT Composite\": r\"sat.*composite\",\n",
    "        \"SAT EBRW\": r\"sat.*(evidence|ebrw|writing)\",\n",
    "        \"SAT Math\": r\"sat.*math\",\n",
    "        \"ACT Composite\": r\"act.*composite\",\n",
    "        \"ACT Math\": r\"act.*math\",\n",
    "        \"ACT English\": r\"act.*english\",\n",
    "        \"ACT Writing\": r\"act.*writing\",\n",
    "        \"ACT Science\": r\"act.*science\",\n",
    "        \"ACT Reading\": r\"act.*reading\"\n",
    "    }\n",
    "\n",
    "    score_data = {label: {'25th': None, '50th': None, '75th': None} for label in regex_map}\n",
    "\n",
    "    with pdfplumber.open(file_path) as pdf:\n",
    "        for page in pdf.pages:\n",
    "            tables = page.extract_tables()\n",
    "            text = page.extract_text() or \"\"\n",
    "\n",
    "            act_writing_present = \"act writing\" in text.lower()\n",
    "\n",
    "            for table in tables:\n",
    "                 for row in table:\n",
    "                    cleaned_row = [str(cell).lower().strip() if cell else \"\" for cell in row]\n",
    "                    row_label = cleaned_row[0]\n",
    "\n",
    "                    matched_label = None\n",
    "                    for label, pattern in regex_map.items():\n",
    "                        if re.search(pattern, row_label):\n",
    "                            matched_label = label\n",
    "                            break\n",
    "\n",
    "                    if not matched_label and re.fullmatch(r\"writing\", row_label):\n",
    "                        matched_label = \"SAT EBRW\"\n",
    "\n",
    "                    if matched_label:\n",
    "                        numeric_values = [cell for cell in cleaned_row[1:] if cell.replace('.', '', 1).isdigit()]\n",
    "                        for i, key in enumerate(['25th', '50th', '75th']):\n",
    "                            if i < len(numeric_values):\n",
    "                                score_data[matched_label][key] = numeric_values[i]\n",
    "\n",
    "    return score_data"
   ]
  },
  {
   "cell_type": "code",
   "execution_count": 52,
   "id": "c7433dd0",
   "metadata": {},
   "outputs": [
    {
     "data": {
      "text/plain": [
       "{'SAT Composite': {'25th': '1370', '50th': '1460', '75th': '1530'},\n",
       " 'SAT EBRW': {'25th': '680', '50th': '720', '75th': '750'},\n",
       " 'SAT Math': {'25th': '690', '50th': '760', '75th': '790'},\n",
       " 'ACT Composite': {'25th': '30', '50th': '33', '75th': '34'},\n",
       " 'ACT Math': {'25th': '29', '50th': '32', '75th': '35'},\n",
       " 'ACT English': {'25th': '31', '50th': '34', '75th': '35'},\n",
       " 'ACT Writing': {'25th': '8', '50th': '8', '75th': '9'},\n",
       " 'ACT Science': {'25th': '29', '50th': '33', '75th': '35'},\n",
       " 'ACT Reading': {'25th': '31', '50th': '34', '75th': '35'}}"
      ]
     },
     "execution_count": 52,
     "metadata": {},
     "output_type": "execute_result"
    }
   ],
   "source": [
    "extract_sat_act_scores(gatech_file_path)"
   ]
  },
  {
   "cell_type": "code",
   "execution_count": 53,
   "id": "89f4702b",
   "metadata": {},
   "outputs": [
    {
     "data": {
      "text/plain": [
       "{'SAT Composite': {'25th': '1328', '50th': '1400', '75th': '1460'},\n",
       " 'SAT EBRW': {'25th': '640', '50th': '680', '75th': '720'},\n",
       " 'SAT Math': {'25th': '670', '50th': '720', '75th': '760'},\n",
       " 'ACT Composite': {'25th': '27', '50th': '29', '75th': '31'},\n",
       " 'ACT Math': {'25th': '25', '50th': '28', '75th': '31'},\n",
       " 'ACT English': {'25th': '25', '50th': '28', '75th': '33'},\n",
       " 'ACT Writing': {'25th': '7', '50th': '8', '75th': '9'},\n",
       " 'ACT Science': {'25th': '25', '50th': '28', '75th': '32'},\n",
       " 'ACT Reading': {'25th': '27', '50th': '31', '75th': '34'}}"
      ]
     },
     "execution_count": 53,
     "metadata": {},
     "output_type": "execute_result"
    }
   ],
   "source": [
    "extract_sat_act_scores(umn_file_path)"
   ]
  },
  {
   "cell_type": "code",
   "execution_count": 54,
   "id": "df54ebef",
   "metadata": {},
   "outputs": [
    {
     "data": {
      "text/plain": [
       "{'SAT Composite': {'25th': None, '50th': None, '75th': None},\n",
       " 'SAT EBRW': {'25th': None, '50th': None, '75th': None},\n",
       " 'SAT Math': {'25th': None, '50th': None, '75th': None},\n",
       " 'ACT Composite': {'25th': None, '50th': None, '75th': None},\n",
       " 'ACT Math': {'25th': None, '50th': None, '75th': None},\n",
       " 'ACT English': {'25th': None, '50th': None, '75th': None},\n",
       " 'ACT Writing': {'25th': None, '50th': None, '75th': None},\n",
       " 'ACT Science': {'25th': None, '50th': None, '75th': None},\n",
       " 'ACT Reading': {'25th': None, '50th': None, '75th': None}}"
      ]
     },
     "execution_count": 54,
     "metadata": {},
     "output_type": "execute_result"
    }
   ],
   "source": [
    "extract_sat_act_scores(nyu_file_path)"
   ]
  },
  {
   "cell_type": "code",
   "execution_count": 55,
   "id": "615d83e6",
   "metadata": {},
   "outputs": [
    {
     "data": {
      "text/plain": [
       "{'SAT Composite': {'25th': '1230', '50th': '1320', '75th': '1410'},\n",
       " 'SAT EBRW': {'25th': '620', '50th': '670', '75th': '710'},\n",
       " 'SAT Math': {'25th': '600', '50th': '660', '75th': '710'},\n",
       " 'ACT Composite': {'25th': '27', '50th': '7', '75th': '3'},\n",
       " 'ACT Math': {'25th': '25', '50th': '28', '75th': '31'},\n",
       " 'ACT English': {'25th': '26', '50th': '31', '75th': '34'},\n",
       " 'ACT Writing': {'25th': None, '50th': None, '75th': None},\n",
       " 'ACT Science': {'25th': '25', '50th': '29', '75th': '32'},\n",
       " 'ACT Reading': {'25th': '28', '50th': '32', '75th': '34'}}"
      ]
     },
     "execution_count": 55,
     "metadata": {},
     "output_type": "execute_result"
    }
   ],
   "source": [
    "extract_sat_act_scores(uga_file_path)"
   ]
  },
  {
   "cell_type": "markdown",
   "id": "1265df2e",
   "metadata": {},
   "source": [
    "##### Importance"
   ]
  },
  {
   "cell_type": "code",
   "execution_count": 56,
   "id": "4bbd251f",
   "metadata": {},
   "outputs": [],
   "source": [
    "def extract_relative_importance(file_path):\n",
    "    importance_levels = [\"Very Important\", \"Important\", \"Considered\", \"Not Considered\"]\n",
    "\n",
    "    academic_factors = [\n",
    "        \"Rigor of secondary school record\",\n",
    "        \"Class rank\",\n",
    "        \"Academic Grade Point Average (GPA)\",\n",
    "        \"Recommendations\",\n",
    "        \"Standardized test scores\",\n",
    "        \"Application essay\"\n",
    "    ]\n",
    "\n",
    "    nonacademic_factors = [\n",
    "        \"Interview\",\n",
    "        \"Extracurricular activities\",\n",
    "        \"Talent/ability\",\n",
    "        \"Character/personal qualities\",\n",
    "        \"First generation\",\n",
    "        \"Alumni/ae relation\",\n",
    "        \"Geographical residence\",\n",
    "        \"State residency\",\n",
    "        \"Religious affiliation/commitment\",\n",
    "        \"Racial/ethnic status\",\n",
    "        \"Volunteer work\",\n",
    "        \"Work experience\",\n",
    "        \"Level of applicant’s interest\"\n",
    "    ]\n",
    "\n",
    "    result = {\n",
    "        \"Academic\": {},\n",
    "        \"Nonacademic\": {}\n",
    "    }\n",
    "\n",
    "    with pdfplumber.open(file_path) as pdf:\n",
    "        # STEP 1: Gatech style (table-based)\n",
    "        for page in pdf.pages:\n",
    "            tables = page.extract_tables()\n",
    "            for table in tables:\n",
    "                if not table or len(table) < 2:\n",
    "                    continue\n",
    "                table_str = ' '.join(str(cell).lower() for row in table for cell in row if cell)\n",
    "                if not all(level.lower() in table_str for level in importance_levels):\n",
    "                    continue\n",
    "                headers = [str(cell).strip() if cell else \"\" for cell in table[0]]\n",
    "                for row in table[1:]:\n",
    "                    row = [str(cell).strip() if cell else \"\" for cell in row]\n",
    "                    if not row or row[0].lower() in [\"academic\", \"nonacademic\"]:\n",
    "                        continue\n",
    "                    factor = row[0]\n",
    "                    for i in range(1, min(len(row), len(headers))):\n",
    "                        if is_marked(row[i]):\n",
    "                            importance = headers[i].strip()\n",
    "                            section = \"Academic\" if factor in academic_factors else \"Nonacademic\"\n",
    "                            result[section][factor] = importance\n",
    "                            break\n",
    "\n",
    "    if result[\"Academic\"] or result[\"Nonacademic\"]:\n",
    "        return result\n",
    "    \n",
    "    # STEP 2: NYU style fallback (text-based)\n",
    "    full_text = \"\"\n",
    "    with pdfplumber.open(file_path) as pdf:\n",
    "        for page in pdf.pages:\n",
    "            text = page.extract_text()\n",
    "            if text:\n",
    "                full_text += \"\\n\" + text\n",
    "\n",
    "    def find_importance_by_text(factor):\n",
    "        pattern = factor.lower()\n",
    "        idx = full_text.lower().find(pattern)\n",
    "        if idx == -1:\n",
    "            return None\n",
    "        after = full_text[idx + len(pattern):].strip()\n",
    "        for level in importance_levels:\n",
    "            if after.lower().startswith(level.lower()):\n",
    "                return level\n",
    "        return None\n",
    "\n",
    "    for factor in academic_factors:\n",
    "        importance = find_importance_by_text(factor)\n",
    "        if importance:\n",
    "            result[\"Academic\"][factor] = importance\n",
    "\n",
    "    for factor in nonacademic_factors:\n",
    "        importance = find_importance_by_text(factor)\n",
    "        if importance:\n",
    "            result[\"Nonacademic\"][factor] = importance\n",
    "\n",
    "    return result"
   ]
  },
  {
   "cell_type": "code",
   "execution_count": 57,
   "id": "44bc2a68",
   "metadata": {},
   "outputs": [
    {
     "data": {
      "text/plain": [
       "'c7. relative importance of each of the following academic and nonacademic factors in your first-\\ntime, first-year, degree-seeking general (not including programs with specific criteria) admission\\ndecisions.\\nnot\\nfactors very important important considered\\nconsidered\\nacademic\\nrigor of secondary school\\n☒ ☐ ☐ ☐\\nrecord\\nclass rank ☒ ☐ ☐ ☐\\nacademic gpa ☒ ☐ ☐ ☐\\nstandardized test scores ☐ ☐ ☒ ☐\\napplication essay ☐ ☐ ☒ ☐\\nrecommendation ☐ ☐ ☒ ☐\\nnonacademic\\ninterview ☐ ☐ ☐ ☒\\nextracurricular activities ☐ ☐ ☒ ☐\\ntalent/ability ☐ ☐ ☒ ☐\\ncharacter/personal qualities ☐ ☐ ☒ ☐\\nfirst generation ☐ ☐ ☒ ☐\\nalumni/ae relation ☐ ☐ ☐ ☒\\ngeographical residence ☐ ☐ ☒ ☐\\nstate residency ☐ ☐ ☒ ☐\\nreligious\\n☐ ☐ ☐ ☒\\naffiliation/commitment\\nvolunteer work ☐ ☐ ☒ ☐\\nwork experience ☐ ☐ ☒ ☐\\nlevel of applicant’s interest ☐ ☐ ☐ ☒\\nplease provide additional information if the importance of any specific academic or nonacademic\\nfactors differ by academic program.\\n⇒ click or tap here to enter text.common data set 2023-2024\\nc8: sat and act policies\\nentrance exams\\ndoes your institution make use of sat or act scores in admission decisions for first-time, first-year,\\ndegree-seeking applicants:\\n☒ yes ☐ no\\nif yes, place check marks in the appropriate boxes below to reflect your institution’s policies for use in\\nadmission for fall 2025.\\nnot\\nnot required\\nrequired to considered\\nrequired for admission,\\nentrance exams be considered recommended for admission,\\nfor some but considered\\nfor admission even if\\nif submitted\\nsubmitted\\nsat or act ☐ ☐ ☐ ☒ ☐\\nact only ☐ ☐ ☐ ☐ ☐\\nsat only ☐ ☐ ☐ ☐ ☐\\nc8b. has been removed from the cds.\\nc8c. has been removed from the cds.\\nd. in addition, does your institution use applicants\\' test scores for academic advising?\\n☒ yes ☐ no\\ne. latest date by which sat or act scores must be received for fall-term admission:\\n⇒ 01/31\\nf. if necessary, use this space to clarify your test policies (e.g., if tests are recommended for some students,\\nor if tests are not required of some students due to differences by academic program, student academic\\nbackground, or if other examinations may be considered in lieu of the sat and act.)\\n⇒ if applicants choose to report their scores, the writing tests are part of the academic factors for\\nadmission.common data set 2023-2024\\ng. please indicate which tests your institution uses for placement (e.g., state tests):\\n☒ sat\\n☒ act\\n☒ ap\\n☐ clep\\n☒ institutional exam\\n☐ state exam (specify): click or tap here to enter text.\\nc9-c12: first-time, first-year profile\\nprovide information for all enrolled, degree-seeking, full-time and part-time, first-time, first-year\\nstudents enrolled in fall 2023, including students who began studies during summer, international\\nstudents/nonresidents, and students admitted under special arrangements.\\nc9. percent and number of first-time, first-year students enrolled in fall 2023 who submitted\\nnational standardized (sat/act) test scores.\\n\\uf0fc include information for all enrolled, degree-seeking, first-time, first-year students who\\nsubmitted test scores.\\n\\uf0fc do not include partial test scores (e.g., mathematics scores but not critical reading for a category\\nof students) or combine other standardized test results (such as toefl) in this item.\\n\\uf0fc do not convert sat scores to act scores and vice versa.\\n\\uf0fc if a student submitted multiple sets of scores for a single test, report this information according to\\nhow you use the data. for example:\\n• if you consider the highest scores from either submission, use the highest combination of\\nscores (e.g., verbal from one submission, math from the other).\\n• if you average the scores, use the average to report the scores.\\nall enrolled, degree-seeking, first-time,\\nfirst-year students who submitted test percent number\\nscores.\\nsubmitting sat scores 8% 536\\nsubmitting act scores 34.3% 2,312common data set 2023-2024\\nfor each assessment listed below, report the score that represents the 25th percentile (the score that\\n25 percent of the first-time, first-year population scored at or below) and the 75th percentile score\\n(the score that 25 percent scored at or above).\\n25th percentile 50th percentile 75th percentile\\nassessment\\nscore score score\\nsat composite 1328 1400 1460\\nsat evidence-\\nbased reading and 640 680 720\\nwriting\\nsat math 670 720 760\\nact composite 27 29 31\\nact math 25 28 31\\nact english 25 28 33\\nact writing 7 8 9\\nact science 25 28 32\\nact reading 27 31 34\\npercent of first-time, first-year students with scores in each range:\\nsat evidence-\\nscore range based reading sat math\\nand writing\\n700-800 39.8 64\\n600-699 50.3 28.3\\n500-599 7.7 7\\n400-499 2.2 0.8\\n300-399 0 0\\n200-299 0 0\\n100% 100%common data set 2023-2024\\nsat\\nscore range\\ncomposite\\n1400-1600 52.8\\n1200-1399 41.6\\n1000-1199 4.9\\n800-999 0.8\\n600-799 0\\n400-599 0\\n100%\\nact\\nscore range act english act math act reading act science\\ncomposite\\n30-36 44.6 42.1 34.2 61.2 42.8\\n24-29 47.8 40.2 49.9 28.8 45.5\\n18-23 7.4 16.1 14.3 9.4 11.1\\n12-17 0.3 1.5 1.7 0.7 0.5\\n6-11 0 0.1 0 0 0\\nbelow 6 0 0 0 0 0\\n100% 100% 100% 100% 100%common data set 2023-2024\\nc10. percent of all degree-seeking, first-time, first-year students who had high school class rank\\nwithin each of the following ranges (report information for those students from whom you collected\\nhigh school rank information)\\nassessment percent\\npercent in top tenth of high school graduating class 39.4\\npercent in top quarter of high school graduating class 73\\npercent in top half of high school graduating class 96.9\\n} top half + bottom half =\\npercent in bottom half of high school graduating class 3.1\\n100%.\\npercent in bottom quarter of high school graduating class 0\\npercent of total first-time, first-year students who submitted\\n37%\\nhigh school class rank:common data set 2023-2024\\nc11. percentage of all enrolled, degree-seeking, first-time, first-year students who had high\\nschool grade-point averages within each of the following ranges (using 4.0 scale).\\n\\uf0fc report information only for those students from whom you collected high school gpa.\\n\\uf0fc if you are able to report gpa ranges separately for students that also submitted at least\\none test score versus those who did not submit a test score, please do so in the respective\\ncolumns. if you are unable to report these data, please report the ranges for all students.\\npercent percent\\npercent (all\\nscore range (students who (students who did\\nenrolled students)\\nsubmitted scores) not submit scores)\\npercent who had gpa of 4.0 c or t c or t c or t\\npercent who had gpa between 3.75 and\\nc or t c or t c or t\\n3.99\\npercent who had gpa between 3.50 and\\nc or t c or t c or t\\n3.74\\npercent who had gpa between 3.25 and\\nc or t c or t c or t\\n3.49\\npercent who had gpa between 3.00 and\\nc or t c or t c or t\\n3.24\\npercent who had gpa between 2.50 and\\nc or t c or t c or t\\n2.99\\npercent who had gpa between 2.0 and\\nc or t c or t c or t\\n2.49\\npercent who had gpa between 1.0 and\\nc or t c or t c or t\\n1.99\\npercent who had gpa below 1.0 c or t c or t c or t\\n100% 100% 100%\\nc12. average high school gpa of all degree-seeking, first-time, first-year students who submitted\\ngpa:\\naverage high school gpa: click or tap here to enter text.\\npercent of total first-time, first-year students who submitted high school gpa:\\npercent submitting high school gpa: click or tap here to enter text.common data set 2023-2024\\nc13-c20: admission policies\\nc13. application fee\\n\\uf0fc if your institution has waived its application fee for the fall 2025 admission cycle please\\nselect no.\\ndoes your institution have an application fee? ☒ yes ☐ no\\namount of application fee: $55\\ncan it be waived for applicants with financial need? ☒ yes ☐ no\\nif you have an application fee and an on-line application option, please indicate policy for students\\nwho apply on-line:\\n☐ same fee\\n☐ free\\n☐ reduced\\ncan on-line application fee be waived for applicants with financial need? ☒ yes ☐ no\\nc14. application closing date\\ndoes your institution have an application closing date? ☒ yes ☐ no\\napplication closing date date\\napplication closing date (fall) 01/01\\npriority date 11/01\\nc15. are first-time, first-year students accepted for terms other than the fall? ☒ yes ☐ no\\nc16. notification to applicants of admission decision sent (fill in one only)\\n☐ on a rolling basis beginning (date): click or tap here to enter text.\\n☐ by (date): click or tap here to enter text.\\n☒ other: we start to review and release decisions in september of the fall prior to\\nenrollment. decisions are released weekly. we promise decisions to students who apply\\nby the following deadlines as such: apply by nov 1 – get decision by jan 31, apply by\\ndec 1 – get decision by feb 15, apply by jan 1 – get decision by mar 31common data set 2023-2024\\nc17. reply policy for admitted applicants (fill in one only)\\n☒ must reply by (date): may 1\\n☐ no set date\\n☐ must reply by may 1st or within click or tap here to enter text. weeks if notified\\nthereafter\\n☐ other: click or tap here to enter text.\\ndeadline for housing deposit (mmdd): 05/15\\namount of housing deposit: $200\\nrefundable if student does not enroll?\\n☒ yes, in full\\n☐ yes, in part\\n☐ no\\nc18. deferred admission: does your institution allow students to postpone enrollment after\\nadmission?\\n☒ yes ☐ no\\nif yes, maximum period of postponement: 1 year\\nc19. early admission of high school students: does your institution allow high school students to\\nenroll as full-time, first-time, first-year students one year or more before high school graduation?\\n☐ yes ☒ no\\nc20. common application: question removed from cds. (initiated during 2006-2007 cycle)common data set 2023-2024\\nc21-c22: early decision and early action plans\\nc21. early decision: does your institution offer an early decision plan (an admission plan that permits\\nstudents to apply and be notified of an admission decision well in advance of the regular notification\\ndate and that asks students to commit to attending if accepted) for first-time, first-year applicants for\\nfall enrollment?\\n☐ yes ☒ no\\nif “yes,” please complete the following:\\nfirst or only early decision plan closing date: click or tap here to enter text.\\nfirst or only early decision plan notification date: click or tap here to enter text.\\nother early decision plan closing date: click or tap here to enter text.\\nother early decision plan notification date: click or tap here to enter text.\\nfor the fall 2023 entering class:\\nnumber of early decision applications received by your institution: click or tap here to enter\\ntext.\\nnumber of applicants admitted under early decision plan: click or tap here to enter text.\\nplease provide significant details about your early decision plan: click or tap here to enter text.\\nc22. early action: do you have a nonbinding early action plan whereby students are notified of an\\nadmission decision well in advance of the regular notification date but do not have to commit to\\nattending your college?\\n☒ yes ☐ no\\nif “yes,” please complete the following:\\nearly action closing date: 11/01\\nearly action notification date: 01/31\\nis your early action plan a “restrictive” plan under which you limit students from applying to other early\\nplans?\\n☐ yes ☒ nocommon data set 2023-2024\\nd. transfer admission\\nd1-d2: fall applicants\\nd1. does your institution enroll transfer students? ☒ yes ☐ no\\n(if no, please skip to section e)\\nif yes, may transfer students earn advanced standing credit by transferring credits earned from\\ncourse work completed at other colleges/universities?\\n☒ yes ☐ no\\nd2. provide the number of students who applied, were admitted, and enrolled as degree-seeking transfer\\nstudents in fall 2023.\\n\\uf0fc if your institution collects and reports non-binary gender data, please use the “another gender”\\ncategory.\\nadmitted enrolled\\napplicants\\napplicants applicants\\nmen 2,641 1,361 765\\nwomen 2,680 1,436 811\\nanother\\nc or t c or t c or t\\ngender\\ntotal 5,321 2,797 1,576\\nd3-d11: application for admission\\nd3. indicate terms for which transfers may enroll:\\n☒ fall ☐ winter ☒ spring ☐ summer\\nd4. must a transfer applicant have a minimum number of credits completed or else must apply as an\\nentering first-year student?\\n☐ yes ☒ no\\nif yes, what is the minimum number of credits and the unit of measure?\\n⇒ click or tap here to enter text.common data set 2023-2024\\nd5. indicate all items required of transfer students to apply for admission:\\nrequired recommended recommended required not\\nof all of all of some of some required\\nhigh school transcript ☐ ☐ ☐ ☒ ☐\\ncollege transcript(s) ☒ ☐ ☐ ☐ ☐\\nessay or personal\\n☐ ☐ ☐ ☒ ☐\\nstatement\\ninterview ☐ ☐ ☐ ☐ ☒\\nstandardized test\\n☐ ☐ ☐ ☐ ☒\\nscores\\nstatement of good\\nstanding from prior ☐ ☐ ☐ ☐ ☒\\ninstitution(s)\\nd6. if a minimum high school grade point average is required of transfer applicants, specify\\n(on a 4.0 scale):\\n⇒ click or tap here to enter text.\\nd7. if a minimum college grade point average is required of transfer applicants, specify\\n(on a 4.0 scale):\\n⇒ click or tap here to enter text.\\nd8. list any other application requirements specific to transfer applicants:\\n⇒ none\\nd9. list application priority, closing, notification, and candidate reply dates for transfer students. if\\napplications are reviewed on a continuous or rolling basis, place a checkmark in the “rolling\\nadmission” column.\\npriority notification rolling\\nclosing date reply date\\ndate date admission\\nfall 02/01 06/01 c or t 05/01 ☒\\nwinter c or t c or t c or t c or t ☐\\nspring 10/01 12/01 c or t c or t ☒\\nsummer c or t c or t c or t c or t ☐\\nd10. does an open admission policy, if reported, apply to transfer students? ☐ yes ☒ nocommon data set 2023-2024\\nd11. describe additional requirements for transfer admission, if applicable:\\n⇒ click or tap here to enter text.\\nd12-d17: transfer credit policies\\nd12. report the lowest grade earned for any course that may be transferred for credit:\\n⇒ d\\nd13. maximum number of credits or courses that may be transferred from a two-year institution:\\nnumber: no limit unit type: credits\\nd14. maximum number of credits or courses that may be transferred from a four-year institution:\\nnumber: no limit unit type: credits\\nd15. minimum number of credits that transfers must complete at your institution to earn an associate\\ndegree:\\n⇒ n/acommon data set 2023-2024\\nd16. minimum number of credits that transfers must complete at your institution to earn a bachelor’s\\ndegree:\\n⇒ 30\\nd17. describe other transfer credit policies:\\n⇒ information on transfer credit policies can be found at this website:\\nhttps://admissions.tc.umn.edu/admissions/transfer-admission/transfer-credit-evaluation\\nd18-d22: military service transfer credit policies\\nd18. does your institution accept the following military/veteran transfer credits:\\namerican council on education (ace) yes ☒ no\\n☐\\ncollege level examination program (clep) ☒ yes ☐ no\\ndantes subject standardized tests (dsst) ☐ yes ☒ no\\nd19. maximum number of credits or courses that may be transferred based on military education\\nevaluated by the american council on education (ace):\\nnumber: n/a unit type: n/a\\nd20. maximum number of credits or courses that may be transferred based on department of defense\\nsupported prior learning assessments (college level examination program (clep) or dantes subject\\nstandardized tests (dsst)):\\nnumber: click or tap here to enter text. unit type click or tap here to enter text.:\\nd21. are the military/veteran credit transfer policies published on your website? ☒ yes ☐ no\\nif yes, please provide the url where the policy can be located:\\n⇒ https://admissions.tc.umn.edu/admissions/transfer-admission/transfer-credit-evaluation\\nd22. describe other military/veteran transfer credit policies unique to your institution:\\n⇒ click or tap here to enter text.common data set 2023-2024\\ne. academic offerings and policies\\ne1. special study options: identify those programs available at your institution. refer to the glossary\\nfor definitions.\\n☒ accelerated program ☒ honors program\\n☒ comprehensive transition and ☒ independent study\\npostsecondary program for students ☒ internships\\nwith intellectual disabilities\\n☒ cross-registration ☒ liberal arts/career combination\\n☒ distance learning ☒ student-designed major\\n☒ double major ☒ study abroad\\n☒ dual enrollment ☒ teacher certification program\\n☒ english as a second language ☒ undergraduate research\\n(esl)\\n☒ exchange student program ☐ weekend college\\n(domestic)\\n☒ external degree program\\n☒ other (specify): qualified undergraduates may take graduate-level classes\\ne2. has been removed from the cds.\\ne3. areas in which all or most students are required to complete some course work prior to\\ngraduation:\\n☒ arts/fine arts ☒ humanities\\n☐ computer literacy ☒ intensive writing\\n☒ english (including composition) ☒ mathematics\\n☒ foreign languages ☐ philosophy\\n☒ history ☒ sciences (biological or physical)\\n☐ physical education ☒ social science\\n☐ other (specify): click or tap here to enter text.common data set 2023-2024\\nf. student life\\nf1. percentages of first-time, first-year degree-seeking students and degree-seeking\\nundergraduates enrolled in fall 2023 who fit the following categories:\\npercentages of first-time, first-year degree-seeking students first-time, first-\\nundergraduates\\nand degree-seeking undergraduates year students\\npercent who are from out of state (exclude\\n28.9% 24.8%\\ninternational/nonresidents from the numerator and denominator)\\npercent of men who join fraternities n/a n/a\\npercent of women who join sororities n/a n/a\\npercent who live in college-owned, -operated, or -affiliated\\n78% 24.8%\\nhousing\\npercent who live off campus or commute 22% 75.2%\\npercent of students age 25 and older 0% 4.5%\\naverage age of full-time students 18 20\\naverage age of all students (full- and part-time) 18 20\\nf2. activities offered identify those programs available at your institution.\\n☐ campus ministries ☒ literary magazine ☒ radio station\\n☒ choral groups ☒ marching band ☒ student government\\n☒ concert band ☒ model un ☒ student newspaper\\n☒ dance ☒ music ensembles ☒ student-run film society\\n☒ drama/theater ☒ musical theater ☒ symphony orchestra\\n☒ international student ☒ opera ☒ television station\\norganization\\n☒ jazz band ☒ pep band ☐ yearbookcommon data set 2023-2024\\nf3. rotc (program offered in cooperation with reserve officers’ training corps)\\narmy rotc is offered:\\n☒ on campus\\n☐ at cooperating institution (name): click or tap here to enter text.\\nnaval rotc is offered:\\n☒ marine option: naval rotc is offered\\n☒ on campus:\\n☐ at cooperating institution (name): click or tap here to enter text.\\nair force rotc is offered:\\n☒ on campus\\n☐ at cooperating institution (name): click or tap here to enter text.\\nf4. housing: check all types of college-owned, -operated, or -affiliated housing available for\\nundergraduates at your institution.\\n☒ coed residence halls ☒ special housing for international students\\n☐ men’s residence halls ☒ fraternity/sorority housing\\n☐ women’s residence halls ☒ cooperative housing\\n☒ apartments for married students ☒ theme housing\\n☒ apartments for single students ☒ wellness housing\\n☒ living learning communities\\n☒ special housing for disabled ☒ other housing options (specify): honors housing\\nstudentscommon data set 2023-2024\\ng. annual expenses\\ng0. please provide the url of your institution’s net price calculator:\\n⇒ https://admissions.tc.umn.edu/cost-aid/cost-aid-scholarships/net-price-calculator\\nprovide 2024-2025 academic year costs of attendance for the following categories that are\\napplicable to your institution.\\n☒ check here if your institution\\'s 2024-2025 academic year costs of attendance are not available at this\\ntime and provide an approximate date (i.e., month/day) when your institution\\'s final 2024-2025\\nacademic year costs of attendance will be available:\\n⇒ 07/01\\ng1. undergraduate full-time tuition, required fees, food and housing\\nlist the typical tuition, required fees, and food and housing for a full-time undergraduate student for\\nthe full 2024-2025 academic year. (30 semester hours or 45 quarter hours for institutions that derive\\nannual tuition by multiplying credit hour cost by number of credits).\\n\\uf0fc a full academic year refers to the period of time generally extending from september to june;\\nusually equated to two semesters, two trimesters, three quarters, or the period covered by a four-\\none-four plan.\\n\\uf0fc food and housing is defined as double occupancy and 19 meals per week or the maximum meal\\nplan.\\n\\uf0fc required fees include only charges that all full-time students must pay that are not included in\\ntuition (e.g., registration, health, or activity fees.)\\n\\uf0fc do not include optional fees (e.g., parking, laboratory use).\\nprivate institution first-year undergraduates\\ntuition: c or t c or t\\npublic institution first-year undergraduates\\ntuition: in-district: c or t c or t\\ntuition: in-state (out-of-district): c or t c or t\\ntuition: out-of-state: c or t c or t\\ntuition: international (non-resident): c or t c or tcommon data set 2023-2024\\nfor all institutions first-year undergraduates\\nrequired fees: c or t c or t\\nfood and housing (on-campus): c or t c or t\\nhousing only (on-campus): c or t c or t\\nfood only (on-campus meal plan): c or t c or t\\ncomprehensive tuition and food and housing fee (if your college cannot provide separate tuition\\nand food and housing fees):\\n⇒ click or tap here to enter text.\\nother: click or tap here to enter text.\\ng2. number of credits per term a student can take for the stated full-time tuition.\\nminimum: click or tap here to enter text.\\nmaximum: click or tap here to enter text.\\ng3. do tuition and fees vary by year of study (e.g., sophomore, junior, senior)?\\n☐ yes ☐ no\\ng4. do tuition and fees vary by undergraduate instructional program?\\n☐ yes ☐ no\\nif yes, what percentage of full-time undergraduates pay more than the tuition and fees\\nreported in g1?\\n⇒ click or tap here to enter text.%common data set 2023-2024\\ng5. provide the estimated expenses for a typical full-time undergraduate student:\\ncommuters commuters\\nestimated expenses residents (living at (not living at\\nhome) home)\\nbooks and supplies: c or t c or t c or t\\nhousing only: not applicable not applicable c or t\\nfood only: not applicable c or t c or t\\nfood and housing total* not applicable not applicable c or t\\ntransportation: c or t c or t c or t\\nother expenses: c or t c or t c or t\\n* if your college cannot provide separate food and housing figures for commuters not living at\\nhome\\ng6. undergraduate per-credit-hour charges (tuition only):\\nundergraduate per-credit-\\ntuition only\\nhour charges\\nprivate institutions: c or t\\npublic institutions:\\nc or t\\nin-district:\\npublic institutions:\\nc or t\\nin-state (out-of-district):\\npublic institutions:\\nc or t\\nout-of-state:\\nnonresidents: c or tcommon data set 2023-2024\\nh. financial aid\\nplease refer to the following financial aid definitions when completing section h.\\nawarded aid: the dollar amounts offered to financial aid applicants.\\nfinancial aid applicant: any applicant who submits any one of the institutionally required financial aid\\napplications/forms, such as the fafsa.\\nindebtedness: aggregate dollar amount borrowed through any loan program (federal, state, subsidized,\\nunsubsidized, private, etc.; excluding parent loans) while the student was enrolled at an institution. student\\nloans co-signed by a parent are assumed to be the responsibility of the student and should be included.\\ninstitutional scholarships and grants: endowed scholarships, annual gifts and tuition funded grants for\\nwhich the institution determines the recipient.\\nfinancial need: as determined by your institution using the federal methodology and/or your institution\\'s\\nown standards.\\nneed-based aid: college-funded or college-administered award from institutional, state, federal, or other\\nsources for which a student must have financial need to qualify. this includes both institutional and non-\\ninstitutional student aid (grants, jobs, and loans).\\nneed-based scholarship or grant aid: scholarships and grants from institutional, state, federal, or other\\nsources for which a student must have financial need to qualify.\\nneed-based self-help aid: loans and jobs from institutional, state, federal, or other sources for which a\\nstudent must demonstrate financial need to qualify.\\nnon-need-based scholarship or grant aid: scholarships and grants, gifts, or merit-based aid from\\ninstitutional, state, federal, or other sources (including unrestricted funds or gifts and endowment income)\\nawarded solely on the basis of academic achievement, merit, or any other non-need-based reason. when\\nreporting questions h1 and h2, non-need-based aid that is used to meet need should be counted as need-\\nbased aid.\\nnote: suggested order of precedence for counting non-need money as need-based:\\n1. non-need institutional grants 6. non-need outside grants\\n2. non-need tuition waivers 7. non-need student loans\\n3. non-need athletic awards 8. non-need parent loans\\n4. non-need federal grants 9. non-need work\\n5. non-need state grants\\nnon-need-based self-help aid: loans and jobs from institutional, state, or other sources for which a\\nstudent need not demonstrate financial need to qualify.common data set 2023-2024\\nprivate student loans: a nonfederal loan made by a lender such as a bank, credit union or private lender\\nused to pay for up to the annual cost of education, less any financial aid received.\\nexternal scholarships and grants: scholarships and grants received from outside (private) sources that\\nstudents bring with them (e.g., kiwanis, national merit scholarships). the institution may process\\npaperwork to receive the dollars, but it has no role in determining the recipient or the dollar amount\\nawarded.\\nwork study and employment: federal and state work study aid, and any employment packaged by your\\ninstitution in financial aid awards.\\ndo not include any aid related to the cares act or unique the covid-19\\npandemiccommon data set 2023-2024\\nh1-h5: aid awarded to enrolled undergraduates\\nh1. enter total dollar amounts awarded to enrolled full-time and less than full-time degree-seeking\\nundergraduates (using the same cohort reported in cds question b1, “total degree-seeking”\\nundergraduates) in the following categories.\\n\\uf0fc if the data being reported are final figures for the 2022-2023 academic year (see the next item\\nbelow), use the 2022-2023 academic year\\'s cds question b1 cohort.\\n\\uf0fc include aid awarded to international students (i.e., those not qualifying for federal aid).\\n\\uf0fc aid that is non-need-based but that was used to meet need should be reported in the need-based\\naid column.\\n\\uf0fc for a suggested order of precedence in assigning categories of aid to cover need, see the entry for\\n“non-need-based scholarship or grant aid” on the last page of the definitions section.\\n\\uf0fc do not include any aid related to the cares act or unique to the covid-19 pandemic.\\nindicate the academic year for which data are reported for items h1, h2, h2a, and h6 below:\\n☒ 2023-2024 estimated or ☐ 2022-2023 final\\nwhich needs-analysis methodology does your institution use in awarding institutional aid? (formerly\\nh3)\\n☒ federal methodology (fm)\\n☐ institutional methodology (im)\\n☐ both fm and imcommon data set 2023-2024\\nneed-based non-need-based\\n(include non-need- (exclude non-\\nscholarships/grants\\nbased aid use to need-based aid use\\nmeet need.) to meet need.)\\nfederal $41,172,719 $0\\nstate all states, not only the state in which your institution\\n$59,742,446 $282,417\\nis located\\ninstitutional: endowed scholarships, annual gifts and\\ntuition funded grants, awarded by the college, excluding $80,184,306 $19,198,200\\nathletic aid and tuition waivers (which are reported below).\\nscholarships/grants from external sources (e.g.\\n$11,054,911 $4,228,164\\nkiwanis, national merit) not awarded by the college\\ntotal scholarships/grants $192,154,382 $23,708,781\\nneed-based non-need-based\\n(include non-need- (exclude non-\\nself-help\\nbased aid use to need-based aid use\\nmeet need.) to meet need.)\\nstudent loans from all sources (excluding parent loans) $75,101,666 $73,983,688\\nfederal work-study $6,050,870 not applicable\\nstate and other (e.g., institutional) work-study/employment\\n$15,654,844 $0\\n(note: excludes federal work-study captured above.)\\ntotal self-help $96,807,380 $73,983,688\\nneed-based non-need-based\\n(include non-need- (exclude non-\\nmiscellaneous\\nbased aid use to need-based aid use\\nmeet need.) to meet need.)\\nparent loans $5,153,877 $16,770,362\\ntuition waivers\\nnote: reporting is optional. report tuition waivers in this\\nc or t c or t\\nrow if you choose to report them. do not report tuition\\nwaivers elsewhere.\\nathletic awards $10,822,361 $1,389,429common data set 2023-2024\\nh2. number of enrolled students awarded aid: list the number of degree-seeking full-time and\\nless-than-full-time undergraduates who applied for and were awarded financial aid from any source.\\n\\uf0fc aid that is non-need-based but that was used to meet need should be counted as need-based\\naid.\\n\\uf0fc numbers should reflect the cohort awarded the dollars reported in h1.\\n\\uf0fc in the chart below, students may be counted in more than one row, and full-time, first-time, first-\\nyear students should also be counted as full-time undergraduates.\\n\\uf0fc do not include any aid related to the cares act or unique to the covid-19 pandemic.\\nfull-time\\nfull-time, less than\\nundergrad\\nletter number of enrolled students awarded aid first-time, full-time\\n(incl.\\nfirst-year undergrad\\nfresh)\\nnumber of degree-seeking undergraduate students\\na 6,697 28,533 1,936\\n(cds item b1 if reporting on fall 2022 cohort)\\nnumber of students in line a who applied for\\nb 5,512 19,666 1,000\\nneed-based financial aid\\nnumber of students in line b who were\\nc 3,405 13,646 792\\ndetermined to have financial need\\nnumber of students in line c who were awarded\\nd 3,380 13,457 740\\nany financial aid\\nnumber of students in line d who were awarded\\ne 3,028 11,985 609\\nany need-based scholarship or grant aid\\nnumber of students in line d who were awarded\\nf 2,661 10,489 556\\nany need-based self-help aid\\nnumber of students in line d who were awarded\\ng 304 1,212 23\\nany non-need-based scholarship or grant aid\\nnumber of students in line d whose need was\\nh fully met (exclude plus loans, unsubsidized 918 3,624 69\\nloans, and private alternative loans)\\non average, the percentage of need that was met\\nof students who were awarded any need-based aid.\\nexclude any aid that was awarded in excess of\\ni 77.3% 76.6% 51.8%\\nneed as well as any resources that were awarded\\nto replace efc (plus loans, unsubsidized loans,\\nand private alternative loans)\\nthe average financial aid package of those in line\\nd. exclude any resources that were awarded to\\nj $17,880 $17,405 $9,838\\nreplace efc (plus loans, unsubsidized loans,\\nand private alternative loans)\\naverage need-based scholarship or grant award of\\nk $15,530 $14,537 $7,244\\nthose in line ecommon data set 2023-2024\\nfull-time\\nfull-time, less than\\nundergrad\\nletter number of enrolled students awarded aid first-time, full-time\\n(incl.\\nfirst-year undergrad\\nfresh)\\naverage need-based self-help award (excluding\\nl plus loans, unsubsidized loans, and private $5,040 $5,720 $5,159\\nalternative loans) of those in line f\\naverage need-based loan (excluding plus loans,\\nunsubsidized loans, and private alternative loans)\\nm $3,402 $4,260 $4,066\\nof those in line f who were awarded a need-based\\nloan\\nh2a. number of enrolled students awarded non-need-based scholarships and grants: list the\\nnumber of degree-seeking full-time and less-than-full-time undergraduates who had no financial need\\nand who were awarded institutional non-need-based scholarship or grant aid.\\n\\uf0fc numbers should reflect the cohort awarded the dollars reported in h1.\\n\\uf0fc in the chart below, students may be counted in more than one row, and full-time, first-time, first-\\nyear students should also be counted as full-time undergraduates.\\n\\uf0fc do not include any aid related to the cares act or unique to the covid-19 pandemic.\\nfull-time\\nfull-time less than\\nnumber of enrolled students awarded non- undergrad\\nletter first-time full-time\\nneed-based scholarships and grants (incl.\\nfirst-year undergrad\\nfresh)\\nnumber of students in line a who had no\\nfinancial need and who were awarded\\nn institutional non-need-based scholarship or 988 2,663 57\\ngrant aid (exclude those who were awarded\\nathletic awards and tuition benefits)\\naverage dollar amount of institutional non-\\no need-based scholarship and grant aid awarded $5,481 $5,745 $3,620\\nto students in line n\\nnumber of students in line a who were awarded\\np an institutional non-need-based athletic 22 73 0\\nscholarship or grant\\naverage dollar amount of institutional non-\\nq need-based athletic scholarships and grants $9,606 $9,791 $\\nawarded to students in line pcommon data set 2023-2024\\nnote: these are the graduates and loan types to include and exclude in order to fill out cds h4 and\\nh5.\\ninclude:\\n\\uf0fc 2023 undergraduate class: all students who started at your institution as first-time students and\\nreceived a bachelor\\'s degree between july 1, 2022 and june 30, 2023.\\n\\uf0fc only loans made to students who borrowed while enrolled at your institution.\\n\\uf0fc co-signed loans.\\nexclude:\\n• students who transferred in.\\n• money borrowed at other institutions.\\n• parent loans\\n• students who did not graduate or who graduated with another degree or certificate (but no\\nbachelor’s degree).\\n• any aid related to the care act or unique the covid-19 pandemic.\\nh4. provide the number of students in the 2023 undergraduate class who started at your institution\\nas first-time students and received a bachelor\\'s degree between july 1, 2022 and june 30, 2023.\\nexclude students who transferred into your institution.\\n⇒ 5,374common data set 2023-2024\\nh5. number and percent of students in class (defined in h4 above) borrowing from federal, non-\\nfederal, and any loan sources, and the average (or mean) amount borrowed.\\n• the “average per-undergraduate-borrower cumulative principal borrowed,” is designed to provide\\nbetter information about student borrowing from federal and nonfederal (institutional, state,\\ncommercial) sources.\\n• the numbers, percentages, and averages for each row should be based only on the loan source\\nspecified for the particular row. for example, the federal loans average (row b) should only be the\\ncumulative average of federal loans and the private loans average (row e) should only be the\\ncumulative average of private loans.\\naverage per-\\nnumber in percent of the\\nundergraduate-\\nthe class class (defined\\nborrower\\n(defined in h4 above) who\\ncumulative\\nabove) who borrowed\\nprincipal\\nborrowed from the types\\nletter source/type of loan borrowed from\\nfrom the types of loans\\nthe types of\\nof loans specified in\\nloans specified\\nspecified in the first\\nin the first\\nthe first column\\ncolumn (nearest\\ncolumn (nearest 1%)\\n$1)\\nany loan program: federal perkins,\\nfederal stafford subsidized and\\nunsubsidized, institutional, state,\\na private loans that your institution is 2,491 46.4% $26,841\\naware of, etc. include both federal\\ndirect student loans and federal\\nfamily education loans.\\nfederal loan programs: federal\\nperkins, federal stafford subsidized\\nb and unsubsidized. include both 2,423 45.1% $18,129\\nfederal direct student loans and\\nfederal family education loans.\\nc institutional loan programs. 110 2% $5,174\\nd state loan programs. 242 4.5% $28,080\\nprivate student loans made by a bank\\ne 468 8.7% $32,539\\nor lender.common data set 2023-2024\\nh6-h7: aid to undergraduate degree-seeking nonresidents\\n• report numbers and dollar amounts for the same academic year checked in item h1\\nh6. indicate your institution’s policy regarding institutional scholarship and grant aid for undergraduate\\ndegree-seeking nonresidents:\\n☒ institutional need-based scholarship or grant aid is available\\n☒ institutional non-need-based scholarship or grant aid is available\\n☐ institutional scholarship and grant aid is not available\\nif institutional financial aid is available for undergraduate degree-seeking nonresidents, provide the\\nnumber of undergraduate degree-seeking nonresidents who were awarded need-based or non-need-\\nbased aid:\\n⇒ 190\\naverage dollar amount of institutional financial aid awarded to undergraduate degree-seeking\\nnonresidents:\\n⇒ $4,438\\ntotal dollar amount of institutional financial aid awarded to undergraduate degree-seeking\\nnonresidents:\\n⇒ $843,181\\nh7. check off all financial aid forms nonresident first-year financial aid applicants must submit:\\n☒ institution’s own financial aid form\\n☐ css profile\\n☐ other: click or tap here to enter text.\\nh8-h11: process for first-year students\\nh8. check off all financial aid forms domestic first-year financial aid applicants must submit:\\n☒ fafsa\\n☒ institution’s own financial aid form\\n☐ css profile\\n☐ state aid form\\n☐ business/farm supplement\\n☐ other: click or tap here to enter text.common data set 2023-2024\\nh9. indicate filing dates for first-year students:\\ndoes your institution have a deadline for filing required financial aid forms for first-year students?\\nselect “no” if there is no deadline and applications are processed on a rolling basis.\\n☐ yes ☐ no\\npriority date for filing required financial aid forms:\\n⇒ 03/01\\ndeadline for filing required financial aid forms:\\n⇒ click or tap here to enter text.\\n☒ no deadline for filing required forms (applications processed on a rolling basis)\\nh10. indicate notification dates for first-year students (answer a or b):\\n☐ a. students notified on or about (date): click or tap here to enter text.\\n☒ b. students notified on a rolling basis. starting date: 03/01\\nh11. indicate reply dates:\\nstudents must reply by (date): click or tap here to enter text. or within click or tap here to enter text.\\nweeks of notification.\\nh12-h15: types of aid available\\nplease check off all types of aid available to undergraduates at your institution:\\nh12. loans\\n☒ direct subsidized stafford loans\\n☒ direct unsubsidized stafford loans\\n☒ direct plus loans\\n☒ federal perkins loans\\n☒ federal nursing loans\\n☒ state loans\\n☒ college/university loans from institutional funds\\n☒ other (specify): health profession loanscommon data set 2023-2024\\nh13. need based scholarships and grants\\n☒ federal pell\\n☒ seog\\n☒ state scholarships/grants\\n☒ private scholarships\\n☒ college/university scholarship or grant aid from institutional funds\\n☐ united negro college fund\\n☒ federal nursing scholarship\\n☒ other (specify): rotc scholarship, academic merit scholarship\\nh14. check off criteria used in awarding institutional aid. check all that apply.\\ncriteria used in\\nnon-need\\nawarding need-based\\nbased\\ninstitutional aid\\nacademics ☒ ☐\\nalumni affiliation ☐ ☐\\nart ☒ ☐\\nathletics ☒ ☐\\njob skills ☒ ☐\\nrotc ☒ not applicable\\nleadership ☒ ☐\\nminority status ☒ ☐\\nmusic/drama ☒ ☐\\nreligious affiliation ☐ ☐\\nstate/district\\n☒ ☐\\nresidency\\nh15. if your institution has recently implemented any major financial aid policy, program, or initiative to\\nmake your institution more affordable to incoming students such as replacing loans with grants, or waiving\\ncosts for families below a certain income level please provide details below:\\n⇒ click or tap here to enter text.\\nare these policies related to the covid-19 pandemic?\\n☐ yes ☐ nocommon data set 2023-2024\\ni. instructional faculty and class size\\ni1. please report the number of instructional faculty members in each category for fall 2023.\\ninclude faculty who are on your institution’s payroll on the census date your institution uses for\\nipeds/aaup.\\nthe following definition of full-time instructional faculty is used by the american association of\\nuniversity professors (aaup) in its annual faculty compensation survey (the part time definitions are\\nnot used by aaup). instructional faculty is defined as those members of the instructional-research staff\\nwhose major regular assignment is instruction, including those with released time for research. use the\\nchart below to determine inclusions and exclusions:\\nletter description full-time part-time\\ninclude\\nonly i they\\ninstructional faculty in preclinical and clinical medicine, faculty teach one\\nwho are not paid (e.g., those who donate their services or are in the or more\\na exclude\\nmilitary), or research-only faculty, post-doctoral fellows, or pre- non-\\ndoctoral fellows clinical\\ncredit\\ncourses\\ninclude if\\nthey teach\\nadministrative officers with titles such as dean of students,\\none or\\nlibrarian, registrar, coach, and the like, even though they may\\nb exclude more non-\\ndevote part of their time to classroom instruction and may have\\nclinical\\nfaculty status\\ncredit\\ncourses\\nother administrators/staff who teach one or more non-clinical\\nc exclude include\\ncredit courses even though they do not have faculty status\\nundergraduate or graduate students who assist in the instruction of\\nd courses, but have titles such as teaching assistant, teaching fellow, exclude exclude\\nand the like\\ne faculty on sabbatical or leave with pay include exclude\\nf faculty on leave without pay exclude exclude\\nreplacement faculty for faculty on sabbatical leave or leave with\\ng exclude include\\npay\\nfull-time instructional faculty: faculty employed on a full-time basis for instruction (including those with\\nreleased time for research)\\npart-time instructional faculty: adjuncts and other instructors being paid solely for part-time classroom\\ninstruction. also includes full-time faculty teaching less than two semesters, three quarters, two trimesters,common data set 2023-2024\\nor two four-month sessions. employees who are not considered full-time instruction faculty but who teach\\none or more non-clinical credit courses may be counted as part-time faculty.\\nminority faculty: includes faculty who designate themselves as black, non-hispanic; american indian or\\nalaska native; asian, native hawaiian or other pacific islander, or hispanic.\\ndoctorate: includes such degrees as doctor of philosophy, doctor of education, doctor of juridical\\nscience, and doctor of public health in any field such as arts, sciences, education, engineering, business,\\nand public administration. also includes terminal degrees formerly designated as “first professional,”\\nincluding dentistry (dds or dmd), medicine (md), optometry (od), osteopathic medicine (do),\\npharmacy (dpharm or bpharm), podiatric medicine (dpm), veterinary medicine (dvm), chiropractic\\n(dc or dcm), or law (jd).\\nterminal master’s degree: a master’s degree that is considered the highest degree in a field: example, m.\\narch (in architecture) and mfa (master of fine arts in art or theater).\\nfull- part-\\nletter description total\\ntime time\\na total number of instructional faculty 2,432 1,135 3,567\\nb total number who are members of minority groups 527 162 689\\nc total number who are women 1,125 559 1,684\\nd total number who are men 1,307 576 1,883\\ne total number who are nonresidents (international) 130 25 155\\nf total number with doctorate, or other terminal degree 2,271 742 3,013\\ntotal number whose highest degree is a master’s but not a\\ng 105 218 323\\nterminal master’s\\nh total number whose highest degree is a bachelor’s 25 94 119\\ntotal number whose highest degree is unknown or other\\ni 31 81 112\\n(note: items f, g, h, and i must sum up to item a.)\\ntotal number in stand-alone graduate/professional\\nj programs in which faculty teach virtually only graduate- c or t c or t c or t\\nlevel studentscommon data set 2023-2024\\ni2. student to faculty ratio\\nreport the fall 2023 ratio of full-time equivalent students (full-time plus 1/3 part time) to full-time\\nequivalent instructional faculty (full time plus 1/3 part time). in the ratio calculations, exclude both\\nfaculty and students in stand-alone graduate or professional programs such as medicine, law, veterinary,\\ndentistry, social work, business, or public health in which faculty teach virtually only graduate level\\nstudents.\\n• do not count undergraduate or graduate student teaching assistants as faculty.\\nfall 2023 student to faculty ratio: 16 to 1\\n• based on 36,487.333 students and 2,245 faculty)common data set 2023-2024\\ni3. undergraduate class size\\nin the table below, please use the following definitions to report information about the size of classes\\nand class sections offered in the fall 2023 term.\\n\\uf0fc please include classes that have been moved online in response to the covid-19 pandemic.\\nclass sections: a class section is an organized course offered for credit, identified by discipline and\\nnumber, meeting at a stated time or times in a classroom or similar setting, and not a subsection such as a\\nlaboratory or discussion session. undergraduate class sections are defined as any sections in which at least\\none degree-seeking undergraduate student is enrolled for credit. exclude distance learning classes and\\nnoncredit classes and individual instruction such as dissertation or thesis research, music instruction, or\\none-to-one readings. exclude students in independent study, co-operative programs, internships, foreign\\nlanguage taped tutor sessions, practicums, and all students in one-on-one classes. each class section should\\nbe counted only once and should not be duplicated because of course catalog cross-listings.\\nclass subsections: a class subsection includes any subsection of a course, such as laboratory, recitation,\\nand discussion subsections that are supplementary in nature and are scheduled to meet separately from the\\nlecture portion of the course. undergraduate subsections are defined as any subsections of courses in\\nwhich degree-seeking undergraduate students enrolled for credit. as above, exclude noncredit classes and\\nindividual instruction such as dissertation or thesis research, music instruction, or one-to-one readings.\\neach class subsection should be counted only once and should not be duplicated because of cross-listings.\\nusing the above definitions, please report for each of the following class-size intervals the number of class\\nsections and class subsections offered in fall 2023. for example, a lecture class with 800 students who\\nmet at another time in 40 separate labs with 20 students should be counted once in the “100+” column in\\nthe class section column and 40 times under the “20-29” column of the class subsections table.\\nnumber of class sections with undergraduates enrolled\\nundergraduate class size (provide numbers)\\nundergraduate 2-9 10-19 20-29 30-39 40-49 50-99 100+ total\\nclass\\n578 1,141 1,001 441 293 497 312 4,263\\nsections\\nundergraduate 2-9 10-19 20-29 30-39 40-49 50-99 100+ total\\nclass sub-\\n134 461 621 304 106 24 13 1,663\\nsectionscommon data set 2023-2024\\nj. disciplinary areas of degrees conferred\\ndegrees conferred between july 1, 2022 and june 30, 2023\\nfor each of the following discipline areas, provide the percentage of diplomas/certificates, associate, and\\nbachelor’s degrees awarded. to determine the percentage, use majors, not headcount (e.g., students with\\none degree but a double major will be represented twice). calculate the percentage from your institution’s\\nipeds completions by using the sum of 1st and 2nd majors for each cip code as the numerator and the\\nsum of the grand total by 1st majors and the grand total by 2nd major as the denominator. if you prefer,\\nyou can compute the percentages using 1st majors only.\\ncip 2020\\ndiploma/\\ncategory associate bachelor’s categories\\ncertificates\\nto include\\nagriculture c or t c or t 2.3% 01\\nnatural resources and conservation c or t c or t 2.1% 03\\narchitecture c or t c or t 1.4% 04\\narea, ethnic, and gender studies c or t c or t 0.2% 05\\ncommunication/journalism 4.6% c or t 3.9% 09\\ncommunication technologies c or t c or t c or t 10\\ncomputer and information sciences 0.5% c or t 10.1% 11\\npersonal and culinary services c or t c or t 0.5% 12\\neducation 33.3% c or t 4.5% 13\\nengineering c or t c or t 10.1% 14\\nengineering technologies c or t c or t c or t 15\\nforeign languages, literatures, and linguistics 2.5% c or t 1.5% 16\\nfamily and consumer sciences c or t c or t 0.9% 19\\nlaw/legal studies c or t c or t c or t 22\\nenglish c or t c or t 3.1% 23\\nliberal arts/general studies c or t c or t c or t 24\\nlibrary science c or t c or t c or t 25\\nbiological/life sciences c or t c or t 12% 26\\nmathematics and statistics c or t c or t 2.6% 27\\nmilitary science and military technologies c or t c or t c or t 28 and 29\\ninterdisciplinary studies c or t c or t 2.6% 30\\nparks and recreation c or t c or t 1.1% 31\\nphilosophy and religious studies c or t c or t 0.3% 38\\ntheology and religious vocations c or t c or t c or t 39\\nphysical sciences c or t c or t 1.7% 40common data set 2023-2024\\ncip 2020\\ndiploma/\\ncategory associate bachelor’s categories\\ncertificates\\nto include\\nscience technologies c or t c or t c or t 41\\npsychology c or t c or t 7.8% 42\\nhomeland security, law enforcement,\\nc or t c or t c or t 43\\nfirefighting, and protective services\\npublic administration and social services c or t c or t c or t 44\\nsocial sciences c or t c or t 9.5% 45\\nconstruction trades c or t c or t c or t 46\\nmechanic and repair technologies c or t c or t c or t 47\\nprecision production c or t c or t c or t 48\\ntransportation and materials moving c or t c or t c or t 49\\nvisual and performing arts c or t c or t 3.2% 50\\nhealth professions and related programs 3% c or t 6.5% 51\\nbusiness/marketing 55.6% c or t 11.3% 52\\nhistory c or t c or t 1% 54\\nother 0.5% c or t c or t\\ntotal 100% 100% 100%common data set 2023-2024\\ncommon data set definitions\\n♦ all definitions related to the financial aid section appear at the end of the definitions document.\\n♦ items preceded by an asterisk (*) represent definitions agreed to among publishers which do not appear\\non the cds document but may be present on individual publishers’ surveys.\\n♦ additional guidance for some terms, particularly those common with the ipeds survey, may be found\\nhere:\\nhttps://surveys.nces.ed.gov/ipeds/public/glossary\\n*academic advisement: plan under which each student is assigned to a faculty member or a trained\\nadviser, who, through regular meetings, helps the student plan and implement immediate and long-term\\nacademic and vocational goals.\\naccelerated program: completion of a college program of study in fewer than the usual number of years,\\nmost often by attending summer sessions and carrying extra courses during the regular academic term.\\nadmitted student: applicant who is offered admission to a degree-granting program at your institution.\\n*adult student services: admission assistance, support, orientation, and other services expressly for\\nadults who have started college for the first time, or who are re-entering after a lapse of a few years.\\namerican indian or alaska native: a person having origins in any of the original peoples of north and\\nsouth america (including central america) and maintaining tribal affiliation or community attachment.\\napplicant (first-time, first year): an individual who has fulfilled the institution’s requirements to be\\nconsidered for admission (including payment or waiving of the application fee, if any) and who has been\\nnotified of one of the following actions: admission, nonadmission, placement on waiting list, or\\napplication withdrawn (by applicant or institution).\\napplication fee: that amount of money that an institution charges for processing a student’s application\\nfor acceptance. this amount is not creditable toward tuition and required fees, nor is it refundable if the\\nstudent is not admitted to the institution.\\nasian: a person having origins in any of the original peoples of the far east, southeast asia, or the indian\\nsubcontinent, including, for example, cambodia, china, india, japan, korea, malaysia, pakistan, the\\nphilippine islands, thailand, and vietnam.\\nassociate degree: an award that normally requires at least two but less than four years of full-time\\nequivalent college work.\\nbachelor’s degree: an award (baccalaureate or equivalent degree, as determined by the secretary of the\\nu.s. department of education) that normally requires at least four years but not more than five years of\\nfull-time equivalent college-level work. this includes all bachelor’s degrees conferred in a five-year\\ncooperative (work-study plan) program. (a cooperative plan provides for alternate class attendance and\\nemployment in business, industry, or government; thus, it allows students to combine actual workcommon data set 2023-2024\\nexperience with their college studies.) also, it includes bachelor’s degrees in which the normal four years\\nof work are completed in three years.\\nblack or african american: a person having origins in any of the black racial groups of africa.\\nbooks and supplies (costs): average cost of books and supplies. do not include unusual costs for special\\ngroups of students (e.g., engineering or art majors), unless they constitute the majority of students at your\\ninstitution.\\ncalendar system: the method by which an institution structures most of its courses for the academic\\nyear.\\ncampus ministry: religious student organizations (denominational or nondenominational) devoted to\\nfostering religious life on college campuses. may also refer to campus crusade for christ, an\\ninterdenominational christian organization.\\n*career and placement services: a range of services, including (often) the following: coordination of\\nvisits of employers to campus; aptitude and vocational testing; interest inventories, personal counseling;\\nhelp in resume writing, interviewing, launching the job search; listings for those students desiring\\nemployment and those seeking permanent positions; establishment of a permanent reference folder; career\\nresource materials.\\ncarnegie units: one year of study or the equivalent in a secondary school subject.\\ncertificate: see postsecondary award, certificate, or diploma.\\nclass rank: the relative numerical position of a student in his or her graduating class, calculated by the\\nhigh school on the basis of grade-point average, whether weighted or unweighted.\\ncollege-preparatory program: courses in academic subjects (english, history and social studies, foreign\\nlanguages, mathematics, science, and the arts) that stress preparation for college or university study.\\ncommon application: the standard application form distributed by the national association of\\nsecondary school principals for a large number of private colleges who are members of the common\\napplication group.\\n*community service program: referral center for students wishing to perform volunteer work in the\\ncommunity or participate in volunteer activities coordinated by academic departments.\\ncommuter: a student who lives off campus in housing that is not owned by, operated by, or affiliated\\nwith the college. this category includes students who commute from home and students who have moved\\nto the area to attend college.\\ncomprehensive transition and postsecondary program for students with intellectual disabilities:\\nprograms designed to support postsecondary students with intellectual disabilities obtain instruction in\\nacademic, career and technical, and independent living subjects in preparation for employment.\\nclock hour: a unit of measure that represents an hour of scheduled instruction given to students. also\\nreferred to as contact hour.common data set 2023-2024\\ncontinuous basis (for program enrollment): a calendar system classification that is used by institutions\\nthat enroll students at any time during the academic year. for example, a cosmetology school or a word\\nprocessing school might allow students to enroll and begin studies at various times, with no requirement\\nthat classes begin on a certain date.\\ncooperative education program: a program that provides for alternate class attendance and\\nemployment in business, industry, or government.\\ncooperative housing: college-owned, -operated, or -affiliated housing in which students share food and\\nhousing expenses and participate in household chores to reduce living expenses.\\n*counseling service: activities designed to assist students in making plans and decisions related to their\\neducation, career, or personal development.\\ncredit: recognition of attendance or performance in an instructional activity (course or program) that\\ncan be applied by a recipient toward the requirements for a degree, diploma, certificate, or recognized\\npostsecondary credential.\\ncredit course: a course that, if successfully completed, can be applied toward the number of courses\\nrequired for achieving a degree, diploma, certificate, or other recognized postsecondary credential.\\ncredit hour: a unit of measure representing an hour (50 minutes) of instruction over a 15-week period\\nin a semester or trimester system or a 10-week period in a quarter system. it is applied toward the total\\nnumber of hours needed for completing the requirements of a degree, diploma, certificate, or recognized\\npostsecondary credential.\\ncross-registration: a system whereby students enrolled at one institution may take courses at another\\ninstitution without having to apply to the second institution.\\ndeferred admission: the practice of permitting admitted students to postpone enrollment, usually for a\\nperiod of one academic term or one year.\\ndegree: an award conferred by a college, university, or other postsecondary education institution as\\nofficial recognition for the successful completion of a program of studies.\\ndegree-seeking students: students enrolled in courses for credit who are recognized by the institution as\\nseeking a degree or recognized postsecondary credential. at the undergraduate level, this is intended to\\ninclude students enrolled in vocational or occupational programs.\\ndiffers by program (calendar system): a calendar system classification that is used by institutions that\\nhave occupational/vocational programs of varying length. these schools may enroll students at specific\\ntimes depending on the program desired. for example, a school might offer a two-month program in\\njanuary, march, may, september, and november; and a three-month program in january, april, and\\noctober.\\ndiploma: see postsecondary award, certificate, or diploma.common data set 2023-2024\\ndistance learning: an option for earning course credit at off-campus locations via cable television,\\ninternet, satellite classes, videotapes, correspondence courses, or other means.\\ndoctor’s degree-research/scholarship: a ph.d. or other doctor\\'s degree that requires advanced work\\nbeyond the master’s level, including the preparation and defense of a dissertation based on original\\nresearch, or the planning and execution of an original project demonstrating substantial artistic or scholarly\\nachievement. some examples of this type of degree may include ed.d., d.m.a., d.b.a., d.sc., d.a., or\\nd.m, and others, as designated by the awarding institution.\\ndoctor’s degree-professional practice: a doctor’s degree that is conferred upon completion of a program\\nproviding the knowledge and skills for the recognition, credential, or license required for professional\\npractice. the degree is awarded after a period of study such that the total time to the degree, including\\nboth pre-professional and professional preparation, equals at least six full-time equivalent academic years.\\nsome of these degrees were formerly classified as “first-professional” and may include: chiropractic\\n(d.c. or d.c.m.); dentistry (d.d.s. or d.m.d.); law (l.l.b. or j.d.); medicine (m.d.); optometry\\n(o.d.); osteopathic medicine (d.o); pharmacy (pharm.d.); podiatry (d.p.m., pod.d., d.p.); or,\\nveterinary medicine (d.v.m.), and others, as designated by the awarding institution.\\ndoctor’s degree-other: a doctor’s degree that does not meet the definition of a doctor’s degree -\\nresearch/scholarship or a doctor’s degree - professional practice.\\ndouble major: program in which students may complete two undergraduate programs of study\\nsimultaneously.\\ndual enrollment: a program through which high school students may enroll in college courses while still\\nenrolled in high school. students are not required to apply for admission to the college in order to\\nparticipate.\\nearly action plan: an admission plan that allows students to apply and be notified of an admission\\ndecision well in advance of the regular notification dates. if admitted, the candidate is not committed to\\nenroll; the student may reply to the offer under the college’s regular reply policy.\\nearly admission: a policy under which students who have not completed high school are admitted and\\nenroll full time in college, usually after completion of their junior year.\\nearly decision plan: a plan that permits students to apply and be notified of an admission decision (and\\nfinancial aid offer if applicable) well in advance of the regular notification date. applicants agree to accept\\nan offer of admission and, if admitted, to withdraw their applications from other colleges. there are three\\npossible decisions for early decision applicants: admitted, denied, or not admitted but forwarded for\\nconsideration with the regular applicant pool, without prejudice.\\nenglish as a second language (esl): a course of study designed specifically for students whose native\\nlanguage is not english.\\nexchange student program-domestic: any arrangement between a student and a college that permits\\nstudy for a semester or more at another college in the united states without extending the amount of\\ntime required for a degree. see also study abroad.common data set 2023-2024\\nexternal degree program: a program of study in which students earn credits toward a degree through\\nindependent study, college courses, proficiency examinations, and personal experience. external degree\\nprograms require minimal or no classroom attendance.\\nextracurricular activities (as admission factor): special consideration in the admissions process given\\nfor participation in both school and nonschool-related activities of interest to the college, such as clubs,\\nhobbies, student government, athletics, performing arts, etc.\\nfirst-time student: a student attending any institution for the first time at the level enrolled. includes\\nstudents enrolled in the fall term who attended a postsecondary institution for the first time at the same\\nlevel in the prior summer term. also includes students who entered with advanced standing (college credit\\nearned before graduation from high school).\\nfirst-time, first-year student: a student attending any institution for the first time at the undergraduate\\nlevel. includes students enrolled in the fall term who attended college for the first time in the prior summer\\nterm. also includes students who entered with advanced standing (college credits earned before\\ngraduation from high school).\\nfirst-year student: a student who has completed less than the equivalent of 1 full year of undergraduate\\nwork; that is, less than 30 semester hours (in a 120-hour degree program) or less than 900 clock hours.\\n*new student orientation: orientation addressing the academic, social, emotional, and intellectual issues\\ninvolved in beginning college. may be a few hours or a few days in length; at some colleges, there is a\\nfee.\\nfood (charges): assume average cost for 19 meals per week or the maximum meal plan.\\nfull-time student (undergraduate): a student enrolled for 12 or more semester credits, 12 or more\\nquarter credits, or 24 or more clock hours a week each term.\\ngeographical residence (as admission factor): special consideration in the admission process given to\\nstudents from a particular region, state, or country of residence.\\ngrade-point average (academic high school gpa): the sum of grade points a student has earned in\\nsecondary school divided by the number of courses taken. the most common system of assigning numbers\\nto grades counts four points for an a, three points for a b, two points for a c, one point for a d, and no\\npoints for an e or f. unweighted gpa’s assign the same weight to each course. weighting gives students\\nadditional points for their grades in advanced or honors courses.\\ngraduate student: a student who holds a bachelor’s or equivalent, and is taking courses at the post-\\nbaccalaureate level.\\n*health services: free or low cost on-campus primary and preventive health care available to students.\\nhigh school diploma or recognized equivalent: a document certifying the successful completion of a\\nprescribed secondary school program of studies, or the attainment of satisfactory scores on the tests of\\ngeneral educational development (ged), or another state-specified examination.common data set 2023-2024\\nhispanic or latino: a person of mexican, puerto rican, cuban, south or central american, or other\\nspanish culture or origin, regardless of race.\\nhonors program: any special program for very able students offering the opportunity for educational\\nenrichment, independent study, acceleration, or some combination of these.\\nindependent study: academic work chosen or designed by the student with the approval of the\\ndepartment concerned, under an instructor’s supervision, and usually undertaken outside of the regular\\nclassroom structure.\\nin-state tuition: the tuition charged by institutions to those students who meet the state’s or institution’s\\nresidency requirements.\\ninternational student: see nonresident.\\ninternational student group: student groups that facilitate cultural dialogue, support a diverse campus,\\nassist international students in acclimation and creating a social network.\\ninternship: any short-term, supervised work experience usually related to a student’s major field, for\\nwhich the student earns academic credit. the work can be full- or part-time, on- or off-campus, paid or\\nunpaid.\\n*learning center: center offering assistance through tutors, workshops, computer programs, or\\naudiovisual equipment in reading, writing, math, and skills such as taking notes, managing time, taking\\ntests.\\n*legal services: free or low cost legal advice for a range of issues (personal and other).\\nliberal arts/career combination: program in which a student earns undergraduate degrees in two\\nseparate fields, one in a liberal arts major and the other in a professional or specialized major, whether on\\ncampus or through cross-registration.\\nliving learning community: residential programs that allow students to interact with students who share\\ncommon interests. in addition to living together, students may also participate in shared courses, special\\nevents, and group service projects.\\nmaster\\'s degree: an award that requires the successful completion of a program of study of generally\\none or two full-time equivalent academic years of work beyond the bachelor\\'s degree. some of these\\ndegrees, such as those in theology (m.div., m.h.l./rav) that were formerly classified as \"first-\\nprofessional\", may require more than two full-time equivalent academic years of work.\\nminority affiliation (as admission factor): special consideration in the admission process for members\\nof designated racial/ethnic minority groups.\\n*minority student center: center with programs, activities, and/or services intended to enhance the\\ncollege experience of students of color.common data set 2023-2024\\nmodel united nations: a simulation activity focusing on conflict resolution, globalization, and\\ndiplomacy. assuming roles as foreign ambassadors and “delegates,” students conduct research, engage in\\ndebate, draft resolutions, and may participate in a national model un conference.\\nnative hawaiian or other pacific islander: a person having origins in any of the original peoples of\\nhawaii, guam, samoa, or other pacific islands.\\nnonresident: a person who is not a citizen or national of the united states and who is in this country on\\na visa or temporary basis and does not have the right to remain indefinitely.\\n*on-campus day care: licensed day care for students’ children (usually age 3 and up); usually for a fee.\\nopen admission: admission policy under which virtually all secondary school graduates or students with\\nged equivalency diplomas are admitted without regard to academic record, test scores, or other\\nqualifications.\\nother expenses (costs): include average costs for clothing, laundry, entertainment, medical (if not a\\nrequired fee), and furnishings.\\nout-of-state tuition: the tuition charged by institutions to those students who do not meet the\\ninstitution’s or state’s residency requirements.\\npart-time student (undergraduate): a student enrolled for fewer than 12 credits per semester or quarter,\\nor fewer than 24 clock hours a week each term.\\npermanent resident or other eligible non-citizen: a person who is not a citizen or national of the united\\nstates and who has been admitted as a legal immigrant for the purpose of obtaining permanent resident\\nstatus (and who holds either a registration card [form i-551 or i-151], a temporary resident card [form\\ni-688], or an arrival-departure record [form i-94] with a notation that conveys legal immigrant status,\\nsuch as section 207 refugee, section 208 asylee, conditional entrant parolee or cuban-haitian).\\n*personal counseling: one-on-one or group counseling with trained professionals for students who want\\nto explore personal, educational, or vocational issues.\\npost-baccalaureate certificate: an award that requires completion of an organized program of study\\nrequiring 18 credit hours beyond the bachelor’s; designed for persons who have completed a baccalaureate\\ndegree but do not meet the requirements of academic degrees carrying the title of master.\\npost-master’s certificate: an award that requires completion of an organized program of study of 24\\ncredit hours beyond the master’s degree but does not meet the requirements of academic degrees at the\\ndoctoral level.\\npostsecondary award, certificate, or diploma: includes the following three ipeds definitions for\\npostsecondary awards, certificates, and diplomas of varying durations and credit/contact/clock hour\\nrequirements:common data set 2023-2024\\nless than 1 academic year: requires completion of an organized program of study at the\\npostsecondary level (below the baccalaureate degree) in less than 1 academic year (2 semesters or\\n3 quarters) or in less than 900 clock hours by a student enrolled full-time.\\nat least 1 but less than 2 academic years: requires completion of an organized program of\\nstudy at the postsecondary level (below the baccalaureate degree) in at least 1 but less than 2 full-\\ntime equivalent academic years, or designed for completion in at least 30 but less than 60 credit\\nhours, or in at least 900 but less than 1,800 clock hours.\\nat least 2 but less than 4 academic years: requires completion of an organized program of\\nstudy at the postsecondary level (below the baccalaureate degree) in at least 2 but less than 4 full-\\ntime equivalent academic years, or designed for completion in at least 60 but less than 120 credit\\nhours, or in at least 1,800 but less than 3,600 clock hours.\\nprivate institution: an educational institution controlled by a private individual(s) or by a\\nnongovernmental agency, usually supported primarily by other than public funds, and operated by other\\nthan publicly elected or appointed officials.\\nprivate for-profit institution: a private institution in which the individual(s) or agency in control\\nreceives compensation, other than wages, rent, or other expenses for the assumption of risk.\\nprivate nonprofit institution: a private institution in which the individual(s) or agency in control\\nreceives no compensation, other than wages, rent, or other expenses for the assumption of risk. these\\ninclude both independent nonprofit schools and those affiliated with a religious organization.\\nproprietary institution: see private for-profit institution.\\npublic institution: an educational institution whose programs and activities are operated by publicly\\nelected or appointed school officials, and which is supported primarily by public funds.\\nquarter calendar system: a calendar system in which the academic year consists of three sessions called\\nquarters of about 12 weeks each. the range may be from 10 to 15 weeks. there may be an additional\\nquarter in the summer.\\nrace/ethnicity: category used to describe groups to which individuals belong, identify with, or belong\\nin the eyes of the community. the categories do not denote scientific definitions of anthropological\\norigins. a person may be counted in only one group.\\nrace/ethnicity unknown: category used to classify students or employees whose race/ethnicity is not\\nknown and whom institutions are unable to place in one of the specified racial/ethnic categories.\\nrecognized postsecondary credential: includes both title iv eligible degrees, certificates, and other\\nrecognized postsecondary credentials. any credential that is received after completion of a program that\\nis eligible for title iv federal student aid. credentials that are awarded to recognize an individual’s\\nattainment of measurable technical or industry/occupational skills necessary to obtain employment orcommon data set 2023-2024\\nadvance within an industry occupation. (generally based on standards developed or endorsed by\\nemployers or industry associations).\\nreligious affiliation/commitment (as admission factor): special consideration given in the admission\\nprocess for affiliation with a certain church or faith/religion, commitment to a religious vocation, or\\nobservance of certain religious tenets/lifestyle.\\n*religious counseling: one-on-one or group counseling with trained professionals for students who want\\nto explore religious problems or issues.\\n*developmental services: instructional courses designed for students deficient in the general\\ncompetencies necessary for a regular postsecondary curriculum and educational setting.\\nrequired fees: fixed sum charged to students for items not covered by tuition and required of such a\\nlarge proportion of all students that the student who does not pay is the exception. do not include\\napplication fees or optional fees such as lab fees or parking fees.\\nfood and housing (charges)—on campus: assume double occupancy in institutional housing and 19\\nmeals per week (or maximum meal plan).\\nsecondary school record (as admission factor): information maintained by the secondary school that\\nmay include such things as the student’s high school transcript, class rank, gpa, and teacher and counselor\\nrecommendations.\\nsemester calendar system: a calendar system that consists of two semesters during the academic year\\nwith about 16 weeks for each semester of instruction. there may be an additional summer session.\\nstudent-designed major: a program of study based on individual interests, designed with the assistance\\nof an adviser.\\nstudy abroad: any arrangement by which a student completes part of the college program studying in\\nanother country. can be at a campus abroad or through a cooperative agreement with some other u.s.\\ncollege or an institution of another country.\\n*summer session: a summer session is shorter than a regular semester and not considered part of the\\nacademic year. it is not the third term of an institution operating on a trimester system or the fourth term\\nof an institution operating on a quarter calendar system. the institution may have 2 or more sessions\\noccurring in the summer months. some schools, such as vocational and beauty schools, have year-round\\nclasses with no separate summer session.\\ntalent/ability (as admission factor): special consideration given to students with demonstrated\\ntalent/abilities in areas of interest to the institution (e.g., sports, the arts, languages, etc.).\\nteacher certification program: program designed to prepare students to meet the requirements for\\ncertification as teachers in elementary, middle/junior high, and secondary schools.common data set 2023-2024\\ntransfer applicant: an individual who has fulfilled the institution’s requirements to be considered for\\nadmission (including payment or waiving of the application fee, if any) and who has previously attended\\nanother college or university and earned college-level credit.\\ntransfer student: a student entering the institution for the first time but known to have previously\\nattended a postsecondary institution at the same level (e.g., undergraduate). the student may transfer with\\nor without credit.\\ntransportation (costs): assume two round trips to student’s hometown per year for students in\\ninstitutional housing or daily travel to and from your institution for commuter students.\\ntrimester calendar system: an academic year consisting of 3 terms of about 15 weeks each.\\ntuition: amount of money charged to students for instructional services. tuition may be charged per\\nterm, per course, or per credit.\\n*tutoring: may range from one-on-one tutoring in specific subjects to tutoring in an area such as math,\\nreading, or writing. most tutors are college students; at some colleges, they are specially trained and\\ncertified.\\nunit: a standard of measurement representing hours of academic instruction (e.g., semester credit, quarter\\ncredit, clock hour).\\nundergraduate: a student enrolled in a four- or five-year bachelor’s degree program, an associate degree\\nprogram, or a vocational or technical program below the baccalaureate.\\nundergraduate research: opportunities offered to undergraduate students to make original\\ncontributions in an academic discipline via the exploration of a specific research topic. research\\nopportunities may or may not be associated with a specific course or earn credit.\\n*veteran’s counseling: helps veterans and their dependents obtain benefits for their selected program\\nand provides certifications to the veteran’s administration. may also provide personal counseling on the\\ntransition from the military to a civilian life.\\n*visually impaired: any person whose sight loss is not correctable and is sufficiently severe as to\\nadversely affect educational performance.\\nvolunteer work (as admission factor): special consideration given to students for activity done on a\\nvolunteer basis (e.g., tutoring, hospital care, working with the elderly or disabled) as a service to the\\ncommunity or the public in general.\\nwait list: list of students who meet the admission requirements but will only be offered a place in the\\nclass if space becomes available.\\nweekend college: a program that allows students to take a complete course of study and attend classes\\nonly on weekends.\\nwhite: a person having origins in any of the original peoples of europe, the middle east, or north africa.common data set 2023-2024\\n*women’s center: center with programs, academic activities, and/or services intended to promote an\\nunderstanding of the evolving roles of women.\\nwork experience (as admission factor): special consideration given to students who have been\\nemployed prior to application, whether for relevance to major, demonstration of employment-related\\nskills, or as explanation of student’s academic and extracurricular record.common data set 2023-2024\\nfinancial aid definitions\\nexternal scholarships and grants: scholarships and grants received from outside (private) sources that\\nstudents bring with them (e.g., kiwanis, national merit scholarships). the institution may process\\npaperwork to receive the dollars, but it has no role in determining the recipient or the dollar amount\\nawarded.\\nfinancial aid applicant: any applicant who submits any one of the institutionally required financial aid\\napplications/forms, such as the fafsa.\\nindebtedness: aggregate dollar amount borrowed through any loan program (federal, state, subsidized,\\nunsubsidized, private, etc.; excluding parent loans) while the student was enrolled at an institution. student\\nloans co-signed by a parent are assumed to be the responsibility of the student and should be included.\\ninstitutional scholarships and grants: endowed scholarships, annual gifts and tuition funded grants for\\nwhich the institution determines the recipient.\\nfinancial need: as determined by your institution using the federal methodology and/or your institution\\'s\\nown standards.\\nneed-based aid: college-funded or college-administered award from institutional, state, federal, or other\\nsources for which a student must have financial need to qualify. this includes both institutional and non-\\ninstitutional student aid (grants, jobs, and loans).\\nneed-based scholarship or grant aid: scholarships and grants from institutional, state, federal, or other\\nsources for which a student must have financial need to qualify.\\nneed-based self-help aid: loans and jobs from institutional, state, federal, or other sources for which a\\nstudent must demonstrate financial need to qualify.\\nnon-need-based scholarship or grant aid: scholarships and grants, gifts, or merit-based aid from\\ninstitutional, state, federal, or other sources (including unrestricted funds or gifts and endowment income)\\nawarded solely on the basis of academic achievement, merit, or any other non-need-based reason. when\\nreporting questions h1 and h2, non-need-based aid that is used to meet need should be counted as need-\\nbased aid.\\nnote: suggested order of precedence for counting non-need money as need-based:\\n1. non-need institutional grants 6. non-need outside grants\\n2. non-need tuition waivers 7. non-need student loans\\n3. non-need athletic awards 8. non-need parent loans\\n4. non-need federal grants 9. non-need work\\n5. non-need state grantscommon data set 2023-2024\\nnon-need-based self-help aid: loans and jobs from institutional, state, or other sources for which a\\nstudent need not demonstrate financial need to qualify.\\nwork study and employment: federal and state work study aid, and any employment packaged by your\\ninstitution in financial aid awards.'"
      ]
     },
     "execution_count": 57,
     "metadata": {},
     "output_type": "execute_result"
    }
   ],
   "source": [
    "extract_section_by_label(umn_file_path, \"C7\")"
   ]
  },
  {
   "cell_type": "code",
   "execution_count": 58,
   "id": "44f766dc",
   "metadata": {},
   "outputs": [
    {
     "data": {
      "text/plain": [
       "'c7. relative importance of each of the following academic and nonacademic factors in your first-time, first-\\nyear, degree-seeking general (not including programs with specific criteria) admission decisions.\\nnot\\nvery important important considered\\nconsidered\\nacademic\\nrigor of secondary school record 4\\n☐ ☐ ☐ ☐\\nclass rank 4\\n☐ ☐ ☐ ☐\\nacademic gpa 4\\n☐ ☐ ☐ ☐\\nstandardized test scores 4\\n☐ ☐ ☐ ☐\\napplication essay 4\\n☐ ☐ ☐ ☐\\nrecommendation 4\\n☐ ☐ ☐ ☐\\nnonacademic\\ninterview 4\\n☐ ☐ ☐ ☐\\nextracurricular activities 4\\n☐ ☐ ☐ ☐\\ntalent/ability 4\\n☐ ☐ ☐ ☐\\ncharacter/personal qualities 4\\n☐ ☐ ☐ ☐\\nfirst generation 4\\n☐ ☐ ☐ ☐\\nalumni/ae relation 4\\n☐ ☐ ☐ ☐\\ngeographical residence 4\\n☐ ☐ ☐ ☐\\nstate residency 4\\n☐ ☐ ☐ ☐\\nreligious affiliation/commitment 4\\n☐ ☐ ☐ ☐\\nvolunteer work 4\\n☐ ☐ ☐ ☐\\nwork experience 4\\n☐ ☐ ☐ ☐\\nlevel of applicant’s interest 4\\n☐ ☐ ☐ ☐common data set 2023-2024\\nplease provide additional information if the importance of any specific academic or nonacademic\\nfactors differ by academic program.\\nc8: sat and act policies\\nc8a. entrance exams\\ndoes your institution make use of sat or act scores in admission decisions for first-time, first-year,\\ndegree-seeking applicants:\\n4 yes no\\n☐ ☐\\nif yes, place check marks in the appropriate boxes below to reflect your institution’s policies for use in\\nadmission for fall 2025.\\nnot required for\\nrequired to be admission, but not considered\\nconsidered for required for recommended consider if for admission,\\nadmission some submitted even if submitted\\nsat or act 4\\nact only\\nsat only\\nc8b. has been removed from the cds.\\nc8c. has been removed from the cds.\\nc8d. in addition, does your institution use applicants\\' test scores for academic advising?\\n4\\nyes no\\nc8e. month day\\nlatest date by which sat or act scores must be received for fall- 12\\nterm admission:\\nc8f. if necessary, use this space to clarify your test policies (e.g., if tests are recommended for some students,\\nor if tests are not required of some students due to differences by academic program, student academic\\nbackground, or if other examinations may be considered in lieu of the sat and act.)common data set 2023-2024\\nc8g. please indicate which tests your institution uses for placement (e.g., state tests):\\nsat\\n☐\\nact\\n☐\\n4 ap\\n☐\\nclep\\n☐\\n4 institutional exam\\n☐\\nstate exam (specify):\\n☐common data set 2023-2024\\nc9-c12: first-time, first-year profile\\nprovide information for all enrolled, degree-seeking, full-time and part-time, first-time, first-year students\\nenrolled in fall 2023, including students who began studies during summer, international students/\\nnonresident, and students admitted under special arrangements.\\nc9. percent and number of first-time, first-year students enrolled in fall 2023 who submitted national\\nstandardized (sat/act) test scores.\\n\\uf0fc include information for all enrolled, degree-seeking, first-time, first-year students who submitted\\ntest scores.\\n\\uf0fc do not include partial test scores (e.g., mathematics scores but not critical reading for a category of\\nstudents) or combine other standardized test results (such as toefl) in this item.\\n\\uf0fc do not convert sat scores to act scores and vice versa.\\n\\uf0fc if a student submitted multiple sets of scores for a single test, report this information according to how you\\nuse the data. for example:\\n• if you consider the highest scores from either submission, use the highest combination of scores (e.g.,\\nverbal from one submission, math from the other).\\n• if you average the scores, use the average to report the scores. ear\\nall enrolled, degree-seeking, first-time, first-year students\\npercent number\\nwho submitted test scores.\\nsubmitting sat scores 69.73 4289\\nsubmitting act scores 46.69 2872\\nfor each assessment listed below, report the score that represents the 25th percentile (the score that\\n25 percent of the first-time, first-year population scored at or below) and the 75th percentile score (the\\nscore that 25 percent scored at or above).\\n25th percentile 50th percentile 75th percentile\\nassessment\\nscore score score\\nsat composite 1230 1320 1410\\nsat evidence-based\\n620 670 710\\nreading and writing\\nsat math 600 660 710\\nact composite 27 30 32\\nact math 25 28 31\\nact english 26 31 34\\nact writing\\nact science 25 29 32\\nact reading 28 32 34common data set 2023-2024\\npercent of first-time, first-year students with scores in each range:\\nsat evidence-\\nscore range based reading and sat math\\nwriting\\n700-800 31.36 31.34\\n600-699 54.91 45.74\\n500-599 13.03 21.29\\n400-499 0.68 1.56\\n300-399 0.02 0.07\\n200-299 0.00 0.00\\nscore range sat composite\\n1400-1600 29.40\\n1200-1399 54.28\\n1000-1199 15.76\\n800-999 0.51\\n600-799 0.05\\n400-599 0.00\\nscore act\\nact english act math act reading act science\\nrange composite\\n30-36 53.06 56.23 32.35 65.08 43.98\\n24-29 37.57 31.55 52.40 25.28 43.59\\n18-23 8.95 11.25 13.54 8.70 11.70\\n12-17 0.38 0.84 1.71 0.91 0.66\\n6-11 0.03 0.14 0.00 0.03 0.07\\nbelow 6 0.00 0.00 0.00 0.00 0.00\\n100% 100% 100% 100% 100%\\nc10. percent of all degree-seeking, first-time, first-year students who had high school class rank\\nwithin each of the following ranges (report information for those students from whom you\\ncollected high school rank information)common data set 2023-2024\\nassessment percent\\npercent in top tenth of high school graduating class 61.81\\npercent in top quarter of high school graduating class 91.32\\npercent in top half of high school graduating class 99.08\\n}\\npercent in bottom half of high school graduating class 0.92 top half + bottom half =\\n100%.\\npercent in bottom quarter of high school graduating class\\npercent of total first-time, first-year students who submitted\\n44.40\\nhigh school class rank:\\nc11. percentage of all enrolled, degree-seeking, first-time, first-year students who had high school\\ngrade-point averages within each of the following ranges (using 4.0 scale).\\n\\uf0fc\\nreport information only for those students from whom you collected high school gpa.\\n\\uf0fc\\nif you are able to report gpa ranges separately for students that also submitted at least one test score\\nversus those who did not submit a test score, please do so in the respective columns. if you are unable\\nto report these data, please report the ranges for all students.\\npercent percent percent\\nscore range (students who (students who did (all enrolled\\nsubmitted scores) not submit scores) students)\\npercent who had gpa of 4.0 81.87 81.87\\npercent who had gpa between 3.75 and 3.99 15.56 15.56\\npercent who had gpa between 3.50 and 3.74 1.76 1.76\\npercent who had gpa between 3.25 and 3.49 0.33 0.33\\npercent who had gpa between 3.00 and 3.24 0.20 0.20\\npercent who had gpa between 2.50 and 2.99 0.20 0.20\\npercent who had gpa between 2.0 and 2.49 0.08 0.08\\npercent who had gpa between 1.0 and 1.99 0.00 0.00\\npercent who had gpa below 1.0 0.00 0.00\\ntotals should = 100% 100.00 0.00 100.00\\nc12. average high school gpa of all degree-seeking, first-time, first-year students who\\nsubmitted gpa:\\naverage high school gpa 4.14\\npercent of total first-time, first-year students who submitted high school gpa:\\n%\\npercent submitting gpa 100.00common data set 2023-2024\\nc13-c20: admission policies\\nc13.application fee\\n\\uf0fc if your institution has waived its application fee for the fall 2025 admission cycle please select no.\\ndoes your institution have an application fee? 4 yes no\\n☐ ☐\\namount of application fee: $70.00\\ncan it be waived for applicants with financial need? 4 yes no\\n☐ ☐\\nif you have an application fee and an on-line application option, please indicate policy for students who\\napply on-line:\\n4 same fee\\n☐\\nfree\\n☐\\nreduced\\n☐\\ncan on-line application fee be waived for applicants with financial need? yes no\\n☐ ☐\\nc14. application closing date\\ndoes your institution have an application closing date? yes no\\n☐ ☐\\nmonth day\\napplication closing date (fall) 1 1\\npriority date 10 15\\nc15. are first-time, first-year students accepted for terms other than the fall? 4yes no\\n☐ ☐\\nc16.notification to applicants of admission decision sent (fill in one only)\\nmonth day\\non a rolling basis beginning (date):\\n☐\\nby (date):\\n☐\\n4 other: 4/1 (regular) & 12/1(early)\\n☐\\nc17. reply policy for admitted applicants (fill in one only)\\nmonth day\\n4 must reply by (date): 5 1\\n☐\\nno set date\\n☐\\nmust reply by may 1st or within weeks if notified thereafter\\n☐\\nother:\\n☐\\nmonth day\\ndeadline for housing deposit:\\namount of housing deposit: $35.00\\nrefundable if student does not enroll?\\nyes, in full\\n☐\\nyes, in part\\n☐\\n4 no\\n☐common data set 2023-2024\\nc18. deferred admission: does your institution allow students to postpone enrollment after admission?\\n4\\nyes no\\n☐ ☐\\n1 academic year\\nif yes, maximum period of postponement:\\nc19. early admission of high school students: does your institution allow high school students to enroll as full-\\ntime, first-time, first-year students one year or more before high school graduation?\\n4\\nyes no\\n☐ ☐\\nc20. common application: question removed from cds. (initiated during 2006-2007 cycle)\\nc21-c22: early decision and early action plans\\nc21. early decision: does your institution offer an early decision plan (an admission plan that permits students to\\napply and be notified of an admission decision well in advance of the regular notification date and that asks\\nstudents to commit to attending if accepted) for first-time, first-year applicants for fall enrollment?\\n4\\nyes no\\n☐ ☐\\nif “yes,” please complete the following: month day\\nfirst or only early decision plan closing date:\\nfirst or only early decision plan notification date:\\nother early decision plan closing date:\\nother early decision plan notification date:\\nfor the fall 2023 entering class:\\nnumber of early decision applications received by your institution:\\nnumber of applicants admitted under early decision plan:\\nplease provide significant details about your early decision plan:\\nc22. early action: do you have a nonbinding early action plan whereby students are notified of an admission\\ndecision well in advance of the regular notification date but do not have to commit to attending your college?\\n4 yes\\n☐ ☐ no\\nif “yes,” please complete the following: month day\\nearly action closing date: 10 15\\nearly action notification date: 12 1\\nis your early action plan a “restrictive” plan under which you limit students from applying to other early plans?\\n4\\nyes no\\n☐ ☐common data set 2023-2024\\nd.transfer admission\\nd1-d2: fall applicants\\nd1. does your institution enroll transfer students? 4 yes no\\n☐ ☐\\n(if no, please skip to section e)\\nif yes, may transfer students earn advanced standing credit by transferring credits earned from course work\\ncompleted at other colleges/universities?\\n4\\nyes no\\n☐ ☐\\nd2. provide the number of students who applied, were admitted, and enrolled as degree-seeking transfer\\nstudents in fa ll 2023.\\n\\uf0fc if your institution collects and reports non-binary gender data, please use the “another gender” category.\\napplicants admitted applicants enrolled applicants\\nmen 1617 1187 898\\nwomen 1472 1101 781\\nanother gender 25 14 14\\ntotal 3114 2302 1693\\nd3-d11: application for admission\\nd3. indicate terms for which transfers may enroll:\\n4 fall winter spring summer\\n☐ ☐ ☐ ☐\\nd4. must a transfer applicant have a minimum number of credits completed or else must apply as an\\nentering first-year student?\\n4 yes no\\n☐ ☐\\nif yes, what is the minimum number of credits and the unit of measure?\\nnumber of credits unit type\\n30\\nd5. indicate all items required of transfer students to apply for admission:\\nrecommended recommended required of\\nrequired of all not required\\nof all of some some\\nhigh school transcript 4\\ncollege transcript(s) 4\\nessay or personal statement 4\\ninterview 4\\nstandardized test scores 4\\nstatement of good standing\\n4\\nfrom prior institution(s)\\nd6. if a minimum high school grade point average is required of\\ntransfer applicants, specify (on a 4.0 scale):common data set 2023-2024\\nd7. if a minimum college grade point average is required of\\n2.80\\ntransfer applicants, specify on a 4.0 scale:\\nd8. list any other application requirements specific to\\ntransfer applicants:\\nd9. list application priority, closing, notification, and candidate reply dates for transfer students. if applications are\\nreviewed on a continuous or rolling basis, place a check mark in the “rolling admission” column.\\npriority date closing date notification date reply date rolling\\nmonth day month day month day month day admission\\nfall 4 1 4\\nwinter\\nspring 9 1 4\\nsummer 3 1 4\\nd10. does an open admission policy, if reported, apply to transfer students? yes no\\n☐ ☐\\nd11. describe additional requirements for transfer admission, if applicable:\\nd12-d17: transfer credit policies\\nd12. report the lowest grade earned for any course that may be transferred for credit: 65\\nnumber unit type\\nd13. maximum number of credits or courses that may\\nbe transferred from a two-year institution:\\nd14. maximum number of credits or courses that may\\nbe transferred from a four-year institution:\\nd15. minimum number of credits that transfers must\\ncomplete at your institution to earn an associate degree:\\nd16. minimum number of credits that transfers must\\n45\\ncomplete at your institution to earn a bachelor’s degree:\\nd17. describe other transfer credit policies:common data set 2023-2024\\nd18-d22: military service transfer credit policies\\nd18. does your institution accept the following military/veteran transfer credits:\\nyes no\\namerican council on education (ace) 4\\ncollege level examination program (clep) 4\\ndantes subject standardized tests (dsst) 4\\nnumber unit type\\nd19. maximum number of credits or courses that may be transferred based\\non military education evaluated by the american council on education (ace):\\nd20. maximum number of credits or courses that may be transferred based on\\ndepartment of defense supported prior learning assessments (college level\\nexamination program (clep) or dantes subject standardized tests (dsst)):\\n4\\nd21. are the military/veteran credit transfer policies published on your website? yes no\\nif yes, please provide the url where the policy can be located:\\nhttps://www.admissions.uga.edu/admissions/other-students/veterans/\\nd22. describe other military/veteran transfer credit policies unique to your institution:common data set 2023-2024\\ne.academic offerings and policies\\ne1. special study options: identify those programs available at your institution. refer to the glossary for\\ndefinitions.\\n4 accelerated program 4 honors program\\n☐ ☐\\n4 comprehensive transition and 4 independent study\\n☐ ☐\\npostsecondary program for students 4 internships\\n☐\\nwith intellectual disabilities 4 liberal arts/career combination\\n☐\\n4 cross-registration 4 student-designed major\\n☐ ☐\\n4 distance learning 4 study abroad\\n☐ ☐\\n4 double major 4 teacher certification program\\n☐ ☐\\n4 dual enrollment 4 undergraduate research\\n☐ ☐\\nenglish as a second language (esl) weekend college\\n☐ ☐\\n4 exchange student program (domestic)\\n☐\\nexternal degree program\\n☐\\nother (specify):\\n☐\\ne2. has been removed from the cds.\\ne3. areas in which all or most students are required to complete some course work prior to graduation:\\n4 arts/fine arts 4 physical education\\n☐ ☐\\n4 computer literacy 4 intensive writing\\n☐ ☐\\n4 english (including composition)\\n☐\\n4 foreign languages\\n☐\\n4 history\\n☐\\n4 humanities\\n☐\\n4 mathematics\\n☐\\n4 philosophy\\n☐\\n4 sciences (biological or physical)\\n☐\\n4 social science\\n☐\\n4 other (specify): environmental literacy, cultural diversity, first year odyssey seminar, and one physical education credit\\n☐common data set 2023-2024\\nf.student life\\nf1. percentages of first-time, first-year degree-seeking students and degree-seeking\\nundergraduates enrolled in fall 2023 who fit the following categories:\\nfirst-time, first-\\nyear students undergraduates\\npercent who are from out of state (exclude international/nonresident\\n18.00 16.00\\nfrom the numerator and denominator)\\npercent of men who join fraternities 24.00\\npercent of women who join sororities 37.00\\npercent who live in college-owned, -operated, or -affiliated housing 98.00 35.00\\npercent who live off campus or commute 2.00 65.00\\npercent of students age 25 and older 0.00 2.00\\naverage age of full-time students 18.00 20.00\\naverage age of all students (full- and part-time) 18.00 20.00\\nf2. activities offered identify those programs available at your institution.\\n4 campus ministries 4 literary magazine 4 radio station\\n☐ ☐ ☐\\n4 choral groups 4 marching band 4 student government\\n☐ ☐ ☐\\n4 concert band 4 model un 4 student newspaper\\n☐ ☐ ☐\\n4 dance 4 music ensembles 4 student-run film society\\n☐ ☐ ☐\\n4 drama/theater 4 musical theater 4 symphony orchestra\\n☐ ☐ ☐\\n4 international student organization 4 opera television station\\n☐ ☐ ☐\\n4 jazz band 4 pep band 4 yearbook\\n☐ ☐ ☐\\nf3. rotc (program offered in cooperation with reserve officers’ training corps)\\narmy rotc is offered:\\n4 on campus\\n☐\\nat cooperating institution (name):\\n☐\\nnaval rotc is offered:\\nmarine option\\n☐\\non campus\\n☐\\nat cooperating institution (name):\\n☐\\nair force rotc is offered:\\n4 on campus\\n☐\\nat cooperating institution (name):\\n☐\\nf4. housing: check all types of college-owned, -operated, or -affiliated housing available for undergraduates at\\nyour institution.\\n4 coed residence halls 4 fraternity/sorority housing\\n☐ ☐\\nmen’s residence halls cooperative housing\\n☐ ☐\\n4 women’s residence dorms 4 theme housing\\n☐ ☐\\n4 apartments for married students wellness housing\\n☐ ☐\\n4 apartments for single students 4 living learning communities\\n☐ ☐\\n4 special housing for disabled students other housing options (specify):\\n☐ ☐\\n4 special housing for international students\\n☐common data set 2023-2024\\ng.annual expenses\\ng0. please provide the url of your institution’s net price calculator:\\nhttps://osfa.uga.edu/sites/default/files/npcalc.htm\\nprovide 2024-2025 academic year costs of attendance for the following categories that are applicable to\\nyour institution.\\n4 check here if your institution\\'s 2024-2025 academic year costs of attendance are not available at this time and\\n☐\\nprovide an approximate date (i.e., month/day) when your institution\\'s final 2024-2025 academic year costs of\\nattendance will be available:\\n5/1\\ng1. undergraduate full-time tuition, required fees, food and housing\\nlist the typical tuition, required fees, and food and housing for a full-time undergraduate student for the\\nfull 2024-2025 academic year. (30 semester hours or 45 quarter hours for institutions that derive annual\\ntuition by multiplying credit hour cost by number of credits).\\n\\uf0fc a full academic year refers to the period of time generally extending from september to june; usually\\nequated to two semesters, two trimesters, three quarters, or the period covered by a four-one-four plan.\\n\\uf0fc food and housing is defined as double occupancy and 19 meals per week or the maximum meal plan.\\n\\uf0fc required fees include only charges that all full-time students must pay that are not included in tuition (e.g.,\\nregistration, health, or activity fees.)\\n\\uf0fc do not include optional fees (e.g., parking, laboratory use).\\nfirst-year undergraduates\\nprivate institution\\ntuition:\\npublic institution\\ntuition: in-district: $9790.00 $9790.00\\ntuition: in-state (out-of-district):\\ntuition: out-of-state: $28830.00 $28830.00\\ntuition: non-resident\\nfor all institutions\\nrequired fees $1390.00 $1390.00\\nfood and housing (on-campus): $11246.00 $11246.00\\nhousing only (on-campus): $6988.00 $6988.00\\nfood only (on-campus meal plan): $4258.00 $4258.00\\ncomprehensive tuition and food and housing fees (if your\\ncollege cannot provide separate tuition and food and housing\\nfees):\\nother:common data set 2023-2024\\nminimum maximum\\ng2. number of credits per term a student can take for 12\\nthe stated full-time tuition.\\ng3. do tuition and fees vary by year of study (e.g., sophomore, junior, senior)?\\nyes 4 no\\n☐ ☐\\ng4. do tuition and fees vary by undergraduate instructional program?\\n4 yes no\\n☐ ☐\\nif yes, what percentage of full-time undergraduates pay more than the tuition and fees reported in g1?\\n⇒\\ng5. provide the estimated expenses for a typical full-time undergraduate student:\\ncommuters\\ncommuters\\nresidents (not living at\\n(living at home)\\nhome)\\nbooks and supplies: $1002.00 $1002.00 $1002.00\\nhousing only: not applicable not applicable $5640.00\\nfood only: not applicable $4258.00\\nfood and housing total* not applicable not applicable\\ntransportation: $1430.00 $1430.00 $1430.00\\nother expenses: $3284.00 $4204.00 $4204.00\\n*if your college cannot provide separate food and housing figures for commuters not living at home\\ng6. undergraduate per-credit-hour charges (tuition only):\\nprivate institutions:\\npublic institutions:\\nin-district:\\nin-state (out-of-district):\\nout-of-state:\\nnonresidents:common data set 2023-2024\\nh.financial aid\\nplease refer to the following financial aid definitions when completing section h.\\nawarded aid: the dollar amounts offered to financial aid applicants.\\nfinancial aid applicant: any applicant who submits any one of the institutionally required financial aid\\napplications/forms, such as the fafsa.\\nindebtedness: aggregate dollar amount borrowed through any loan program (federal, state, subsidized,\\nunsubsidized, private, etc.; excluding parent loans) while the student was enrolled at an institution. student loans\\nco-signed by a parent are assumed to be the responsibility of the student and should be included.\\ninstitutional scholarships and grants: endowed scholarships, annual gifts and tuition funded grants for which the\\ninstitution determines the recipient.\\nfinancial need: as determined by your institution using the federal methodology and/or your institution\\'s own\\nstandards.\\nneed-based aid: college-funded or college-administered award from institutional, state, federal, or other sources\\nfor which a student must have financial need to qualify. this includes both institutional and non-institutional student\\naid (grants, jobs, and loans).\\nneed-based scholarship or grant aid: scholarships and grants from institutional, state, federal, or other sources\\nfor which a student must have financial need to qualify.\\nneed-based self-help aid: loans and jobs from institutional, state, federal, or other sources for which a student\\nmust demonstrate financial need to qualify.\\nnon-need-based scholarship or grant aid: scholarships and grants, gifts, or merit-based aid from institutional,\\nstate, federal, or other sources (including unrestricted funds or gifts and endowment income) awarded solely on the\\nbasis of academic achievement, merit, or any other non-need-based reason. when reporting questions h1 and h2,\\nnon-need-based aid that is used to meet need should be counted as need-based aid.\\nnote: suggested order of precedence for counting non-need money as need-based:\\n1. non-need institutional grants 6. non-need outside grants\\n2. non-need tuition waivers 7. non-need student loans\\n3. non-need athletic awards 8. non-need parent loans\\n4. non-need federal grants 9. non-need work\\n5. non-need state grants\\nnon-need-based self-help aid: loans and jobs from institutional, state, or other sources for which a student need\\nnot demonstrate financial need to qualify.\\nprivate student loans: a nonfederal loan made by a lender such as a bank, credit union or private lender used to\\npay for up to the annual cost of education, less any financial aid received.\\nexternal scholarships and grants: scholarships and grants received from outside (private) sources that students\\nbring with them (e.g., kiwanis, national merit scholarships). the institution may process paperwork to receive the\\ndollars, but it has no role in determining the recipient or the dollar amount awarded.\\nwork study and employment: federal and state work study aid, and any employment packaged by your institution\\nin financial aid awards.\\ndo not include any aid related to the cares act or unique the covid-19 pandemiccommon data set 2023-2024\\naid awarded to enrolled undergraduates\\nh1. enter total dollar amounts awarded to enrolled full-time and less than full-time degree-seeking\\nundergraduates (using the same cohort reported in cds question b1, “total degree-seeking”\\nundergraduates) in the following categories.\\n\\uf0fc if the data being reported are final figures for the 2022-2023 academic year (see the next item below),\\nuse the 2022-2023 academic year\\'s cds question b1 cohort.\\n\\uf0fc include aid awarded to international students (i.e., those not qualifying for federal aid).\\n\\uf0fc aid that is non-need-based but that was used to meet need should be reported in the need-based aid\\ncolumn.\\n\\uf0fc for a suggested order of precedence in assigning categories of aid to cover need, see the entry for “non-\\nneed-based scholarship or grant aid” on the last page of the definitions section.\\n\\uf0fc do not include any aid related to the cares act or unique to the covid-19 pandemic.\\nindicate the academic year for which data are reported for items h1, h2, h2a, and h6 below:\\n4 2023-2024 estimated or 2022-2023 final\\n☐ ☐\\nwhich needs-analysis methodology does your institution use in awarding institutional aid? (formerly h3)\\n4 federal methodology (fm)\\n☐\\ninstitutional methodology (im)\\n☐\\nboth fm and im\\n☐\\nneed-based non-need-based\\n(include non-need- (exclude non-need-\\nbased aid use to based aid use to\\nmeet need.) meet need.)\\nscholarships/grants\\nfederal $29781161.00 $6973.00\\nstate all states, not only the state in which your institution\\n$70737228.00 $144917595.00\\nis located\\ninstitutional: endowed scholarships, annual gifts and\\ntuition funded grants, awarded by the college, excluding $10442834.00 $6081859.00\\nathletic aid and tuition waivers (which are reported below).\\nscholarships/grants from external sources (e.g.\\n$2231816.00 $4759819.00\\nkiwanis, national merit) not awarded by the college\\ntotal scholarships/grants $113193039.00 $155766246.00\\nself-help\\nstudent loans from all sources (excluding parent loans) $22067905.00 $26666999.00\\nfederal work-study $1836278.00 not applicable\\nstate and other (e.g., institutional) work-study/employment\\n(note: excludes federal work-study captured above.)\\ntotal self-help $23904183.00 $26666999.00\\nparent loans $5584517.00 $18104847.00common data set 2023-2024\\nneed-based non-need-based\\n(include non-need- (exclude non-need-\\nbased aid use to based aid use to\\nmeet need.) meet need.)\\ntuition waivers\\nnote: reporting is optional. report tuition waivers in this row if\\n$2530606.00 $17145823.00\\nyou choose to report them. do not report tuition waivers\\nelsewhere.\\nathletic awards $1824521.00 $9350131.00\\nh2. number of enrolled students awarded aid: list the number of degree-seeking full-time and less-than-full-\\ntime undergraduates who applied for and were awarded financial aid from any source.\\n\\uf0fc aid that is non-need-based but that was used to meet need should be counted as need-based aid.\\n\\uf0fc numbers should reflect the cohort awarded the dollars reported in h1.\\n\\uf0fc in the chart below, students may be counted in more than one row, and full-time, first-time, first-year\\nstudents should also be counted as full-time undergraduates.\\n\\uf0fc do not include any aid related to the cares act or unique to the covid-19 pandemic.\\nfull-time full-time less than\\nfirst-time undergrad full-time\\nfirst-year (incl. fresh) undergrad\\nnumber of degree-seeking undergraduate students (cds item\\na 6122 29852 1713\\nb1 if reporting on fall 2023 cohort)\\nnumber of students in line a who applied for need-based\\nb 5347 20803 947\\nfinancial aid\\nnumber of students in line b who were determined to have\\nc 2139 10221 600\\nfinancial need\\nd number of students in line c who were awarded any financial aid 2085 9980 548\\nnumber of students in line d who were awarded any need-based\\ne 2020 9467 482\\nscholarship or grant aid\\nnumber of students in line d who were awarded any need-based\\nf 620 3447 236\\nself-help aid\\nnumber of students in line d who were awarded any non-need-\\ng 570 2196 59\\nbased scholarship or grant aid\\nnumber of students in line d whose need was fully met (exclude\\nh 702 2786 82\\nplus loans, unsubsidized loans, and private alternative loans)\\non average, the percentage of need that was met of students\\nwho were awarded any need-based aid. exclude any aid that\\ni was awarded in excess of need as well as any resources that 80.80 76.64 61.01\\nwere awarded to replace efc (plus loans, unsubsidized loans,\\nand private alternative loans)\\nthe average financial aid package of those in line d. exclude\\nj any resources that were awarded to replace efc (plus loans, $14732 $14107 $9074\\nunsubsidized loans, and private alternative loans)\\naverage need-based scholarship or grant award of those in line\\nk $11850 $11312 $7188\\ne\\naverage need-based self-help award (excluding plus loans,\\nl unsubsidized loans, and private alternative loans) of those in line $3584 $4419 $3927\\nfcommon data set 2023-2024\\nfull-time full-time less than\\nfirst-time undergrad full-time\\nfirst-year (incl. fresh) undergrad\\naverage need-based loan (excluding plus loans, unsubsidized\\nm loans, and private alternative loans) of those in line f who were $3335.0 $4198.0 $3840.0\\nawarded a need-based loan\\nh2a. number of enrolled students awarded non-need-based scholarships and grants: list the number of\\ndegree-seeking full-time and less-than-full-time undergraduates who had no financial need and who were\\nawarded institutional non-need-based scholarship or grant aid.\\n\\uf0fc numbers should reflect the cohort awarded the dollars reported in h1.\\n\\uf0fc in the chart below, students may be counted in more than one row, and full-time, first-time, first-year\\nshould also be counted as full-time undergraduates.\\n\\uf0fc do not include any aid related to the cares act or unique to the covid-19 pandemic.\\nfull-time\\nfull-time less than\\nundergrad\\nfirst-time full-time\\n(incl.\\nfirst-year undergrad\\nfresh)\\nnumber of students in line a who had no financial need and who\\nwere awarded institutional non-need-based scholarship or grant\\nn 240 1464 53\\naid (exclude those who were awarded athletic awards and tuition\\nbenefits)\\naverage dollar amount of institutional non-need-based\\no $3117 $2940 $1952\\nscholarship and grant aid awarded to students in line n\\nnumber of students in line a who were awarded an institutional\\np 74 471 15\\nnon-need-based athletic scholarship or grant\\naverage dollar amount of institutional non-need-based athletic\\nq $25124 $23300 $13348\\nscholarships and grants awarded to students in line p\\nnote: these are the graduates and loan types to include and exclude in order to fill out cds h4 and h5.\\ninclude:\\n• 2023 undergraduate class: all students who started at your institution as first-time students and received a\\nbachelor\\'s degree between july 1, 2022 and june 30, 2023.\\n• only loans made to students who borrowed while enrolled at your institution.\\n• co-signed loans.\\nexclude:\\n• students who transferred in.\\n• money borrowed at other institutions.\\n• parent loans\\n• students who did not graduate or who graduated with another degree or certificate (but no bachelor’s\\ndegree).\\n• any aid related to the care act or unique the covid-19 pandemic.\\nh4. provide the number of students in the 2023 undergraduate\\nclass who started at your institution as first-time students and 5198\\nreceived a bachelor\\'s degree between july 1, 2022 and june 30,\\n2023. exclude students who transferred into your institution.common data set 2023-2024\\nh5. number and percent of students in class (defined in h4 above) borrowing from federal, non-federal,\\nand any loan sources, and the average (or mean) amount borrowed.\\n• the “average per-undergraduate-borrower cumulative principal borrowed,” is designed to provide better\\ninformation about student borrowing from federal and nonfederal (institutional, state, commercial) sources.\\n• the numbers, percentages, and averages for each row should be based only on the loan source specified\\nfor the particular row. for example, the federal loans average (row b) should only be the cumulative average\\nof federal loans and the private loans average (row e) should only be the cumulative average of private\\nloans.\\naverage per-\\npercent of the\\nnumber in the undergraduate-\\nclass (defined\\nclass (defined in borrower\\nabove) who\\nh4 above) who cumulative\\nborrowed from\\nborrowed from principal\\nsource/type of loan the types of\\nthe types of borrowed from the\\nloans specified\\nloans specified types of loans\\nin the first\\nin the first specified in the\\ncolumn\\ncolumn first\\n(nearest 1%)\\ncolumn (nearest\\nany loan program: federal perkins,\\nfederal stafford subsidized and\\nunsubsidized, institutional, state, private\\na 1732 33.00 $20819\\nloans that your institution is aware of, etc.\\ninclude both federal direct student loans\\nand federal family education loans\\nfederal loan programs: federal perkins,\\nfederal stafford subsidized and\\nb unsubsidized. include both federal direct 1689 32.00 $17636\\nstudent loans and federal family\\neducation loans\\nc institutional loan programs 0 0.00 $0\\nd state loan programs 26 1.00 $9718\\nprivate student loans made by a bank or\\ne 232 4.00 $25939\\nlender\\nh6-h7: aid to undergraduate degree-seeking nonresidents\\n• report numbers and dollar amounts for the same academic year checked in item h1\\nh6. indicate your institution’s policy regarding institutional scholarship and grant aid for undergraduate degree-\\nseeking nonresidents:\\ninstitutional need-based scholarship or grant aid is available\\n☐\\ninstitutional non-need-based scholarship or grant aid is available\\n☐\\n4 institutional scholarship and grant aid is not available\\n☐\\nif institutional financial aid is available for undergraduate\\ndegree-seeking nonresidents, provide the number of\\nundergraduate degree-seeking nonresidents who were\\nawarded need-based or non-need-based aid:\\naverage dollar amount of institutional financial aid awarded to\\nundergraduate degree-seeking nonresidents:common data set 2023-2024\\ntotal dollar amount of institutional financial aid awarded\\nto undergraduate degree-seeking nonresidents:\\nh7. check off all financial aid forms nonresident first-year financial aid applicants must submit:\\ninstitution’s own financial aid form\\n☐\\ncss profile\\n☐\\nother (specify):\\n☐\\nprocess for first-year students\\nh8. check off all financial aid forms domestic first-year financial aid applicants must submit:\\n4 fafsa\\n☐\\ninstitution’s own financial aid form\\n☐\\ncss profile\\n☐\\nstate aid form\\n☐\\nbusiness/farm supplement\\nother:\\n☐\\nh9. indicate filing dates for first-year students:\\nmonth day\\npriority date for filing required 12 15\\nfinancial aid forms\\ndeadline for filing required financial\\naid forms\\n4 no deadline for filing required forms (applications processed on a rolling basis)\\nh10. indicate notification dates for first-year students (answer a or b):\\nmonth day\\nstudents notified on or about (date)\\nstudents notified on a rolling basis\\nif yes, starting date\\nh11. indicate reply dates:\\nmonth day\\nstudents must reply by (date)\\nor within 2 weeks of notification.common data set 2023-2024\\ntypes of aid available\\nplease check off all types of aid available to undergraduates at your institution:\\nh12. loans h13. need based scholarships and grants\\n4 direct subsidized stafford loans 4 federal pell\\n☐ ☐\\n4 direct unsubsidized stafford loans 4 seog\\n☐ ☐\\n4 direct plus loans 4 state scholarships/grants\\n☐ ☐\\n4 federal perkins loans 4 private scholarships\\n☐ ☐\\nfederal nursing loans college/university scholarship or grant aid from\\n☐ ☐\\n4 state loans institutional funds\\n☐\\n☐ 4 college/university loans ☐ united negro college fund\\nfrom institutional funds federal nursing scholarship\\n☐\\nother (specify): other (specify):\\n☐ ☐\\nh14. check off criteria used in awarding institutional aid. check all that apply.\\nnon-need based need-based\\nacademics ☐ ☐\\nalumni affiliation ☐ ☐\\nart ☐ ☐\\nathletics ☐4 ☐\\njob skills ☐ ☐\\nrotc ☐4 not applicable\\nleadership ☐ ☐\\nminority status ☐ ☐\\nmusic/drama ☐ ☐\\nreligious affiliation ☐ ☐\\nstate/district residency ☐4 ☐\\nh15. if your institution has recently implemented any major financial aid policy, program, or initiative to make your\\ninstitution more affordable to incoming students such as replacing loans with grants, or waiving costs for families\\nbelow a certain income level please provide details below:\\nare these policies related to the covid-19 pandemic?\\nyes no\\n☐ ☐common data set 2023-2024\\ni.instructional faculty and class size\\ni-1. please report the number of instructional faculty members in each category for fall 2023. include\\nfaculty who are on your institution’s payroll on the census date your institution uses for ipeds/aaup.\\nthe following definition of full-time instructional faculty is used by the american association of university professors\\n(aaup) in its annual faculty compensation survey (the part time definitions are not used by aaup). instructional\\nfaculty is defined as those members of the instructional-research staff whose major regular assignment is\\ninstruction, including those with released time for research. use the chart below to determine inclusions and\\nexclusions:\\nfull-time part-time\\ninclude only\\nif they teach\\ninstructional faculty in preclinical and clinical medicine, faculty who are not\\none or more\\na paid (e.g., those who donate their services or are in the military), or research- exclude\\nnon-clinical\\nonly faculty, post-doctoral fellows, or pre-doctoral fellows\\ncredit\\ncourses\\ninclude if\\nthey teach\\nadministrative officers with titles such as dean of students, librarian, registrar,\\none or more\\nb coach, and the like, even though they may devote part of their time to exclude\\nnon-clinical\\nclassroom instruction and may have faculty status\\ncredit\\ncourses\\nother administrators/staff who teach one or more non-clinical credit courses\\nc exclude include\\neven though they do not have faculty status\\nundergraduate or graduate students who assist in the instruction of courses,\\nd exclude exclude\\nbut have titles such as teaching assistant, teaching fellow, and the like\\ne faculty on sabbatical or leave with pay include exclude\\nf faculty on leave without pay exclude exclude\\ng replacement faculty for faculty on sabbatical leave or leave with pay exclude include\\nfull-time instructional faculty: faculty employed on a full-time basis for instruction (including those with released\\ntime for research)\\npart-time instructional faculty: adjuncts and other instructors being paid solely for part-time classroom instruction.\\nalso includes full-time faculty teaching less than two semesters, three quarters, two trimesters, or two four-month\\nsessions. employees who are not considered full-time instruction faculty but who teach one or more non-clinical\\ncredit courses may be counted as part-time faculty.\\nminority faculty: includes faculty who designate themselves as black, non-hispanic; american indian or alaska\\nnative; asian, native hawaiian or other pacific islander, or hispanic.\\ndoctorate: includes such degrees as doctor of philosophy, doctor of education, doctor of juridical science, and\\ndoctor of public health in any field such as arts, sciences, education, engineering, business, and public\\nadministration. also includes terminal degrees formerly designated as “first professional,” including dentistry (dds\\nor dmd), medicine (md), optometry (od), osteopathic medicine (do), pharmacy (dpharm or bpharm), podiatric\\nmedicine (dpm), veterinary medicine (dvm), chiropractic (dc or dcm), or law (jd).\\nterminal master’s degree: a master’s degree that is considered the highest degree in a field: example, m. arch\\n(in architecture) and mfa (master of fine arts in art or theater).common data set 2023-2024\\nfull-time part-time total\\na total number of instructional faculty 2210 584 2794\\nb total number who are members of minority groups 522 95 617\\nc total number who are women 951 305 1256\\nd total number who are men 1259 279 1538\\ne total number who are nonresidents (international) 0\\nf total number with doctorate, or other terminal degree 2061 395 2456\\ntotal number whose highest degree is a master’s but not a\\ng 126 146 272\\nterminal master’s\\nh total number whose highest degree is a bachelor’s 15 4 19\\ntotal number whose highest degree is unknown or other (note:\\ni 8 39 47\\nitems f, g, h, and i must sum up to item a.)\\ntotal number in stand-alone graduate/professional programs in\\nj 176 93 269\\nwhich faculty teach virtually only graduate-level students\\ni-2. student to faculty ratio\\nreport the fall 2023 ratio of full-time equivalent students (full-time plus 1/3 part time) to full-time equivalent\\ninstructional faculty (full time plus 1/3 part time). in the ratio calculations, exclude both faculty and students in\\nstand-alone graduate or professional programs such as medicine, law, veterinary, dentistry, social work,\\nbusiness, or public health in which faculty teach virtually only graduate level students.\\n• do not count undergraduate or graduate student teaching assistants as faculty.\\nfall 2023 student to faculty ratio: 17 to 1\\n(based on 37090 students and 2196 faculty)common data set 2023-2024\\ni-3. undergraduate class size\\nin the table below, please use the following definitions to report information about the size of classes and class\\nsections offered in the fall 2023 term.\\n\\uf0fc please include classes that have been moved online in response to the covid-19 pandemic.\\nclass sections: a class section is an organized course offered for credit, identified by discipline and number,\\nmeeting at a stated time or times in a classroom or similar setting, and not a subsection such as a laboratory or\\ndiscussion session. undergraduate class sections are defined as any sections in which at least one degree-seeking\\nundergraduate student is enrolled for credit. exclude distance learning classes and noncredit classes and individual\\ninstruction such as dissertation or thesis research, music instruction, or one-to-one readings. exclude students in\\nindependent study, co-operative programs, internships, foreign language taped tutor sessions, practicums, and all\\nstudents in one-on-one classes. each class section should be counted only once and should not be duplicated\\nbecause of course catalog cross-listings.\\nclass subsections: a class subsection includes any subsection of a course, such as laboratory, recitation, and\\ndiscussion subsections that are supplementary in nature and are scheduled to meet separately from the lecture\\nportion of the course. undergraduate subsections are defined as any subsections of courses in which degree-\\nseeking undergraduate students enrolled for credit. as above, exclude noncredit classes and individual instruction\\nsuch as dissertation or thesis research, music instruction, or one-to-one readings. each class subsection should be\\ncounted only once and should not be duplicated because of cross-listings.\\nusing the above definitions, please report for each of the following class-size intervals the number of class\\nsections and class subsections offered in fall 2023. for example, a lecture class with 800 students who met at\\nanother time in 40 separate labs with 20 students should be counted once in the “100+” column in the class\\nsection column and 40 times under the “20-29” column of the class subsections table.\\nnumber of class sections with undergraduates enrolled\\nundergraduate class size (provide numbers)\\n2-9 10-19 20-29 30-39 40-49 50-99 100+ total\\nclass\\n586 1765 1088 502 321 313 250 4825\\nsections\\n2-9 10-19 20-29 30-39 40-49 50-99 100+ total\\nclass sub-\\n0\\nsectionscommon data set 2023-2024\\nj. disciplinary areas of degrees conferred\\ndegrees conferred between july 1, 2022 and june 30, 2023\\nfor each of the following discipline areas, provide the percentage of diplomas/certificates, associate, and bachelor’s\\ndegrees awarded. to determine the percentage, use majors, not headcount (e.g., students with one degree but a\\ndouble major will be represented twice). calculate the percentage from your institution’s ipeds completions by\\nusing the sum of 1st and 2nd majors for each cip code as the numerator and the sum of the grand total by 1st\\nmajors and the grand total by 2nd major as the denominator. if you prefer, you can compute the percentages using\\n1st majors only.\\ncip 2020\\ndiploma/\\nassociate bachelor\\'s categories\\ncategory certificates\\nto\\ninclude\\nagriculture 0.85 2.79 01\\nnatural resources and conservation 0.75 0.87 03\\narchitecture 0.48 04\\narea, ethnic, and gender studies 2.35 0.19 05\\ncommunication/journalism 16.67 7.74 09\\ncommunication technologies 10\\ncomputer and information sciences 4.99 2.86 11\\npersonal and culinary services 12\\neducation 0.47 2.48 13\\nengineering 4.90 14\\nengineering technologies 15\\nforeign languages, literatures, and linguistics 1.73 16\\nfamily and consumer sciences 3.13 19\\nlaw/legal studies 14.50 22\\nenglish 1.51 1.10 23\\nliberal arts/general studies 0.09 0.06 24\\nlibrary science 25\\nbiological/life sciences 9.92 26\\nmathematics and statistics 1.12 27\\nmilitary science and military technologies 28 and 29\\ninterdisciplinary studies 12.81 3.22 30\\nparks and recreation 2.76 31\\nphilosophy and religious studies 0.69 38\\ntheology and religious vocations 39\\nphysical sciences 0.96 40\\nscience technologies 41\\npsychology 6.84 42common data set 2023-2024\\ncip 2020\\ndiploma/\\nassociate bachelor\\'s categories\\ncategory certificates\\nto\\ninclude\\nhomeland security, law enforcement, firefighting, and\\n1.21 43\\nprotective services\\npublic administration and social services 0.66 0.45 44\\nsocial sciences 5.09 8.66 45\\nconstruction trades 46\\nmechanic and repair technologies 47\\nprecision production 48\\ntransportation and materials moving 49\\nvisual and performing arts 7.53 2.60 50\\nhealth professions and related programs 1.22 3.15 51\\nbusiness/marketing 30.51 29.20 52\\nhistory 0.89 54\\nother\\ntotal (should be = 100%) 100.00 0.00 100.00common data set 2023-2024\\ncommon data set definitions\\n♦ all definitions related to the financial aid section appear at the end of the definitions document.\\n♦ items preceded by an asterisk (*) represent definitions agreed to among publishers which do not appear on the cds\\ndocument but may be present on individual publishers’ surveys.\\n♦ additional guidance for some terms, particularly those common with the ipeds survey, may be found here:\\nhttps://surveys.nces.ed.gov/ipeds/public/glossary\\n*academic advisement: plan under which each student is assigned to a faculty member or a trained adviser, who, through\\nregular meetings, helps the student plan and implement immediate and long-term academic and vocational goals.\\naccelerated program: completion of a college program of study in fewer than the usual number of years, most often by\\nattending summer sessions and carrying extra courses during the regular academic term.\\nadmitted student: applicant who is offered admission to a degree-granting program at your institution.\\n*adult student services: admission assistance, support, orientation, and other services expressly for adults who have started\\ncollege for the first time, or who are re-entering after a lapse of a few years.\\namerican indian or alaska native: a person having origins in any of the original peoples of north and south america (including\\ncentral america) and maintaining tribal affiliation or community attachment.\\napplicant (first-time, first year): an individual who has fulfilled the institution’s requirements to be considered for admission\\n(including payment or waiving of the application fee, if any) and who has been notified of one of the following actions: admission,\\nnonadmission, placement on waiting list, or application withdrawn (by applicant or institution).\\napplication fee: that amount of money that an institution charges for processing a student’s application for acceptance. this\\namount is not creditable toward tuition and required fees, nor is it refundable if the student is not admitted to the institution.\\nasian: a person having origins in any of the original peoples of the far east, southeast asia, or the indian subcontinent,\\nincluding, for example, cambodia, china, india, japan, korea, malaysia, pakistan, the philippine islands, thailand, and vietnam.\\nassociate degree: an award that normally requires at least two but less than four years of full-time equivalent college work.\\nbachelor’s degree: an award (baccalaureate or equivalent degree, as determined by the secretary of the u.s. department of\\neducation) that normally requires at least four years but not more than five years of full-time equivalent college-level work. this\\nincludes all bachelor’s degrees conferred in a five-year cooperative (work-study plan) program. (a cooperative plan provides\\nfor alternate class attendance and employment in business, industry, or government; thus, it allows students to combine actual\\nwork experience with their college studies.) also, it includes bachelor’s degrees in which the normal four years of work are\\ncompleted in three years.\\nblack or african american: a person having origins in any of the black racial groups of africa.\\nfood (charges): assume average cost for 19 meals per week or the maximum meal plan.\\nbooks and supplies (costs): average cost of books and supplies. do not include unusual costs for special groups of students\\n(e.g., engineering or art majors), unless they constitute the majority of students at your institution.\\ncalendar system: the method by which an institution structures most of its courses for the academic year.\\ncampus ministry: religious student organizations (denominational or nondenominational) devoted to fostering religious life on\\ncollege campuses. may also refer to campus crusade for christ, an interdenominational christian organization.\\n*career and placement services: a range of services, including (often) the following: coordination of visits of employers to\\ncampus; aptitude and vocational testing; interest inventories, personal counseling; help in resume writing, interviewing, launching\\nthe job search; listings for those students desiring employment and those seeking permanent positions; establishment of a\\npermanent reference folder; career resource materials.\\ncarnegie units: one year of study or the equivalent in a secondary school subject.\\ncertificate: see postsecondary award, certificate, or diploma.\\nclass rank: the relative numerical position of a student in his or her graduating class, calculated by the high school on the basis\\nof grade-point average, whether weighted or unweighted.\\ncollege-preparatory program: courses in academic subjects (english, history and social studies, foreign languages,\\nmathematics, science, and the arts) that stress preparation for college or university study.common data set 2023-2024\\ncommon application: the standard application form distributed by the national association of secondary school principals\\nfor a large number of private colleges who are members of the common application group.\\n*community service program: referral center for students wishing to perform volunteer work in the community or participate\\nin volunteer activities coordinated by academic departments.\\ncommuter: a student who lives off campus in housing that is not owned by, operated by, or affiliated with the college. this\\ncategory includes students who commute from home and students who have moved to the area to attend college.\\ncomprehensive transition and postsecondary program for students with intellectual disabilities: programs designed to\\nsupport postsecondary students with intellectual disabilities obtain instruction in academic, career and technical, and\\nindependent living subjects in preparation for employment.\\nclock hour: a unit of measure that represents an hour of scheduled instruction given to students. also referred to as contact\\nhour.\\ncontinuous basis (for program enrollment): a calendar system classification that is used by institutions that enroll students\\nat any time during the academic year. for example, a cosmetology school or a word processing school might allow students to\\nenroll and begin studies at various times, with no requirement that classes begin on a certain date.\\ncooperative education program: a program that provides for alternate class attendance and employment in business,\\nindustry, or government.\\ncooperative housing: college-owned, -operated, or -affiliated housing in which students share food and housing expenses\\nand participate in household chores to reduce living expenses.\\n*counseling service: activities designed to assist students in making plans and decisions related to their education, career, or\\npersonal development.\\ncredit: recognition of attendance or performance in an instructional activity (course or program) that can be applied by a\\nrecipient toward the requirements for a degree, diploma, certificate, or recognized postsecondary credential.\\ncredit course: a course that, if successfully completed, can be applied toward the number of courses required for achieving a\\ndegree, diploma, certificate, or other recognized postsecondary credential.\\ncredit hour: a unit of measure representing an hour (50 minutes) of instruction over a 15-week period in a semester or trimester\\nsystem or a 10-week period in a quarter system. it is applied toward the total number of hours needed for completing the\\nrequirements of a degree, diploma, certificate, or recognized postsecondary credential.\\ncross-registration: a system whereby students enrolled at one institution may take courses at another institution without having\\nto apply to the second institution.\\ndeferred admission: the practice of permitting admitted students to postpone enrollment, usually for a period of one academic\\nterm or one year.\\ndegree: an award conferred by a college, university, or other postsecondary education institution as official recognition for the\\nsuccessful completion of a program of studies.\\ndegree-seeking students: students enrolled in courses for credit who are recognized by the institution as seeking a degree or\\nrecognized postsecondary credential. at the undergraduate level, this is intended to include students enrolled in vocational or\\noccupational programs.\\ndiffers by program (calendar system): a calendar system classification that is used by institutions that have\\noccupational/vocational programs of varying length. these schools may enroll students at specific times depending on the\\nprogram desired. for example, a school might offer a two-month program in january, march, may, september, and november;\\nand a three-month program in january, april, and october.\\ndiploma: see postsecondary award, certificate, or diploma.\\ndistance learning: an option for earning course credit at off-campus locations via cable television, internet, satellite classes,\\nvideotapes, correspondence courses, or other means.\\ndoctor’s degree-research/scholarship: a ph.d. or other doctor\\'s degree that requires advanced work beyond the master’s\\nlevel, including the preparation and defense of a dissertation based on original research, or the planning and execution of an\\noriginal project demonstrating substantial artistic or scholarly achievement. some examples of this type of degree may include\\ned.d., d.m.a., d.b.a., d.sc., d.a., or d.m, and others, as designated by the awarding institution.common data set 2023-2024\\ndoctor’s degree-professional practice: a doctor’s degree that is conferred upon completion of a program providing the\\nknowledge and skills for the recognition, credential, or license required for professional practice. the degree is awarded after a\\nperiod of study such that the total time to the degree, including both pre-professional and professional preparation, equals at\\nleast six full-time equivalent academic years. some of these degrees were formerly classified as “first-professional” and may\\ninclude: chiropractic (d.c. or d.c.m.); dentistry (d.d.s. or d.m.d.); law (l.l.b. or j.d.); medicine (m.d.); optometry (o.d.);\\nosteopathic medicine (d.o); pharmacy (pharm.d.); podiatry (d.p.m., pod.d., d.p.); or, veterinary medicine (d.v.m.), and\\nothers, as designated by the awarding institution.\\ndoctor’s degree-other: a doctor’s degree that does not meet the definition of a doctor’s degree - research/scholarship or a\\ndoctor’s degree - professional practice.\\ndouble major: program in which students may complete two undergraduate programs of study simultaneously.\\ndual enrollment: a program through which high school students may enroll in college courses while still enrolled in high school.\\nstudents are not required to apply for admission to the college in order to participate.\\nearly action plan: an admission plan that allows students to apply and be notified of an admission decision well in advance of\\nthe regular notification dates. if admitted, the candidate is not committed to enroll; the student may reply to the offer under the\\ncollege’s regular reply policy.\\nearly admission: a policy under which students who have not completed high school are admitted and enroll full time in college,\\nusually after completion of their junior year.\\nearly decision plan: a plan that permits students to apply and be notified of an admission decision (and financial aid offer if\\napplicable) well in advance of the regular notification date. applicants agree to accept an offer of admission and, if admitted, to\\nwithdraw their applications from other colleges. there are three possible decisions for early decision applicants: admitted,\\ndenied, or not admitted but forwarded for consideration with the regular applicant pool, without prejudice.\\nenglish as a second language (esl): a course of study designed specifically for students whose native language is not\\nenglish.\\nexchange student program-domestic: any arrangement between a student and a college that permits study for a semester\\nor more at another college in the united states without extending the amount of time required for a degree. see also study\\nabroad.\\nexternal degree program: a program of study in which students earn credits toward a degree through independent study,\\ncollege courses, proficiency examinations, and personal experience. external degree programs require minimal or no classroom\\nattendance.\\nextracurricular activities (as admission factor): special consideration in the admissions process given for participation in\\nboth school and nonschool-related activities of interest to the college, such as clubs, hobbies, student government, athletics,\\nperforming arts, etc.\\nfirst-time student: a student attending any institution for the first time at the level enrolled. includes students enrolled in the\\nfall term who attended a postsecondary institution for the first time at the same level in the prior summer term. also includes\\nstudents who entered with advanced standing (college credit earned before graduation from high school).\\nfirst-time, first-year student: a student attending any institution for the first time at the undergraduate level. includes\\nstudents enrolled in the fall term who attended college for the first time in the prior summer term. also includes students who\\nentered with advanced standing (college credits earned before graduation from high school).\\nfirst-year student: a student who has completed less than the equivalent of 1 full year of undergraduate work; that is, less than\\n30 semester hours (in a 120-hour degree program) or less than 900 clock hours.\\nfirst-year student: a student who has completed less than the equivalent of 1 full year of undergraduate work; that is, less\\nthan 30 semester hours (in a 120-hour degree program) or less than 900 clock hours.\\n*new student orientation: orientation addressing the academic, social, emotional, and intellectual issues involved in\\nbeginning college. may be a few hours or a few days in length; at some colleges, there is a fee.\\nfull-time student (undergraduate): a student enrolled for 12 or more semester credits, 12 or more quarter credits, or 24 or\\nmore clock hours a week each term.\\ngeographical residence (as admission factor): special consideration in the admission process given to students from a\\nparticular region, state, or country of residence.common data set 2023-2024\\ngrade-point average (academic high school gpa): the sum of grade points a student has earned in secondary school divided\\nby the number of courses taken. the most common system of assigning numbers to grades counts four points for an a, three\\npoints for a b, two points for a c, one point for a d, and no points for an e or f. unweighted gpa’s assign the same weight to\\neach course. weighting gives students additional points for their grades in advanced or honors courses.\\ngraduate student: a student who holds a bachelor’s or equivalent, and is taking courses at the post-baccalaureate level.\\n*health services: free or low cost on-campus primary and preventive health care available to students.\\nhigh school diploma or recognized equivalent: a document certifying the successful completion of a prescribed secondary\\nschool program of studies, or the attainment of satisfactory scores on the tests of general educational development (ged), or\\nanother state-specified examination.\\nhispanic or latino: a person of mexican, puerto rican, cuban, south or central american, or other spanish culture or origin,\\nregardless of race.\\nhonors program: any special program for very able students offering the opportunity for educational enrichment, independent\\nstudy, acceleration, or some combination of these.\\nindependent study: academic work chosen or designed by the student with the approval of the department concerned, under\\nan instructor’s supervision, and usually undertaken outside of the regular classroom structure.\\nin-state tuition: the tuition charged by institutions to those students who meet the state’s or institution’s residency requirements.\\ninternational student: see nonresident.\\ninternational student group: student groups that facilitate cultural dialogue, support a diverse campus, assist international\\nstudents in acclimation and creating a social network.\\ninternship: any short-term, supervised work experience usually related to a student’s major field, for which the student earns\\nacademic credit. the work can be full- or part-time, on- or off-campus, paid or unpaid.\\n*learning center: center offering assistance through tutors, workshops, computer programs, or audiovisual equipment in\\nreading, writing, math, and skills such as taking notes, managing time, taking tests.\\n*legal services: free or low cost legal advice for a range of issues (personal and other).\\nliberal arts/career combination: program in which a student earns undergraduate degrees in two separate fields, one in a\\nliberal arts major and the other in a professional or specialized major, whether on campus or through cross-registration.\\nliving learning community: residential programs that allow students to interact with students who share common interests.\\nin addition to living together, students may also participate in shared courses, special events, and group service projects.\\nmaster\\'s degree: an award that requires the successful completion of a program of study of generally one or two full-time\\nequivalent academic years of work beyond the bachelor\\'s degree. some of these degrees, such as those in theology (m.div.,\\nm.h.l./rav) that were formerly classified as \"first-professional\", may require more than two full-time equivalent academic years\\nof work.\\nminority affiliation (as admission factor): special consideration in the admission process for members of designated\\nracial/ethnic minority groups.\\n*minority student center: center with programs, activities, and/or services intended to enhance the college experience of\\nstudents of color.\\nmodel united nations: a simulation activity focusing on conflict resolution, globalization, and diplomacy. assuming roles as\\nforeign ambassadors and “delegates,” students conduct research, engage in debate, draft resolutions, and may participate in a\\nnational model un conference.\\nnative hawaiian or other pacific islander: a person having origins in any of the original peoples of hawaii, guam, samoa, or\\nother pacific islands.\\nnonresident: a person who is not a citizen or national of the united states and who is in this country on a visa or temporary\\nbasis and does not have the right to remain indefinitely.\\n*on-campus day care: licensed day care for students’ children (usually age 3 and up); usually for a fee.\\nopen admission: admission policy under which virtually all secondary school graduates or students with ged equivalency\\ndiplomas are admitted without regard to academic record, test scores, or other qualifications.\\nother expenses (costs): include average costs for clothing, laundry, entertainment, medical (if not a required fee), and\\nfurnishings.common data set 2023-2024\\nout-of-state tuition: the tuition charged by institutions to those students who do not meet the institution’s or state’s residency\\nrequirements.\\npart-time student (undergraduate): a student enrolled for fewer than 12 credits per semester or quarter, or fewer than 24\\nclock hours a week each term.\\npermanent resident or other eligible non-citizen: a person who is not a citizen or national of the united states and who has\\nbeen admitted as a legal immigrant for the purpose of obtaining permanent resident status (and who holds either a registration\\ncard [form i-551 or i-151], a temporary resident card [form i-688], or an arrival-departure record [form i-94] with a notation\\nthat conveys legal immigrant status, such as section 207 refugee, section 208 asylee, conditional entrant parolee or cuban-\\nhaitian).\\n*personal counseling: one-on-one or group counseling with trained professionals for students who want to explore personal,\\neducational, or vocational issues.\\npost-baccalaureate certificate: an award that requires completion of an organized program of study requiring 18 credit hours\\nbeyond the bachelor’s; designed for persons who have completed a baccalaureate degree but do not meet the requirements of\\nacademic degrees carrying the title of master.\\npost-master’s certificate: an award that requires completion of an organized program of study of 24 credit hours beyond the\\nmaster’s degree but does not meet the requirements of academic degrees at the doctoral level.\\npostsecondary award, certificate, or diploma: includes the following three ipeds definitions for postsecondary awards,\\ncertificates, and diplomas of varying durations and credit/contact/clock hour requirements:\\nless than 1 academic year: requires completion of an organized program of study at the postsecondary level (below\\nthe baccalaureate degree) in less than 1 academic year (2 semesters or 3 quarters) or in less than 900 clock hours by\\na student enrolled full-time.\\nat least 1 but less than 2 academic years: requires completion of an organized program of study at the\\npostsecondary level (below the baccalaureate degree) in at least 1 but less than 2 full-time equivalent academic years,\\nor designed for completion in at least 30 but less than 60 credit hours, or in at least 900 but less than 1,800 clock hours.\\nat least 2 but less than 4 academic years: requires completion of an organized program of study at the\\npostsecondary level (below the baccalaureate degree) in at least 2 but less than 4 full-time equivalent academic years,\\nor designed for completion in at least 60 but less than 120 credit hours, or in at least 1,800 but less than 3,600 clock\\nhours.\\nprivate institution: an educational institution controlled by a private individual(s) or by a nongovernmental agency, usually\\nsupported primarily by other than public funds, and operated by other than publicly elected or appointed officials.\\nprivate for-profit institution: a private institution in which the individual(s) or agency in control receives compensation, other\\nthan wages, rent, or other expenses for the assumption of risk.\\nprivate nonprofit institution: a private institution in which the individual(s) or agency in control receives no compensation,\\nother than wages, rent, or other expenses for the assumption of risk. these include both independent nonprofit schools and\\nthose affiliated with a religious organization.\\nproprietary institution: see private for-profit institution.\\npublic institution: an educational institution whose programs and activities are operated by publicly elected or appointed school\\nofficials, and which is supported primarily by public funds.\\nquarter calendar system: a calendar system in which the academic year consists of three sessions called quarters of about\\n12 weeks each. the range may be from 10 to 15 weeks. there may be an additional quarter in the summer.\\nrace/ethnicity: category used to describe groups to which individuals belong, identify with, or belong in the eyes of the\\ncommunity. the categories do not denote scientific definitions of anthropological origins. a person may be counted in only one\\ngroup.\\nrace/ethnicity unknown: category used to classify students or employees whose race/ethnicity is not known and whom\\ninstitutions are unable to place in one of the specified racial/ethnic categories.\\nrecognized postsecondary credential: includes both title iv eligible degrees, certificates, and other recognized\\npostsecondary credentials. any credential that is received after completion of a program that is eligible for title iv federal student\\naid. credentials that are awarded to recognize an individual’s attainment of measurable technical or industry/occupational skills\\nnecessary to obtain employment or advance within an industry occupation. (generally based on standards developed or\\nendorsed by employers or industry associations).common data set 2023-2024\\nreligious affiliation/commitment (as admission factor): special consideration given in the admission process for affiliation\\nwith a certain church or faith/religion, commitment to a religious vocation, or observance of certain religious tenets/lifestyle.\\n*religious counseling: one-on-one or group counseling with trained professionals for students who want to explore religious\\nproblems or issues.\\n*developmental services: instructional courses designed for students deficient in the general competencies necessary for a\\nregular postsecondary curriculum and educational setting.\\nrequired fees: fixed sum charged to students for items not covered by tuition and required of such a large proportion of all\\nstudents that the student who does not pay is the exception. do not include application fees or optional fees such as lab fees\\nor parking fees.\\nfood and housing (charges)—on campus: assume double occupancy in institutional housing and 19 meals per week\\n(or maximum meal plan).\\nsecondary school record (as admission factor): information maintained by the secondary school that may include such\\nthings as the student’s high school transcript, class rank, gpa, and teacher and counselor recommendations.\\nsemester calendar system: a calendar system that consists of two semesters during the academic year with about 16 weeks\\nfor each semester of instruction. there may be an additional summer session.\\nstudent-designed major: a program of study based on individual interests, designed with the assistance of an adviser.\\nstudy abroad: any arrangement by which a student completes part of the college program studying in another country. can be\\nat a campus abroad or through a cooperative agreement with some other u.s. college or an institution of another country.\\n*summer session: a summer session is shorter than a regular semester and not considered part of the academic year. it is\\nnot the third term of an institution operating on a trimester system or the fourth term of an institution operating on a quarter\\ncalendar system. the institution may have 2 or more sessions occurring in the summer months. some schools, such as\\nvocational and beauty schools, have year-round classes with no separate summer session.\\ntalent/ability (as admission factor): special consideration given to students with demonstrated talent/abilities in areas of\\ninterest to the institution (e.g., sports, the arts, languages, etc.).\\nteacher certification program: program designed to prepare students to meet the requirements for certification as teachers\\nin elementary, middle/junior high, and secondary schools.\\ntransfer applicant: an individual who has fulfilled the institution’s requirements to be considered for admission (including\\npayment or waiving of the application fee, if any) and who has previously attended another college or university and earned\\ncollege-level credit.\\ntransfer student: a student entering the institution for the first time but known to have previously attended a postsecondary\\ninstitution at the same level (e.g., undergraduate). the student may transfer with or without credit.\\ntransportation (costs): assume two round trips to student’s hometown per year for students in institutional housing or daily\\ntravel to and from your institution for commuter students.\\ntrimester calendar system: an academic year consisting of 3 terms of about 15 weeks each.\\ntuition: amount of money charged to students for instructional services. tuition may be charged per term, per course, or per\\ncredit.\\n*tutoring: may range from one-on-one tutoring in specific subjects to tutoring in an area such as math, reading, or writing. most\\ntutors are college students; at some colleges, they are specially trained and certified.\\nunit: a standard of measurement representing hours of academic instruction (e.g., semester credit, quarter credit, clock hour).\\nundergraduate: a student enrolled in a four- or five-year bachelor’s degree program, an associate degree program, or a\\nvocational or technical program below the baccalaureate.common data set 2023-2024\\nundergraduate research: opportunities offered to undergraduate students to make original contributions in an academic\\ndiscipline via the exploration of a specific research topic. research opportunities may or may not be associated with a specific\\ncourse or earn credit.\\n*veteran’s counseling: helps veterans and their dependents obtain benefits for their selected program and provides\\ncertifications to the veteran’s administration. may also provide personal counseling on the transition from the military to a civilian\\nlife.\\n*visually impaired: any person whose sight loss is not correctable and is sufficiently severe as to adversely affect educational\\nperformance.\\nvolunteer work (as admission factor): special consideration given to students for activity done on a volunteer basis (e.g.,\\ntutoring, hospital care, working with the elderly or disabled) as a service to the community or the public in general.\\nwait list: list of students who meet the admission requirements but will only be offered a place in the class if space becomes\\navailable.\\nweekend college: a program that allows students to take a complete course of study and attend classes only on weekends.\\nwhite: a person having origins in any of the original peoples of europe, the middle east, or north africa.\\n*women’s center: center with programs, academic activities, and/or services intended to promote an understanding of the\\nevolving roles of women.\\nwork experience (as admission factor): special consideration given to students who have been employed prior to application,\\nwhether for relevance to major, demonstration of employment-related skills, or as explanation of student’s academic and\\nextracurricular record.\\nfinancial aid definitions\\nexternal scholarships and grants: scholarships and grants received from outside (private) sources that students bring with\\nthem (e.g., kiwanis, national merit scholarships). the institution may process paperwork to receive the dollars, but it has no role\\nin determining the recipient or the dollar amount awarded.\\nfinancial aid applicant: any applicant who submits any one of the institutionally required financial aid applications/forms, such\\nas the fafsa.\\nindebtedness: aggregate dollar amount borrowed through any loan program (federal, state, subsidized, unsubsidized, private,\\netc.; excluding parent loans) while the student was enrolled at an institution. student loans co-signed by a parent are assumed\\nto be the responsibility of the student and should be included.\\ninstitutional scholarships and grants: endowed scholarships, annual gifts and tuition funded grants for which the institution\\ndetermines the recipient.\\nfinancial need: as determined by your institution using the federal methodology and/or your institution\\'s own standards.\\nneed-based aid: college-funded or college-administered award from institutional, state, federal, or other sources for which a\\nstudent must have financial need to qualify. this includes both institutional and non-institutional student aid (grants, jobs, and\\nloans).\\nneed-based scholarship or grant aid: scholarships and grants from institutional, state, federal, or other sources for which a\\nstudent must have financial need to qualify.\\nneed-based self-help aid: loans and jobs from institutional, state, federal, or other sources for which a student must\\ndemonstrate financial need to qualify.\\nnon-need-based scholarship or grant aid: scholarships and grants, gifts, or merit-based aid from institutional, state, federal,\\nor other sources (including unrestricted funds or gifts and endowment income) awarded solely on the basis of academic\\nachievement, merit, or any other non-need-based reason. when reporting questions h1 and h2, non-need-based aid that is\\nused to meet need should be counted as need-based aid.\\nnote: suggested order of precedence for counting non-need money as need-based:\\n1. non-need institutional grants 6. non-need outside grants\\n2. non-need tuition waivers 7. non-need student loans\\n3. non-need athletic awards 8. non-need parent loans\\n4. non-need federal grants 9. non-need work\\n5. non-need state grantscommon data set 2023-2024\\nnon-need-based self-help aid: loans and jobs from institutional, state, or other sources for which a student need not\\ndemonstrate financial need to qualify.\\nwork study and employment: federal and state work study aid, and any employment packaged by your institution in financial\\naid awards.'"
      ]
     },
     "execution_count": 58,
     "metadata": {},
     "output_type": "execute_result"
    }
   ],
   "source": [
    "extract_section_by_label(uga_file_path, \"C7\")"
   ]
  },
  {
   "cell_type": "code",
   "execution_count": 59,
   "id": "a59c6033",
   "metadata": {},
   "outputs": [
    {
     "data": {
      "text/plain": [
       "{'Academic': {'Rigor of secondary school record': 'Very Important',\n",
       "  'Class rank': 'Not Considered',\n",
       "  'Standardized test scores': 'Considered'},\n",
       " 'Nonacademic': {'Academic GPA': 'Very Important',\n",
       "  'Application Essay': 'Important',\n",
       "  'Recommendation(s)': 'Considered',\n",
       "  'Interview': 'Not Considered',\n",
       "  'Extracurricular activities': 'Important',\n",
       "  'Talent/ability': 'Considered',\n",
       "  'Character/personal qualities': 'Very Important',\n",
       "  'First generation': 'Considered',\n",
       "  'Alumni/ae relation': 'Not Considered',\n",
       "  'Geographical residence': 'Considered',\n",
       "  'State residency': 'Very Important',\n",
       "  'Religious affiliation/commitment': 'Not Considered',\n",
       "  'Volunteer work': 'Considered',\n",
       "  'Work experience': 'Considered',\n",
       "  'Level of applicant’s interest': 'Not Considered'}}"
      ]
     },
     "execution_count": 59,
     "metadata": {},
     "output_type": "execute_result"
    }
   ],
   "source": [
    "extract_relative_importance(gatech_file_path)"
   ]
  },
  {
   "cell_type": "code",
   "execution_count": 60,
   "id": "e980bcd7",
   "metadata": {},
   "outputs": [
    {
     "data": {
      "text/plain": [
       "{'Academic': {}, 'Nonacademic': {}}"
      ]
     },
     "execution_count": 60,
     "metadata": {},
     "output_type": "execute_result"
    }
   ],
   "source": [
    "extract_relative_importance(umn_file_path)"
   ]
  },
  {
   "cell_type": "code",
   "execution_count": 61,
   "id": "e0ca05ae",
   "metadata": {},
   "outputs": [
    {
     "data": {
      "text/plain": [
       "{'Academic': {'Rigor of secondary school record': 'Very Important',\n",
       "  'Class rank': 'Not Considered',\n",
       "  'Academic Grade Point Average (GPA)': 'Very Important',\n",
       "  'Recommendations': 'Very Important',\n",
       "  'Standardized test scores': 'Important',\n",
       "  'Application essay': 'Very Important'},\n",
       " 'Nonacademic': {'Interview': 'Not Considered',\n",
       "  'Talent/ability': 'Considered',\n",
       "  'Character/personal qualities': 'Very Important',\n",
       "  'First generation': 'Considered',\n",
       "  'Alumni/ae relation': 'Not Considered',\n",
       "  'Geographical residence': 'Considered',\n",
       "  'State residency': 'Not Considered',\n",
       "  'Volunteer work': 'Considered',\n",
       "  'Work experience': 'Considered'}}"
      ]
     },
     "execution_count": 61,
     "metadata": {},
     "output_type": "execute_result"
    }
   ],
   "source": [
    "extract_relative_importance(nyu_file_path)"
   ]
  },
  {
   "cell_type": "code",
   "execution_count": 62,
   "id": "d893fcb2",
   "metadata": {},
   "outputs": [
    {
     "data": {
      "text/plain": [
       "{'Academic': {}, 'Nonacademic': {}}"
      ]
     },
     "execution_count": 62,
     "metadata": {},
     "output_type": "execute_result"
    }
   ],
   "source": [
    "extract_relative_importance(uga_file_path)"
   ]
  },
  {
   "cell_type": "markdown",
   "id": "40c7f104",
   "metadata": {},
   "source": [
    "### CDS"
   ]
  },
  {
   "cell_type": "code",
   "execution_count": 69,
   "id": "f602d289",
   "metadata": {},
   "outputs": [],
   "source": [
    "def build_cds_data(file_path):\n",
    "    \n",
    "    def safe_int(score): \n",
    "        try: return int(score)\n",
    "        except: return 0\n",
    "    \n",
    "    residency_data = extract_residency_data(file_path)\n",
    "    residency_acceptance = calculate_acceptance_rates(residency_data)\n",
    "    \n",
    "    highschool_requirement = extract_highschool_requirement(file_path)\n",
    "    \n",
    "    college_prep_requirement = extract_college_prep_requirement(file_path)\n",
    "    college_prep_subjects = extract_general_college_subjects(file_path)\n",
    "    \n",
    "    sat_act_requirement = extract_sat_act_required(file_path)\n",
    "    sat_act_scores = extract_sat_act_scores(file_path)\n",
    "    sat_composite = sat_act_scores.get(\"SAT Composite\")\n",
    "    act_composite = sat_act_scores.get(\"ACT Composite\")\n",
    "    \n",
    "    relative_importance = extract_relative_importance(file_path)\n",
    "    \n",
    "    cds_data = {\n",
    "        \"school_name\": extract_school_name(file_path),\n",
    "        \"state\": extract_state(file_path),\n",
    "        \"high_school_completion_required\": bool(highschool_requirement[\"high school diploma required\"]),\n",
    "        \"general_college_preparatory_required\": bool(college_prep_requirement[\"general college-preparatory program\"][\"required\"]),\n",
    "        \"general_college_subjects\": college_prep_subjects, \n",
    "        \"sat_act_required\": {\n",
    "            \"sat_or_act\": sat_act_requirement.get(\"SAT or ACT Requirement\", \"\").lower() == \"required\",\n",
    "            \"sat only\": sat_act_requirement.get(\"SAT Only Requirement\", \"\").lower() == \"required\",\n",
    "            \"act only\": sat_act_requirement.get(\"ACT Only Requirement\", \"\").lower() == \"required\"\n",
    "        },\n",
    "        \"alumni_importance\": relative_importance[\"Nonacademic\"].get(\"Alumni/ae relation\", \"Unknown\"),\n",
    "        \"first_generation_importance\": relative_importance[\"Nonacademic\"].get(\"First generation\", \"Unknown\"),\n",
    "        \"residency_importance\": relative_importance[\"Nonacademic\"].get(\"State residency\", \"Unknown\"),\n",
    "        \"sat_act_importance\": relative_importance[\"Academic\"].get(\"Standardized test scores\", \"Unknown\"),\n",
    "        \"gpa_importance\": relative_importance[\"Academic\"].get(\"Academic Grade Point Average (GPA)\", \"Unknown\"),\n",
    "        \"residency_acceptance\": residency_acceptance,\n",
    "        \"sat_scores\": {\n",
    "            \"25th\": safe_int(sat_composite.get(\"25th\")),\n",
    "            \"50th\": safe_int(sat_composite.get(\"50th\")),\n",
    "            \"75th\": safe_int(sat_composite.get(\"75th\"))\n",
    "        },\n",
    "        \"act scores\": {\n",
    "            \"25th\": safe_int(act_composite.get(\"25th\")),\n",
    "            \"50th\": safe_int(act_composite.get(\"50th\")),\n",
    "            \"75th\": safe_int(act_composite.get(\"75th\"))\n",
    "        },\n",
    "        \"volunteer_work\": relative_importance[\"Nonacademic\"].get(\"Volunteer work\", \"Unknown\"),\n",
    "        \"work_experience\": relative_importance[\"Nonacademic\"].get(\"Work experience\", \"Unknown\")\n",
    "    }\n",
    "\n",
    "    return cds_data"
   ]
  },
  {
   "cell_type": "code",
   "execution_count": 70,
   "id": "8aae8e00",
   "metadata": {},
   "outputs": [
    {
     "data": {
      "text/plain": [
       "{'school_name': 'georgia institute of technology',\n",
       " 'state': {'State': 'GA'},\n",
       " 'high_school_completion_required': True,\n",
       " 'general_college_preparatory_required': True,\n",
       " 'general_college_subjects': {'english': 4.0,\n",
       "  'math': 4.0,\n",
       "  'science': 4.0,\n",
       "  'scienceLab': 2.0,\n",
       "  'language': 2.0,\n",
       "  'social': 3.0,\n",
       "  'arts': 0},\n",
       " 'sat_act_required': {'sat_or_act': True,\n",
       "  'sat only': False,\n",
       "  'act only': False},\n",
       " 'alumni_importance': 'Not Considered',\n",
       " 'first_generation_importance': 'Considered',\n",
       " 'residency_importance': 'Very Important',\n",
       " 'sat_act_importance': 'Considered',\n",
       " 'gpa_importance': 'Unknown',\n",
       " 'residency_acceptance': {'in-state': 0.3312722503278996,\n",
       "  'out-of-state': 0.10417536534446764,\n",
       "  'international': 0.08198239925891616,\n",
       "  'others': None},\n",
       " 'sat_scores': {'25th': 1370, '50th': 1460, '75th': 1530},\n",
       " 'act scores': {'25th': 30, '50th': 33, '75th': 34},\n",
       " 'volunteer_work': 'Considered',\n",
       " 'work_experience': 'Considered'}"
      ]
     },
     "execution_count": 70,
     "metadata": {},
     "output_type": "execute_result"
    }
   ],
   "source": [
    "build_cds_data(gatech_file_path)"
   ]
  },
  {
   "cell_type": "code",
   "execution_count": 71,
   "id": "8d61b4e6",
   "metadata": {},
   "outputs": [],
   "source": [
    "def save_cds_data_to_excel(input_folder, output_folder):\n",
    "    # Iterate over all files in the specified folder\n",
    "    for file in os.listdir(input_folder):\n",
    "        if file.endswith(\".pdf\"): # process only pdf files\n",
    "            file_path = os.path.join(input_folder, file)\n",
    "            try:\n",
    "                cds_data = build_cds_data(file_path)\n",
    "\n",
    "                school_name = cds_data.get(\"school_name\") or os.path.splitext(file)[0] # try to get school name; use file name if missing\n",
    "                safe_name = school_name.replace(\"/\", \"_\").replace(\"\\\\\", \"_\")\n",
    "\n",
    "                df = pd.json_normalize(cds_data, sep='.') # convert nested dictionary to a flat dataframe\n",
    "\n",
    "                output_path = os.path.join(output_folder, f\"{safe_name}.xlsx\")\n",
    "                df.to_excel(output_path, index=False)\n",
    "\n",
    "                print(f\"Saved: {output_path}\")\n",
    "\n",
    "            except Exception as e:\n",
    "                print(f\"Failed to process {file}: {e}\")\n"
   ]
  },
  {
   "cell_type": "code",
   "execution_count": 72,
   "id": "eca0d20f",
   "metadata": {},
   "outputs": [
    {
     "name": "stdout",
     "output_type": "stream",
     "text": [
      "Saved: output_cds\\georgia institute of technology.xlsx\n",
      "Saved: output_cds\\new york university.xlsx\n",
      "Saved: output_cds\\university of georgia.xlsx\n",
      "Saved: output_cds\\university of minnesota – twin cities campus.xlsx\n"
     ]
    }
   ],
   "source": [
    "save_cds_data_to_excel(\"pdf\", \"output_cds\")"
   ]
  },
  {
   "cell_type": "code",
   "execution_count": 89,
   "id": "97aaee03",
   "metadata": {},
   "outputs": [],
   "source": [
    "gatech_cds = {\n",
    "    \"school_name\": \"Georgia Tech\",\n",
    "    \"state\": \"GA\",\n",
    "    \"high_school_completion_required\": True,\n",
    "    \"general_college_preparatory_required\": True,\n",
    "    \"general_college_subjects\":\n",
    "        {\n",
    "            \"english\": 4,\n",
    "            \"math\": 4,\n",
    "            \"science\": 4,\n",
    "            \"scienceLab\": 2,\n",
    "            \"language\": 2,\n",
    "            \"social\": 3,\n",
    "            \"arts\": 0\n",
    "        },\n",
    "    \"sat_act_required\":{\n",
    "        \"sat_or_act\": True,\n",
    "        \"sat only\": False,\n",
    "        \"act only\": False\n",
    "    },\n",
    "    \"alumni_importance\": \"Not Considered\",\n",
    "    \"first_generation_importance\": \"Considered\",\n",
    "    \"residency_importance\": \"Very Important\",\n",
    "    \"sat_act_importance\": \"Considered\",\n",
    "    \"gpa_importance\": \"Very Important\",\n",
    "    \"residency_acceptance\": {\n",
    "        \"international\": 0.082,\n",
    "        \"in-state\": 0.3313,\n",
    "        \"out-of-state\": 0.1042\n",
    "    },\n",
    "    \"sat_scores\": {\n",
    "        \"25th\": 1400,\n",
    "        \"50th\": 1500,\n",
    "        \"75th\": 1560\n",
    "    },\n",
    "    \"act_score\": {\n",
    "        \"25th\": 30,\n",
    "        \"50th\": 33,\n",
    "        \"75th\": 34   \n",
    "    },\n",
    "    \"volunteer_work\": \"Considered\",\n",
    "    \"work_experience\": \"Not Considered\"\n",
    "}"
   ]
  },
  {
   "cell_type": "code",
   "execution_count": 90,
   "id": "14884bdf",
   "metadata": {},
   "outputs": [],
   "source": [
    "umn_cds = {\n",
    "    \"school_name\": \"University of Minnesota\",\n",
    "    \"state\": \"MN\",\n",
    "    \"high_school_completion_required\": True,\n",
    "    \"general_college_preparatory_required\": True,\n",
    "    \"general_college_subjects\":\n",
    "        {\n",
    "            \"english\": 4,\n",
    "            \"math\": 4,\n",
    "            \"science\": 3,\n",
    "            \"scienceLab\": 1,\n",
    "            \"language\": 2,\n",
    "            \"social\": 3,\n",
    "            \"arts\": 1\n",
    "        },\n",
    "    \"sat_act_required\":{\n",
    "        \"sat_or_act\": True,\n",
    "        \"sat only\": False,\n",
    "        \"act only\": False\n",
    "    },\n",
    "    \"alumni_importance\": \"Not Considered\",\n",
    "    \"first_generation_importance\": \"Considered\",\n",
    "    \"residency_importance\": \"Considered\",\n",
    "    \"sat_act_importance\": \"Considered\",\n",
    "    \"gpa_importance\": \"Very Important\",\n",
    "    \"residency_acceptance\": {\n",
    "        \"international\": 0.7818,\n",
    "        \"in-state\": 0.7508,\n",
    "        \"out-of-state\": 0.7913\n",
    "    },\n",
    "    \"sat_scores\": {\n",
    "        \"25th\": 1328,\n",
    "        \"50th\": 1400,\n",
    "        \"75th\": 1460\n",
    "    },\n",
    "    \"act_scores\": {\n",
    "        \"25th\": 27,\n",
    "        \"50th\": 29,\n",
    "        \"75th\": 31\n",
    "    },\n",
    "    \"volunteer_work\": \"Considered\",\n",
    "    \"work_experience\": \"Considered\"\n",
    "}"
   ]
  },
  {
   "cell_type": "markdown",
   "id": "93aa56b5",
   "metadata": {},
   "source": [
    "### Modeling"
   ]
  },
  {
   "cell_type": "markdown",
   "id": "d24007ca",
   "metadata": {},
   "source": [
    "##### Importance Related"
   ]
  },
  {
   "cell_type": "code",
   "execution_count": 91,
   "id": "32e3d655",
   "metadata": {},
   "outputs": [
    {
     "data": {
      "text/plain": [
       "{'gpa_importance': 1.0,\n",
       " 'sat_act_importance': 0.85,\n",
       " 'residency_importance': 0.45,\n",
       " 'alumni_importance': 0.2,\n",
       " 'volunteer_work': 0.8}"
      ]
     },
     "execution_count": 91,
     "metadata": {},
     "output_type": "execute_result"
    }
   ],
   "source": [
    "import pandas as pd\n",
    "from collections import Counter\n",
    "\n",
    "# Example list of CDS importance data for multiple schools (gatech, umn, nyu, uga)\n",
    "cds_importance_data = [\n",
    "    {\n",
    "        \"gpa_importance\": \"Very Important\",\n",
    "        \"sat_act_importance\": \"Considered\",\n",
    "        \"residency_importance\": \"Very Important\",\n",
    "        \"alumni_importance\": \"Not Considered\",\n",
    "        \"volunteer_work\": \"Considered\",\n",
    "        #\"work_experience\": \"Considered\" \n",
    "    },\n",
    "    {\n",
    "        \"gpa_importance\": \"Very Important\",\n",
    "        \"sat_act_importance\": \"Considered\",\n",
    "        \"residency_importance\": \"Considered\",\n",
    "        \"alumni_importance\": \"Not Considered\",\n",
    "        \"volunteer_work\": \"Considered\",\n",
    "        #\"work_experience\": \"Considered\"\n",
    "    },\n",
    "    {\n",
    "        \"gpa_importance\": \"Very Important\",\n",
    "        \"sat_act_importance\": \"Important\",\n",
    "        \"residency_importance\": \"Not Considered\",\n",
    "        \"alumni_importance\": \"Not Considered\",\n",
    "        \"volunteer_work\": \"Considered\",\n",
    "        #\"work_experience\": \"Considered\"\n",
    "    },\n",
    "        {\n",
    "        \"gpa_importance\": \"Very Important\",\n",
    "        \"sat_act_importance\": \"Important\",\n",
    "        \"residency_importance\": \"Not Considered\",\n",
    "        \"alumni_importance\": \"Considered\", # mock data\n",
    "        \"volunteer_work\": \"Considered\",\n",
    "        #\"work_experience\": \"Considered\"\n",
    "    }\n",
    "]\n",
    "\n",
    "# 1. Count importance levels per category\n",
    "importance_levels = [\"Very Important\", \"Important\", \"Considered\", \"Not Considered\"]\n",
    "categories = [\"gpa_importance\", \"sat_act_importance\", \"residency_importance\", \"alumni_importance\", \"volunteer_work\"]\n",
    "importance_counts = {cat: Counter() for cat in categories}\n",
    "\n",
    "for record in cds_importance_data:\n",
    "    for cat in categories:\n",
    "        importance_counts[cat][record[cat]] += 1\n",
    "\n",
    "# 2. Calculate average weights\n",
    "weight_map = {\n",
    "    \"Very Important\": 1.0,\n",
    "    \"Important\": 0.9,\n",
    "    \"Considered\": 0.8,\n",
    "    \"Not Considered\": 0.0\n",
    "}\n",
    "\n",
    "average_weights = {}\n",
    "for cat in categories:\n",
    "    total = sum(importance_counts[cat].values())\n",
    "    if total == 0:\n",
    "        average_weights[cat] = 0\n",
    "        continue\n",
    "    weighted_sum = sum(weight_map[level] * count for level, count in importance_counts[cat].items())\n",
    "    average_weights[cat] = round(weighted_sum / total, 4)\n",
    "\n",
    "average_weights\n"
   ]
  },
  {
   "cell_type": "code",
   "execution_count": 92,
   "id": "67a8b99b",
   "metadata": {},
   "outputs": [],
   "source": [
    "# Convert average weights into max point allocation (total = 100 points)\n",
    "def normalize_max_points_from_avg_weights(average_weights, total_points=100):\n",
    "    total_weight = sum(average_weights.values())\n",
    "    max_points_by_cat = {\n",
    "        key.replace('_importance', ''): round((w / total_weight) * total_points, 2)\n",
    "        for key, w in average_weights.items()\n",
    "    }\n",
    "    return max_points_by_cat"
   ]
  },
  {
   "cell_type": "code",
   "execution_count": 93,
   "id": "af2716eb",
   "metadata": {},
   "outputs": [
    {
     "data": {
      "text/plain": [
       "{'gpa': 30.3,\n",
       " 'sat_act': 25.76,\n",
       " 'residency': 13.64,\n",
       " 'alumni': 6.06,\n",
       " 'volunteer_work': 24.24}"
      ]
     },
     "execution_count": 93,
     "metadata": {},
     "output_type": "execute_result"
    }
   ],
   "source": [
    "max_points_by_cat = normalize_max_points_from_avg_weights(average_weights)\n",
    "max_points_by_cat"
   ]
  },
  {
   "cell_type": "markdown",
   "id": "4ca7fa67",
   "metadata": {},
   "source": [
    "----------------"
   ]
  },
  {
   "cell_type": "markdown",
   "id": "b6e0bae7",
   "metadata": {},
   "source": [
    "##### Total Score"
   ]
  },
  {
   "cell_type": "code",
   "execution_count": 94,
   "id": "e671c51e",
   "metadata": {},
   "outputs": [],
   "source": [
    "def calculate_total_max_score(school_info, max_points_by_cat, weight_map):\n",
    "    total = 0\n",
    "    category_to_importance_key = {\n",
    "        'gpa': 'gpa_importance',\n",
    "        'sat_act': 'sat_act_importance',\n",
    "        'residency': 'residency_importance',\n",
    "        'alumni': 'alumni_importance',\n",
    "        'volunteer_work': 'volunteer_work',\n",
    "        'work_experience': 'work_experience'\n",
    "    }\n",
    "    \n",
    "    for category, max_point in max_points_by_cat.items():\n",
    "        importance_key = category_to_importance_key.get(category)\n",
    "        if importance_key and importance_key in school_info:\n",
    "            importance = school_info[importance_key]\n",
    "            weight = weight_map.get(importance, 0)\n",
    "            total += max_point * weight\n",
    "        else:\n",
    "            continue\n",
    "    return total"
   ]
  },
  {
   "cell_type": "code",
   "execution_count": 95,
   "id": "fa7b7567",
   "metadata": {},
   "outputs": [],
   "source": [
    "weight_map = {\n",
    "    \"Very Important\": 1.0,\n",
    "    \"Important\": 0.9,\n",
    "    \"Considered\": 0.8,\n",
    "    \"Not Considered\": 0.0\n",
    "}"
   ]
  },
  {
   "cell_type": "code",
   "execution_count": 96,
   "id": "779f5bce",
   "metadata": {},
   "outputs": [
    {
     "data": {
      "text/plain": [
       "83.94"
      ]
     },
     "execution_count": 96,
     "metadata": {},
     "output_type": "execute_result"
    }
   ],
   "source": [
    "calculate_total_max_score(gatech_cds, max_points_by_cat, weight_map)"
   ]
  },
  {
   "cell_type": "code",
   "execution_count": 97,
   "id": "3f4743ef",
   "metadata": {},
   "outputs": [
    {
     "data": {
      "text/plain": [
       "81.212"
      ]
     },
     "execution_count": 97,
     "metadata": {},
     "output_type": "execute_result"
    }
   ],
   "source": [
    "calculate_total_max_score(umn_cds, max_points_by_cat, weight_map)"
   ]
  },
  {
   "cell_type": "markdown",
   "id": "faf851a9",
   "metadata": {},
   "source": [
    "------------"
   ]
  },
  {
   "cell_type": "markdown",
   "id": "ab5b8057",
   "metadata": {},
   "source": [
    "##### Compatibility Score"
   ]
  },
  {
   "cell_type": "code",
   "execution_count": 98,
   "id": "cb678c36",
   "metadata": {},
   "outputs": [],
   "source": [
    "def calculate_compatibility_score(applicant, school_requirements, max_points_by_cat):\n",
    "    \n",
    "    # 1. Check essential requirments\n",
    "    if school_requirements[\"high_school_completion_required\"]:\n",
    "        if not applicant[\"high_school_completion\"]:\n",
    "            return {\"score\": 0, \"details\": {\"reason\": \"High school completion requirement not met\"}}\n",
    "    \n",
    "    if school_requirements[\"general_college_preparatory_required\"]:\n",
    "        required_subjects = school_requirements.get(\"general_college_subjects\", {})\n",
    "        applicant_subjects = applicant.get(\"general_college_requirement\", {})\n",
    "        \n",
    "        for subject, required_count in required_subjects.items():\n",
    "            applicant_count = applicant_subjects.get(subject, 0)\n",
    "            if applicant_count < required_count:\n",
    "                return {\"score\": 0, \"details\": {\"reason\": \"Subject requirement not met\"}}\n",
    "    \n",
    "    # Check standardized test requirement\n",
    "    sat_required = school_requirements[\"sat_act_required\"].get(\"sat only\", False)\n",
    "    act_required = school_requirements[\"sat_act_required\"].get(\"act only\", False)\n",
    "    either_required = school_requirements[\"sat_act_required\"].get(\"sat or act\", False)\n",
    "\n",
    "    sat = applicant.get(\"sat\", 0)\n",
    "    act = applicant.get(\"act\", 0)\n",
    "\n",
    "    if sat_required and sat == 0:\n",
    "        return {\"score\": 0, \"details\": {\"reason\": \"SAT score required\"}}\n",
    "    if act_required and act == 0:\n",
    "        return {\"score\": 0, \"details\": {\"reason\": \"ACT score required\"}}\n",
    "    if either_required and sat == 0 and act == 0:\n",
    "        return {\"score\": 0, \"details\": {\"reason\": \"SAT or ACT score required\"}}\n",
    "\n",
    "\n",
    "    # 2. Define importance weight mapping\n",
    "    weight_map = {\n",
    "        \"Very Important\": 1.0,\n",
    "        \"Important\": 0.9,\n",
    "        \"Considered\": 0.8,\n",
    "        \"Not Considered\": 0.0\n",
    "    }\n",
    "\n",
    "    total_score = 0\n",
    "    details = {}\n",
    "\n",
    "    # 3. Score for alumni relation\n",
    "    alumni_max = max_points_by_cat['alumni']\n",
    "    school_name = school_requirements['school_name'].lower()\n",
    "    alumni_score = 0\n",
    "    if applicant['alumni']:\n",
    "        alumni_schools = [name.lower() for name in applicant.get(\"alumni_school_names\", [])]\n",
    "        if school_name in alumni_schools:\n",
    "            alumni_score = alumni_max\n",
    "    alumni_weighted = alumni_score * weight_map[school_requirements['alumni_importance']]\n",
    "    total_score += alumni_weighted\n",
    "    details[\"alumni\"] = round(alumni_weighted, 2)\n",
    "\n",
    "    # 4. Score for first-generation status\n",
    "    #first_max = max_points_by_cat['first_generation']\n",
    "    #first_score = first_max if applicant['first'] else 0\n",
    "    #first_weighted = first_score * weight_map[school_requirements['first_generation_importance']]\n",
    "    #total_score += first_weighted\n",
    "    #details[\"first_generation\"] = round(first_weighted, 2)\n",
    "\n",
    "    # 5. Score based on residency acceptance rate\n",
    "    residency_max = max_points_by_cat['residency']\n",
    "    if applicant['residency'] == 'international':\n",
    "        residency_category = 'international'\n",
    "    else:\n",
    "        if applicant['state'] == school_requirements['state']:\n",
    "            residency_category = 'in-state'\n",
    "        else:\n",
    "            residency_category = 'out-of-state'\n",
    "    residency_score = school_requirements['residency_acceptance'][residency_category] * residency_max\n",
    "    residency_weighted = residency_score * weight_map[school_requirements['residency_importance']]\n",
    "    total_score += residency_weighted\n",
    "    details[\"residency\"] = round(residency_weighted, 2)\n",
    "    \n",
    "\n",
    "    # 6. Score based on SAT range position\n",
    "    sat = applicant['sat']\n",
    "    act = applicant['act']\n",
    "    sat_act_max = max_points_by_cat['sat_act']\n",
    "    \n",
    "    if sat > 0:\n",
    "        sat_q25 = school_requirements['sat_scores']['25th']\n",
    "        sat_q75 = school_requirements['sat_scores']['75th']\n",
    "\n",
    "        if sat < sat_q25:\n",
    "            sat_score = 0\n",
    "        elif sat > sat_q75:\n",
    "            sat_score = sat_act_max\n",
    "        else:\n",
    "            sat_score = ((sat - sat_q25) / (sat_q75 - sat_q25)) * sat_act_max\n",
    "            sat_score = min(sat_act_max, max(0, sat_score))\n",
    "        sat_weighted = sat_score * weight_map[school_requirements['sat_act_importance']]\n",
    "        total_score += sat_weighted\n",
    "        details[\"sat\"] = round(sat_weighted, 2)\n",
    "    \n",
    "    elif act > 0:\n",
    "        act_q25 = school_requirements['act scores']['25th']\n",
    "        act_q75 = school_requirements['act scores']['75th']\n",
    "        if act < act_q25:\n",
    "            act_score = 0\n",
    "        elif act > act_q75:\n",
    "            act_score = sat_act_max\n",
    "        else:\n",
    "            act_score = ((act - act_q25) / (act_q75 - act_q25)) * sat_act_max\n",
    "            act_score = min(sat_act_max, max(0, act_score))\n",
    "        act_weighted = act_score * weight_map[school_requirements['sat_act_importance']]\n",
    "        total_score += act_weighted\n",
    "        details[\"act\"] = round(act_weighted, 2)\n",
    "\n",
    "    # 7. Score based on GPA\n",
    "    gpa_max = max_points_by_cat['gpa']\n",
    "    gpa_score = (applicant['gpa'] / 4.0) * gpa_max\n",
    "    gpa_weighted = gpa_score * weight_map[school_requirements['gpa_importance']]\n",
    "    total_score += gpa_weighted\n",
    "    details[\"gpa\"] = round(gpa_weighted, 2)\n",
    "    \n",
    "    # 8. Score for volunteer work\n",
    "    volunteer_max = max_points_by_cat['volunteer_work']\n",
    "    volunteer = applicant['volunteering_hours']\n",
    "    if volunteer < 50:\n",
    "        volunteer_score = 0\n",
    "    elif volunteer >= 200:\n",
    "        volunteer_score = volunteer_max\n",
    "    else:\n",
    "        volunteer_score = volunteer / 200 * volunteer_max\n",
    "    \n",
    "    # 9. Score for work experience\n",
    "    #work_max = max_points_by_cat['work_experience']\n",
    "    #work = applicant['work_months']\n",
    "    \n",
    "    # 10. Calculate school-specific total max score\n",
    "    total_max_score = calculate_total_max_score(school_requirements, max_points_by_cat, weight_map)\n",
    "\n",
    "    # 11. Normalize total_score by total_max_score\n",
    "    if total_max_score > 0:\n",
    "        normalized_score = (total_score / total_max_score) * 100\n",
    "    else:\n",
    "        normalized_score = 0\n",
    "    \n",
    "    return {\n",
    "        \"score\": round(normalized_score, 2), \n",
    "        \"details\": details\n",
    "    }"
   ]
  },
  {
   "cell_type": "code",
   "execution_count": 99,
   "id": "63225178",
   "metadata": {},
   "outputs": [
    {
     "data": {
      "text/plain": [
       "{'score': 53.5,\n",
       " 'details': {'alumni': 0.0, 'residency': 1.42, 'sat': 15.46, 'gpa': 28.03}}"
      ]
     },
     "execution_count": 99,
     "metadata": {},
     "output_type": "execute_result"
    }
   ],
   "source": [
    "calculate_compatibility_score(applicant1, gatech_cds, max_points_by_cat)"
   ]
  },
  {
   "cell_type": "code",
   "execution_count": 100,
   "id": "b632e91c",
   "metadata": {},
   "outputs": [
    {
     "data": {
      "text/plain": [
       "{'score': 69.98,\n",
       " 'details': {'alumni': 0.0, 'residency': 8.19, 'sat': 20.61, 'gpa': 28.03}}"
      ]
     },
     "execution_count": 100,
     "metadata": {},
     "output_type": "execute_result"
    }
   ],
   "source": [
    "calculate_compatibility_score(applicant1, umn_cds, max_points_by_cat)"
   ]
  },
  {
   "cell_type": "code",
   "execution_count": 101,
   "id": "0eafaf15",
   "metadata": {},
   "outputs": [
    {
     "data": {
      "text/plain": [
       "{'score': 53.14,\n",
       " 'details': {'alumni': 0.0, 'residency': 1.12, 'sat': 15.46, 'gpa': 28.03}}"
      ]
     },
     "execution_count": 101,
     "metadata": {},
     "output_type": "execute_result"
    }
   ],
   "source": [
    "calculate_compatibility_score(applicant2, gatech_cds, max_points_by_cat)"
   ]
  },
  {
   "cell_type": "code",
   "execution_count": 102,
   "id": "fb1d2884",
   "metadata": {},
   "outputs": [
    {
     "data": {
      "text/plain": [
       "{'score': 70.39,\n",
       " 'details': {'alumni': 0.0, 'residency': 8.53, 'sat': 20.61, 'gpa': 28.03}}"
      ]
     },
     "execution_count": 102,
     "metadata": {},
     "output_type": "execute_result"
    }
   ],
   "source": [
    "calculate_compatibility_score(applicant2, umn_cds, max_points_by_cat)"
   ]
  },
  {
   "cell_type": "code",
   "execution_count": 103,
   "id": "f34172fd",
   "metadata": {},
   "outputs": [
    {
     "data": {
      "text/plain": [
       "{'score': 48.8,\n",
       " 'details': {'alumni': 0.0, 'residency': 1.12, 'sat': 10.3, 'gpa': 29.54}}"
      ]
     },
     "execution_count": 103,
     "metadata": {},
     "output_type": "execute_result"
    }
   ],
   "source": [
    "calculate_compatibility_score(applicant3, gatech_cds, max_points_by_cat)"
   ]
  },
  {
   "cell_type": "code",
   "execution_count": 104,
   "id": "d6a063e3",
   "metadata": {},
   "outputs": [
    {
     "data": {
      "text/plain": [
       "{'score': 72.26,\n",
       " 'details': {'alumni': 0.0, 'residency': 8.53, 'sat': 20.61, 'gpa': 29.54}}"
      ]
     },
     "execution_count": 104,
     "metadata": {},
     "output_type": "execute_result"
    }
   ],
   "source": [
    "calculate_compatibility_score(applicant3, umn_cds, max_points_by_cat)"
   ]
  },
  {
   "cell_type": "code",
   "execution_count": 105,
   "id": "fbe6c153",
   "metadata": {},
   "outputs": [
    {
     "data": {
      "text/plain": [
       "{'score': 26.6,\n",
       " 'details': {'alumni': 0.0, 'residency': 1.12, 'sat': 0.0, 'gpa': 21.21}}"
      ]
     },
     "execution_count": 105,
     "metadata": {},
     "output_type": "execute_result"
    }
   ],
   "source": [
    "calculate_compatibility_score(applicant4, gatech_cds, max_points_by_cat)"
   ]
  },
  {
   "cell_type": "code",
   "execution_count": 106,
   "id": "0b94cf02",
   "metadata": {},
   "outputs": [
    {
     "data": {
      "text/plain": [
       "{'score': 36.62,\n",
       " 'details': {'alumni': 0.0, 'residency': 8.53, 'sat': 0.0, 'gpa': 21.21}}"
      ]
     },
     "execution_count": 106,
     "metadata": {},
     "output_type": "execute_result"
    }
   ],
   "source": [
    "calculate_compatibility_score(applicant4, umn_cds, max_points_by_cat)"
   ]
  },
  {
   "cell_type": "code",
   "execution_count": null,
   "id": "f1454568",
   "metadata": {},
   "outputs": [],
   "source": []
  }
 ],
 "metadata": {
  "kernelspec": {
   "display_name": "base",
   "language": "python",
   "name": "python3"
  },
  "language_info": {
   "codemirror_mode": {
    "name": "ipython",
    "version": 3
   },
   "file_extension": ".py",
   "mimetype": "text/x-python",
   "name": "python",
   "nbconvert_exporter": "python",
   "pygments_lexer": "ipython3",
   "version": "3.11.5"
  }
 },
 "nbformat": 4,
 "nbformat_minor": 5
}
