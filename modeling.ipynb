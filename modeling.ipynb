{
 "cells": [
  {
   "cell_type": "markdown",
   "id": "867fe259",
   "metadata": {},
   "source": [
    "### Applicants Sample"
   ]
  },
  {
   "cell_type": "code",
   "execution_count": 51,
   "id": "42291858",
   "metadata": {},
   "outputs": [],
   "source": [
    "applicant1 = {\n",
    "    \"userId\" : \"4b34dfc4-fb21-4a9b-886a-126e1428a744\",\n",
    "    \"high_school_completion\": 1,\n",
    "    \"general_college_requirement\": \n",
    "        {\n",
    "            \"english\": 4,\n",
    "            \"math\": 4,\n",
    "            \"science\": 4,\n",
    "            \"scienceLab\": 2,\n",
    "            \"language\": 2,\n",
    "            \"social\": 3,\n",
    "            \"arts\": 4,\n",
    "            \"history\": 0,\n",
    "            \"electives\": 0,\n",
    "            \"cs\": 0\n",
    "        },\n",
    "    \"alumni\": 1,\n",
    "    \"first\": 0,\n",
    "    \"alumni_school_names\": [\"Georgia Tech\", \"NYU\", \"University of Minnesota\", \"U Georgia\"],\n",
    "    \"residency\": \"domestic\",\n",
    "    \"state\": \"MN\",\n",
    "    \"country\": \"\",\n",
    "    \"sat\": 1520,\n",
    "    \"act\": 0,\n",
    "    \"gpa\": 3.7,\n",
    "    \"volunteering_hours\": 150,\n",
    "    \"english_test_type\": \"\", \n",
    "    \"english_test_score\": 0\n",
    "}"
   ]
  },
  {
   "cell_type": "code",
   "execution_count": 3,
   "id": "8881a401",
   "metadata": {},
   "outputs": [],
   "source": [
    "applicant2 = {\n",
    "    \"userId\" : \"4b34dfc4-fb21-4a9b-886a-126e1428a743\",\n",
    "    \"high_school_completion\": 1,\n",
    "    \"general_college_requirement\": \n",
    "        {\n",
    "            \"english\": 4,\n",
    "            \"math\": 4,\n",
    "            \"science\": 4,\n",
    "            \"scienceLab\": 2,\n",
    "            \"language\": 2,\n",
    "            \"social\": 3,\n",
    "            \"arts\": 4,\n",
    "            \"history\": 0,\n",
    "            \"electives\": 0,\n",
    "            \"cs\": 0\n",
    "        },\n",
    "    \"alumni\": 0,\n",
    "    \"first\": 0,\n",
    "    \"alumni_school_names\": [],\n",
    "    \"residency\": \"international\",\n",
    "    \"state\": \"\",\n",
    "    \"country\": \"Korea, Republic of\",\n",
    "    \"sat\": 1520,\n",
    "    \"act\": 0,\n",
    "    \"gpa\": 3.7,\n",
    "    \"volunteering_hours\": 150,\n",
    "    \"english_test_type\": \"TOEFL\", \n",
    "    \"english_test_score\": 110\n",
    "}"
   ]
  },
  {
   "cell_type": "code",
   "execution_count": 52,
   "id": "cf401c12",
   "metadata": {},
   "outputs": [],
   "source": [
    "applicant3 = {\n",
    "    \"userId\" : \"4b34dfc4-fb21-4a9b-886a-126e1428a742\",\n",
    "    \"high_school_completion\": 0,\n",
    "    \"general_college_requirement\":         \n",
    "        {\n",
    "            \"english\": 4,\n",
    "            \"math\": 4,\n",
    "            \"science\": 4,\n",
    "            \"scienceLab\": 2,\n",
    "            \"language\": 2,\n",
    "            \"social\": 3,\n",
    "            \"arts\": 4,\n",
    "            \"history\": 0,\n",
    "            \"electives\": 0,\n",
    "            \"cs\": 0\n",
    "        },\n",
    "    \"alumni\": 0,\n",
    "    \"first\": 0,\n",
    "    \"alumni_school_names\": [],\n",
    "    \"residency\": \"international\",\n",
    "    \"state\": \"\",\n",
    "    \"country\": \"Korea, Republic of\",\n",
    "    \"sat\": 1480,\n",
    "    \"act\": 0,\n",
    "    \"gpa\": 3.9,\n",
    "    \"volunteering_hours\": 150,\n",
    "    \"english_test_type\": \"TOEFL\", \n",
    "    \"english_test_score\": 100\n",
    "}"
   ]
  },
  {
   "cell_type": "code",
   "execution_count": 5,
   "id": "07aa1116",
   "metadata": {},
   "outputs": [],
   "source": [
    "applicant4 = {\n",
    "    \"userId\" : \"4b34dfc4-fb21-4a9b-886a-126e1428a741\",\n",
    "    \"high_school_completion\": 1,\n",
    "    \"general_college_requirement\": \n",
    "        {\n",
    "            \"english\": 4,\n",
    "            \"math\": 4,\n",
    "            \"science\": 4,\n",
    "            \"scienceLab\": 2,\n",
    "            \"language\": 2,\n",
    "            \"social\": 3,\n",
    "            \"arts\": 4,\n",
    "            \"history\": 0,\n",
    "            \"electives\": 0,\n",
    "            \"cs\": 0\n",
    "        },\n",
    "    \"alumni\": 0,\n",
    "    \"first\": 0,\n",
    "    \"alumni_school_names\": [],\n",
    "    \"residency\": \"international\",\n",
    "    \"state\": \"\",\n",
    "    \"country\": \"Korea, Republic of\",\n",
    "    \"sat\": 1300,\n",
    "    \"act\": 0,\n",
    "    \"gpa\": 2.8,\n",
    "    \"volunteering_hours\": 150,\n",
    "    \"english_test_type\": \"TOEFL\", \n",
    "    \"english_test_score\": 100\n",
    "}"
   ]
  },
  {
   "cell_type": "markdown",
   "id": "cf07ff57",
   "metadata": {},
   "source": [
    "### Crawling"
   ]
  },
  {
   "cell_type": "code",
   "execution_count": 1,
   "id": "745e9ba5",
   "metadata": {},
   "outputs": [],
   "source": [
    "import os\n",
    "import pdfplumber\n",
    "import re\n",
    "\n",
    "import pandas as pd\n",
    "\n",
    "import openpyxl"
   ]
  },
  {
   "cell_type": "code",
   "execution_count": 7,
   "id": "5302b8df",
   "metadata": {},
   "outputs": [],
   "source": [
    "gatech_file_path = os.path.join('pdf', 'gatech_2425.pdf')\n",
    "cwru_file_path = os.path.join('pdf_test2', 'cwru_2425.pdf')"
   ]
  },
  {
   "cell_type": "code",
   "execution_count": 2,
   "id": "f13da305",
   "metadata": {},
   "outputs": [],
   "source": [
    "# Remove None and empty string from row\n",
    "def clean_row(row):\n",
    "    return [cell for cell in row if cell not in [None, '']]"
   ]
  },
  {
   "cell_type": "code",
   "execution_count": 3,
   "id": "9719df68",
   "metadata": {},
   "outputs": [],
   "source": [
    "# Extract only numbers from the cell\n",
    "def clean_number(cell):\n",
    "    cell = re.sub(r'[^\\d.]', '', str(cell)) # Remove all non-numeric characters\n",
    "    try:\n",
    "        return float(cell)\n",
    "    except:\n",
    "        return 0"
   ]
  },
  {
   "cell_type": "code",
   "execution_count": 4,
   "id": "a30f6a70",
   "metadata": {},
   "outputs": [],
   "source": [
    "# Extract text from a section like \"C{#}.\" up to before \"C{#+1}.\"\n",
    "\n",
    "def extract_section_by_label(file_path, section_label):\n",
    "    next_label = \"c\" + str(int(section_label[1:]) + 1)\n",
    "\n",
    "    full_text = \"\"\n",
    "    with pdfplumber.open(file_path) as pdf:\n",
    "        for page in pdf.pages:\n",
    "            text = page.extract_text()\n",
    "            if text:\n",
    "                full_text += text.lower()\n",
    "\n",
    "    # Match exact line starting with \"c{#}.\"\n",
    "    # ^ = matches the beginning of a line\n",
    "    start_match = re.search(rf\"({section_label.lower()}[\\. ])\", full_text)\n",
    "    if not start_match:\n",
    "        print(f\"Section {section_label.upper()} not found.\")\n",
    "        return\n",
    "    start_idx = start_match.start()\n",
    "\n",
    "    # Look for the start of the next section\n",
    "    next_match = re.search(rf\"({next_label}[\\. ])\", full_text[start_idx:])\n",
    "    end_idx = start_idx + next_match.start() if next_match else None # If we don't find the next label, go to the end of the document\n",
    "\n",
    "    section_text = full_text[start_idx:end_idx]\n",
    "\n",
    "    return section_text"
   ]
  },
  {
   "cell_type": "markdown",
   "id": "5d3d3aae",
   "metadata": {},
   "source": [
    "##### Residency"
   ]
  },
  {
   "cell_type": "code",
   "execution_count": 5,
   "id": "e7d2d8a7",
   "metadata": {},
   "outputs": [],
   "source": [
    "def extract_residency_data(file_path):\n",
    "    \n",
    "    result = {\n",
    "        'applicants': {'in-state': 0, 'out-of-state': 0, 'international': 0, 'others': 0},\n",
    "        'admitted': {'in-state': 0, 'out-of-state': 0, 'international': 0, 'others': 0}\n",
    "    }\n",
    "\n",
    "    # Define keywords to identify residency-related and first-year-related tables\n",
    "    residency_keywords = ['in-state', 'out-of-state', 'international']\n",
    "    first_keywords = ['first-time', 'first-year']\n",
    "\n",
    "    with pdfplumber.open(file_path) as pdf:\n",
    "        for page in pdf.pages:\n",
    "            tables = page.extract_tables()\n",
    "\n",
    "            for table in tables:\n",
    "                \n",
    "                # Check if this table is relevant\n",
    "                table_str = ' '.join(str(cell).lower() for row in table for cell in row if cell)\n",
    "                if not (any(keyword in table_str for keyword in residency_keywords) and all(keyword in table_str for keyword in first_keywords)):\n",
    "                    continue\n",
    "                \n",
    "                # Extract header row\n",
    "                header_row = clean_row([str(cell or '').lower() for cell in table[0]])\n",
    "\n",
    "                # Find index of each column\n",
    "                col_idx = {'in-state': -1, 'out-of-state': -1, 'international': -1, 'others': -1}\n",
    "                for idx, col in enumerate(header_row):\n",
    "                    if 'in-' in col:\n",
    "                        col_idx['in-state'] = idx\n",
    "                    elif 'out-' in col:\n",
    "                        col_idx['out-of-state'] = idx\n",
    "                    elif 'inter' in col:\n",
    "                        col_idx['international'] = idx\n",
    "                    elif 'unk' in col:\n",
    "                        col_idx['others'] = idx\n",
    "\n",
    "                # Loop through data rows\n",
    "                for row in table[1:]:  # skip header\n",
    "                    row = clean_row(row)\n",
    "                    row_str = ' '.join(str(cell or '').lower() for cell in row)\n",
    "\n",
    "                   # Identify whether this row is about applicants or admitted students\n",
    "                    if 'applied' in row_str:\n",
    "                        target = 'applicants'\n",
    "                    elif 'admitted' in row_str:\n",
    "                        target = 'admitted'\n",
    "                    else:\n",
    "                        continue # Skip if not relevant\n",
    "                    \n",
    "                    # Add residency-specific count\n",
    "                    if col_idx['in-state'] != -1 and col_idx['in-state'] < len(row):\n",
    "                        result[target]['in-state'] += clean_number(row[col_idx['in-state']])\n",
    "                    if col_idx['out-of-state'] != -1 and col_idx['out-of-state'] < len(row):\n",
    "                        result[target]['out-of-state'] += clean_number(row[col_idx['out-of-state']])\n",
    "                    if col_idx['international'] != -1 and col_idx['international'] < len(row):\n",
    "                        result[target]['international'] += clean_number(row[col_idx['international']])\n",
    "                    if col_idx['others'] != -1 and col_idx['others'] < len(row):\n",
    "                        result[target]['others'] += clean_number(row[col_idx['others']])\n",
    "\n",
    "    return result\n"
   ]
  },
  {
   "cell_type": "code",
   "execution_count": 11,
   "id": "3cf59995",
   "metadata": {},
   "outputs": [
    {
     "data": {
      "text/plain": [
       "{'applicants': {'in-state': 10674.0,\n",
       "  'out-of-state': 38320.0,\n",
       "  'international': 10795.0,\n",
       "  'others': 0.0},\n",
       " 'admitted': {'in-state': 3536.0,\n",
       "  'out-of-state': 3992.0,\n",
       "  'international': 885.0,\n",
       "  'others': 0.0}}"
      ]
     },
     "execution_count": 11,
     "metadata": {},
     "output_type": "execute_result"
    }
   ],
   "source": [
    "extract_residency_data(gatech_file_path)"
   ]
  },
  {
   "cell_type": "markdown",
   "id": "662dee14",
   "metadata": {},
   "source": [
    "##### High School Completion Requirement"
   ]
  },
  {
   "cell_type": "code",
   "execution_count": 6,
   "id": "9aa9fb81",
   "metadata": {},
   "outputs": [],
   "source": [
    "def extract_highschool_requirement(file_path):\n",
    "\n",
    "    result = {\n",
    "        'high school diploma required': 0,\n",
    "        'GED accepted': 0\n",
    "    }\n",
    "\n",
    "    # Define exact phrases expected in each case\n",
    "    diploma_and_ged = \"high school diploma is required and ged is accepted\"\n",
    "    diploma_only = \"high school diploma is required and ged is not accepted\"\n",
    "    no_diploma_needed = \"high school diploma or equivalent is not required\"\n",
    "    \n",
    "    # Define marks\n",
    "    marks = ['x', '☒', '✓', '✔', '4']\n",
    "\n",
    "    # Extract only the C3 section using helper function\n",
    "    section_text = extract_section_by_label(file_path, \"C3\")\n",
    "    if not section_text:\n",
    "        return result  # Return default if section not found\n",
    "\n",
    "    section_text = section_text.lower()\n",
    "    found_checked_option = False # Will be set to True if a checkbox is detected\n",
    "\n",
    "    # Go through each line to find checked options\n",
    "    for line in section_text.split('\\n'):\n",
    "        # '4' is included because some pdf files incorrectly render checkmarks as '4'\n",
    "        if diploma_and_ged in line and any(mark in line for mark in marks):\n",
    "            result['high school diploma required'] = 1\n",
    "            result['GED accepted'] = 1\n",
    "            found_checked_option = True\n",
    "            break\n",
    "        elif diploma_only in line and any(mark in line for mark in marks):\n",
    "            result['high school diploma required'] = 1\n",
    "            result['GED accepted'] = 0\n",
    "            found_checked_option = True\n",
    "            break\n",
    "        elif no_diploma_needed in line and any(mark in line for mark in marks):\n",
    "            result['high school diploma required'] = 0\n",
    "            result['GED accepted'] = 0\n",
    "            found_checked_option = True\n",
    "            break\n",
    "\n",
    "    # If no checkboxes were found, use a fallback approach based on keyword presence\n",
    "    if not found_checked_option:\n",
    "        if diploma_and_ged in section_text:\n",
    "            result['high school diploma required'] = 1\n",
    "            result['GED accepted'] = 1\n",
    "        elif diploma_only in section_text:\n",
    "            result['high school diploma required'] = 1\n",
    "            result['GED accepted'] = 0\n",
    "        elif no_diploma_needed in section_text:\n",
    "            result['high school diploma required'] = 0\n",
    "            result['GED accepted'] = 0\n",
    "\n",
    "    return result"
   ]
  },
  {
   "cell_type": "code",
   "execution_count": 16,
   "id": "27ed2ae9",
   "metadata": {},
   "outputs": [
    {
     "data": {
      "text/plain": [
       "{'high school diploma required': 1, 'GED accepted': 0}"
      ]
     },
     "execution_count": 16,
     "metadata": {},
     "output_type": "execute_result"
    }
   ],
   "source": [
    "extract_highschool_requirement(gatech_file_path)"
   ]
  },
  {
   "cell_type": "markdown",
   "id": "81483cb7",
   "metadata": {},
   "source": [
    "##### State"
   ]
  },
  {
   "cell_type": "code",
   "execution_count": 7,
   "id": "efdc7136",
   "metadata": {},
   "outputs": [],
   "source": [
    "def extract_state(file_path):\n",
    "    state_name_to_abbr = {\n",
    "        'Alabama': 'AL', 'Alaska': 'AK', 'Arizona': 'AZ', 'Arkansas': 'AR',\n",
    "        'California': 'CA', 'Colorado': 'CO', 'Connecticut': 'CT', 'Delaware': 'DE',\n",
    "        'Florida': 'FL', 'Georgia': 'GA', 'Hawaii': 'HI', 'Idaho': 'ID',\n",
    "        'Illinois': 'IL', 'Indiana': 'IN', 'Iowa': 'IA', 'Kansas': 'KS',\n",
    "        'Kentucky': 'KY', 'Louisiana': 'LA', 'Maine': 'ME', 'Maryland': 'MD',\n",
    "        'Massachusetts': 'MA', 'Michigan': 'MI', 'Minnesota': 'MN',\n",
    "        'Mississippi': 'MS', 'Missouri': 'MO', 'Montana': 'MT', 'Nebraska': 'NE',\n",
    "        'Nevada': 'NV', 'New Hampshire': 'NH', 'New Jersey': 'NJ',\n",
    "        'New Mexico': 'NM', 'New York': 'NY', 'North Carolina': 'NC',\n",
    "        'North Dakota': 'ND', 'Ohio': 'OH', 'Oklahoma': 'OK', 'Oregon': 'OR',\n",
    "        'Pennsylvania': 'PA', 'Rhode Island': 'RI', 'South Carolina': 'SC',\n",
    "        'South Dakota': 'SD', 'Tennessee': 'TN', 'Texas': 'TX', 'Utah': 'UT',\n",
    "        'Vermont': 'VT', 'Virginia': 'VA', 'Washington': 'WA',\n",
    "        'West Virginia': 'WV', 'Wisconsin': 'WI', 'Wyoming': 'WY'\n",
    "    }\n",
    "\n",
    "    section_text = extract_section_by_label(file_path, 'A1')\n",
    "    if not section_text:\n",
    "        return {\"State\": \"Unknown\"}\n",
    "\n",
    "    lines = section_text.lower().splitlines()[:20]\n",
    "\n",
    "    for line in lines:\n",
    "        if 'state' in line:\n",
    "            # Full state name\n",
    "            for state, abbr in state_name_to_abbr.items():\n",
    "                if state.lower() in line:\n",
    "                    return {\"State\": abbr}\n",
    "            # Abbreviation state name \n",
    "            for abbr in state_name_to_abbr.values():\n",
    "                if f' {abbr.lower()} ' in f' {line} ':\n",
    "                    return {\"State\": abbr}\n",
    "\n",
    "    return {\"State\": \"Unknown\"}"
   ]
  },
  {
   "cell_type": "code",
   "execution_count": 21,
   "id": "65ecdf42",
   "metadata": {},
   "outputs": [
    {
     "data": {
      "text/plain": [
       "{'State': 'GA'}"
      ]
     },
     "execution_count": 21,
     "metadata": {},
     "output_type": "execute_result"
    }
   ],
   "source": [
    "extract_state(gatech_file_path)"
   ]
  },
  {
   "cell_type": "markdown",
   "id": "20479a43",
   "metadata": {},
   "source": [
    "##### School Name"
   ]
  },
  {
   "cell_type": "code",
   "execution_count": 8,
   "id": "fefa43d5",
   "metadata": {},
   "outputs": [],
   "source": [
    "def extract_school_name(file_path):\n",
    "    text = extract_section_by_label(file_path, \"A1\")\n",
    "    lines = text.lower().splitlines()\n",
    "    for line in lines:\n",
    "        # Handle both \"name of college or university\" and \"name of college/university\" formats\n",
    "        match = re.match(r\"\\s*name of college\\s*(?:or|/)\\s*university[:\\s]+(.+)\", line, re.IGNORECASE)\n",
    "        if match:\n",
    "            return match.group(1).strip()\n",
    "    return None"
   ]
  },
  {
   "cell_type": "code",
   "execution_count": 26,
   "id": "70402bd3",
   "metadata": {},
   "outputs": [
    {
     "data": {
      "text/plain": [
       "'georgia institute of technology'"
      ]
     },
     "execution_count": 26,
     "metadata": {},
     "output_type": "execute_result"
    }
   ],
   "source": [
    "extract_school_name(gatech_file_path)"
   ]
  },
  {
   "cell_type": "markdown",
   "id": "517842ce",
   "metadata": {},
   "source": [
    "##### General College-Preparatory Program Requirement"
   ]
  },
  {
   "cell_type": "code",
   "execution_count": 9,
   "id": "8652dccd",
   "metadata": {},
   "outputs": [],
   "source": [
    "def extract_college_prep_requirement(file_path):\n",
    "    \n",
    "    result = {\n",
    "        'general college-preparatory program': \n",
    "            {\n",
    "                'required': 0,\n",
    "                'recommended': 0,\n",
    "                'neither required or recommended': 0\n",
    "            }\n",
    "        }\n",
    "\n",
    "    # Define key phrases to match\n",
    "    required = \"require\"\n",
    "    recommended = \"recommend\"\n",
    "    neither = \"neither require nor recommend\"\n",
    "    \n",
    "    # Define marks\n",
    "    marks = ['x', '☒', '✓', '✔', '4']\n",
    "\n",
    "    # Extract only the C4 section using helper function\n",
    "    section_text = extract_section_by_label(file_path, 'C4')\n",
    "    if not section_text:\n",
    "        return result # Return default if section not found\n",
    "    section_text = section_text.lower()\n",
    "    \n",
    "    found_checked_option = False # Will be set to True if a checkbox is detected\n",
    "\n",
    "    # Go through each line to find checked options\n",
    "    for line in section_text.split('\\n'):\n",
    "        \n",
    "        # Skip the question sectence\n",
    "        if line.startswith('c4'):\n",
    "            continue\n",
    "        \n",
    "        # '4' is included because some pdf files incorrectly render checkmarks as '4'\n",
    "        if neither in line and any(mark in line for mark in marks):\n",
    "            result['general college-preparatory program']['neither required or recommended'] = 1\n",
    "            found_checked_option = True\n",
    "            break\n",
    "        elif required in line and any(mark in line for mark in marks):\n",
    "            result['general college-preparatory program']['required'] = 1\n",
    "            found_checked_option = True\n",
    "            break\n",
    "        elif recommended in line and any(mark in line for mark in marks):\n",
    "            result['general college-preparatory program']['recommended'] = 1\n",
    "            found_checked_option = True\n",
    "            break\n",
    "\n",
    "    # If no checkboxes were found, use a fallback approach based on keyword presence\n",
    "    if not found_checked_option:\n",
    "        if \"neither require nor recommend\" in section_text:\n",
    "            result['general college-preparatory program']['neither required or recommended'] = 1\n",
    "        elif \"recommend\" in section_text:\n",
    "            result['general college-preparatory program']['recommended'] = 1\n",
    "        elif \"require\" in section_text:\n",
    "            result['general college-preparatory program']['required'] = 1\n",
    "\n",
    "    return result"
   ]
  },
  {
   "cell_type": "code",
   "execution_count": 31,
   "id": "097cbd6b",
   "metadata": {},
   "outputs": [
    {
     "data": {
      "text/plain": [
       "{'general college-preparatory program': {'required': 1,\n",
       "  'recommended': 0,\n",
       "  'neither required or recommended': 0}}"
      ]
     },
     "execution_count": 31,
     "metadata": {},
     "output_type": "execute_result"
    }
   ],
   "source": [
    "extract_college_prep_requirement(gatech_file_path)"
   ]
  },
  {
   "cell_type": "code",
   "execution_count": 10,
   "id": "fefbd4fe",
   "metadata": {},
   "outputs": [],
   "source": [
    "def extract_general_college_subjects(file_path):\n",
    "    import pdfplumber\n",
    "\n",
    "    result = {\n",
    "        \"english\": 0,\n",
    "        \"math\": 0,\n",
    "        \"science\": 0,\n",
    "        \"scienceLab\": 0,\n",
    "        \"language\": 0,\n",
    "        \"social\": 0,\n",
    "        \"history\": 0,\n",
    "        \"electives\": 0,\n",
    "        \"cs\": 0,\n",
    "        \"arts\": 0\n",
    "    }\n",
    "\n",
    "    # Keywords that commonly appear in the C5 subject distribution table\n",
    "    subject_keywords = [\"english\", \"math\", \"science\"]\n",
    "\n",
    "    with pdfplumber.open(file_path) as pdf:\n",
    "        for page in pdf.pages:\n",
    "            tables = page.extract_tables()\n",
    "            for table in tables:\n",
    "                if not table or len(table[0]) < 2:\n",
    "                    continue  # Skip empty or invalid tables\n",
    "\n",
    "                # Convert header cells to lowercase for comparison\n",
    "                headers = [cell.lower() if cell else \"\" for cell in table[0]]\n",
    "\n",
    "                # Check if table looks like a C5 table based on header content\n",
    "                header_match = \"distribution of high\" in headers[0] or \\\n",
    "                               (\"units required\" in headers[1] if len(headers) > 1 else False)\n",
    "\n",
    "                # nyu - Check if at least 3 subject-related keywords appear in row labels\n",
    "                match_count = 0\n",
    "                for row in table:\n",
    "                    if not row or len(row) < 1:\n",
    "                        continue\n",
    "                    label = row[0].lower().strip() if row[0] else \"\"\n",
    "                    if any(keyword in label for keyword in subject_keywords):\n",
    "                        match_count += 1\n",
    "                keyword_match = match_count >= 3\n",
    "\n",
    "                # Skip this table if neither condition is satisfied\n",
    "                if not (header_match or keyword_match):\n",
    "                    continue\n",
    "\n",
    "                # Parse the table rows: skip first row if headers are matched\n",
    "                for row in table[1:] if header_match else table:\n",
    "                    row = clean_row([cell.lower().strip() if cell else \"\" for cell in row])\n",
    "                    if not row or len(row) < 1:\n",
    "                        continue\n",
    "\n",
    "                    label = row[0]\n",
    "                    value = row[1] if len(row) > 1 else \"\"\n",
    "\n",
    "                    # Match labels to subjects and clean the numerical value\n",
    "                    if \"english\" in label:\n",
    "                        result[\"english\"] = clean_number(value)\n",
    "                    elif \"math\" in label:\n",
    "                        result[\"math\"] = clean_number(value)\n",
    "                    elif label == \"science\":\n",
    "                        result[\"science\"] = clean_number(value)\n",
    "                    elif \"lab\" in label:\n",
    "                        result[\"scienceLab\"] = clean_number(value)\n",
    "                    elif \"language\" in label:\n",
    "                        result[\"language\"] = clean_number(value)\n",
    "                    elif \"social studies\" in label:\n",
    "                        result[\"social\"] = clean_number(value)\n",
    "                    elif \"history\" in label:\n",
    "                        result[\"history\"] = clean_number(value)\n",
    "                    elif \"academic electives\" in label:\n",
    "                        result[\"electives\"] = clean_number(value)\n",
    "                    elif \"computer science\" in label:\n",
    "                        result[\"cs\"] = clean_number(value)\n",
    "                    elif \"arts\" in label:\n",
    "                        result[\"arts\"] = clean_number(value)\n",
    "\n",
    "                # Return immediately after finding and parsing the correct C5 table\n",
    "                return result\n",
    "\n",
    "    return result  # Return default if no matching table was found\n"
   ]
  },
  {
   "cell_type": "code",
   "execution_count": 18,
   "id": "ab812b5f",
   "metadata": {},
   "outputs": [
    {
     "data": {
      "text/plain": [
       "{'english': 4.0,\n",
       " 'math': 4.0,\n",
       " 'science': 4.0,\n",
       " 'scienceLab': 2.0,\n",
       " 'language': 2.0,\n",
       " 'social': 3.0,\n",
       " 'history': 0,\n",
       " 'electives': 0,\n",
       " 'cs': 0,\n",
       " 'arts': 0}"
      ]
     },
     "execution_count": 18,
     "metadata": {},
     "output_type": "execute_result"
    }
   ],
   "source": [
    "extract_general_college_subjects(gatech_file_path)"
   ]
  },
  {
   "cell_type": "markdown",
   "id": "3968b5f2",
   "metadata": {},
   "source": [
    "### Preprocessing"
   ]
  },
  {
   "cell_type": "code",
   "execution_count": 11,
   "id": "ae0f79d5",
   "metadata": {},
   "outputs": [],
   "source": [
    "def calculate_acceptance_rates(data):\n",
    "    applicants = data['applicants']\n",
    "    admitted = data['admitted']\n",
    "    rates = {}\n",
    "    for category in applicants:\n",
    "        applied = applicants[category]\n",
    "        accepted = admitted.get(category, 0)\n",
    "        if applied > 0:\n",
    "            rates[category] = accepted / applied\n",
    "        else:\n",
    "            rates[category] = None \n",
    "    return rates"
   ]
  },
  {
   "cell_type": "code",
   "execution_count": 41,
   "id": "fee924da",
   "metadata": {},
   "outputs": [
    {
     "data": {
      "text/plain": [
       "{'in-state': 0.3312722503278996,\n",
       " 'out-of-state': 0.10417536534446764,\n",
       " 'international': 0.08198239925891616,\n",
       " 'others': None}"
      ]
     },
     "execution_count": 41,
     "metadata": {},
     "output_type": "execute_result"
    }
   ],
   "source": [
    "calculate_acceptance_rates(extract_residency_data(gatech_file_path))"
   ]
  },
  {
   "cell_type": "markdown",
   "id": "2dfee778",
   "metadata": {},
   "source": [
    "##### SAT or ACT"
   ]
  },
  {
   "cell_type": "code",
   "execution_count": 12,
   "id": "552e4457",
   "metadata": {},
   "outputs": [],
   "source": [
    "def is_marked(cell, marks=['x', '☑', '☒', '✓', '✔', '4']):\n",
    "    if not cell:\n",
    "        return False\n",
    "    cell_str = str(cell).strip().lower()\n",
    "    return any(mark in cell_str for mark in marks)"
   ]
  },
  {
   "cell_type": "code",
   "execution_count": 13,
   "id": "7896d2ca",
   "metadata": {},
   "outputs": [],
   "source": [
    "def classify_requirement(text):\n",
    "    text = text.lower().replace('\\n', ' ')\n",
    "    if \"required to be considered\" in text:\n",
    "        return \"Required\"\n",
    "    elif \"required for some\" in text:\n",
    "        return \"Required for some\"\n",
    "    elif \"recommended\" in text:\n",
    "        return \"Recommended\"\n",
    "    elif \"not required\" in text:\n",
    "        return \"Optional\"\n",
    "    elif \"not considered\" in text:\n",
    "        return \"Not considered\"\n",
    "    return \"Unknown\"\n",
    "\n",
    "# Nyu case\n",
    "def extract_requirement_from_text_lines(text_lines, keyword):\n",
    "    for i, line in enumerate(text_lines):\n",
    "        if keyword.lower() in line.lower():\n",
    "            if i + 1 < len(text_lines):\n",
    "                next_line = text_lines[i + 1].strip()\n",
    "                return classify_requirement(next_line)\n",
    "    return \"Unknown\"\n",
    "\n",
    "# Nyu case\n",
    "def extract_from_text(pdf):\n",
    "    labels = {\n",
    "        \"SAT or ACT\": \"SAT and/or ACT\",\n",
    "        \"ACT Only\": \"ACT Only\",\n",
    "        \"SAT Only\": \"SAT Only\"\n",
    "    }\n",
    "    result = {f\"{label} Requirement\": \"Unknown\" for label in labels}\n",
    "\n",
    "    full_text = \"\"\n",
    "    for page in pdf.pages:\n",
    "        text = page.extract_text()\n",
    "        if text:\n",
    "            full_text += \"\\n\" + text\n",
    "\n",
    "    lines = full_text.split(\"\\n\")\n",
    "\n",
    "    for label, keyword in labels.items():\n",
    "        result[f\"{label} Requirement\"] = extract_requirement_from_text_lines(lines, keyword)\n",
    "\n",
    "    return result\n",
    "\n",
    "# Gatech, Umn case\n",
    "def extract_from_table(pdf):\n",
    "    labels = [\"SAT or ACT\", \"ACT Only\", \"SAT Only\"]\n",
    "    result = {f\"{label} Requirement\": \"Unknown\" for label in labels}\n",
    "\n",
    "    for page in pdf.pages:\n",
    "        tables = page.extract_tables()\n",
    "        for table in tables:\n",
    "            if not table or len(table) < 2:\n",
    "                continue\n",
    "\n",
    "            table_str = ' '.join(str(cell).lower() for row in table for cell in row if cell)\n",
    "            if \"sat or act\" not in table_str:\n",
    "                continue\n",
    "\n",
    "            headers = [str(cell).strip().lower() if cell else \"\" for cell in table[0]]\n",
    "\n",
    "            for row in table[1:]:\n",
    "                row_cells = [str(cell).strip().lower() if cell else \"\" for cell in row]\n",
    "                for label in labels:\n",
    "                    if label.lower() in row_cells[0]:\n",
    "                        for i in range(1, len(row)):\n",
    "                            if i < len(headers) and is_marked(row[i]):\n",
    "                                category = classify_requirement(headers[i])\n",
    "                                if category:\n",
    "                                    result[f\"{label} Requirement\"] = category\n",
    "                                    break\n",
    "    return result\n",
    "\n",
    "def extract_sat_act_required(file_path):\n",
    "    with pdfplumber.open(file_path) as pdf:\n",
    "        table_result = extract_from_table(pdf)\n",
    "        if all(value == \"Unknown\" for value in table_result.values()):\n",
    "            return extract_from_text(pdf)\n",
    "        return table_result"
   ]
  },
  {
   "cell_type": "code",
   "execution_count": 47,
   "id": "103262bb",
   "metadata": {},
   "outputs": [
    {
     "data": {
      "text/plain": [
       "{'SAT or ACT Requirement': 'Required',\n",
       " 'ACT Only Requirement': 'Unknown',\n",
       " 'SAT Only Requirement': 'Unknown'}"
      ]
     },
     "execution_count": 47,
     "metadata": {},
     "output_type": "execute_result"
    }
   ],
   "source": [
    "extract_sat_act_required(gatech_file_path)"
   ]
  },
  {
   "cell_type": "code",
   "execution_count": 14,
   "id": "36169f81",
   "metadata": {},
   "outputs": [],
   "source": [
    "def extract_sat_act_scores(file_path):\n",
    "    regex_map = {\n",
    "        \"SAT Composite\": r\"sat.*composite\",\n",
    "        \"SAT EBRW\": r\"sat.*(evidence|ebrw|writing)\",\n",
    "        \"SAT Math\": r\"sat.*math\",\n",
    "        \"ACT Composite\": r\"act.*composite\",\n",
    "        \"ACT Math\": r\"act.*math\",\n",
    "        \"ACT English\": r\"act.*english\",\n",
    "        \"ACT Writing\": r\"act.*writing\",\n",
    "        \"ACT Science\": r\"act.*science\",\n",
    "        \"ACT Reading\": r\"act.*reading\"\n",
    "    }\n",
    "\n",
    "    score_data = {label: {'25th': None, '50th': None, '75th': None} for label in regex_map}\n",
    "\n",
    "    with pdfplumber.open(file_path) as pdf:\n",
    "        for page in pdf.pages:\n",
    "            tables = page.extract_tables()\n",
    "            text = page.extract_text() or \"\"\n",
    "\n",
    "            act_writing_present = \"act writing\" in text.lower()\n",
    "\n",
    "            for table in tables:\n",
    "                 for row in table:\n",
    "                    cleaned_row = [str(cell).lower().strip() if cell else \"\" for cell in row]\n",
    "                    row_label = cleaned_row[0]\n",
    "\n",
    "                    matched_label = None\n",
    "                    for label, pattern in regex_map.items():\n",
    "                        if re.search(pattern, row_label):\n",
    "                            matched_label = label\n",
    "                            break\n",
    "\n",
    "                    if not matched_label and re.fullmatch(r\"writing\", row_label):\n",
    "                        matched_label = \"SAT EBRW\"\n",
    "\n",
    "                    if matched_label:\n",
    "                        numeric_values = [cell for cell in cleaned_row[1:] if cell.replace('.', '', 1).isdigit()]\n",
    "                        for i, key in enumerate(['25th', '50th', '75th']):\n",
    "                            if i < len(numeric_values):\n",
    "                                score_data[matched_label][key] = numeric_values[i]\n",
    "\n",
    "    return score_data"
   ]
  },
  {
   "cell_type": "code",
   "execution_count": 52,
   "id": "c7433dd0",
   "metadata": {},
   "outputs": [
    {
     "data": {
      "text/plain": [
       "{'SAT Composite': {'25th': '1370', '50th': '1460', '75th': '1530'},\n",
       " 'SAT EBRW': {'25th': '680', '50th': '720', '75th': '750'},\n",
       " 'SAT Math': {'25th': '690', '50th': '760', '75th': '790'},\n",
       " 'ACT Composite': {'25th': '30', '50th': '33', '75th': '34'},\n",
       " 'ACT Math': {'25th': '29', '50th': '32', '75th': '35'},\n",
       " 'ACT English': {'25th': '31', '50th': '34', '75th': '35'},\n",
       " 'ACT Writing': {'25th': '8', '50th': '8', '75th': '9'},\n",
       " 'ACT Science': {'25th': '29', '50th': '33', '75th': '35'},\n",
       " 'ACT Reading': {'25th': '31', '50th': '34', '75th': '35'}}"
      ]
     },
     "execution_count": 52,
     "metadata": {},
     "output_type": "execute_result"
    }
   ],
   "source": [
    "extract_sat_act_scores(gatech_file_path)"
   ]
  },
  {
   "cell_type": "markdown",
   "id": "1265df2e",
   "metadata": {},
   "source": [
    "##### Importance"
   ]
  },
  {
   "cell_type": "code",
   "execution_count": 15,
   "id": "4bbd251f",
   "metadata": {},
   "outputs": [],
   "source": [
    "def extract_relative_importance(file_path):\n",
    "    importance_levels = [\"very important\", \"important\", \"considered\", \"not considered\"]\n",
    "    marks = ['x', '☒', '✓', '✔', '4']\n",
    "\n",
    "    all_factors = [\n",
    "        \"rigor of secondary school record\",\n",
    "        \"class rank\",\n",
    "        \"academic grade point average (gpa)\",\n",
    "        \"recommendations\",\n",
    "        \"standardized test scores\",\n",
    "        \"application essay\",\n",
    "        \"interview\",\n",
    "        \"extracurricular activities\",\n",
    "        \"talent/ability\",\n",
    "        \"character/personal qualities\",\n",
    "        \"first generation\",\n",
    "        \"alumni/ae relation\",\n",
    "        \"geographical residence\",\n",
    "        \"state residency\",\n",
    "        \"religious affiliation/commitment\",\n",
    "        \"volunteer work\",\n",
    "        \"work experience\",\n",
    "        \"level of applicant’s interest\"\n",
    "    ]\n",
    "\n",
    "    alias_map = {\n",
    "        \"academic gpa\": \"academic grade point average (gpa)\",\n",
    "        \"recommendation\": \"recommendations\",\n",
    "        \"recommendation(s)\": \"recommendations\",\n",
    "        \"level of applicant's interest\": \"level of applicant’s interest\"\n",
    "    }\n",
    "\n",
    "    def normalize_factor(name):\n",
    "        key = name.lower().replace(\"’\", \"'\").strip()\n",
    "        return alias_map.get(key, key)\n",
    "\n",
    "    result = {factor: \"unknown\" for factor in all_factors}\n",
    "    found_table = False\n",
    "\n",
    "    with pdfplumber.open(file_path) as pdf:\n",
    "        for page in pdf.pages:\n",
    "            tables = page.extract_tables()\n",
    "            for table in tables:\n",
    "                if not table or len(table) < 2:\n",
    "                    continue\n",
    "\n",
    "                headers = [str(cell).strip().lower() if cell else \"\" for cell in table[0]]\n",
    "                if not all(level in headers for level in importance_levels):\n",
    "                    continue\n",
    "\n",
    "                found_table = True\n",
    "\n",
    "                for row in table[1:]:\n",
    "                    row = [str(cell).strip().replace('\\n', ' ').lower() if cell else \"\" for cell in row]\n",
    "                    if not row or row[0] in [\"academic\", \"nonacademic\"]:\n",
    "                        continue\n",
    "\n",
    "                    raw_factor = row[0]\n",
    "                    factor = normalize_factor(raw_factor)\n",
    "                    importance = \"unknown\"\n",
    "                    for i in range(1, min(len(row), len(headers))):\n",
    "                        if any(mark in row[i] for mark in marks):\n",
    "                            importance = headers[i]\n",
    "                            break\n",
    "\n",
    "                    if factor in result:\n",
    "                        result[factor] = importance\n",
    "\n",
    "            if found_table:\n",
    "                break\n",
    "\n",
    "    if not found_table:\n",
    "        section_text = extract_section_by_label(file_path, \"C7\")\n",
    "        if not section_text:\n",
    "            return result\n",
    "\n",
    "        lines = section_text.lower().splitlines()[:35]\n",
    "        importance_map = {0: \"very important\", 1: \"important\", 2: \"considered\", 3: \"not considered\"}\n",
    "\n",
    "        for line in lines:\n",
    "            line = line.replace(\"'\", \"’\")\n",
    "            tokens = line.split()\n",
    "            mark_index = None\n",
    "            for idx, token in enumerate(tokens[-4:]):\n",
    "                if token in marks:\n",
    "                    mark_index = idx\n",
    "                    break\n",
    "            if mark_index is not None:\n",
    "                factor_tokens = tokens[:-4]\n",
    "                factor = normalize_factor(\" \".join(factor_tokens))\n",
    "                importance = importance_map.get(mark_index, \"unknown\")\n",
    "                if factor in result:\n",
    "                    result[factor] = importance\n",
    "            else:\n",
    "                for factor in all_factors:\n",
    "                    factor_key = normalize_factor(factor)\n",
    "                    if factor_key in line:\n",
    "                        for level in sorted(importance_levels, key=lambda x: -len(x)):\n",
    "                            if level in line:\n",
    "                                result[factor_key] = level\n",
    "                                break\n",
    "\n",
    "    return result"
   ]
  },
  {
   "cell_type": "code",
   "execution_count": 17,
   "id": "a59c6033",
   "metadata": {},
   "outputs": [
    {
     "data": {
      "text/plain": [
       "{'rigor of secondary school record': 'very important',\n",
       " 'class rank': 'not considered',\n",
       " 'academic grade point average (gpa)': 'very important',\n",
       " 'recommendations': 'considered',\n",
       " 'standardized test scores': 'considered',\n",
       " 'application essay': 'important',\n",
       " 'interview': 'not considered',\n",
       " 'extracurricular activities': 'important',\n",
       " 'talent/ability': 'considered',\n",
       " 'character/personal qualities': 'very important',\n",
       " 'first generation': 'considered',\n",
       " 'alumni/ae relation': 'not considered',\n",
       " 'geographical residence': 'considered',\n",
       " 'state residency': 'very important',\n",
       " 'religious affiliation/commitment': 'not considered',\n",
       " 'volunteer work': 'considered',\n",
       " 'work experience': 'considered',\n",
       " 'level of applicant’s interest': 'not considered'}"
      ]
     },
     "execution_count": 17,
     "metadata": {},
     "output_type": "execute_result"
    }
   ],
   "source": [
    "extract_relative_importance(gatech_file_path)"
   ]
  },
  {
   "cell_type": "markdown",
   "id": "40c7f104",
   "metadata": {},
   "source": [
    "### CDS"
   ]
  },
  {
   "cell_type": "code",
   "execution_count": 16,
   "id": "f602d289",
   "metadata": {},
   "outputs": [],
   "source": [
    "def build_cds_data(file_path):\n",
    "    \n",
    "    def safe_int(score): \n",
    "        try: return int(score)\n",
    "        except: return 0\n",
    "    \n",
    "    residency_data = extract_residency_data(file_path)\n",
    "    residency_acceptance = calculate_acceptance_rates(residency_data)\n",
    "    \n",
    "    highschool_requirement = extract_highschool_requirement(file_path)\n",
    "    \n",
    "    college_prep_requirement = extract_college_prep_requirement(file_path)\n",
    "    college_prep_subjects = extract_general_college_subjects(file_path)\n",
    "    \n",
    "    sat_act_requirement = extract_sat_act_required(file_path)\n",
    "    sat_act_scores = extract_sat_act_scores(file_path)\n",
    "    sat_composite = sat_act_scores.get(\"SAT Composite\")\n",
    "    act_composite = sat_act_scores.get(\"ACT Composite\")\n",
    "    \n",
    "    relative_importance = extract_relative_importance(file_path)\n",
    "    \n",
    "    cds_data = {\n",
    "        \"school_name\": extract_school_name(file_path),\n",
    "        \"state\": extract_state(file_path),\n",
    "        \"high_school_completion_required\": bool(highschool_requirement[\"high school diploma required\"]),\n",
    "        \"general_college_preparatory_required\": bool(college_prep_requirement[\"general college-preparatory program\"][\"required\"]),\n",
    "        \"general_college_subjects\": college_prep_subjects, \n",
    "        \"sat_act_required\": {\n",
    "            \"sat_or_act\": sat_act_requirement.get(\"SAT or ACT Requirement\", \"\").lower() == \"required\",\n",
    "            \"sat only\": sat_act_requirement.get(\"SAT Only Requirement\", \"\").lower() == \"required\",\n",
    "            \"act only\": sat_act_requirement.get(\"ACT Only Requirement\", \"\").lower() == \"required\"\n",
    "        },\n",
    "        \n",
    "        \"rigor_of_secondary_school_record\": relative_importance.get(\"rigor of secondary school record\", \"Unknown\"),\n",
    "        \"class_rank\": relative_importance.get(\"class rank\", \"Unknown\"),\n",
    "        \"recommendations\": relative_importance.get(\"recommendations\", \"Unknown\"),\n",
    "        \"standardized_test_scores\": relative_importance.get(\"standardized test scores\", \"Unknown\"),\n",
    "        \"application_essay\": relative_importance.get(\"application essay\", \"Unknown\"),\n",
    "        \"interview\": relative_importance.get(\"interview\", \"Unknown\"),\n",
    "        \"extracurricular_activities\": relative_importance.get(\"extracurricular activities\", \"Unknown\"),\n",
    "        \"talent_ability\": relative_importance.get(\"talent/ability\", \"Unknown\"),\n",
    "        \"character_personal_qualities\": relative_importance.get(\"character/personal qualities\", \"Unknown\"),\n",
    "        \"geographical_residence\": relative_importance.get(\"geographical residence\", \"Unknown\"),\n",
    "        \"religious_affiliation_commitment\": relative_importance.get(\"religious affiliation/commitment\", \"Unknown\"),\n",
    "        \"work_experience\": relative_importance.get(\"work experience\", \"Unknown\"),\n",
    "        \"level_of_applicant_interest\": relative_importance.get(\"level of applicant’s interest\", \"Unknown\"),\n",
    "\n",
    "        \"alumni_importance\": relative_importance.get(\"alumni/ae relation\", \"Unknown\"),\n",
    "        \"first_generation_importance\": relative_importance.get(\"first generation\", \"Unknown\"),\n",
    "        \"residency_importance\": relative_importance.get(\"state residency\", \"Unknown\"),\n",
    "        \"sat_act_importance\": relative_importance.get(\"standardized test scores\", \"Unknown\"),\n",
    "        \"gpa_importance\": relative_importance.get(\"academic grade point average (gpa)\", \"Unknown\"),\n",
    "        \"volunteer_work_importance\": relative_importance.get(\"volunteer work\", \"Unknown\"),\n",
    "\n",
    "        \"residency_acceptance\": residency_acceptance,\n",
    "        \"sat_scores\": {\n",
    "            \"25th\": safe_int(sat_composite.get(\"25th\")),\n",
    "            \"50th\": safe_int(sat_composite.get(\"50th\")),\n",
    "            \"75th\": safe_int(sat_composite.get(\"75th\"))\n",
    "        },\n",
    "        \"act scores\": {\n",
    "            \"25th\": safe_int(act_composite.get(\"25th\")),\n",
    "            \"50th\": safe_int(act_composite.get(\"50th\")),\n",
    "            \"75th\": safe_int(act_composite.get(\"75th\"))\n",
    "        },\n",
    "        \n",
    "    }\n",
    "\n",
    "    return cds_data"
   ]
  },
  {
   "cell_type": "code",
   "execution_count": 23,
   "id": "fefa42d8",
   "metadata": {},
   "outputs": [
    {
     "data": {
      "text/plain": [
       "{'school_name': 'georgia institute of technology',\n",
       " 'state': {'State': 'GA'},\n",
       " 'high_school_completion_required': True,\n",
       " 'general_college_preparatory_required': True,\n",
       " 'general_college_subjects': {'english': 4.0,\n",
       "  'math': 4.0,\n",
       "  'science': 4.0,\n",
       "  'scienceLab': 2.0,\n",
       "  'language': 2.0,\n",
       "  'social': 3.0,\n",
       "  'history': 0,\n",
       "  'electives': 0,\n",
       "  'cs': 0,\n",
       "  'arts': 0},\n",
       " 'sat_act_required': {'sat_or_act': True,\n",
       "  'sat only': False,\n",
       "  'act only': False},\n",
       " 'rigor_of_secondary_school_record': 'very important',\n",
       " 'class_rank': 'not considered',\n",
       " 'recommendations': 'considered',\n",
       " 'standardized_test_scores': 'considered',\n",
       " 'application_essay': 'important',\n",
       " 'interview': 'not considered',\n",
       " 'extracurricular_activities': 'important',\n",
       " 'talent_ability': 'considered',\n",
       " 'character_personal_qualities': 'very important',\n",
       " 'geographical_residence': 'considered',\n",
       " 'religious_affiliation_commitment': 'not considered',\n",
       " 'work_experience': 'considered',\n",
       " 'level_of_applicant_interest': 'not considered',\n",
       " 'alumni_importance': 'not considered',\n",
       " 'first_generation_importance': 'considered',\n",
       " 'residency_importance': 'very important',\n",
       " 'sat_act_importance': 'considered',\n",
       " 'gpa_importance': 'very important',\n",
       " 'volunteer_work_importance': 'considered',\n",
       " 'residency_acceptance': {'in-state': 0.3312722503278996,\n",
       "  'out-of-state': 0.10417536534446764,\n",
       "  'international': 0.08198239925891616,\n",
       "  'others': None},\n",
       " 'sat_scores': {'25th': 1370, '50th': 1460, '75th': 1530},\n",
       " 'act scores': {'25th': 30, '50th': 33, '75th': 34}}"
      ]
     },
     "execution_count": 23,
     "metadata": {},
     "output_type": "execute_result"
    }
   ],
   "source": [
    "build_cds_data(gatech_file_path)"
   ]
  },
  {
   "cell_type": "code",
   "execution_count": 110,
   "id": "b0039c59",
   "metadata": {},
   "outputs": [
    {
     "data": {
      "text/plain": [
       "{'school_name': 'case western reserve university',\n",
       " 'state': {'State': 'OH'},\n",
       " 'high_school_completion_required': True,\n",
       " 'general_college_preparatory_required': False,\n",
       " 'general_college_subjects': {'english': 4.0,\n",
       "  'math': 3.0,\n",
       "  'science': 3.0,\n",
       "  'scienceLab': 2.0,\n",
       "  'language': 2.0,\n",
       "  'social': 2.0,\n",
       "  'history': 0,\n",
       "  'electives': 0,\n",
       "  'cs': 0,\n",
       "  'arts': 0},\n",
       " 'sat_act_required': {'sat_or_act': False,\n",
       "  'sat only': False,\n",
       "  'act only': False},\n",
       " 'rigor_of_secondary_school_record': 'very important',\n",
       " 'class_rank': 'very important',\n",
       " 'recommendations': 'unknown',\n",
       " 'standardized_test_scores': 'considered',\n",
       " 'application_essay': 'important',\n",
       " 'interview': 'unknown',\n",
       " 'extracurricular_activities': 'unknown',\n",
       " 'talent_ability': 'unknown',\n",
       " 'character_personal_qualities': 'unknown',\n",
       " 'geographical_residence': 'unknown',\n",
       " 'religious_affiliation_commitment': 'unknown',\n",
       " 'work_experience': 'unknown',\n",
       " 'level_of_applicant_interest': 'unknown',\n",
       " 'alumni_importance': 'unknown',\n",
       " 'first_generation_importance': 'unknown',\n",
       " 'residency_importance': 'unknown',\n",
       " 'sat_act_importance': 'considered',\n",
       " 'gpa_importance': 'very important',\n",
       " 'volunteer_work_importance': 'unknown',\n",
       " 'residency_acceptance': {'in-state': 0.304006968641115,\n",
       "  'out-of-state': 0.45695823756450843,\n",
       "  'international': 0.22932224217789962,\n",
       "  'others': None},\n",
       " 'sat_scores': {'25th': 1450, '50th': 1500, '75th': 1530},\n",
       " 'act scores': {'25th': 32, '50th': 34, '75th': 35}}"
      ]
     },
     "execution_count": 110,
     "metadata": {},
     "output_type": "execute_result"
    }
   ],
   "source": [
    "build_cds_data(cwru_file_path)"
   ]
  },
  {
   "cell_type": "code",
   "execution_count": 17,
   "id": "8d61b4e6",
   "metadata": {},
   "outputs": [],
   "source": [
    "def save_cds_data_to_excel(input_folder, output_folder):\n",
    "    # Iterate over all files in the specified folder\n",
    "    for file in os.listdir(input_folder):\n",
    "        if file.endswith(\".pdf\"): # process only pdf files\n",
    "            file_path = os.path.join(input_folder, file)\n",
    "            try:\n",
    "                cds_data = build_cds_data(file_path)\n",
    "\n",
    "                school_name = cds_data.get(\"school_name\") or os.path.splitext(file)[0] # try to get school name; use file name if missing\n",
    "                safe_name = school_name.replace(\"/\", \"_\").replace(\"\\\\\", \"_\")\n",
    "\n",
    "                df = pd.json_normalize(cds_data, sep='.') # convert nested dictionary to a flat dataframe\n",
    "\n",
    "                output_path = os.path.join(output_folder, f\"{safe_name}.xlsx\")\n",
    "                df.to_excel(output_path, index=False)\n",
    "\n",
    "                print(f\"Saved: {output_path}\")\n",
    "\n",
    "            except Exception as e:\n",
    "                print(f\"Failed to process {file}: {e}\")\n"
   ]
  },
  {
   "cell_type": "code",
   "execution_count": 19,
   "id": "2c70fa8d",
   "metadata": {},
   "outputs": [],
   "source": [
    "# save_cds_data_to_excel(\"pdf4\", \"output_cds4\")"
   ]
  },
  {
   "cell_type": "code",
   "execution_count": 112,
   "id": "eca0d20f",
   "metadata": {},
   "outputs": [],
   "source": [
    "# save_cds_data_to_excel(\"pdf\", \"output_cds\")"
   ]
  },
  {
   "cell_type": "code",
   "execution_count": 113,
   "id": "c5b3c6fb",
   "metadata": {},
   "outputs": [],
   "source": [
    "# save_cds_data_to_excel(\"pdf2\", \"output_cds2\")"
   ]
  },
  {
   "cell_type": "code",
   "execution_count": 114,
   "id": "9e1c7e48",
   "metadata": {},
   "outputs": [],
   "source": [
    "# save_cds_data_to_excel(\"pdf3\", \"output_cds3\")"
   ]
  },
  {
   "cell_type": "code",
   "execution_count": 62,
   "id": "a5f802f9",
   "metadata": {},
   "outputs": [],
   "source": [
    "# save_cds_data_to_excel(\"pdf_test\", \"output_cds_test\")\n",
    "# save_cds_data_to_excel(\"pdf_test2\", \"output_cds_test2\")"
   ]
  },
  {
   "cell_type": "markdown",
   "id": "93aa56b5",
   "metadata": {},
   "source": [
    "### Modeling"
   ]
  },
  {
   "cell_type": "code",
   "execution_count": 63,
   "id": "917d620a",
   "metadata": {},
   "outputs": [],
   "source": [
    "import os\n",
    "import pandas as pd\n",
    "from typing import Dict\n",
    "\n",
    "def load_cds_from_folder(folder_path: str) -> Dict[str, Dict]:\n",
    "    cds_dict = {}\n",
    "\n",
    "    for filename in os.listdir(folder_path):\n",
    "        if filename.endswith('.xlsx'):\n",
    "            # Normalize school key (e.g., \"Georgia Tech.xlsx\" → \"georgia_tech\")\n",
    "            school_key = filename.replace('.xlsx', '').lower().replace(' ', '_')\n",
    "            \n",
    "            # Read Excel file\n",
    "            file_path = os.path.join(folder_path, filename)\n",
    "            df = pd.read_excel(file_path, header=None)\n",
    "            keys = df.iloc[0].values\n",
    "            values = df.iloc[1].values\n",
    "            school_dict = dict(zip(keys, values))\n",
    "            \n",
    "            cds_dict[school_key] = school_dict\n",
    "\n",
    "    return cds_dict"
   ]
  },
  {
   "cell_type": "code",
   "execution_count": 64,
   "id": "4c5b8f15",
   "metadata": {},
   "outputs": [
    {
     "data": {
      "text/plain": [
       "{'georgia_institute_of_technology': {'school_name': 'georgia institute of technology',\n",
       "  'high_school_completion_required': True,\n",
       "  'general_college_preparatory_required': True,\n",
       "  'rigor_of_secondary_school_record': 'very important',\n",
       "  'class_rank': 'not considered',\n",
       "  'recommendations': 'considered',\n",
       "  'standardized_test_scores': 'considered',\n",
       "  'application_essay': 'important',\n",
       "  'interview': 'not considered',\n",
       "  'extracurricular_activities': 'important',\n",
       "  'talent_ability': 'considered',\n",
       "  'character_personal_qualities': 'very important',\n",
       "  'geographical_residence': 'considered',\n",
       "  'religious_affiliation_commitment': 'not considered',\n",
       "  'work_experience': 'considered',\n",
       "  'level_of_applicant_interest': 'not considered',\n",
       "  'alumni_importance': 'not considered',\n",
       "  'first_generation_importance': 'considered',\n",
       "  'residency_importance': 'very important',\n",
       "  'sat_act_importance': 'considered',\n",
       "  'gpa_importance': 'very important',\n",
       "  'volunteer_work_importance': 'considered',\n",
       "  'state.State': 'GA',\n",
       "  'general_college_subjects.english': 4,\n",
       "  'general_college_subjects.math': 4,\n",
       "  'general_college_subjects.science': 4,\n",
       "  'general_college_subjects.scienceLab': 2,\n",
       "  'general_college_subjects.language': 2,\n",
       "  'general_college_subjects.social': 3,\n",
       "  'general_college_subjects.history': 0,\n",
       "  'general_college_subjects.electives': 0,\n",
       "  'general_college_subjects.cs': 0,\n",
       "  'general_college_subjects.arts': 0,\n",
       "  'sat_act_required.sat_or_act': True,\n",
       "  'sat_act_required.sat only': False,\n",
       "  'sat_act_required.act only': False,\n",
       "  'residency_acceptance.in-state': 0.3312722503278996,\n",
       "  'residency_acceptance.out-of-state': 0.1041753653444676,\n",
       "  'residency_acceptance.international': 0.08198239925891616,\n",
       "  'residency_acceptance.others': nan,\n",
       "  'sat_scores.25th': 1370,\n",
       "  'sat_scores.50th': 1460,\n",
       "  'sat_scores.75th': 1530,\n",
       "  'act scores.25th': 30,\n",
       "  'act scores.50th': 33,\n",
       "  'act scores.75th': 34},\n",
       " 'university_of_minnesota_–_twin_cities_campus': {'school_name': 'university of minnesota – twin cities campus',\n",
       "  'high_school_completion_required': True,\n",
       "  'general_college_preparatory_required': False,\n",
       "  'rigor_of_secondary_school_record': 'unknown',\n",
       "  'class_rank': 'very important',\n",
       "  'recommendations': 'considered',\n",
       "  'standardized_test_scores': 'considered',\n",
       "  'application_essay': 'considered',\n",
       "  'interview': 'not considered',\n",
       "  'extracurricular_activities': 'considered',\n",
       "  'talent_ability': 'considered',\n",
       "  'character_personal_qualities': 'considered',\n",
       "  'geographical_residence': 'considered',\n",
       "  'religious_affiliation_commitment': 'unknown',\n",
       "  'work_experience': 'considered',\n",
       "  'level_of_applicant_interest': 'not considered',\n",
       "  'alumni_importance': 'not considered',\n",
       "  'first_generation_importance': 'considered',\n",
       "  'residency_importance': 'considered',\n",
       "  'sat_act_importance': 'considered',\n",
       "  'gpa_importance': 'very important',\n",
       "  'volunteer_work_importance': 'considered',\n",
       "  'state.State': 'MN',\n",
       "  'general_college_subjects.english': 4,\n",
       "  'general_college_subjects.math': 4,\n",
       "  'general_college_subjects.science': 3,\n",
       "  'general_college_subjects.scienceLab': 1,\n",
       "  'general_college_subjects.language': 2,\n",
       "  'general_college_subjects.social': 3,\n",
       "  'general_college_subjects.history': 0,\n",
       "  'general_college_subjects.electives': 0,\n",
       "  'general_college_subjects.cs': 0,\n",
       "  'general_college_subjects.arts': 1,\n",
       "  'sat_act_required.sat_or_act': False,\n",
       "  'sat_act_required.sat only': False,\n",
       "  'sat_act_required.act only': False,\n",
       "  'residency_acceptance.in-state': 0.7508224860534973,\n",
       "  'residency_acceptance.out-of-state': 0.7913262422280458,\n",
       "  'residency_acceptance.international': 0.7818471337579618,\n",
       "  'residency_acceptance.others': nan,\n",
       "  'sat_scores.25th': 1328,\n",
       "  'sat_scores.50th': 1400,\n",
       "  'sat_scores.75th': 1460,\n",
       "  'act scores.25th': 27,\n",
       "  'act scores.50th': 29,\n",
       "  'act scores.75th': 31}}"
      ]
     },
     "execution_count": 64,
     "metadata": {},
     "output_type": "execute_result"
    }
   ],
   "source": [
    "# Data not ready yet – using only the Georgia Tech Excel file from the test folder for now.\n",
    "cds_dict = load_cds_from_folder(\"output_cds_test\")\n",
    "cds_dict"
   ]
  },
  {
   "cell_type": "markdown",
   "id": "d24007ca",
   "metadata": {},
   "source": [
    "##### Importance Related"
   ]
  },
  {
   "cell_type": "code",
   "execution_count": 32,
   "id": "8b7e879f",
   "metadata": {},
   "outputs": [],
   "source": [
    "# config.py\n",
    "\n",
    "# Keys to extract from CDS files for importance evaluation\n",
    "importance_keys = [\n",
    "    \"gpa_importance\",\n",
    "    \"sat_act_importance\",\n",
    "    \"residency_importance\",\n",
    "    \"alumni_importance\",\n",
    "    \"volunteer_work_importance\"\n",
    "]\n",
    "\n",
    "# Weight mapping for importance levels\n",
    "weight_map = {\n",
    "    \"very important\": 1.0,\n",
    "    \"important\": 0.9,\n",
    "    \"considered\": 0.8,\n",
    "    \"not considered\": 0.0\n",
    "}\n",
    "\n",
    "# List of allowed importance levels\n",
    "importance_levels = list(weight_map.keys())\n",
    "\n",
    "# Mapping of scoring categories to CDS importance keys\n",
    "category_to_importance_key = {\n",
    "    'gpa': 'gpa_importance',\n",
    "    'standardized_test': 'sat_act_importance',\n",
    "    'residency': 'residency_importance',\n",
    "    'alumni': 'alumni_importance',\n",
    "    'volunteer_work': 'volunteer_work_importance'\n",
    "}\n",
    "\n",
    "# Mapping school name to school id\n",
    "school_list = [\n",
    "  { \"id\": 1, \"name\": \"Harvard University\"},\n",
    "  { \"id\": 2, \"name\": \"Stanford University\"},\n",
    "  { \"id\": 3, \"name\": \"Massachusetts Institute of Technology (MIT)\"},\n",
    "  { \"id\": 4, \"name\": \"California Institute of Technology (Caltech)\"},\n",
    "  { \"id\": 5, \"name\": \"University of Chicago\"},\n",
    "  { \"id\": 6, \"name\": \"Princeton University\"},\n",
    "  { \"id\": 7, \"name\": \"Yale University\"},\n",
    "  { \"id\": 8, \"name\": \"Columbia University\"},\n",
    "  { \"id\": 9, \"name\": \"University of Pennsylvania\"},\n",
    "  { \"id\": 10, \"name\": \"Johns Hopkins University\"},\n",
    "  { \"id\": 11, \"name\": \"Northwestern University\"},\n",
    "  { \"id\": 12, \"name\": \"Duke University\"},\n",
    "  { \"id\": 13, \"name\": \"Dartmouth College\"},\n",
    "  { \"id\": 14, \"name\": \"Brown University\"},\n",
    "  { \"id\": 15, \"name\": \"University of California, Berkeley\"},\n",
    "  { \"id\": 16, \"name\": \"Cornell University\"},\n",
    "  { \"id\": 17, \"name\": \"Rice University\"},\n",
    "  { \"id\": 18, \"name\": \"Vanderbilt University\"},\n",
    "  { \"id\": 19, \"name\": \"University of California, Los Angeles (UCLA)\"},\n",
    "  { \"id\": 20, \"name\": \"University of Michigan, Ann Arbor\"},\n",
    "  { \"id\": 21, \"name\": \"University of Southern California (USC)\"},\n",
    "  { \"id\": 22, \"name\": \"Carnegie Mellon University\"},\n",
    "  { \"id\": 23, \"name\": \"University of Virginia\"},\n",
    "  { \"id\": 24, \"name\": \"New York University\"},\n",
    "  { \"id\": 25, \"name\": \"University of North Carolina at Chapel Hill\"},\n",
    "  { \"id\": 26, \"name\": \"Wake Forest University\"},\n",
    "  { \"id\": 27, \"name\": \"University of California, San Diego\"},\n",
    "  { \"id\": 28, \"name\": \"Tufts University\"},\n",
    "  { \"id\": 29, \"name\": \"University of Rochester\"},\n",
    "  { \"id\": 30, \"name\": \"Boston College\"},\n",
    "  { \"id\": 31, \"name\": \"Georgia Institute of Technology\"},\n",
    "  { \"id\": 32, \"name\": \"University of California, Davis\"},\n",
    "  { \"id\": 33, \"name\": \"Brandeis University\"},\n",
    "  { \"id\": 34, \"name\": \"University of Wisconsin-Madison\"},\n",
    "  { \"id\": 35, \"name\": \"Case Western Reserve University\"},\n",
    "  { \"id\": 36, \"name\": \"University of Texas at Austin\"},\n",
    "  { \"id\": 37, \"name\": \"University of Florida\"},\n",
    "  { \"id\": 38, \"name\": \"Northeastern University\"},\n",
    "  { \"id\": 39, \"name\": \"University of Miami\"},\n",
    "  { \"id\": 40, \"name\": \"Ohio State University\"},\n",
    "  { \"id\": 41, \"name\": \"University of Maryland, College Park\"},\n",
    "  { \"id\": 42, \"name\": \"Pepperdine University\"},\n",
    "  { \"id\": 43, \"name\": \"University of Pittsburgh\"},\n",
    "  { \"id\": 44, \"name\": \"Purdue University\"},\n",
    "  { \"id\": 45, \"name\": \"University of Georgia\"},\n",
    "  { \"id\": 46, \"name\": \"University of Minnesota Twin Cities\"},\n",
    "  { \"id\": 47, \"name\": \"Baylor University\"},\n",
    "  { \"id\": 48, \"name\": \"Texas A&M University\"},\n",
    "  { \"id\": 49, \"name\": \"Rutgers University\"},\n",
    "  { \"id\": 50, \"name\": \"University of Connecticut\"},\n",
    "  { \"id\": 51, \"name\": \"University of Delaware\"},\n",
    "  { \"id\": 52, \"name\": \"University of Massachusetts Amherst\"},\n",
    "  { \"id\": 53, \"name\": \"University of Denver\"},\n",
    "  { \"id\": 54, \"name\": \"Indiana University Bloomington\"},\n",
    "  { \"id\": 55, \"name\": \"University of Colorado Boulder\"},\n",
    "  { \"id\": 56, \"name\": \"Florida State University\"},\n",
    "  { \"id\": 57, \"name\": \"Michigan State University\"},\n",
    "  { \"id\": 58, \"name\": \"University of Iowa\"},\n",
    "  { \"id\": 59, \"name\": \"University of Oregon\"},\n",
    "  { \"id\": 60, \"name\": \"University of Kansas\"},\n",
    "  { \"id\": 61, \"name\": \"Clemson University\"},\n",
    "  { \"id\": 62, \"name\": \"University of Arizona\"},\n",
    "  { \"id\": 63, \"name\": \"Iowa State University\"},\n",
    "  { \"id\": 64, \"name\": \"University of Alabama\"},\n",
    "  { \"id\": 65, \"name\": \"Oregon State University\"},\n",
    "  { \"id\": 66, \"name\": \"Colorado State University\"},\n",
    "  { \"id\": 67, \"name\": \"Temple University\"},\n",
    "  { \"id\": 68, \"name\": \"University of Missouri\"},\n",
    "  { \"id\": 69, \"name\": \"Kansas State University\"},\n",
    "  { \"id\": 70, \"name\": \"University of Oklahoma\"},\n",
    "  { \"id\": 71, \"name\": \"University of Arkansas\"},\n",
    "  { \"id\": 72, \"name\": \"Louisiana State University\"},\n",
    "  { \"id\": 73, \"name\": \"University of New Mexico\"},\n",
    "  { \"id\": 74, \"name\": \"University of Mississippi\"},\n",
    "  { \"id\": 75, \"name\": \"West Virginia University\"},\n",
    "  { \"id\": 76, \"name\": \"University of Kentucky\"},\n",
    "  { \"id\": 77, \"name\": \"University of Nebraska\"},\n",
    "  { \"id\": 78, \"name\": \"University of Vermont\"},\n",
    "  { \"id\": 79, \"name\": \"University of Tennessee\"},\n",
    "  { \"id\": 80, \"name\": \"University of South Carolina\"},\n",
    "  { \"id\": 81, \"name\": \"University of Idaho\"},\n",
    "  { \"id\": 82, \"name\": \"University of North Dakota\"},\n",
    "  { \"id\": 83, \"name\": \"University of Maine\"},\n",
    "  { \"id\": 84, \"name\": \"University of Wyoming\"},\n",
    "  { \"id\": 85, \"name\": \"University of Alaska Fairbanks\"},\n",
    "  { \"id\": 86, \"name\": \"Montana State University\"},\n",
    "  { \"id\": 87, \"name\": \"University of Montana\"},\n",
    "  { \"id\": 88, \"name\": \"University of Louisiana at Lafayette\"},\n",
    "  { \"id\": 89, \"name\": \"New Mexico State University\"},\n",
    "  { \"id\": 90, \"name\": \"University of Central Florida\"},\n",
    "  { \"id\": 91, \"name\": \"Auburn University\"},\n",
    "  { \"id\": 92, \"name\": \"University of Nevada, Reno\"},\n",
    "  { \"id\": 93, \"name\": \"University of Nevada, Las Vegas\"},\n",
    "  { \"id\": 94, \"name\": \"University of Memphis\"},\n",
    "  { \"id\": 95, \"name\": \"University of Houston\"},\n",
    "  { \"id\": 96, \"name\": \"University of Toledo\"},\n",
    "  { \"id\": 97, \"name\": \"University of Akron\"},\n",
    "  { \"id\": 98, \"name\": \"University of Cincinnati\"},\n",
    "  { \"id\": 99, \"name\": \"University of Buffalo (SUNY)\"},\n",
    "  { \"id\": 100, \"name\": \"University of Illinois Chicago\"}\n",
    "]"
   ]
  },
  {
   "cell_type": "code",
   "execution_count": 33,
   "id": "a018fec1",
   "metadata": {},
   "outputs": [],
   "source": [
    "from collections import Counter\n",
    "from typing import Dict, List\n",
    "\n",
    "def compute_average_importance_weights(cds_dict: Dict[str, Dict]) -> Dict[str, float]:\n",
    "    \n",
    "    # Count importance levels across schools\n",
    "    importance_counts = {key: Counter() for key in importance_keys}\n",
    "    for school_data in cds_dict.values():\n",
    "        for key in importance_keys:\n",
    "            value = school_data.get(key, \"Not Considered\")  # Default fallback\n",
    "            if value in importance_levels:\n",
    "                importance_counts[key][value] += 1\n",
    "\n",
    "    # Calculate weighted average for each category\n",
    "    average_weights = {}\n",
    "    for key in importance_keys:\n",
    "        total = sum(importance_counts[key].values())\n",
    "        if total == 0:\n",
    "            average_weights[key] = 0\n",
    "            continue\n",
    "        weighted_sum = sum(weight_map[level] * count for level, count in importance_counts[key].items())\n",
    "        average_weights[key] = round(weighted_sum / total, 4)\n",
    "\n",
    "    return average_weights"
   ]
  },
  {
   "cell_type": "code",
   "execution_count": 65,
   "id": "9f16a8e5",
   "metadata": {},
   "outputs": [
    {
     "data": {
      "text/plain": [
       "{'gpa_importance': 1.0,\n",
       " 'sat_act_importance': 0.8,\n",
       " 'residency_importance': 0.9,\n",
       " 'alumni_importance': 0.0,\n",
       " 'volunteer_work_importance': 0.8}"
      ]
     },
     "execution_count": 65,
     "metadata": {},
     "output_type": "execute_result"
    }
   ],
   "source": [
    "average_weights = compute_average_importance_weights(cds_dict)\n",
    "average_weights"
   ]
  },
  {
   "cell_type": "code",
   "execution_count": 66,
   "id": "67a8b99b",
   "metadata": {},
   "outputs": [],
   "source": [
    "# 3. Convert average weights into a 100-point scale\n",
    "def normalize_max_points_from_avg_weights(average_weights: Dict[str, float], total_points=100) -> Dict[str, float]:\n",
    "    total_weight = sum(average_weights.values())\n",
    "    return {\n",
    "        key: round((w / total_weight) * total_points, 2)\n",
    "        for key, w in average_weights.items()\n",
    "    }"
   ]
  },
  {
   "cell_type": "code",
   "execution_count": 67,
   "id": "af2716eb",
   "metadata": {},
   "outputs": [
    {
     "data": {
      "text/plain": [
       "{'gpa_importance': 28.57,\n",
       " 'sat_act_importance': 22.86,\n",
       " 'residency_importance': 25.71,\n",
       " 'alumni_importance': 0.0,\n",
       " 'volunteer_work_importance': 22.86}"
      ]
     },
     "execution_count": 67,
     "metadata": {},
     "output_type": "execute_result"
    }
   ],
   "source": [
    "max_points_by_cat = normalize_max_points_from_avg_weights(average_weights)\n",
    "max_points_by_cat"
   ]
  },
  {
   "cell_type": "markdown",
   "id": "4ca7fa67",
   "metadata": {},
   "source": [
    "----------------"
   ]
  },
  {
   "cell_type": "markdown",
   "id": "b6e0bae7",
   "metadata": {},
   "source": [
    "##### Total Score"
   ]
  },
  {
   "cell_type": "code",
   "execution_count": 68,
   "id": "e671c51e",
   "metadata": {},
   "outputs": [],
   "source": [
    "# 4. Calculate school-specific total maximum score based on weight map\n",
    "def calculate_total_max_score(school_info: Dict, max_points_by_cat: Dict[str, float]) -> float:\n",
    "    total = 0\n",
    "    for category, max_point in max_points_by_cat.items():\n",
    "        if category in school_info:\n",
    "            importance = school_info[category]\n",
    "            weight = weight_map.get(importance, 0)\n",
    "            total += max_point * weight\n",
    "    return total"
   ]
  },
  {
   "cell_type": "code",
   "execution_count": 69,
   "id": "779f5bce",
   "metadata": {},
   "outputs": [
    {
     "data": {
      "text/plain": [
       "90.85600000000001"
      ]
     },
     "execution_count": 69,
     "metadata": {},
     "output_type": "execute_result"
    }
   ],
   "source": [
    "calculate_total_max_score(cds_dict['georgia_institute_of_technology'], max_points_by_cat)"
   ]
  },
  {
   "cell_type": "code",
   "execution_count": 71,
   "id": "ffd32600",
   "metadata": {},
   "outputs": [
    {
     "data": {
      "text/plain": [
       "85.714"
      ]
     },
     "execution_count": 71,
     "metadata": {},
     "output_type": "execute_result"
    }
   ],
   "source": [
    "calculate_total_max_score(cds_dict['university_of_minnesota_–_twin_cities_campus'], max_points_by_cat)"
   ]
  },
  {
   "cell_type": "markdown",
   "id": "faf851a9",
   "metadata": {},
   "source": [
    "------------"
   ]
  },
  {
   "cell_type": "markdown",
   "id": "ab5b8057",
   "metadata": {},
   "source": [
    "##### Compatibility Score"
   ]
  },
  {
   "cell_type": "code",
   "execution_count": 72,
   "id": "4696503c",
   "metadata": {},
   "outputs": [],
   "source": [
    "def get_school_id_by_name(school_name: str) -> int:\n",
    "    \"\"\"\n",
    "    Match lowercase school name to ID from school_list.\n",
    "    \"\"\"\n",
    "    for school in school_list:\n",
    "        if school[\"name\"].lower() == school_name.lower():\n",
    "            return school[\"id\"]\n",
    "    return -1  # fallback if not found"
   ]
  },
  {
   "cell_type": "code",
   "execution_count": 73,
   "id": "b592bb4f",
   "metadata": {},
   "outputs": [],
   "source": [
    "def unflatten_dict(flat_dict: Dict[str, any]) -> Dict:\n",
    "    nested = {}\n",
    "    for compound_key, value in flat_dict.items():\n",
    "        parts = compound_key.split(\".\")\n",
    "        d = nested\n",
    "        for part in parts[:-1]:\n",
    "            if part not in d:\n",
    "                d[part] = {}\n",
    "            d = d[part]\n",
    "        d[parts[-1]] = value\n",
    "    return nested"
   ]
  },
  {
   "cell_type": "code",
   "execution_count": 74,
   "id": "c5b8da45",
   "metadata": {},
   "outputs": [
    {
     "data": {
      "text/plain": [
       "{'school_name': 'georgia institute of technology',\n",
       " 'high_school_completion_required': True,\n",
       " 'general_college_preparatory_required': True,\n",
       " 'rigor_of_secondary_school_record': 'very important',\n",
       " 'class_rank': 'not considered',\n",
       " 'recommendations': 'considered',\n",
       " 'standardized_test_scores': 'considered',\n",
       " 'application_essay': 'important',\n",
       " 'interview': 'not considered',\n",
       " 'extracurricular_activities': 'important',\n",
       " 'talent_ability': 'considered',\n",
       " 'character_personal_qualities': 'very important',\n",
       " 'geographical_residence': 'considered',\n",
       " 'religious_affiliation_commitment': 'not considered',\n",
       " 'work_experience': 'considered',\n",
       " 'level_of_applicant_interest': 'not considered',\n",
       " 'alumni_importance': 'not considered',\n",
       " 'first_generation_importance': 'considered',\n",
       " 'residency_importance': 'very important',\n",
       " 'sat_act_importance': 'considered',\n",
       " 'gpa_importance': 'very important',\n",
       " 'volunteer_work_importance': 'considered',\n",
       " 'state.State': 'GA',\n",
       " 'general_college_subjects.english': 4,\n",
       " 'general_college_subjects.math': 4,\n",
       " 'general_college_subjects.science': 4,\n",
       " 'general_college_subjects.scienceLab': 2,\n",
       " 'general_college_subjects.language': 2,\n",
       " 'general_college_subjects.social': 3,\n",
       " 'general_college_subjects.history': 0,\n",
       " 'general_college_subjects.electives': 0,\n",
       " 'general_college_subjects.cs': 0,\n",
       " 'general_college_subjects.arts': 0,\n",
       " 'sat_act_required.sat_or_act': True,\n",
       " 'sat_act_required.sat only': False,\n",
       " 'sat_act_required.act only': False,\n",
       " 'residency_acceptance.in-state': 0.3312722503278996,\n",
       " 'residency_acceptance.out-of-state': 0.1041753653444676,\n",
       " 'residency_acceptance.international': 0.08198239925891616,\n",
       " 'residency_acceptance.others': nan,\n",
       " 'sat_scores.25th': 1370,\n",
       " 'sat_scores.50th': 1460,\n",
       " 'sat_scores.75th': 1530,\n",
       " 'act scores.25th': 30,\n",
       " 'act scores.50th': 33,\n",
       " 'act scores.75th': 34}"
      ]
     },
     "execution_count": 74,
     "metadata": {},
     "output_type": "execute_result"
    }
   ],
   "source": [
    "cds_dict['georgia_institute_of_technology']"
   ]
  },
  {
   "cell_type": "code",
   "execution_count": 75,
   "id": "586b31bd",
   "metadata": {},
   "outputs": [
    {
     "data": {
      "text/plain": [
       "{'school_name': 'georgia institute of technology',\n",
       " 'high_school_completion_required': True,\n",
       " 'general_college_preparatory_required': True,\n",
       " 'rigor_of_secondary_school_record': 'very important',\n",
       " 'class_rank': 'not considered',\n",
       " 'recommendations': 'considered',\n",
       " 'standardized_test_scores': 'considered',\n",
       " 'application_essay': 'important',\n",
       " 'interview': 'not considered',\n",
       " 'extracurricular_activities': 'important',\n",
       " 'talent_ability': 'considered',\n",
       " 'character_personal_qualities': 'very important',\n",
       " 'geographical_residence': 'considered',\n",
       " 'religious_affiliation_commitment': 'not considered',\n",
       " 'work_experience': 'considered',\n",
       " 'level_of_applicant_interest': 'not considered',\n",
       " 'alumni_importance': 'not considered',\n",
       " 'first_generation_importance': 'considered',\n",
       " 'residency_importance': 'very important',\n",
       " 'sat_act_importance': 'considered',\n",
       " 'gpa_importance': 'very important',\n",
       " 'volunteer_work_importance': 'considered',\n",
       " 'state': {'State': 'GA'},\n",
       " 'general_college_subjects': {'english': 4,\n",
       "  'math': 4,\n",
       "  'science': 4,\n",
       "  'scienceLab': 2,\n",
       "  'language': 2,\n",
       "  'social': 3,\n",
       "  'history': 0,\n",
       "  'electives': 0,\n",
       "  'cs': 0,\n",
       "  'arts': 0},\n",
       " 'sat_act_required': {'sat_or_act': True,\n",
       "  'sat only': False,\n",
       "  'act only': False},\n",
       " 'residency_acceptance': {'in-state': 0.3312722503278996,\n",
       "  'out-of-state': 0.1041753653444676,\n",
       "  'international': 0.08198239925891616,\n",
       "  'others': nan},\n",
       " 'sat_scores': {'25th': 1370, '50th': 1460, '75th': 1530},\n",
       " 'act scores': {'25th': 30, '50th': 33, '75th': 34}}"
      ]
     },
     "execution_count": 75,
     "metadata": {},
     "output_type": "execute_result"
    }
   ],
   "source": [
    "unflatten_dict(cds_dict['georgia_institute_of_technology'])"
   ]
  },
  {
   "cell_type": "code",
   "execution_count": 76,
   "id": "cb678c36",
   "metadata": {},
   "outputs": [],
   "source": [
    "# Main function to calculate applicant compatibility score with a school\n",
    "def calculate_compatibility_score(applicant: Dict, school_cds: Dict, max_points_by_cat: Dict[str, float]) -> Dict:\n",
    "    \n",
    "    school_cds = unflatten_dict(school_cds)\n",
    "    \n",
    "    # 1. Check essential requirments\n",
    "    if school_cds[\"high_school_completion_required\"]:\n",
    "        if not applicant[\"high_school_completion\"]:\n",
    "            return {\"score\": 0, \"details\": {\"reason\": \"High school completion requirement not met\"}}\n",
    "    \n",
    "    if school_cds[\"general_college_preparatory_required\"]:\n",
    "        required_subjects = school_cds.get(\"general_college_subjects\", {})\n",
    "        applicant_subjects = applicant.get(\"general_college_requirement\", {})\n",
    "        \n",
    "        for subject, required_count in required_subjects.items():\n",
    "            applicant_count = applicant_subjects.get(subject, 0)\n",
    "            if applicant_count < required_count:\n",
    "                return {\"score\": 0, \"details\": {\"reason\": \"Subject requirement not met\"}}\n",
    "    \n",
    "    # 2. Check standardized test requirement\n",
    "    sat_required = school_cds[\"sat_act_required\"].get(\"sat only\", False)\n",
    "    act_required = school_cds[\"sat_act_required\"].get(\"act only\", False)\n",
    "    either_required = school_cds[\"sat_act_required\"].get(\"sat_or_act\", False)\n",
    "\n",
    "    sat = applicant.get(\"sat\", 0)\n",
    "    act = applicant.get(\"act\", 0)\n",
    "\n",
    "    if sat_required and sat == 0:\n",
    "        return {\"score\": 0, \"details\": {\"reason\": \"SAT score required\"}}\n",
    "    if act_required and act == 0:\n",
    "        return {\"score\": 0, \"details\": {\"reason\": \"ACT score required\"}}\n",
    "    if either_required and sat == 0 and act == 0:\n",
    "        return {\"score\": 0, \"details\": {\"reason\": \"SAT or ACT score required\"}}\n",
    "\n",
    "    ### ------------\n",
    "    total_score = 0\n",
    "    details = {}\n",
    "\n",
    "    # 3. Score for alumni relation\n",
    "    alumni_max = max_points_by_cat['alumni_importance']\n",
    "    school_name = school_cds['school_name'].lower()\n",
    "    alumni_score = 0\n",
    "    if applicant['alumni']:\n",
    "        alumni_schools = [name.lower() for name in applicant.get(\"alumni_school_names\", [])]\n",
    "        if school_name in alumni_schools:\n",
    "            alumni_score = alumni_max\n",
    "    alumni_weighted = alumni_score * weight_map[school_cds['alumni_importance']]\n",
    "    total_score += alumni_weighted\n",
    "    details[\"alumni\"] = round(alumni_weighted, 2)\n",
    "\n",
    "    # 4. Score for first-generation status\n",
    "    #first_max = max_points_by_cat['first_generation']\n",
    "    #first_score = first_max if applicant['first'] else 0\n",
    "    #first_weighted = first_score * weight_map[school_cds['first_generation_importance']]\n",
    "    #total_score += first_weighted\n",
    "    #details[\"first_generation\"] = round(first_weighted, 2)\n",
    "\n",
    "    # 5. Score based on residency acceptance rate\n",
    "    residency_max = max_points_by_cat['residency_importance']\n",
    "    if applicant['residency'] == 'international':\n",
    "        residency_category = 'international'\n",
    "    else:\n",
    "        if applicant['state'] == school_cds['state']:\n",
    "            residency_category = 'in-state'\n",
    "        else:\n",
    "            residency_category = 'out-of-state'\n",
    "    residency_score = school_cds['residency_acceptance'][residency_category] * residency_max\n",
    "    residency_weighted = residency_score * weight_map[school_cds['residency_importance']]\n",
    "    total_score += residency_weighted\n",
    "    details[\"residency\"] = round(residency_weighted, 2)\n",
    "\n",
    "    # 6. Score based on SAT range position\n",
    "    sat = applicant['sat']\n",
    "    act = applicant['act']\n",
    "    sat_act_max = max_points_by_cat['sat_act_importance']\n",
    "    \n",
    "    if sat > 0:\n",
    "        sat_q25 = school_cds['sat_scores']['25th']\n",
    "        sat_q75 = school_cds['sat_scores']['75th']\n",
    "\n",
    "        if sat < sat_q25:\n",
    "            sat_score = 0\n",
    "        elif sat > sat_q75:\n",
    "            sat_score = sat_act_max\n",
    "        else:\n",
    "            sat_score = ((sat - sat_q25) / (sat_q75 - sat_q25)) * sat_act_max\n",
    "            sat_score = min(sat_act_max, max(0, sat_score))\n",
    "        sat_weighted = sat_score * weight_map[school_cds['sat_act_importance']]\n",
    "        total_score += sat_weighted\n",
    "        details[\"standardized_test\"] = round(sat_weighted, 2)\n",
    "    \n",
    "    elif act > 0:\n",
    "        act_q25 = school_cds['act scores']['25th']\n",
    "        act_q75 = school_cds['act scores']['75th']\n",
    "        if act < act_q25:\n",
    "            act_score = 0\n",
    "        elif act > act_q75:\n",
    "            act_score = sat_act_max\n",
    "        else:\n",
    "            act_score = ((act - act_q25) / (act_q75 - act_q25)) * sat_act_max\n",
    "            act_score = min(sat_act_max, max(0, act_score))\n",
    "        act_weighted = act_score * weight_map[school_cds['sat_act_importance']]\n",
    "        total_score += act_weighted\n",
    "        details[\"standardized_test\"] = round(act_weighted, 2)\n",
    "\n",
    "    # 7. Score based on GPA\n",
    "    gpa_max = max_points_by_cat['gpa_importance']\n",
    "    gpa_score = (applicant['gpa'] / 4.0) * gpa_max\n",
    "    gpa_weighted = gpa_score * weight_map[school_cds['gpa_importance']]\n",
    "    total_score += gpa_weighted\n",
    "    details[\"GPA\"] = round(gpa_weighted, 2)\n",
    "    \n",
    "    # 8. Score for volunteer work\n",
    "    volunteer_max = max_points_by_cat['volunteer_work_importance']\n",
    "    volunteer = applicant['volunteering_hours']\n",
    "    if volunteer < 50:\n",
    "        volunteer_score = 0\n",
    "    elif volunteer >= 200:\n",
    "        volunteer_score = volunteer_max\n",
    "    else:\n",
    "        volunteer_score = volunteer / 200 * volunteer_max\n",
    "    details[\"volunteer_work\"] = round(volunteer_score, 2)\n",
    "    \n",
    "    # 9. Score for work experience\n",
    "    \n",
    "    # 10. Calculate school-specific total max score\n",
    "    total_max_score = calculate_total_max_score(school_cds, max_points_by_cat)\n",
    "\n",
    "    # 11. Normalize total_score by total_max_score\n",
    "    if total_max_score > 0:\n",
    "        normalized_score = (total_score / total_max_score) * 100\n",
    "    else:\n",
    "        normalized_score = 0\n",
    "    \n",
    "    return {\n",
    "        \"applicant\": applicant[\"userId\"],\n",
    "        \"school_id\": get_school_id_by_name(school_cds[\"school_name\"]),\n",
    "        \"score\": round(normalized_score, 2), \n",
    "        \"details\": details\n",
    "    }"
   ]
  },
  {
   "cell_type": "code",
   "execution_count": 77,
   "id": "63225178",
   "metadata": {},
   "outputs": [
    {
     "data": {
      "text/plain": [
       "{'applicant': '4b34dfc4-fb21-4a9b-886a-126e1428a744',\n",
       " 'school_id': 31,\n",
       " 'score': 50.91,\n",
       " 'details': {'alumni': 0.0,\n",
       "  'residency': 2.68,\n",
       "  'standardized_test': 17.14,\n",
       "  'GPA': 26.43,\n",
       "  'volunteer_work': 17.14}}"
      ]
     },
     "execution_count": 77,
     "metadata": {},
     "output_type": "execute_result"
    }
   ],
   "source": [
    "calculate_compatibility_score(applicant1, cds_dict[\"georgia_institute_of_technology\"], max_points_by_cat)"
   ]
  },
  {
   "cell_type": "code",
   "execution_count": 78,
   "id": "c6822a29",
   "metadata": {},
   "outputs": [
    {
     "data": {
      "text/plain": [
       "{'applicant': '4b34dfc4-fb21-4a9b-886a-126e1428a743',\n",
       " 'school_id': 31,\n",
       " 'score': 50.28,\n",
       " 'details': {'alumni': 0.0,\n",
       "  'residency': 2.11,\n",
       "  'standardized_test': 17.14,\n",
       "  'GPA': 26.43,\n",
       "  'volunteer_work': 17.14}}"
      ]
     },
     "execution_count": 78,
     "metadata": {},
     "output_type": "execute_result"
    }
   ],
   "source": [
    "calculate_compatibility_score(applicant2, cds_dict[\"georgia_institute_of_technology\"], max_points_by_cat)"
   ]
  },
  {
   "cell_type": "code",
   "execution_count": 79,
   "id": "f2dacbd4",
   "metadata": {},
   "outputs": [
    {
     "data": {
      "text/plain": [
       "{'score': 0,\n",
       " 'details': {'reason': 'High school completion requirement not met'}}"
      ]
     },
     "execution_count": 79,
     "metadata": {},
     "output_type": "execute_result"
    }
   ],
   "source": [
    "calculate_compatibility_score(applicant3, cds_dict[\"georgia_institute_of_technology\"], max_points_by_cat)"
   ]
  },
  {
   "cell_type": "code",
   "execution_count": 80,
   "id": "036fb584",
   "metadata": {},
   "outputs": [
    {
     "data": {
      "text/plain": [
       "{'applicant': '4b34dfc4-fb21-4a9b-886a-126e1428a741',\n",
       " 'school_id': 31,\n",
       " 'score': 24.33,\n",
       " 'details': {'alumni': 0.0,\n",
       "  'residency': 2.11,\n",
       "  'standardized_test': 0.0,\n",
       "  'GPA': 20.0,\n",
       "  'volunteer_work': 17.14}}"
      ]
     },
     "execution_count": 80,
     "metadata": {},
     "output_type": "execute_result"
    }
   ],
   "source": [
    "calculate_compatibility_score(applicant4, cds_dict[\"georgia_institute_of_technology\"], max_points_by_cat)"
   ]
  },
  {
   "cell_type": "code",
   "execution_count": 81,
   "id": "6bd979da",
   "metadata": {},
   "outputs": [
    {
     "data": {
      "text/plain": [
       "{'applicant': '4b34dfc4-fb21-4a9b-886a-126e1428a743',\n",
       " 'school_id': -1,\n",
       " 'score': 70.93,\n",
       " 'details': {'alumni': 0.0,\n",
       "  'residency': 16.08,\n",
       "  'standardized_test': 18.29,\n",
       "  'GPA': 26.43,\n",
       "  'volunteer_work': 17.14}}"
      ]
     },
     "execution_count": 81,
     "metadata": {},
     "output_type": "execute_result"
    }
   ],
   "source": [
    "calculate_compatibility_score(applicant2, cds_dict[\"university_of_minnesota_–_twin_cities_campus\"], max_points_by_cat)"
   ]
  },
  {
   "cell_type": "code",
   "execution_count": 82,
   "id": "d541a5b9",
   "metadata": {},
   "outputs": [
    {
     "data": {
      "text/plain": [
       "{'applicant': '4b34dfc4-fb21-4a9b-886a-126e1428a741',\n",
       " 'school_id': -1,\n",
       " 'score': 42.09,\n",
       " 'details': {'alumni': 0.0,\n",
       "  'residency': 16.08,\n",
       "  'standardized_test': 0.0,\n",
       "  'GPA': 20.0,\n",
       "  'volunteer_work': 17.14}}"
      ]
     },
     "execution_count": 82,
     "metadata": {},
     "output_type": "execute_result"
    }
   ],
   "source": [
    "calculate_compatibility_score(applicant4, cds_dict[\"university_of_minnesota_–_twin_cities_campus\"], max_points_by_cat)"
   ]
  },
  {
   "cell_type": "markdown",
   "id": "afe146a9",
   "metadata": {},
   "source": [
    "------------------"
   ]
  },
  {
   "cell_type": "markdown",
   "id": "be130d0a",
   "metadata": {},
   "source": [
    "### Final Structure"
   ]
  },
  {
   "cell_type": "code",
   "execution_count": 92,
   "id": "f1454568",
   "metadata": {},
   "outputs": [],
   "source": [
    "def generate_school_info(applicant: dict, school: str, folder: str, max_points: dict) -> dict:\n",
    "    \n",
    "    cds = load_cds_from_folder(folder)\n",
    "    matching = calculate_compatibility_score(applicant, cds[school], max_points)\n",
    "\n",
    "    return {\n",
    "        \"id\": matching[\"school_id\"],\n",
    "        \"name\": cds[school].get('name', None),\n",
    "        \"rankings\": {\n",
    "            \"niche\": {\n",
    "                \"total_rank\": 0,\n",
    "                \"majors_rank\": [\n",
    "                    {\n",
    "                        \"field\": \"\",\n",
    "                        \"rank\": 0,\n",
    "                        \"total\": 0\n",
    "                    },\n",
    "                    {\n",
    "                        \"field\": \"\",\n",
    "                        \"rank\": 0,\n",
    "                        \"total\": 0\n",
    "                    }\n",
    "                ]\n",
    "            },\n",
    "            \"us\": 0,\n",
    "            \"qs\": 0\n",
    "        },\n",
    "        \"location\": {\n",
    "            \"state\": cds[school].get('state.State', None),\n",
    "            \"coordinates\": {\n",
    "                \"latitude\": 0,\n",
    "                \"longitude\": 0\n",
    "            }\n",
    "        },\n",
    "        \"essays\": {\n",
    "            \"common_app\": \"\",\n",
    "            \"supplementary\": {\n",
    "                \"0\": \"\",\n",
    "                \"1\": \"\",\n",
    "            }\n",
    "        },\n",
    "        \"importance_table\": {\n",
    "            \"Rigor of Secondary School Record\": cds[school].get('rigor_of_secondary_school_record', None),\n",
    "            \"GPA\": cds[school].get('gpa_importance', None),\n",
    "            \"Standardized Test Scores\": cds[school].get('sat_act_importance', None),\n",
    "            \"Essays\": cds[school].get('application_essay', None),\n",
    "            \"Interview\": cds[school].get('interview', None),\n",
    "            \"Extracurricular\": cds[school].get('extracurricular_activities', None),\n",
    "            \"Talent/Ability\": cds[school].get('talent_ability', None),\n",
    "            \"Character/Personal Qualities\": cds[school].get('character_personal_qualities', None),\n",
    "            \"First Generation\": cds[school].get('first_generation_importance', None),\n",
    "            \"Alumni Relations\": cds[school].get('alumni_importance', None),\n",
    "            \"Geographical Residence\": cds[school].get('geographical_residence', None),\n",
    "            \"State Residency\": cds[school].get('residency_importance', None)\n",
    "        },\n",
    "        \"matching_score\": {\n",
    "            \"applicant\": matching[\"applicant\"],\n",
    "            \"school_id\": matching[\"school_id\"],\n",
    "            \"score\": round(matching[\"score\"], 2),\n",
    "            \"details\": matching[\"details\"],\n",
    "            \"max_score\": {\n",
    "                \"alumni\": round(max_points_by_cat.get(\"alumni_importance\", 0.0), 2),\n",
    "                \"residency\": round(max_points_by_cat.get(\"residency_importance\", 0.0), 2),\n",
    "                \"standardized_test\": round(max_points_by_cat.get(\"sat_act_importance\", 0.0), 2),\n",
    "                \"GPA\": round(max_points_by_cat.get(\"gpa_importance\", 0.0), 2),\n",
    "                \"volunteer_work\": round(max_points_by_cat.get(\"volunteer_work_importance\", 0.0), 2)\n",
    "            }\n",
    "        }\n",
    "    }\n"
   ]
  },
  {
   "cell_type": "code",
   "execution_count": 93,
   "id": "125a672b",
   "metadata": {},
   "outputs": [
    {
     "data": {
      "text/plain": [
       "{'id': 31,\n",
       " 'name': None,\n",
       " 'rankings': {'niche': {'total_rank': 0,\n",
       "   'majors_rank': [{'field': '', 'rank': 0, 'total': 0},\n",
       "    {'field': '', 'rank': 0, 'total': 0}]},\n",
       "  'us': 0,\n",
       "  'qs': 0},\n",
       " 'location': {'state': 'GA', 'coordinates': {'latitude': 0, 'longitude': 0}},\n",
       " 'essays': {'common_app': '', 'supplementary': {'0': '', '1': ''}},\n",
       " 'importance_table': {'Rigor of Secondary School Record': 'very important',\n",
       "  'GPA': 'very important',\n",
       "  'Standardized Test Scores': 'considered',\n",
       "  'Essays': 'important',\n",
       "  'Interview': 'not considered',\n",
       "  'Extracurricular': 'important',\n",
       "  'Talent/Ability': 'considered',\n",
       "  'Character/Personal Qualities': 'very important',\n",
       "  'First Generation': 'considered',\n",
       "  'Alumni Relations': 'not considered',\n",
       "  'Geographical Residence': 'considered',\n",
       "  'State Residency': 'very important'},\n",
       " 'matching_score': {'applicant': '4b34dfc4-fb21-4a9b-886a-126e1428a744',\n",
       "  'school_id': 31,\n",
       "  'score': 50.91,\n",
       "  'details': {'alumni': 0.0,\n",
       "   'residency': 2.68,\n",
       "   'standardized_test': 17.14,\n",
       "   'GPA': 26.43,\n",
       "   'volunteer_work': 17.14},\n",
       "  'max_score': {'alumni': 0.0,\n",
       "   'residency': 25.71,\n",
       "   'standardized_test': 22.86,\n",
       "   'GPA': 28.57,\n",
       "   'volunteer_work': 22.86}}}"
      ]
     },
     "execution_count": 93,
     "metadata": {},
     "output_type": "execute_result"
    }
   ],
   "source": [
    "generate_school_info(applicant1, 'georgia_institute_of_technology', 'output_cds_test', max_points_by_cat)"
   ]
  },
  {
   "cell_type": "code",
   "execution_count": null,
   "id": "3ce09031",
   "metadata": {},
   "outputs": [],
   "source": []
  }
 ],
 "metadata": {
  "kernelspec": {
   "display_name": "base",
   "language": "python",
   "name": "python3"
  },
  "language_info": {
   "codemirror_mode": {
    "name": "ipython",
    "version": 3
   },
   "file_extension": ".py",
   "mimetype": "text/x-python",
   "name": "python",
   "nbconvert_exporter": "python",
   "pygments_lexer": "ipython3",
   "version": "3.11.5"
  }
 },
 "nbformat": 4,
 "nbformat_minor": 5
}
