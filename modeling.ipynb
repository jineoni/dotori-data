{
 "cells": [
  {
   "cell_type": "markdown",
   "id": "867fe259",
   "metadata": {},
   "source": [
    "### Applicants Sample"
   ]
  },
  {
   "cell_type": "code",
   "execution_count": 226,
   "id": "42291858",
   "metadata": {},
   "outputs": [],
   "source": [
    "applicant1 = {\n",
    "    \"high_school_completion\": 1,\n",
    "    \"general_college_requirement\": \n",
    "        {\n",
    "            \"english\": 4,\n",
    "            \"math\": 4,\n",
    "            \"science\": 4,\n",
    "            \"scienceLab\": 2,\n",
    "            \"language\": 2,\n",
    "            \"social\": 3,\n",
    "            \"arts\": 4\n",
    "        },\n",
    "    \"alumni\": 1,\n",
    "    \"first\": 0,\n",
    "    \"alumni_school_names\": [\"Georgia Tech\", \"NYU\", \"University of Minnesota\", \"U Georgia\"],\n",
    "    \"residency\": \"domestic\",\n",
    "    \"state\": \"MN\",\n",
    "    \"country\": \"\",\n",
    "    \"sat\": 1520,\n",
    "    \"act\": 0,\n",
    "    \"gpa\": 3.7,\n",
    "    \"volunteering_hours\": 150,\n",
    "    \"work_months\": 0\n",
    "}"
   ]
  },
  {
   "cell_type": "code",
   "execution_count": 227,
   "id": "8881a401",
   "metadata": {},
   "outputs": [],
   "source": [
    "applicant2 = {\n",
    "    \"high_school_completion\": 1,\n",
    "    \"general_college_requirement\": \n",
    "        {\n",
    "            \"english\": 4,\n",
    "            \"math\": 4,\n",
    "            \"science\": 4,\n",
    "            \"scienceLab\": 2,\n",
    "            \"language\": 2,\n",
    "            \"social\": 3,\n",
    "            \"arts\": 4\n",
    "        },\n",
    "    \"alumni\": 0,\n",
    "    \"first\": 0,\n",
    "    \"alumni_school_names\": [],\n",
    "    \"residency\": \"international\",\n",
    "    \"state\": \"\",\n",
    "    \"country\": \"Korea, Republic of\",\n",
    "    \"sat\": 1520,\n",
    "    \"act\": 0,\n",
    "    \"gpa\": 3.7,\n",
    "    \"volunteering_hours\": 150,\n",
    "    \"work_months\": 0\n",
    "}"
   ]
  },
  {
   "cell_type": "code",
   "execution_count": 294,
   "id": "cf401c12",
   "metadata": {},
   "outputs": [],
   "source": [
    "applicant3 = {\n",
    "    \"high_school_completion\": 1,\n",
    "    \"general_college_requirement\":         \n",
    "        {\n",
    "            \"english\": 4,\n",
    "            \"math\": 4,\n",
    "            \"science\": 4,\n",
    "            \"scienceLab\": 2,\n",
    "            \"language\": 2,\n",
    "            \"social\": 3,\n",
    "            \"arts\": 4\n",
    "        },\n",
    "    \"alumni\": 0,\n",
    "    \"first\": 0,\n",
    "    \"alumni_school_names\": [],\n",
    "    \"residency\": \"international\",\n",
    "    \"state\": \"\",\n",
    "    \"country\": \"Korea, Republic of\",\n",
    "    \"sat\": 1480,\n",
    "    \"act\": 0,\n",
    "    \"gpa\": 3.9,\n",
    "    \"volunteering_hours\": 150,\n",
    "    \"work_months\": 3\n",
    "}"
   ]
  },
  {
   "cell_type": "code",
   "execution_count": 295,
   "id": "07aa1116",
   "metadata": {},
   "outputs": [],
   "source": [
    "applicant4 = {\n",
    "    \"high_school_completion\": 1,\n",
    "    \"general_college_requirement\": \n",
    "        {\n",
    "            \"english\": 4,\n",
    "            \"math\": 4,\n",
    "            \"science\": 4,\n",
    "            \"scienceLab\": 2,\n",
    "            \"language\": 2,\n",
    "            \"social\": 3,\n",
    "            \"arts\": 4\n",
    "        },\n",
    "    \"alumni\": 0,\n",
    "    \"first\": 0,\n",
    "    \"alumni_school_names\": [],\n",
    "    \"residency\": \"international\",\n",
    "    \"state\": \"\",\n",
    "    \"country\": \"Korea, Republic of\",\n",
    "    \"sat\": 1300,\n",
    "    \"act\": 0,\n",
    "    \"gpa\": 2.8,\n",
    "    \"volunteering_hours\": 150,\n",
    "    \"work_months\": 0\n",
    "}"
   ]
  },
  {
   "cell_type": "markdown",
   "id": "cf07ff57",
   "metadata": {},
   "source": [
    "### Crawling"
   ]
  },
  {
   "cell_type": "code",
   "execution_count": 230,
   "id": "745e9ba5",
   "metadata": {},
   "outputs": [],
   "source": [
    "import os\n",
    "import pdfplumber\n",
    "import re"
   ]
  },
  {
   "cell_type": "code",
   "execution_count": 231,
   "id": "5302b8df",
   "metadata": {},
   "outputs": [],
   "source": [
    "input_folder = 'pdf'\n",
    "\n",
    "gatech_file_path = os.path.join(input_folder, 'gatech.pdf')\n",
    "umn_file_path = os.path.join(input_folder, 'umn.pdf')\n",
    "nyu_file_path = os.path.join(input_folder, 'nyu.pdf')\n",
    "uga_file_path = os.path.join(input_folder, 'uga.pdf')"
   ]
  },
  {
   "cell_type": "code",
   "execution_count": 232,
   "id": "f13da305",
   "metadata": {},
   "outputs": [],
   "source": [
    "# Remove None and empty string from row\n",
    "def clean_row(row):\n",
    "    return [cell for cell in row if cell not in [None, '']]"
   ]
  },
  {
   "cell_type": "code",
   "execution_count": 233,
   "id": "9719df68",
   "metadata": {},
   "outputs": [],
   "source": [
    "# Extract only numbers from the cell\n",
    "def clean_number(cell):\n",
    "    cell = re.sub(r'[^\\d.]', '', str(cell)) # Remove all non-numeric characters\n",
    "    try:\n",
    "        return float(cell)\n",
    "    except:\n",
    "        return 0"
   ]
  },
  {
   "cell_type": "code",
   "execution_count": 234,
   "id": "a30f6a70",
   "metadata": {},
   "outputs": [],
   "source": [
    "# Extract text from a section like \"C{#}.\" up to before \"C{#+1}.\"\n",
    "\n",
    "def extract_section_by_label(file_path, section_label):\n",
    "    next_label = \"c\" + str(int(section_label[1:]) + 1)\n",
    "\n",
    "    full_text = \"\"\n",
    "    with pdfplumber.open(file_path) as pdf:\n",
    "        for page in pdf.pages:\n",
    "            text = page.extract_text()\n",
    "            if text:\n",
    "                full_text += text.lower()\n",
    "\n",
    "    # Match exact line starting with \"c{#}.\"\n",
    "    # ^ = matches the beginning of a line\n",
    "    start_match = re.search(rf\"({section_label.lower()}[\\. ])\", full_text)\n",
    "    if not start_match:\n",
    "        print(f\"Section {section_label.upper()} not found.\")\n",
    "        return\n",
    "    start_idx = start_match.start()\n",
    "\n",
    "    # Look for the start of the next section\n",
    "    next_match = re.search(rf\"({next_label}[\\. ])\", full_text[start_idx:])\n",
    "    end_idx = start_idx + next_match.start() if next_match else None # If we don't find the next label, go to the end of the document\n",
    "\n",
    "    section_text = full_text[start_idx:end_idx]\n",
    "\n",
    "    return section_text"
   ]
  },
  {
   "cell_type": "markdown",
   "id": "5d3d3aae",
   "metadata": {},
   "source": [
    "##### Residency"
   ]
  },
  {
   "cell_type": "code",
   "execution_count": 235,
   "id": "e7d2d8a7",
   "metadata": {},
   "outputs": [],
   "source": [
    "def extract_residency_data(file_path):\n",
    "    \n",
    "    result = {\n",
    "        'applicants': {'in-state': 0, 'out-of-state': 0, 'international': 0, 'others': 0},\n",
    "        'admitted': {'in-state': 0, 'out-of-state': 0, 'international': 0, 'others': 0}\n",
    "    }\n",
    "\n",
    "    # Define keywords to identify residency-related and first-year-related tables\n",
    "    residency_keywords = ['in-state', 'out-of-state', 'international']\n",
    "    first_keywords = ['first-time', 'first-year']\n",
    "\n",
    "    with pdfplumber.open(file_path) as pdf:\n",
    "        for page in pdf.pages:\n",
    "            tables = page.extract_tables()\n",
    "\n",
    "            for table in tables:\n",
    "                \n",
    "                # Check if this table is relevant\n",
    "                table_str = ' '.join(str(cell).lower() for row in table for cell in row if cell)\n",
    "                if not (any(keyword in table_str for keyword in residency_keywords) and all(keyword in table_str for keyword in first_keywords)):\n",
    "                    continue\n",
    "                \n",
    "                # Extract header row\n",
    "                header_row = clean_row([str(cell or '').lower() for cell in table[0]])\n",
    "\n",
    "                # Find index of each column\n",
    "                col_idx = {'in-state': -1, 'out-of-state': -1, 'international': -1, 'others': -1}\n",
    "                for idx, col in enumerate(header_row):\n",
    "                    if 'in-' in col:\n",
    "                        col_idx['in-state'] = idx\n",
    "                    elif 'out-' in col:\n",
    "                        col_idx['out-of-state'] = idx\n",
    "                    elif 'inter' in col:\n",
    "                        col_idx['international'] = idx\n",
    "                    elif 'unk' in col:\n",
    "                        col_idx['others'] = idx\n",
    "\n",
    "                # Loop through data rows\n",
    "                for row in table[1:]:  # skip header\n",
    "                    row = clean_row(row)\n",
    "                    row_str = ' '.join(str(cell or '').lower() for cell in row)\n",
    "\n",
    "                   # Identify whether this row is about applicants or admitted students\n",
    "                    if 'applied' in row_str:\n",
    "                        target = 'applicants'\n",
    "                    elif 'admitted' in row_str:\n",
    "                        target = 'admitted'\n",
    "                    else:\n",
    "                        continue # Skip if not relevant\n",
    "                    \n",
    "                    # Add residency-specific count\n",
    "                    if col_idx['in-state'] != -1 and col_idx['in-state'] < len(row):\n",
    "                        result[target]['in-state'] += clean_number(row[col_idx['in-state']])\n",
    "                    if col_idx['out-of-state'] != -1 and col_idx['out-of-state'] < len(row):\n",
    "                        result[target]['out-of-state'] += clean_number(row[col_idx['out-of-state']])\n",
    "                    if col_idx['international'] != -1 and col_idx['international'] < len(row):\n",
    "                        result[target]['international'] += clean_number(row[col_idx['international']])\n",
    "                    if col_idx['others'] != -1 and col_idx['others'] < len(row):\n",
    "                        result[target]['others'] += clean_number(row[col_idx['others']])\n",
    "\n",
    "    return result\n"
   ]
  },
  {
   "cell_type": "code",
   "execution_count": 236,
   "id": "3cf59995",
   "metadata": {},
   "outputs": [
    {
     "data": {
      "text/plain": [
       "{'applicants': {'in-state': 10674.0,\n",
       "  'out-of-state': 38320.0,\n",
       "  'international': 10795.0,\n",
       "  'others': 0.0},\n",
       " 'admitted': {'in-state': 3536.0,\n",
       "  'out-of-state': 3992.0,\n",
       "  'international': 885.0,\n",
       "  'others': 0.0}}"
      ]
     },
     "execution_count": 236,
     "metadata": {},
     "output_type": "execute_result"
    }
   ],
   "source": [
    "extract_residency_data(gatech_file_path)"
   ]
  },
  {
   "cell_type": "code",
   "execution_count": 237,
   "id": "a39785fb",
   "metadata": {},
   "outputs": [
    {
     "data": {
      "text/plain": [
       "{'applicants': {'in-state': 13982.0,\n",
       "  'out-of-state': 19461.0,\n",
       "  'international': 1256.0,\n",
       "  'others': 0},\n",
       " 'admitted': {'in-state': 10498.0,\n",
       "  'out-of-state': 15400.0,\n",
       "  'international': 982.0,\n",
       "  'others': 0}}"
      ]
     },
     "execution_count": 237,
     "metadata": {},
     "output_type": "execute_result"
    }
   ],
   "source": [
    "extract_residency_data(umn_file_path)"
   ]
  },
  {
   "cell_type": "code",
   "execution_count": 238,
   "id": "acf64d16",
   "metadata": {},
   "outputs": [
    {
     "data": {
      "text/plain": [
       "{'applicants': {'in-state': 0,\n",
       "  'out-of-state': 0.0,\n",
       "  'international': 0,\n",
       "  'others': 0},\n",
       " 'admitted': {'in-state': 0,\n",
       "  'out-of-state': 0.0,\n",
       "  'international': 0,\n",
       "  'others': 0}}"
      ]
     },
     "execution_count": 238,
     "metadata": {},
     "output_type": "execute_result"
    }
   ],
   "source": [
    "extract_residency_data(nyu_file_path)"
   ]
  },
  {
   "cell_type": "code",
   "execution_count": 239,
   "id": "3c150608",
   "metadata": {},
   "outputs": [
    {
     "data": {
      "text/plain": [
       "{'applicants': {'in-state': 18210.0,\n",
       "  'out-of-state': 23867.0,\n",
       "  'international': 1338.0,\n",
       "  'others': 1.0},\n",
       " 'admitted': {'in-state': 9149.0,\n",
       "  'out-of-state': 6709.0,\n",
       "  'international': 289.0,\n",
       "  'others': 1.0}}"
      ]
     },
     "execution_count": 239,
     "metadata": {},
     "output_type": "execute_result"
    }
   ],
   "source": [
    "extract_residency_data(uga_file_path)"
   ]
  },
  {
   "cell_type": "markdown",
   "id": "662dee14",
   "metadata": {},
   "source": [
    "##### High School Completion Requirement"
   ]
  },
  {
   "cell_type": "code",
   "execution_count": 240,
   "id": "9aa9fb81",
   "metadata": {},
   "outputs": [],
   "source": [
    "def extract_highschool_requirement(file_path):\n",
    "\n",
    "    result = {\n",
    "        'high school diploma required': 0,\n",
    "        'GED accepted': 0\n",
    "    }\n",
    "\n",
    "    # Define exact phrases expected in each case\n",
    "    diploma_and_ged = \"high school diploma is required and ged is accepted\"\n",
    "    diploma_only = \"high school diploma is required and ged is not accepted\"\n",
    "    no_diploma_needed = \"high school diploma or equivalent is not required\"\n",
    "    \n",
    "    # Define marks\n",
    "    marks = ['x', '☒', '✓', '✔', '4']\n",
    "\n",
    "    # Extract only the C3 section using helper function\n",
    "    section_text = extract_section_by_label(file_path, \"C3\")\n",
    "    if not section_text:\n",
    "        return result  # Return default if section not found\n",
    "\n",
    "    section_text = section_text.lower()\n",
    "    found_checked_option = False # Will be set to True if a checkbox is detected\n",
    "\n",
    "    # Go through each line to find checked options\n",
    "    for line in section_text.split('\\n'):\n",
    "        # '4' is included because some pdf files incorrectly render checkmarks as '4'\n",
    "        if diploma_and_ged in line and any(mark in line for mark in marks):\n",
    "            result['high school diploma required'] = 1\n",
    "            result['GED accepted'] = 1\n",
    "            found_checked_option = True\n",
    "            break\n",
    "        elif diploma_only in line and any(mark in line for mark in marks):\n",
    "            result['high school diploma required'] = 1\n",
    "            result['GED accepted'] = 0\n",
    "            found_checked_option = True\n",
    "            break\n",
    "        elif no_diploma_needed in line and any(mark in line for mark in marks):\n",
    "            result['high school diploma required'] = 0\n",
    "            result['GED accepted'] = 0\n",
    "            found_checked_option = True\n",
    "            break\n",
    "\n",
    "    # If no checkboxes were found, use a fallback approach based on keyword presence\n",
    "    if not found_checked_option:\n",
    "        if diploma_and_ged in section_text:\n",
    "            result['high school diploma required'] = 1\n",
    "            result['GED accepted'] = 1\n",
    "        elif diploma_only in section_text:\n",
    "            result['high school diploma required'] = 1\n",
    "            result['GED accepted'] = 0\n",
    "        elif no_diploma_needed in section_text:\n",
    "            result['high school diploma required'] = 0\n",
    "            result['GED accepted'] = 0\n",
    "\n",
    "    return result"
   ]
  },
  {
   "cell_type": "code",
   "execution_count": 241,
   "id": "27ed2ae9",
   "metadata": {},
   "outputs": [
    {
     "data": {
      "text/plain": [
       "{'high school diploma required': 1, 'GED accepted': 0}"
      ]
     },
     "execution_count": 241,
     "metadata": {},
     "output_type": "execute_result"
    }
   ],
   "source": [
    "extract_highschool_requirement(gatech_file_path)"
   ]
  },
  {
   "cell_type": "code",
   "execution_count": 242,
   "id": "4e54b9e8",
   "metadata": {},
   "outputs": [
    {
     "data": {
      "text/plain": [
       "{'high school diploma required': 1, 'GED accepted': 1}"
      ]
     },
     "execution_count": 242,
     "metadata": {},
     "output_type": "execute_result"
    }
   ],
   "source": [
    "extract_highschool_requirement(umn_file_path)"
   ]
  },
  {
   "cell_type": "code",
   "execution_count": 243,
   "id": "14a6fc7a",
   "metadata": {},
   "outputs": [
    {
     "data": {
      "text/plain": [
       "{'high school diploma required': 1, 'GED accepted': 1}"
      ]
     },
     "execution_count": 243,
     "metadata": {},
     "output_type": "execute_result"
    }
   ],
   "source": [
    "extract_highschool_requirement(nyu_file_path)"
   ]
  },
  {
   "cell_type": "code",
   "execution_count": 244,
   "id": "6d83b95d",
   "metadata": {},
   "outputs": [
    {
     "data": {
      "text/plain": [
       "{'high school diploma required': 1, 'GED accepted': 1}"
      ]
     },
     "execution_count": 244,
     "metadata": {},
     "output_type": "execute_result"
    }
   ],
   "source": [
    "extract_highschool_requirement(uga_file_path)"
   ]
  },
  {
   "cell_type": "markdown",
   "id": "517842ce",
   "metadata": {},
   "source": [
    "##### General College-Preparatory Program Requirement"
   ]
  },
  {
   "cell_type": "code",
   "execution_count": 245,
   "id": "8652dccd",
   "metadata": {},
   "outputs": [],
   "source": [
    "def extract_college_prep_requirement(file_path):\n",
    "    \n",
    "    result = {\n",
    "        'general college-preparatory program': \n",
    "            {\n",
    "                'required': 0,\n",
    "                'recommended': 0,\n",
    "                'neither required or recommended': 0\n",
    "            }\n",
    "        }\n",
    "\n",
    "    # Define key phrases to match\n",
    "    required = \"require\"\n",
    "    recommended = \"recommend\"\n",
    "    neither = \"neither require nor recommend\"\n",
    "    \n",
    "    # Define marks\n",
    "    marks = ['x', '☒', '✓', '✔', '4']\n",
    "\n",
    "    # Extract only the C4 section using helper function\n",
    "    section_text = extract_section_by_label(file_path, 'C4')\n",
    "    if not section_text:\n",
    "        return result # Return default if section not found\n",
    "    section_text = section_text.lower()\n",
    "    \n",
    "    found_checked_option = False # Will be set to True if a checkbox is detected\n",
    "\n",
    "    # Go through each line to find checked options\n",
    "    for line in section_text.split('\\n'):\n",
    "        \n",
    "        # Skip the question sectence\n",
    "        if line.startswith('c4'):\n",
    "            continue\n",
    "        \n",
    "        # '4' is included because some pdf files incorrectly render checkmarks as '4'\n",
    "        if neither in line and any(mark in line for mark in marks):\n",
    "            result['general college-preparatory program']['neither required or recommended'] = 1\n",
    "            found_checked_option = True\n",
    "            break\n",
    "        elif required in line and any(mark in line for mark in marks):\n",
    "            result['general college-preparatory program']['required'] = 1\n",
    "            found_checked_option = True\n",
    "            break\n",
    "        elif recommended in line and any(mark in line for mark in marks):\n",
    "            result['general college-preparatory program']['recommended'] = 1\n",
    "            found_checked_option = True\n",
    "            break\n",
    "\n",
    "    # If no checkboxes were found, use a fallback approach based on keyword presence\n",
    "    if not found_checked_option:\n",
    "        if \"neither require nor recommend\" in section_text:\n",
    "            result['general college-preparatory program']['neither required or recommended'] = 1\n",
    "        elif \"recommend\" in section_text:\n",
    "            result['general college-preparatory program']['recommended'] = 1\n",
    "        elif \"require\" in section_text:\n",
    "            result['general college-preparatory program']['required'] = 1\n",
    "\n",
    "    return result"
   ]
  },
  {
   "cell_type": "code",
   "execution_count": 246,
   "id": "097cbd6b",
   "metadata": {},
   "outputs": [
    {
     "data": {
      "text/plain": [
       "{'general college-preparatory program': {'required': 1,\n",
       "  'recommended': 0,\n",
       "  'neither required or recommended': 0}}"
      ]
     },
     "execution_count": 246,
     "metadata": {},
     "output_type": "execute_result"
    }
   ],
   "source": [
    "extract_college_prep_requirement(gatech_file_path)"
   ]
  },
  {
   "cell_type": "code",
   "execution_count": 247,
   "id": "36b1fb78",
   "metadata": {},
   "outputs": [
    {
     "data": {
      "text/plain": [
       "{'general college-preparatory program': {'required': 0,\n",
       "  'recommended': 1,\n",
       "  'neither required or recommended': 0}}"
      ]
     },
     "execution_count": 247,
     "metadata": {},
     "output_type": "execute_result"
    }
   ],
   "source": [
    "extract_college_prep_requirement(umn_file_path)"
   ]
  },
  {
   "cell_type": "code",
   "execution_count": 248,
   "id": "05554447",
   "metadata": {},
   "outputs": [
    {
     "data": {
      "text/plain": [
       "{'general college-preparatory program': {'required': 0,\n",
       "  'recommended': 1,\n",
       "  'neither required or recommended': 0}}"
      ]
     },
     "execution_count": 248,
     "metadata": {},
     "output_type": "execute_result"
    }
   ],
   "source": [
    "extract_college_prep_requirement(nyu_file_path)"
   ]
  },
  {
   "cell_type": "code",
   "execution_count": 249,
   "id": "a9388da4",
   "metadata": {},
   "outputs": [
    {
     "data": {
      "text/plain": [
       "{'general college-preparatory program': {'required': 1,\n",
       "  'recommended': 0,\n",
       "  'neither required or recommended': 0}}"
      ]
     },
     "execution_count": 249,
     "metadata": {},
     "output_type": "execute_result"
    }
   ],
   "source": [
    "extract_college_prep_requirement(uga_file_path)"
   ]
  },
  {
   "cell_type": "code",
   "execution_count": 250,
   "id": "fefbd4fe",
   "metadata": {},
   "outputs": [],
   "source": [
    "def extract_general_college_subjects(file_path):\n",
    "    import pdfplumber\n",
    "\n",
    "    result = {\n",
    "        \"english\": 0,\n",
    "        \"math\": 0,\n",
    "        \"science\": 0,\n",
    "        \"scienceLab\": 0,\n",
    "        \"language\": 0,\n",
    "        \"social\": 0,\n",
    "        \"arts\": 0\n",
    "    }\n",
    "\n",
    "    # Keywords that commonly appear in the C5 subject distribution table\n",
    "    subject_keywords = [\"english\", \"math\", \"science\"]\n",
    "\n",
    "    with pdfplumber.open(file_path) as pdf:\n",
    "        for page in pdf.pages:\n",
    "            tables = page.extract_tables()\n",
    "            for table in tables:\n",
    "                if not table or len(table[0]) < 2:\n",
    "                    continue  # Skip empty or invalid tables\n",
    "\n",
    "                # Convert header cells to lowercase for comparison\n",
    "                headers = [cell.lower() if cell else \"\" for cell in table[0]]\n",
    "\n",
    "                # Check if table looks like a C5 table based on header content\n",
    "                header_match = \"distribution of high\" in headers[0] or \\\n",
    "                               (\"units required\" in headers[1] if len(headers) > 1 else False)\n",
    "\n",
    "                # nyu - Check if at least 3 subject-related keywords appear in row labels\n",
    "                match_count = 0\n",
    "                for row in table:\n",
    "                    if not row or len(row) < 1:\n",
    "                        continue\n",
    "                    label = row[0].lower().strip() if row[0] else \"\"\n",
    "                    if any(keyword in label for keyword in subject_keywords):\n",
    "                        match_count += 1\n",
    "                keyword_match = match_count >= 3\n",
    "\n",
    "                # Skip this table if neither condition is satisfied\n",
    "                if not (header_match or keyword_match):\n",
    "                    continue\n",
    "\n",
    "                # Parse the table rows: skip first row if headers are matched\n",
    "                for row in table[1:] if header_match else table:\n",
    "                    row = clean_row([cell.lower().strip() if cell else \"\" for cell in row])\n",
    "                    if not row or len(row) < 1:\n",
    "                        continue\n",
    "\n",
    "                    label = row[0]\n",
    "                    value = row[1] if len(row) > 1 else \"\"\n",
    "\n",
    "                    # Match labels to subjects and clean the numerical value\n",
    "                    if \"english\" in label:\n",
    "                        result[\"english\"] = clean_number(value)\n",
    "                    elif \"math\" in label:\n",
    "                        result[\"math\"] = clean_number(value)\n",
    "                    elif label == \"science\":\n",
    "                        result[\"science\"] = clean_number(value)\n",
    "                    elif \"lab\" in label:\n",
    "                        result[\"scienceLab\"] = clean_number(value)\n",
    "                    elif \"language\" in label:\n",
    "                        result[\"language\"] = clean_number(value)\n",
    "                    elif \"social studies\" in label:\n",
    "                        result[\"social\"] = clean_number(value)\n",
    "                    elif \"arts\" in label:\n",
    "                        result[\"arts\"] = clean_number(value)\n",
    "\n",
    "                # Return immediately after finding and parsing the correct C5 table\n",
    "                return result\n",
    "\n",
    "    return result  # Return default if no matching table was found\n"
   ]
  },
  {
   "cell_type": "code",
   "execution_count": 251,
   "id": "ab812b5f",
   "metadata": {},
   "outputs": [
    {
     "data": {
      "text/plain": [
       "{'english': 4.0,\n",
       " 'math': 4.0,\n",
       " 'science': 4.0,\n",
       " 'scienceLab': 2.0,\n",
       " 'language': 2.0,\n",
       " 'social': 3.0,\n",
       " 'arts': 0}"
      ]
     },
     "execution_count": 251,
     "metadata": {},
     "output_type": "execute_result"
    }
   ],
   "source": [
    "extract_general_college_subjects(gatech_file_path)"
   ]
  },
  {
   "cell_type": "code",
   "execution_count": 252,
   "id": "f8264b57",
   "metadata": {},
   "outputs": [
    {
     "data": {
      "text/plain": [
       "{'english': 4.0,\n",
       " 'math': 4.0,\n",
       " 'science': 3.0,\n",
       " 'scienceLab': 1.0,\n",
       " 'language': 2.0,\n",
       " 'social': 3.0,\n",
       " 'arts': 1.0}"
      ]
     },
     "execution_count": 252,
     "metadata": {},
     "output_type": "execute_result"
    }
   ],
   "source": [
    "extract_general_college_subjects(umn_file_path)"
   ]
  },
  {
   "cell_type": "code",
   "execution_count": 253,
   "id": "b43468e4",
   "metadata": {},
   "outputs": [
    {
     "data": {
      "text/plain": [
       "{'english': 4.0,\n",
       " 'math': 3.0,\n",
       " 'science': 3.0,\n",
       " 'scienceLab': 3.0,\n",
       " 'language': 3.0,\n",
       " 'social': 3.0,\n",
       " 'arts': 0}"
      ]
     },
     "execution_count": 253,
     "metadata": {},
     "output_type": "execute_result"
    }
   ],
   "source": [
    "extract_general_college_subjects(nyu_file_path)"
   ]
  },
  {
   "cell_type": "code",
   "execution_count": 254,
   "id": "3ad7c606",
   "metadata": {},
   "outputs": [
    {
     "data": {
      "text/plain": [
       "{'english': 4.0,\n",
       " 'math': 4.0,\n",
       " 'science': 4.0,\n",
       " 'scienceLab': 2.0,\n",
       " 'language': 2.0,\n",
       " 'social': 3.0,\n",
       " 'arts': 0}"
      ]
     },
     "execution_count": 254,
     "metadata": {},
     "output_type": "execute_result"
    }
   ],
   "source": [
    "extract_general_college_subjects(uga_file_path)"
   ]
  },
  {
   "cell_type": "markdown",
   "id": "3968b5f2",
   "metadata": {},
   "source": [
    "### Preprocessing"
   ]
  },
  {
   "cell_type": "code",
   "execution_count": 255,
   "id": "ae0f79d5",
   "metadata": {},
   "outputs": [],
   "source": [
    "def calculate_acceptance_rates(data):\n",
    "    applicants = data['applicants']\n",
    "    admitted = data['admitted']\n",
    "    rates = {}\n",
    "    for category in applicants:\n",
    "        applied = applicants[category]\n",
    "        accepted = admitted.get(category, 0)\n",
    "        if applied > 0:\n",
    "            rates[category] = accepted / applied\n",
    "        else:\n",
    "            rates[category] = None \n",
    "    return rates"
   ]
  },
  {
   "cell_type": "code",
   "execution_count": 256,
   "id": "fee924da",
   "metadata": {},
   "outputs": [
    {
     "data": {
      "text/plain": [
       "{'in-state': 0.3312722503278996,\n",
       " 'out-of-state': 0.10417536534446764,\n",
       " 'international': 0.08198239925891616,\n",
       " 'others': None}"
      ]
     },
     "execution_count": 256,
     "metadata": {},
     "output_type": "execute_result"
    }
   ],
   "source": [
    "calculate_acceptance_rates(extract_residency_data(gatech_file_path))"
   ]
  },
  {
   "cell_type": "code",
   "execution_count": 257,
   "id": "58c98e68",
   "metadata": {},
   "outputs": [
    {
     "data": {
      "text/plain": [
       "{'in-state': 0.7508224860534973,\n",
       " 'out-of-state': 0.7913262422280458,\n",
       " 'international': 0.7818471337579618,\n",
       " 'others': None}"
      ]
     },
     "execution_count": 257,
     "metadata": {},
     "output_type": "execute_result"
    }
   ],
   "source": [
    "calculate_acceptance_rates(extract_residency_data(umn_file_path))"
   ]
  },
  {
   "cell_type": "code",
   "execution_count": 258,
   "id": "9e5bffe9",
   "metadata": {},
   "outputs": [
    {
     "data": {
      "text/plain": [
       "{'in-state': None, 'out-of-state': None, 'international': None, 'others': None}"
      ]
     },
     "execution_count": 258,
     "metadata": {},
     "output_type": "execute_result"
    }
   ],
   "source": [
    "calculate_acceptance_rates(extract_residency_data(nyu_file_path))"
   ]
  },
  {
   "cell_type": "code",
   "execution_count": 259,
   "id": "ee814554",
   "metadata": {},
   "outputs": [
    {
     "data": {
      "text/plain": [
       "{'in-state': 0.5024162548050521,\n",
       " 'out-of-state': 0.2810994259856706,\n",
       " 'international': 0.21599402092675635,\n",
       " 'others': 1.0}"
      ]
     },
     "execution_count": 259,
     "metadata": {},
     "output_type": "execute_result"
    }
   ],
   "source": [
    "calculate_acceptance_rates(extract_residency_data(uga_file_path))"
   ]
  },
  {
   "cell_type": "markdown",
   "id": "2dfee778",
   "metadata": {},
   "source": [
    "##### SAT or ACT"
   ]
  },
  {
   "cell_type": "code",
   "execution_count": 260,
   "id": "552e4457",
   "metadata": {},
   "outputs": [],
   "source": [
    "def is_marked(cell, marks=['x', '☑', '☒', '✓', '✔', '4']):\n",
    "    if not cell:\n",
    "        return False\n",
    "    cell_str = str(cell).strip().lower()\n",
    "    return any(mark in cell_str for mark in marks)"
   ]
  },
  {
   "cell_type": "code",
   "execution_count": 261,
   "id": "7896d2ca",
   "metadata": {},
   "outputs": [],
   "source": [
    "def classify_requirement(text):\n",
    "    text = text.lower().replace('\\n', ' ')\n",
    "    if \"required to be considered\" in text:\n",
    "        return \"Required\"\n",
    "    elif \"required for some\" in text:\n",
    "        return \"Required for some\"\n",
    "    elif \"recommended\" in text:\n",
    "        return \"Recommended\"\n",
    "    elif \"not required\" in text:\n",
    "        return \"Optional\"\n",
    "    elif \"not considered\" in text:\n",
    "        return \"Not considered\"\n",
    "    return \"Unknown\"\n",
    "\n",
    "# Nyu case\n",
    "def extract_requirement_from_text_lines(text_lines, keyword):\n",
    "    for i, line in enumerate(text_lines):\n",
    "        if keyword.lower() in line.lower():\n",
    "            if i + 1 < len(text_lines):\n",
    "                next_line = text_lines[i + 1].strip()\n",
    "                return classify_requirement(next_line)\n",
    "    return \"Unknown\"\n",
    "\n",
    "# Nyu case\n",
    "def extract_from_text(pdf):\n",
    "    labels = {\n",
    "        \"SAT or ACT\": \"SAT and/or ACT\",\n",
    "        \"ACT Only\": \"ACT Only\",\n",
    "        \"SAT Only\": \"SAT Only\"\n",
    "    }\n",
    "    result = {f\"{label} Requirement\": \"Unknown\" for label in labels}\n",
    "\n",
    "    full_text = \"\"\n",
    "    for page in pdf.pages:\n",
    "        text = page.extract_text()\n",
    "        if text:\n",
    "            full_text += \"\\n\" + text\n",
    "\n",
    "    lines = full_text.split(\"\\n\")\n",
    "\n",
    "    for label, keyword in labels.items():\n",
    "        result[f\"{label} Requirement\"] = extract_requirement_from_text_lines(lines, keyword)\n",
    "\n",
    "    return result\n",
    "\n",
    "# Gatech, Umn case\n",
    "def extract_from_table(pdf):\n",
    "    labels = [\"SAT or ACT\", \"ACT Only\", \"SAT Only\"]\n",
    "    result = {f\"{label} Requirement\": \"Unknown\" for label in labels}\n",
    "\n",
    "    for page in pdf.pages:\n",
    "        tables = page.extract_tables()\n",
    "        for table in tables:\n",
    "            if not table or len(table) < 2:\n",
    "                continue\n",
    "\n",
    "            table_str = ' '.join(str(cell).lower() for row in table for cell in row if cell)\n",
    "            if \"sat or act\" not in table_str:\n",
    "                continue\n",
    "\n",
    "            headers = [str(cell).strip().lower() if cell else \"\" for cell in table[0]]\n",
    "\n",
    "            for row in table[1:]:\n",
    "                row_cells = [str(cell).strip().lower() if cell else \"\" for cell in row]\n",
    "                for label in labels:\n",
    "                    if label.lower() in row_cells[0]:\n",
    "                        for i in range(1, len(row)):\n",
    "                            if i < len(headers) and is_marked(row[i]):\n",
    "                                category = classify_requirement(headers[i])\n",
    "                                if category:\n",
    "                                    result[f\"{label} Requirement\"] = category\n",
    "                                    break\n",
    "    return result\n",
    "\n",
    "def extract_sat_act_required(file_path):\n",
    "    with pdfplumber.open(file_path) as pdf:\n",
    "        table_result = extract_from_table(pdf)\n",
    "        if all(value == \"Unknown\" for value in table_result.values()):\n",
    "            return extract_from_text(pdf)\n",
    "        return table_result"
   ]
  },
  {
   "cell_type": "code",
   "execution_count": 262,
   "id": "103262bb",
   "metadata": {},
   "outputs": [
    {
     "data": {
      "text/plain": [
       "{'SAT or ACT Requirement': 'Required',\n",
       " 'ACT Only Requirement': 'Unknown',\n",
       " 'SAT Only Requirement': 'Unknown'}"
      ]
     },
     "execution_count": 262,
     "metadata": {},
     "output_type": "execute_result"
    }
   ],
   "source": [
    "extract_sat_act_required(gatech_file_path)"
   ]
  },
  {
   "cell_type": "code",
   "execution_count": 263,
   "id": "95a4e64c",
   "metadata": {},
   "outputs": [
    {
     "data": {
      "text/plain": [
       "{'SAT or ACT Requirement': 'Optional',\n",
       " 'ACT Only Requirement': 'Unknown',\n",
       " 'SAT Only Requirement': 'Unknown'}"
      ]
     },
     "execution_count": 263,
     "metadata": {},
     "output_type": "execute_result"
    }
   ],
   "source": [
    "extract_sat_act_required(umn_file_path)"
   ]
  },
  {
   "cell_type": "code",
   "execution_count": 264,
   "id": "c1ae9756",
   "metadata": {},
   "outputs": [
    {
     "data": {
      "text/plain": [
       "{'SAT or ACT Requirement': 'Recommended',\n",
       " 'ACT Only Requirement': 'Optional',\n",
       " 'SAT Only Requirement': 'Optional'}"
      ]
     },
     "execution_count": 264,
     "metadata": {},
     "output_type": "execute_result"
    }
   ],
   "source": [
    "extract_sat_act_required(nyu_file_path)"
   ]
  },
  {
   "cell_type": "code",
   "execution_count": 265,
   "id": "253276bc",
   "metadata": {},
   "outputs": [
    {
     "data": {
      "text/plain": [
       "{'SAT or ACT Requirement': 'Unknown',\n",
       " 'ACT Only Requirement': 'Unknown',\n",
       " 'SAT Only Requirement': 'Unknown'}"
      ]
     },
     "execution_count": 265,
     "metadata": {},
     "output_type": "execute_result"
    }
   ],
   "source": [
    "extract_sat_act_required(uga_file_path)"
   ]
  },
  {
   "cell_type": "code",
   "execution_count": 266,
   "id": "36169f81",
   "metadata": {},
   "outputs": [],
   "source": [
    "def extract_sat_act_scores(file_path):\n",
    "    regex_map = {\n",
    "        \"SAT Composite\": r\"sat.*composite\",\n",
    "        \"SAT EBRW\": r\"sat.*(evidence|ebrw|writing)\",\n",
    "        \"SAT Math\": r\"sat.*math\",\n",
    "        \"ACT Composite\": r\"act.*composite\",\n",
    "        \"ACT Math\": r\"act.*math\",\n",
    "        \"ACT English\": r\"act.*english\",\n",
    "        \"ACT Writing\": r\"act.*writing\",\n",
    "        \"ACT Science\": r\"act.*science\",\n",
    "        \"ACT Reading\": r\"act.*reading\"\n",
    "    }\n",
    "\n",
    "    score_data = {label: {'25th': None, '50th': None, '75th': None} for label in regex_map}\n",
    "\n",
    "    with pdfplumber.open(file_path) as pdf:\n",
    "        for page in pdf.pages:\n",
    "            tables = page.extract_tables()\n",
    "            text = page.extract_text() or \"\"\n",
    "\n",
    "            act_writing_present = \"act writing\" in text.lower()\n",
    "\n",
    "            for table in tables:\n",
    "                 for row in table:\n",
    "                    cleaned_row = [str(cell).lower().strip() if cell else \"\" for cell in row]\n",
    "                    row_label = cleaned_row[0]\n",
    "\n",
    "                    matched_label = None\n",
    "                    for label, pattern in regex_map.items():\n",
    "                        if re.search(pattern, row_label):\n",
    "                            matched_label = label\n",
    "                            break\n",
    "\n",
    "                    if not matched_label and re.fullmatch(r\"writing\", row_label):\n",
    "                        matched_label = \"SAT EBRW\"\n",
    "\n",
    "                    if matched_label:\n",
    "                        numeric_values = [cell for cell in cleaned_row[1:] if cell.replace('.', '', 1).isdigit()]\n",
    "                        for i, key in enumerate(['25th', '50th', '75th']):\n",
    "                            if i < len(numeric_values):\n",
    "                                score_data[matched_label][key] = numeric_values[i]\n",
    "\n",
    "    return score_data"
   ]
  },
  {
   "cell_type": "code",
   "execution_count": 267,
   "id": "c7433dd0",
   "metadata": {},
   "outputs": [
    {
     "data": {
      "text/plain": [
       "{'SAT Composite': {'25th': '1370', '50th': '1460', '75th': '1530'},\n",
       " 'SAT EBRW': {'25th': '680', '50th': '720', '75th': '750'},\n",
       " 'SAT Math': {'25th': '690', '50th': '760', '75th': '790'},\n",
       " 'ACT Composite': {'25th': '30', '50th': '33', '75th': '34'},\n",
       " 'ACT Math': {'25th': '29', '50th': '32', '75th': '35'},\n",
       " 'ACT English': {'25th': '31', '50th': '34', '75th': '35'},\n",
       " 'ACT Writing': {'25th': '8', '50th': '8', '75th': '9'},\n",
       " 'ACT Science': {'25th': '29', '50th': '33', '75th': '35'},\n",
       " 'ACT Reading': {'25th': '31', '50th': '34', '75th': '35'}}"
      ]
     },
     "execution_count": 267,
     "metadata": {},
     "output_type": "execute_result"
    }
   ],
   "source": [
    "extract_sat_act_scores(gatech_file_path)"
   ]
  },
  {
   "cell_type": "code",
   "execution_count": 268,
   "id": "89f4702b",
   "metadata": {},
   "outputs": [
    {
     "data": {
      "text/plain": [
       "{'SAT Composite': {'25th': '1328', '50th': '1400', '75th': '1460'},\n",
       " 'SAT EBRW': {'25th': '640', '50th': '680', '75th': '720'},\n",
       " 'SAT Math': {'25th': '670', '50th': '720', '75th': '760'},\n",
       " 'ACT Composite': {'25th': '27', '50th': '29', '75th': '31'},\n",
       " 'ACT Math': {'25th': '25', '50th': '28', '75th': '31'},\n",
       " 'ACT English': {'25th': '25', '50th': '28', '75th': '33'},\n",
       " 'ACT Writing': {'25th': '7', '50th': '8', '75th': '9'},\n",
       " 'ACT Science': {'25th': '25', '50th': '28', '75th': '32'},\n",
       " 'ACT Reading': {'25th': '27', '50th': '31', '75th': '34'}}"
      ]
     },
     "execution_count": 268,
     "metadata": {},
     "output_type": "execute_result"
    }
   ],
   "source": [
    "extract_sat_act_scores(umn_file_path)"
   ]
  },
  {
   "cell_type": "code",
   "execution_count": 269,
   "id": "df54ebef",
   "metadata": {},
   "outputs": [
    {
     "data": {
      "text/plain": [
       "{'SAT Composite': {'25th': None, '50th': None, '75th': None},\n",
       " 'SAT EBRW': {'25th': None, '50th': None, '75th': None},\n",
       " 'SAT Math': {'25th': None, '50th': None, '75th': None},\n",
       " 'ACT Composite': {'25th': None, '50th': None, '75th': None},\n",
       " 'ACT Math': {'25th': None, '50th': None, '75th': None},\n",
       " 'ACT English': {'25th': None, '50th': None, '75th': None},\n",
       " 'ACT Writing': {'25th': None, '50th': None, '75th': None},\n",
       " 'ACT Science': {'25th': None, '50th': None, '75th': None},\n",
       " 'ACT Reading': {'25th': None, '50th': None, '75th': None}}"
      ]
     },
     "execution_count": 269,
     "metadata": {},
     "output_type": "execute_result"
    }
   ],
   "source": [
    "extract_sat_act_scores(nyu_file_path)"
   ]
  },
  {
   "cell_type": "code",
   "execution_count": 270,
   "id": "615d83e6",
   "metadata": {},
   "outputs": [
    {
     "data": {
      "text/plain": [
       "{'SAT Composite': {'25th': '1230', '50th': '1320', '75th': '1410'},\n",
       " 'SAT EBRW': {'25th': '620', '50th': '670', '75th': '710'},\n",
       " 'SAT Math': {'25th': '600', '50th': '660', '75th': '710'},\n",
       " 'ACT Composite': {'25th': '27', '50th': '7', '75th': '3'},\n",
       " 'ACT Math': {'25th': '25', '50th': '28', '75th': '31'},\n",
       " 'ACT English': {'25th': '26', '50th': '31', '75th': '34'},\n",
       " 'ACT Writing': {'25th': None, '50th': None, '75th': None},\n",
       " 'ACT Science': {'25th': '25', '50th': '29', '75th': '32'},\n",
       " 'ACT Reading': {'25th': '28', '50th': '32', '75th': '34'}}"
      ]
     },
     "execution_count": 270,
     "metadata": {},
     "output_type": "execute_result"
    }
   ],
   "source": [
    "extract_sat_act_scores(uga_file_path)"
   ]
  },
  {
   "cell_type": "markdown",
   "id": "1265df2e",
   "metadata": {},
   "source": [
    "##### Importance"
   ]
  },
  {
   "cell_type": "code",
   "execution_count": 271,
   "id": "4bbd251f",
   "metadata": {},
   "outputs": [],
   "source": [
    "def extract_relative_importance(file_path):\n",
    "    importance_levels = [\"Very Important\", \"Important\", \"Considered\", \"Not Considered\"]\n",
    "\n",
    "    academic_factors = [\n",
    "        \"Rigor of secondary school record\",\n",
    "        \"Class rank\",\n",
    "        \"Academic Grade Point Average (GPA)\",\n",
    "        \"Recommendations\",\n",
    "        \"Standardized test scores\",\n",
    "        \"Application essay\"\n",
    "    ]\n",
    "\n",
    "    nonacademic_factors = [\n",
    "        \"Interview\",\n",
    "        \"Extracurricular activities\",\n",
    "        \"Talent/ability\",\n",
    "        \"Character/personal qualities\",\n",
    "        \"First generation\",\n",
    "        \"Alumni/ae relation\",\n",
    "        \"Geographical residence\",\n",
    "        \"State residency\",\n",
    "        \"Religious affiliation/commitment\",\n",
    "        \"Racial/ethnic status\",\n",
    "        \"Volunteer work\",\n",
    "        \"Work experience\",\n",
    "        \"Level of applicant’s interest\"\n",
    "    ]\n",
    "\n",
    "    result = {\n",
    "        \"Academic\": {},\n",
    "        \"Nonacademic\": {}\n",
    "    }\n",
    "\n",
    "    with pdfplumber.open(file_path) as pdf:\n",
    "        # STEP 1: Gatech style (table-based)\n",
    "        for page in pdf.pages:\n",
    "            tables = page.extract_tables()\n",
    "            for table in tables:\n",
    "                if not table or len(table) < 2:\n",
    "                    continue\n",
    "                table_str = ' '.join(str(cell).lower() for row in table for cell in row if cell)\n",
    "                if not all(level.lower() in table_str for level in importance_levels):\n",
    "                    continue\n",
    "                headers = [str(cell).strip() if cell else \"\" for cell in table[0]]\n",
    "                for row in table[1:]:\n",
    "                    row = [str(cell).strip() if cell else \"\" for cell in row]\n",
    "                    if not row or row[0].lower() in [\"academic\", \"nonacademic\"]:\n",
    "                        continue\n",
    "                    factor = row[0]\n",
    "                    for i in range(1, min(len(row), len(headers))):\n",
    "                        if is_marked(row[i]):\n",
    "                            importance = headers[i].strip()\n",
    "                            section = \"Academic\" if factor in academic_factors else \"Nonacademic\"\n",
    "                            result[section][factor] = importance\n",
    "                            break\n",
    "\n",
    "    if result[\"Academic\"] or result[\"Nonacademic\"]:\n",
    "        return result\n",
    "    \n",
    "    # STEP 2: NYU style fallback (text-based)\n",
    "    full_text = \"\"\n",
    "    with pdfplumber.open(file_path) as pdf:\n",
    "        for page in pdf.pages:\n",
    "            text = page.extract_text()\n",
    "            if text:\n",
    "                full_text += \"\\n\" + text\n",
    "\n",
    "    def find_importance_by_text(factor):\n",
    "        pattern = factor.lower()\n",
    "        idx = full_text.lower().find(pattern)\n",
    "        if idx == -1:\n",
    "            return None\n",
    "        after = full_text[idx + len(pattern):].strip()\n",
    "        for level in importance_levels:\n",
    "            if after.lower().startswith(level.lower()):\n",
    "                return level\n",
    "        return None\n",
    "\n",
    "    for factor in academic_factors:\n",
    "        importance = find_importance_by_text(factor)\n",
    "        if importance:\n",
    "            result[\"Academic\"][factor] = importance\n",
    "\n",
    "    for factor in nonacademic_factors:\n",
    "        importance = find_importance_by_text(factor)\n",
    "        if importance:\n",
    "            result[\"Nonacademic\"][factor] = importance\n",
    "\n",
    "    return result"
   ]
  },
  {
   "cell_type": "code",
   "execution_count": 272,
   "id": "a59c6033",
   "metadata": {},
   "outputs": [
    {
     "data": {
      "text/plain": [
       "{'Academic': {'Rigor of secondary school record': 'Very Important',\n",
       "  'Class rank': 'Not Considered',\n",
       "  'Standardized test scores': 'Considered'},\n",
       " 'Nonacademic': {'Academic GPA': 'Very Important',\n",
       "  'Application Essay': 'Important',\n",
       "  'Recommendation(s)': 'Considered',\n",
       "  'Interview': 'Not Considered',\n",
       "  'Extracurricular activities': 'Important',\n",
       "  'Talent/ability': 'Considered',\n",
       "  'Character/personal qualities': 'Very Important',\n",
       "  'First generation': 'Considered',\n",
       "  'Alumni/ae relation': 'Not Considered',\n",
       "  'Geographical residence': 'Considered',\n",
       "  'State residency': 'Very Important',\n",
       "  'Religious affiliation/commitment': 'Not Considered',\n",
       "  'Volunteer work': 'Considered',\n",
       "  'Work experience': 'Considered',\n",
       "  'Level of applicant’s interest': 'Not Considered'}}"
      ]
     },
     "execution_count": 272,
     "metadata": {},
     "output_type": "execute_result"
    }
   ],
   "source": [
    "extract_relative_importance(gatech_file_path)"
   ]
  },
  {
   "cell_type": "code",
   "execution_count": 273,
   "id": "e980bcd7",
   "metadata": {},
   "outputs": [
    {
     "data": {
      "text/plain": [
       "{'Academic': {}, 'Nonacademic': {}}"
      ]
     },
     "execution_count": 273,
     "metadata": {},
     "output_type": "execute_result"
    }
   ],
   "source": [
    "extract_relative_importance(umn_file_path)"
   ]
  },
  {
   "cell_type": "code",
   "execution_count": 274,
   "id": "e0ca05ae",
   "metadata": {},
   "outputs": [
    {
     "data": {
      "text/plain": [
       "{'Academic': {'Rigor of secondary school record': 'Very Important',\n",
       "  'Class rank': 'Not Considered',\n",
       "  'Academic Grade Point Average (GPA)': 'Very Important',\n",
       "  'Recommendations': 'Very Important',\n",
       "  'Standardized test scores': 'Important',\n",
       "  'Application essay': 'Very Important'},\n",
       " 'Nonacademic': {'Interview': 'Not Considered',\n",
       "  'Talent/ability': 'Considered',\n",
       "  'Character/personal qualities': 'Very Important',\n",
       "  'First generation': 'Considered',\n",
       "  'Alumni/ae relation': 'Not Considered',\n",
       "  'Geographical residence': 'Considered',\n",
       "  'State residency': 'Not Considered',\n",
       "  'Volunteer work': 'Considered',\n",
       "  'Work experience': 'Considered'}}"
      ]
     },
     "execution_count": 274,
     "metadata": {},
     "output_type": "execute_result"
    }
   ],
   "source": [
    "extract_relative_importance(nyu_file_path)"
   ]
  },
  {
   "cell_type": "code",
   "execution_count": 275,
   "id": "d893fcb2",
   "metadata": {},
   "outputs": [
    {
     "data": {
      "text/plain": [
       "{'Academic': {}, 'Nonacademic': {}}"
      ]
     },
     "execution_count": 275,
     "metadata": {},
     "output_type": "execute_result"
    }
   ],
   "source": [
    "extract_relative_importance(uga_file_path)"
   ]
  },
  {
   "cell_type": "markdown",
   "id": "93aa56b5",
   "metadata": {},
   "source": [
    "### Modeling"
   ]
  },
  {
   "cell_type": "markdown",
   "id": "8e3a75cf",
   "metadata": {},
   "source": [
    "##### CDS"
   ]
  },
  {
   "cell_type": "code",
   "execution_count": 300,
   "id": "f602d289",
   "metadata": {},
   "outputs": [],
   "source": [
    "def build_cds_data(file_path):\n",
    "    \n",
    "    def safe_int(score): \n",
    "        try: return int(score)\n",
    "        except: return 0\n",
    "    \n",
    "    residency_data = extract_residency_data(file_path)\n",
    "    residency_acceptance = calculate_acceptance_rates(residency_data)\n",
    "    \n",
    "    highschool_requirement = extract_highschool_requirement(file_path)\n",
    "    \n",
    "    college_prep_requirement = extract_college_prep_requirement(file_path)\n",
    "    college_prep_subjects = extract_general_college_subjects(file_path)\n",
    "    \n",
    "    sat_act_requirement = extract_sat_act_required(file_path)\n",
    "    sat_act_scores = extract_sat_act_scores(file_path)\n",
    "    sat_composite = sat_act_scores.get(\"SAT Composite\")\n",
    "    act_composite = sat_act_scores.get(\"ACT Composite\")\n",
    "    \n",
    "    relative_importance = extract_relative_importance(file_path)\n",
    "    \n",
    "    cds_data = {\n",
    "        #\"school_name\": ,\n",
    "        #\"state\": ,\n",
    "        \"high_school_completion_required\": bool(highschool_requirement[\"high school diploma required\"]),\n",
    "        \"general_college_preparatory_required\": bool(college_prep_requirement[\"general college-preparatory program\"][\"required\"]),\n",
    "        \"general_college_subjects\": college_prep_subjects, \n",
    "        \"sat_required\": sat_act_requirement.get(\"SAT or ACT Requirement\", sat_act_requirement.get(\"SAT Only Requirement\", \"Unknown\")),\n",
    "        \"act_required\": sat_act_requirement.get(\"SAT or ACT Requirement\", sat_act_requirement.get(\"ACT Only Requirement\", \"Unknown\")),\n",
    "        \"alumni_importance\": relative_importance[\"Nonacademic\"].get(\"Alumni/ae relation\", \"Unknown\"),\n",
    "        \"first_generation_importance\": relative_importance[\"Nonacademic\"].get(\"First generation\", \"Unknown\"),\n",
    "        \"residency_importance\": relative_importance[\"Nonacademic\"].get(\"State residency\", \"Unknown\"),\n",
    "        \"sat_importance\": relative_importance[\"Academic\"].get(\"Standardized test scores\", \"Unknown\"),\n",
    "        \"gpa_importance\": relative_importance[\"Academic\"].get(\"Academic Grade Point Average (GPA)\", \"Unknown\"),\n",
    "        \"residency_acceptance\": residency_acceptance,\n",
    "        \"sat_scores\": {\n",
    "            \"25th\": safe_int(sat_composite.get(\"25th\")),\n",
    "            \"50th\": safe_int(sat_composite.get(\"50th\")),\n",
    "            \"75th\": safe_int(sat_composite.get(\"75th\"))\n",
    "        },\n",
    "        \"act scores\": {\n",
    "            \"25th\": safe_int(act_composite.get(\"25th\")),\n",
    "            \"50th\": safe_int(act_composite.get(\"50th\")),\n",
    "            \"75th\": safe_int(act_composite.get(\"75th\"))\n",
    "        },\n",
    "        \"volunteer_work\": relative_importance[\"Nonacademic\"].get(\"Volunteer work\", \"Unknown\"),\n",
    "        \"work_experience\": relative_importance[\"Nonacademic\"].get(\"Work experience\", \"Unknown\")\n",
    "    }\n",
    "\n",
    "    return cds_data"
   ]
  },
  {
   "cell_type": "code",
   "execution_count": 277,
   "id": "3740e265",
   "metadata": {},
   "outputs": [
    {
     "data": {
      "text/plain": [
       "{'high_school_completion_required': True,\n",
       " 'general_college_preparatory_required': True,\n",
       " 'general_college_subjects': {'english': 4.0,\n",
       "  'math': 4.0,\n",
       "  'science': 4.0,\n",
       "  'scienceLab': 2.0,\n",
       "  'language': 2.0,\n",
       "  'social': 3.0,\n",
       "  'arts': 0},\n",
       " 'sat_required': 'Required',\n",
       " 'act_required': 'Required',\n",
       " 'alumni_importance': 'Not Considered',\n",
       " 'first_generation_importance': 'Considered',\n",
       " 'residency_importance': 'Very Important',\n",
       " 'sat_importance': 'Considered',\n",
       " 'gpa_importance': 'Unknown',\n",
       " 'residency_acceptance': {'in-state': 0.3312722503278996,\n",
       "  'out-of-state': 0.10417536534446764,\n",
       "  'international': 0.08198239925891616,\n",
       "  'others': None},\n",
       " 'sat_scores': {'25th': 1370, '50th': 1460, '75th': 1530},\n",
       " 'act scores': {'25th': 30, '50th': 33, '75th': 34},\n",
       " 'volunteer_work': 'Considered',\n",
       " 'work_experience': 'Considered'}"
      ]
     },
     "execution_count": 277,
     "metadata": {},
     "output_type": "execute_result"
    }
   ],
   "source": [
    "build_cds_data(gatech_file_path)"
   ]
  },
  {
   "cell_type": "code",
   "execution_count": 301,
   "id": "07c0887a",
   "metadata": {},
   "outputs": [],
   "source": [
    "gatech_cds = {\n",
    "    \"school_name\": \"Georgia Tech\",\n",
    "    \"state\": \"GA\",\n",
    "    \"high_school_completion_required\": True,\n",
    "    \"general_college_preparatory_required\": True,\n",
    "    \"general_college_subjects\":\n",
    "        {\n",
    "            \"english\": 4,\n",
    "            \"math\": 4,\n",
    "            \"science\": 4,\n",
    "            \"scienceLab\": 2,\n",
    "            \"language\": 2,\n",
    "            \"social\": 3,\n",
    "            \"arts\": 0\n",
    "        },\n",
    "    \"sat_act_required\": True,\n",
    "    \"alumni_importance\": \"Not Considered\",\n",
    "    \"first_generation_importance\": \"Considered\",\n",
    "    \"residency_importance\": \"Very Important\",\n",
    "    \"sat_importance\": \"Considered\",\n",
    "    \"gpa_importance\": \"Very Important\",\n",
    "    \"residency_acceptance\": {\n",
    "        \"international\": 0.082,\n",
    "        \"in-state\": 0.3313,\n",
    "        \"out-of-state\": 0.1042\n",
    "    },\n",
    "    \"sat_scores\": {\n",
    "        \"25th\": 1400,\n",
    "        \"50th\": 1500,\n",
    "        \"75th\": 1560\n",
    "    },\n",
    "    \"volunteer_work\": \"Considered\",\n",
    "    \"work_experience\": \"Not Considered\"\n",
    "}"
   ]
  },
  {
   "cell_type": "code",
   "execution_count": 303,
   "id": "51c82bac",
   "metadata": {},
   "outputs": [],
   "source": [
    "umn_cds = {\n",
    "    \"school_name\": \"University of Minnesota\",\n",
    "    \"state\": \"MN\",\n",
    "    \"high_school_completion_required\": True,\n",
    "    \"general_college_preparatory_required\": True,\n",
    "    \"general_college_subjects\":\n",
    "        {\n",
    "            \"english\": 4,\n",
    "            \"math\": 4,\n",
    "            \"science\": 3,\n",
    "            \"scienceLab\": 1,\n",
    "            \"language\": 2,\n",
    "            \"social\": 3,\n",
    "            \"arts\": 1\n",
    "        },\n",
    "    \"sat_act_required\": True,\n",
    "    \"alumni_importance\": \"Not Considered\",\n",
    "    \"first_generation_importance\": \"Considered\",\n",
    "    \"residency_importance\": \"Considered\",\n",
    "    \"sat_importance\": \"Considered\",\n",
    "    \"gpa_importance\": \"Very Important\",\n",
    "    \"residency_acceptance\": {\n",
    "        \"international\": 0.7818,\n",
    "        \"in-state\": 0.7508,\n",
    "        \"out-of-state\": 0.7913\n",
    "    },\n",
    "    \"sat_scores\": {\n",
    "        \"25th\": 1328,\n",
    "        \"50th\": 1400,\n",
    "        \"75th\": 1460\n",
    "    },\n",
    "    \"volunteer_work\": \"Considered\",\n",
    "    \"work_experience\": \"Considered\"\n",
    "}"
   ]
  },
  {
   "cell_type": "markdown",
   "id": "06125981",
   "metadata": {},
   "source": [
    "----------------"
   ]
  },
  {
   "cell_type": "markdown",
   "id": "d24007ca",
   "metadata": {},
   "source": [
    "##### Importance Related"
   ]
  },
  {
   "cell_type": "code",
   "execution_count": 280,
   "id": "32e3d655",
   "metadata": {},
   "outputs": [
    {
     "data": {
      "text/plain": [
       "{'gpa_importance': 1.0,\n",
       " 'sat_importance': 0.85,\n",
       " 'residency_importance': 0.45,\n",
       " 'alumni_importance': 0.2,\n",
       " 'volunteer_work': 0.8}"
      ]
     },
     "execution_count": 280,
     "metadata": {},
     "output_type": "execute_result"
    }
   ],
   "source": [
    "import pandas as pd\n",
    "from collections import Counter\n",
    "\n",
    "# Example list of CDS importance data for multiple schools (gatech, umn, nyu, uga)\n",
    "cds_importance_data = [\n",
    "    {\n",
    "        \"gpa_importance\": \"Very Important\",\n",
    "        \"sat_importance\": \"Considered\",\n",
    "        \"residency_importance\": \"Very Important\",\n",
    "        \"alumni_importance\": \"Not Considered\",\n",
    "        \"volunteer_work\": \"Considered\",\n",
    "        #\"work_experience\": \"Considered\" \n",
    "    },\n",
    "    {\n",
    "        \"gpa_importance\": \"Very Important\",\n",
    "        \"sat_importance\": \"Considered\",\n",
    "        \"residency_importance\": \"Considered\",\n",
    "        \"alumni_importance\": \"Not Considered\",\n",
    "        \"volunteer_work\": \"Considered\",\n",
    "        #\"work_experience\": \"Considered\"\n",
    "    },\n",
    "    {\n",
    "        \"gpa_importance\": \"Very Important\",\n",
    "        \"sat_importance\": \"Important\",\n",
    "        \"residency_importance\": \"Not Considered\",\n",
    "        \"alumni_importance\": \"Not Considered\",\n",
    "        \"volunteer_work\": \"Considered\",\n",
    "        #\"work_experience\": \"Considered\"\n",
    "    },\n",
    "        {\n",
    "        \"gpa_importance\": \"Very Important\",\n",
    "        \"sat_importance\": \"Important\",\n",
    "        \"residency_importance\": \"Not Considered\",\n",
    "        \"alumni_importance\": \"Considered\", # mock data\n",
    "        \"volunteer_work\": \"Considered\",\n",
    "        #\"work_experience\": \"Considered\"\n",
    "    }\n",
    "]\n",
    "\n",
    "# 1. Count importance levels per category\n",
    "importance_levels = [\"Very Important\", \"Important\", \"Considered\", \"Not Considered\"]\n",
    "categories = [\"gpa_importance\", \"sat_importance\", \"residency_importance\", \"alumni_importance\", \"volunteer_work\"]\n",
    "importance_counts = {cat: Counter() for cat in categories}\n",
    "\n",
    "for record in cds_importance_data:\n",
    "    for cat in categories:\n",
    "        importance_counts[cat][record[cat]] += 1\n",
    "\n",
    "# 2. Calculate average weights\n",
    "weight_map = {\n",
    "    \"Very Important\": 1.0,\n",
    "    \"Important\": 0.9,\n",
    "    \"Considered\": 0.8,\n",
    "    \"Not Considered\": 0.0\n",
    "}\n",
    "\n",
    "average_weights = {}\n",
    "for cat in categories:\n",
    "    total = sum(importance_counts[cat].values())\n",
    "    if total == 0:\n",
    "        average_weights[cat] = 0\n",
    "        continue\n",
    "    weighted_sum = sum(weight_map[level] * count for level, count in importance_counts[cat].items())\n",
    "    average_weights[cat] = round(weighted_sum / total, 4)\n",
    "\n",
    "average_weights\n"
   ]
  },
  {
   "cell_type": "code",
   "execution_count": 281,
   "id": "67a8b99b",
   "metadata": {},
   "outputs": [],
   "source": [
    "# Convert average weights into max point allocation (total = 100 points)\n",
    "def normalize_max_points_from_avg_weights(average_weights, total_points=100):\n",
    "    total_weight = sum(average_weights.values())\n",
    "    max_points_by_cat = {\n",
    "        key.replace('_importance', ''): round((w / total_weight) * total_points, 2)\n",
    "        for key, w in average_weights.items()\n",
    "    }\n",
    "    return max_points_by_cat"
   ]
  },
  {
   "cell_type": "code",
   "execution_count": 282,
   "id": "af2716eb",
   "metadata": {},
   "outputs": [
    {
     "data": {
      "text/plain": [
       "{'gpa': 30.3,\n",
       " 'sat': 25.76,\n",
       " 'residency': 13.64,\n",
       " 'alumni': 6.06,\n",
       " 'volunteer_work': 24.24}"
      ]
     },
     "execution_count": 282,
     "metadata": {},
     "output_type": "execute_result"
    }
   ],
   "source": [
    "max_points_by_cat = normalize_max_points_from_avg_weights(average_weights)\n",
    "max_points_by_cat"
   ]
  },
  {
   "cell_type": "markdown",
   "id": "4ca7fa67",
   "metadata": {},
   "source": [
    "----------------"
   ]
  },
  {
   "cell_type": "markdown",
   "id": "b6e0bae7",
   "metadata": {},
   "source": [
    "##### Total Score"
   ]
  },
  {
   "cell_type": "code",
   "execution_count": 283,
   "id": "e671c51e",
   "metadata": {},
   "outputs": [],
   "source": [
    "def calculate_total_max_score(school_info, max_points_by_cat, weight_map):\n",
    "    total = 0\n",
    "    category_to_importance_key = {\n",
    "        'gpa': 'gpa_importance',\n",
    "        'sat': 'sat_importance',\n",
    "        'residency': 'residency_importance',\n",
    "        'alumni': 'alumni_importance',\n",
    "        'volunteer_work': 'volunteer_work',\n",
    "        'work_experience': 'work_experience'\n",
    "    }\n",
    "    \n",
    "    for category, max_point in max_points_by_cat.items():\n",
    "        importance_key = category_to_importance_key.get(category)\n",
    "        if importance_key and importance_key in school_info:\n",
    "            importance = school_info[importance_key]\n",
    "            weight = weight_map.get(importance, 0)\n",
    "            total += max_point * weight\n",
    "        else:\n",
    "            continue\n",
    "    return total"
   ]
  },
  {
   "cell_type": "code",
   "execution_count": 284,
   "id": "fa7b7567",
   "metadata": {},
   "outputs": [],
   "source": [
    "weight_map = {\n",
    "    \"Very Important\": 1.0,\n",
    "    \"Important\": 0.9,\n",
    "    \"Considered\": 0.8,\n",
    "    \"Not Considered\": 0.0\n",
    "}"
   ]
  },
  {
   "cell_type": "code",
   "execution_count": 285,
   "id": "779f5bce",
   "metadata": {},
   "outputs": [
    {
     "data": {
      "text/plain": [
       "83.94"
      ]
     },
     "execution_count": 285,
     "metadata": {},
     "output_type": "execute_result"
    }
   ],
   "source": [
    "calculate_total_max_score(gatech_cds, max_points_by_cat, weight_map)"
   ]
  },
  {
   "cell_type": "code",
   "execution_count": 286,
   "id": "3f4743ef",
   "metadata": {},
   "outputs": [
    {
     "data": {
      "text/plain": [
       "81.212"
      ]
     },
     "execution_count": 286,
     "metadata": {},
     "output_type": "execute_result"
    }
   ],
   "source": [
    "calculate_total_max_score(umn_cds, max_points_by_cat, weight_map)"
   ]
  },
  {
   "cell_type": "markdown",
   "id": "faf851a9",
   "metadata": {},
   "source": [
    "------------"
   ]
  },
  {
   "cell_type": "markdown",
   "id": "ab5b8057",
   "metadata": {},
   "source": [
    "##### Compatibility Score"
   ]
  },
  {
   "cell_type": "code",
   "execution_count": 307,
   "id": "cb678c36",
   "metadata": {},
   "outputs": [],
   "source": [
    "def calculate_compatibility_score(applicant, school_requirements, max_points_by_cat):\n",
    "    \n",
    "    # 1. Check essential requirments\n",
    "    if school_requirements[\"high_school_completion_required\"]:\n",
    "        if not applicant[\"high_school_completion\"]:\n",
    "            return {\"score\": 0, \"details\": {\"reason\": \"High school completion requirement not met\"}}\n",
    "    \n",
    "    if school_requirements[\"general_college_preparatory_required\"]:\n",
    "        required_subjects = school_requirements.get(\"general_college_subjects\", {})\n",
    "        applicant_subjects = applicant.get(\"general_college_requirement\", {})\n",
    "        \n",
    "        for subject, required_count in required_subjects.items():\n",
    "            applicant_count = applicant_subjects.get(subject, 0)\n",
    "            if applicant_count < required_count:\n",
    "                return {\"score\": 0, \"details\": {\"reason\": \"Subject requirement not met\"}}\n",
    "    \n",
    "    if school_requirements[\"sat_act_required\"]:\n",
    "        sat = applicant.get(\"sat\", 0)\n",
    "        act = applicant.get(\"act\", 0)\n",
    "        if sat == 0 and act == 0:\n",
    "            return {\"score\": 0, \"details\": {\"reason\": \"SAT or ACT score required\"}}\n",
    "\n",
    "    # 2. Define importance weight mapping\n",
    "    weight_map = {\n",
    "        \"Very Important\": 1.0,\n",
    "        \"Important\": 0.9,\n",
    "        \"Considered\": 0.8,\n",
    "        \"Not Considered\": 0.0\n",
    "    }\n",
    "\n",
    "    total_score = 0\n",
    "    details = {}\n",
    "\n",
    "    # 3. Score for alumni relation\n",
    "    alumni_max = max_points_by_cat['alumni']\n",
    "    school_name = school_requirements['school_name'].lower()\n",
    "    alumni_score = 0\n",
    "    if applicant['alumni']:\n",
    "        alumni_schools = [name.lower() for name in applicant.get(\"alumni_school_names\", [])]\n",
    "        if school_name in alumni_schools:\n",
    "            alumni_score = alumni_max\n",
    "    alumni_weighted = alumni_score * weight_map[school_requirements['alumni_importance']]\n",
    "    total_score += alumni_weighted\n",
    "    details[\"alumni\"] = round(alumni_weighted, 2)\n",
    "\n",
    "    # 4. Score for first-generation status\n",
    "    #first_max = max_points_by_cat['first_generation']\n",
    "    #first_score = first_max if applicant['first'] else 0\n",
    "    #first_weighted = first_score * weight_map[school_requirements['first_generation_importance']]\n",
    "    #total_score += first_weighted\n",
    "    #details[\"first_generation\"] = round(first_weighted, 2)\n",
    "\n",
    "    # 5. Score based on residency acceptance rate\n",
    "    residency_max = max_points_by_cat['residency']\n",
    "    if applicant['residency'] == 'international':\n",
    "        residency_category = 'international'\n",
    "    else:\n",
    "        if applicant['state'] == school_requirements['state']:\n",
    "            residency_category = 'in-state'\n",
    "        else:\n",
    "            residency_category = 'out-of-state'\n",
    "    residency_score = school_requirements['residency_acceptance'][residency_category] * residency_max\n",
    "    residency_weighted = residency_score * weight_map[school_requirements['residency_importance']]\n",
    "    total_score += residency_weighted\n",
    "    details[\"residency\"] = round(residency_weighted, 2)\n",
    "    \n",
    "\n",
    "    # 6. Score based on SAT range position\n",
    "    sat_max = max_points_by_cat['sat']\n",
    "    sat = applicant['sat']\n",
    "    sat_q25 = school_requirements['sat_scores']['25th']\n",
    "    sat_q50 = school_requirements['sat_scores']['50th']\n",
    "    sat_q75 = school_requirements['sat_scores']['75th']\n",
    "\n",
    "    if sat < sat_q25:\n",
    "        sat_score = 0\n",
    "    elif sat > sat_q75:\n",
    "        sat_score = sat_max\n",
    "    else:\n",
    "        sat_score = ((sat - sat_q25) / (sat_q75 - sat_q25)) * sat_max\n",
    "        sat_score = min(sat_max, max(0, sat_score))\n",
    "    sat_weighted = sat_score * weight_map[school_requirements['sat_importance']]\n",
    "    total_score += sat_weighted\n",
    "    details[\"sat\"] = round(sat_weighted, 2)\n",
    "\n",
    "    # 7. Score based on GPA\n",
    "    gpa_max = max_points_by_cat['gpa']\n",
    "    gpa_score = (applicant['gpa'] / 4.0) * gpa_max\n",
    "    gpa_weighted = gpa_score * weight_map[school_requirements['gpa_importance']]\n",
    "    total_score += gpa_weighted\n",
    "    details[\"gpa\"] = round(gpa_weighted, 2)\n",
    "    \n",
    "    # 8. Score for volunteer work\n",
    "    volunteer_max = max_points_by_cat['volunteer_work']\n",
    "    volunteer = applicant['volunteering_hours']\n",
    "    if volunteer < 50:\n",
    "        volunteer_score = 0\n",
    "    elif volunteer >= 200:\n",
    "        volunteer_score = volunteer_max\n",
    "    else:\n",
    "        volunteer_score = volunteer / 200 * volunteer_max\n",
    "    \n",
    "    # 9. Score for work experience\n",
    "    #work_max = max_points_by_cat['work_experience']\n",
    "    #work = applicant['work_months']\n",
    "    \n",
    "    # 10. Calculate school-specific total max score\n",
    "    total_max_score = calculate_total_max_score(school_requirements, max_points_by_cat, weight_map)\n",
    "\n",
    "    # 11. Normalize total_score by total_max_score\n",
    "    if total_max_score > 0:\n",
    "        normalized_score = (total_score / total_max_score) * 100\n",
    "    else:\n",
    "        normalized_score = 0\n",
    "    \n",
    "    return {\n",
    "        \"score\": round(normalized_score, 2), \n",
    "        \"details\": details\n",
    "    }"
   ]
  },
  {
   "cell_type": "code",
   "execution_count": 308,
   "id": "63225178",
   "metadata": {},
   "outputs": [
    {
     "data": {
      "text/plain": [
       "{'score': 53.5,\n",
       " 'details': {'alumni': 0.0, 'residency': 1.42, 'sat': 15.46, 'gpa': 28.03}}"
      ]
     },
     "execution_count": 308,
     "metadata": {},
     "output_type": "execute_result"
    }
   ],
   "source": [
    "calculate_compatibility_score(applicant1, gatech_cds, max_points_by_cat)"
   ]
  },
  {
   "cell_type": "code",
   "execution_count": 309,
   "id": "b632e91c",
   "metadata": {},
   "outputs": [
    {
     "data": {
      "text/plain": [
       "{'score': 69.98,\n",
       " 'details': {'alumni': 0.0, 'residency': 8.19, 'sat': 20.61, 'gpa': 28.03}}"
      ]
     },
     "execution_count": 309,
     "metadata": {},
     "output_type": "execute_result"
    }
   ],
   "source": [
    "calculate_compatibility_score(applicant1, umn_cds, max_points_by_cat)"
   ]
  },
  {
   "cell_type": "code",
   "execution_count": 310,
   "id": "0eafaf15",
   "metadata": {},
   "outputs": [
    {
     "data": {
      "text/plain": [
       "{'score': 53.14,\n",
       " 'details': {'alumni': 0.0, 'residency': 1.12, 'sat': 15.46, 'gpa': 28.03}}"
      ]
     },
     "execution_count": 310,
     "metadata": {},
     "output_type": "execute_result"
    }
   ],
   "source": [
    "calculate_compatibility_score(applicant2, gatech_cds, max_points_by_cat)"
   ]
  },
  {
   "cell_type": "code",
   "execution_count": 311,
   "id": "fb1d2884",
   "metadata": {},
   "outputs": [
    {
     "data": {
      "text/plain": [
       "{'score': 70.39,\n",
       " 'details': {'alumni': 0.0, 'residency': 8.53, 'sat': 20.61, 'gpa': 28.03}}"
      ]
     },
     "execution_count": 311,
     "metadata": {},
     "output_type": "execute_result"
    }
   ],
   "source": [
    "calculate_compatibility_score(applicant2, umn_cds, max_points_by_cat)"
   ]
  },
  {
   "cell_type": "code",
   "execution_count": 312,
   "id": "f34172fd",
   "metadata": {},
   "outputs": [
    {
     "data": {
      "text/plain": [
       "{'score': 48.8,\n",
       " 'details': {'alumni': 0.0, 'residency': 1.12, 'sat': 10.3, 'gpa': 29.54}}"
      ]
     },
     "execution_count": 312,
     "metadata": {},
     "output_type": "execute_result"
    }
   ],
   "source": [
    "calculate_compatibility_score(applicant3, gatech_cds, max_points_by_cat)"
   ]
  },
  {
   "cell_type": "code",
   "execution_count": 313,
   "id": "d6a063e3",
   "metadata": {},
   "outputs": [
    {
     "data": {
      "text/plain": [
       "{'score': 72.26,\n",
       " 'details': {'alumni': 0.0, 'residency': 8.53, 'sat': 20.61, 'gpa': 29.54}}"
      ]
     },
     "execution_count": 313,
     "metadata": {},
     "output_type": "execute_result"
    }
   ],
   "source": [
    "calculate_compatibility_score(applicant3, umn_cds, max_points_by_cat)"
   ]
  },
  {
   "cell_type": "code",
   "execution_count": 314,
   "id": "fbe6c153",
   "metadata": {},
   "outputs": [
    {
     "data": {
      "text/plain": [
       "{'score': 26.6,\n",
       " 'details': {'alumni': 0.0, 'residency': 1.12, 'sat': 0.0, 'gpa': 21.21}}"
      ]
     },
     "execution_count": 314,
     "metadata": {},
     "output_type": "execute_result"
    }
   ],
   "source": [
    "calculate_compatibility_score(applicant4, gatech_cds, max_points_by_cat)"
   ]
  },
  {
   "cell_type": "code",
   "execution_count": 315,
   "id": "0b94cf02",
   "metadata": {},
   "outputs": [
    {
     "data": {
      "text/plain": [
       "{'score': 36.62,\n",
       " 'details': {'alumni': 0.0, 'residency': 8.53, 'sat': 0.0, 'gpa': 21.21}}"
      ]
     },
     "execution_count": 315,
     "metadata": {},
     "output_type": "execute_result"
    }
   ],
   "source": [
    "calculate_compatibility_score(applicant4, umn_cds, max_points_by_cat)"
   ]
  },
  {
   "cell_type": "code",
   "execution_count": null,
   "id": "f1454568",
   "metadata": {},
   "outputs": [],
   "source": []
  }
 ],
 "metadata": {
  "kernelspec": {
   "display_name": "base",
   "language": "python",
   "name": "python3"
  },
  "language_info": {
   "codemirror_mode": {
    "name": "ipython",
    "version": 3
   },
   "file_extension": ".py",
   "mimetype": "text/x-python",
   "name": "python",
   "nbconvert_exporter": "python",
   "pygments_lexer": "ipython3",
   "version": "3.11.5"
  }
 },
 "nbformat": 4,
 "nbformat_minor": 5
}
