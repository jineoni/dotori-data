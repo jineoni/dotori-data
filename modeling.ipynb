{
 "cells": [
  {
   "cell_type": "markdown",
   "id": "867fe259",
   "metadata": {},
   "source": [
    "### Applicants Sample"
   ]
  },
  {
   "cell_type": "code",
   "execution_count": 174,
   "id": "42291858",
   "metadata": {},
   "outputs": [],
   "source": [
    "applicant1 = {\n",
    "    \"high_school_completion\": 1,\n",
    "    \"general_college_requirement\": 1,\n",
    "    \"alumni\": 0,\n",
    "    \"first\": 0,\n",
    "    \"residency\": \"international\",\n",
    "    \"sat\": 1520,\n",
    "    \"gpa\": 3.7,\n",
    "    \"volunteering_hours\": 150,\n",
    "    \"work_months\": 0\n",
    "}"
   ]
  },
  {
   "cell_type": "code",
   "execution_count": 175,
   "id": "cf401c12",
   "metadata": {},
   "outputs": [],
   "source": [
    "applicant2 = {\n",
    "    \"high_school_completion\": 1,\n",
    "    \"general_college_requirement\": 1,\n",
    "    \"alumni\": 0,\n",
    "    \"first\": 0,\n",
    "    \"residency\": \"international\",\n",
    "    \"sat\": 1480,\n",
    "    \"gpa\": 3.9,\n",
    "    \"volunteering_hours\": 150,\n",
    "    \"work_months\": 3\n",
    "}"
   ]
  },
  {
   "cell_type": "code",
   "execution_count": 176,
   "id": "07aa1116",
   "metadata": {},
   "outputs": [],
   "source": [
    "applicant3 = {\n",
    "    \"high_school_completion\": 1,\n",
    "    \"general_college_requirement\": 1,\n",
    "    \"alumni\": 0,\n",
    "    \"first\": 0,\n",
    "    \"residency\": \"international\",\n",
    "    \"sat\": 1300,\n",
    "    \"gpa\": 2.8,\n",
    "    \"volunteering_hours\": 150,\n",
    "    \"work_months\": 0\n",
    "}"
   ]
  },
  {
   "cell_type": "markdown",
   "id": "cf07ff57",
   "metadata": {},
   "source": [
    "### Crawling"
   ]
  },
  {
   "cell_type": "code",
   "execution_count": 177,
   "id": "745e9ba5",
   "metadata": {},
   "outputs": [],
   "source": [
    "import os\n",
    "import pdfplumber\n",
    "import re"
   ]
  },
  {
   "cell_type": "code",
   "execution_count": 178,
   "id": "5302b8df",
   "metadata": {},
   "outputs": [],
   "source": [
    "input_folder = 'pdf'\n",
    "\n",
    "gatech_file_path = os.path.join(input_folder, 'gatech.pdf')\n",
    "umn_file_path = os.path.join(input_folder, 'umn.pdf')"
   ]
  },
  {
   "cell_type": "code",
   "execution_count": 179,
   "id": "f13da305",
   "metadata": {},
   "outputs": [],
   "source": [
    "# Remove None and empty string from row\n",
    "def clean_row(row):\n",
    "    return [cell for cell in row if cell not in [None, '']]"
   ]
  },
  {
   "cell_type": "code",
   "execution_count": 180,
   "id": "9719df68",
   "metadata": {},
   "outputs": [],
   "source": [
    "# Extract only numbers from the cell\n",
    "def clean_number(cell):\n",
    "    cell = re.sub(r'[^\\d]', '', str(cell)) # Remove all non-numeric characters\n",
    "    return int(cell) if cell else 0"
   ]
  },
  {
   "cell_type": "code",
   "execution_count": 181,
   "id": "e7d2d8a7",
   "metadata": {},
   "outputs": [],
   "source": [
    "def extract_residency_data(file_path):\n",
    "    \n",
    "    result = {\n",
    "        'applicants': {'in-state': 0, 'out-of-state': 0, 'international': 0, 'others': 0},\n",
    "        'admitted': {'in-state': 0, 'out-of-state': 0, 'international': 0, 'others': 0}\n",
    "    }\n",
    "\n",
    "    # Define keywords to identify residency-related and first-year-related tables\n",
    "    residency_keywords = ['in-state', 'out-of-state', 'international']\n",
    "    first_keywords = ['first-time', 'first-year']\n",
    "\n",
    "    with pdfplumber.open(file_path) as pdf:\n",
    "        for page in pdf.pages:\n",
    "            tables = page.extract_tables()\n",
    "\n",
    "            for table in tables:\n",
    "                \n",
    "                # Check if this table is relevant\n",
    "                table_str = ' '.join(str(cell).lower() for row in table for cell in row if cell)\n",
    "                if not (any(keyword in table_str for keyword in residency_keywords) and all(keyword in table_str for keyword in first_keywords)):\n",
    "                    continue\n",
    "                \n",
    "                # Extract header row\n",
    "                header_row = clean_row([str(cell or '').lower() for cell in table[0]])\n",
    "\n",
    "                # Find index of each column\n",
    "                col_idx = {'in-state': -1, 'out-of-state': -1, 'international': -1, 'others': -1}\n",
    "                for idx, col in enumerate(header_row):\n",
    "                    if 'in-' in col:\n",
    "                        col_idx['in-state'] = idx\n",
    "                    elif 'out-' in col:\n",
    "                        col_idx['out-of-state'] = idx\n",
    "                    elif 'inter' in col:\n",
    "                        col_idx['international'] = idx\n",
    "                    elif 'unk' in col:\n",
    "                        col_idx['others'] = idx\n",
    "\n",
    "                # Loop through data rows\n",
    "                for row in table[1:]:  # skip header\n",
    "                    row = clean_row(row)\n",
    "                    row_str = ' '.join(str(cell or '').lower() for cell in row)\n",
    "\n",
    "                   # Identify whether this row is about applicants or admitted students\n",
    "                    if 'applied' in row_str:\n",
    "                        target = 'applicants'\n",
    "                    elif 'admitted' in row_str:\n",
    "                        target = 'admitted'\n",
    "                    else:\n",
    "                        continue # Skip if not relevant\n",
    "                    \n",
    "                    # Add residency-specific count\n",
    "                    if col_idx['in-state'] != -1 and col_idx['in-state'] < len(row):\n",
    "                        result[target]['in-state'] += clean_number(row[col_idx['in-state']])\n",
    "                    if col_idx['out-of-state'] != -1 and col_idx['out-of-state'] < len(row):\n",
    "                        result[target]['out-of-state'] += clean_number(row[col_idx['out-of-state']])\n",
    "                    if col_idx['international'] != -1 and col_idx['international'] < len(row):\n",
    "                        result[target]['international'] += clean_number(row[col_idx['international']])\n",
    "                    if col_idx['others'] != -1 and col_idx['others'] < len(row):\n",
    "                        result[target]['others'] += clean_number(row[col_idx['others']])\n",
    "\n",
    "    return result\n"
   ]
  },
  {
   "cell_type": "code",
   "execution_count": 182,
   "id": "3cf59995",
   "metadata": {},
   "outputs": [
    {
     "data": {
      "text/plain": [
       "{'applicants': {'in-state': 10674,\n",
       "  'out-of-state': 38320,\n",
       "  'international': 10795,\n",
       "  'others': 0},\n",
       " 'admitted': {'in-state': 3536,\n",
       "  'out-of-state': 3992,\n",
       "  'international': 885,\n",
       "  'others': 0}}"
      ]
     },
     "execution_count": 182,
     "metadata": {},
     "output_type": "execute_result"
    }
   ],
   "source": [
    "gatech_residency = extract_residency_data(gatech_file_path)\n",
    "gatech_residency"
   ]
  },
  {
   "cell_type": "code",
   "execution_count": 183,
   "id": "a39785fb",
   "metadata": {},
   "outputs": [
    {
     "data": {
      "text/plain": [
       "{'applicants': {'in-state': 13982,\n",
       "  'out-of-state': 19461,\n",
       "  'international': 1256,\n",
       "  'others': 0},\n",
       " 'admitted': {'in-state': 10498,\n",
       "  'out-of-state': 15400,\n",
       "  'international': 982,\n",
       "  'others': 0}}"
      ]
     },
     "execution_count": 183,
     "metadata": {},
     "output_type": "execute_result"
    }
   ],
   "source": [
    "umn_residency = extract_residency_data(umn_file_path)\n",
    "umn_residency"
   ]
  },
  {
   "cell_type": "markdown",
   "id": "3968b5f2",
   "metadata": {},
   "source": [
    "### Preprocessing"
   ]
  },
  {
   "cell_type": "code",
   "execution_count": 184,
   "id": "ae0f79d5",
   "metadata": {},
   "outputs": [],
   "source": [
    "def calculate_acceptance_rates(data):\n",
    "    applicants = data['applicants']\n",
    "    admitted = data['admitted']\n",
    "    rates = {}\n",
    "    for category in applicants:\n",
    "        applied = applicants[category]\n",
    "        accepted = admitted.get(category, 0)\n",
    "        if applied > 0:\n",
    "            rates[category] = accepted / applied\n",
    "        else:\n",
    "            rates[category] = None \n",
    "    return rates"
   ]
  },
  {
   "cell_type": "code",
   "execution_count": 185,
   "id": "fee924da",
   "metadata": {},
   "outputs": [
    {
     "data": {
      "text/plain": [
       "{'in-state': 0.3312722503278996,\n",
       " 'out-of-state': 0.10417536534446764,\n",
       " 'international': 0.08198239925891616,\n",
       " 'others': None}"
      ]
     },
     "execution_count": 185,
     "metadata": {},
     "output_type": "execute_result"
    }
   ],
   "source": [
    "calculate_acceptance_rates(gatech_residency)"
   ]
  },
  {
   "cell_type": "code",
   "execution_count": 186,
   "id": "58c98e68",
   "metadata": {},
   "outputs": [
    {
     "data": {
      "text/plain": [
       "{'in-state': 0.7508224860534973,\n",
       " 'out-of-state': 0.7913262422280458,\n",
       " 'international': 0.7818471337579618,\n",
       " 'others': None}"
      ]
     },
     "execution_count": 186,
     "metadata": {},
     "output_type": "execute_result"
    }
   ],
   "source": [
    "calculate_acceptance_rates(umn_residency)"
   ]
  },
  {
   "cell_type": "markdown",
   "id": "93aa56b5",
   "metadata": {},
   "source": [
    "### Modeling"
   ]
  },
  {
   "cell_type": "code",
   "execution_count": 187,
   "id": "07c0887a",
   "metadata": {},
   "outputs": [],
   "source": [
    "gatech_cds = {\n",
    "    \"high_school_completion_required\": True,\n",
    "    \"general_college_preparatory_required\": True,\n",
    "    \"sat_act_required\": True,\n",
    "    \"alumni_importance\": \"Not Considered\",\n",
    "    \"first_generation_importance\": \"Considered\",\n",
    "    \"residency_importance\": \"Very Important\",\n",
    "    \"sat_importance\": \"Considered\",\n",
    "    \"gpa_importance\": \"Very Important\",\n",
    "    \"residency_acceptance\": {\n",
    "        \"international\": 0.082,\n",
    "        \"in-state\": 0.3313,\n",
    "        \"out-of-state\": 0.1042\n",
    "    },\n",
    "    \"sat_scores\": {\n",
    "        \"25th\": 1400,\n",
    "        \"50th\": 1500,\n",
    "        \"75th\": 1560\n",
    "    },\n",
    "    \"volunteer_work\": \"Considered\",\n",
    "    \"work_experience\": \"Not Considered\"\n",
    "}"
   ]
  },
  {
   "cell_type": "code",
   "execution_count": 188,
   "id": "51c82bac",
   "metadata": {},
   "outputs": [],
   "source": [
    "umn_cds = {\n",
    "    \"high_school_completion_required\": True,\n",
    "    \"general_college_preparatory_required\": True,\n",
    "    \"sat_act_required\": True,\n",
    "    \"alumni_importance\": \"Not Considered\",\n",
    "    \"first_generation_importance\": \"Considered\",\n",
    "    \"residency_importance\": \"Considered\",\n",
    "    \"sat_importance\": \"Considered\",\n",
    "    \"gpa_importance\": \"Very Important\",\n",
    "    \"residency_acceptance\": {\n",
    "        \"international\": 0.7818,\n",
    "        \"in-state\": 0.7508,\n",
    "        \"out-of-state\": 0.7913\n",
    "    },\n",
    "    \"sat_scores\": {\n",
    "        \"25th\": 1328,\n",
    "        \"50th\": 1400,\n",
    "        \"75th\": 1460\n",
    "    },\n",
    "    \"volunteer_work\": \"Considered\",\n",
    "    \"work_experience\": \"Considered\"\n",
    "}"
   ]
  },
  {
   "cell_type": "markdown",
   "id": "06125981",
   "metadata": {},
   "source": [
    "----------------"
   ]
  },
  {
   "cell_type": "code",
   "execution_count": 189,
   "id": "32e3d655",
   "metadata": {},
   "outputs": [
    {
     "data": {
      "text/plain": [
       "{'gpa_importance': 1.0,\n",
       " 'sat_importance': 0.85,\n",
       " 'residency_importance': 0.45,\n",
       " 'alumni_importance': 0.2,\n",
       " 'volunteer_work': 0.8}"
      ]
     },
     "execution_count": 189,
     "metadata": {},
     "output_type": "execute_result"
    }
   ],
   "source": [
    "import pandas as pd\n",
    "from collections import Counter\n",
    "\n",
    "# Example list of CDS importance data for multiple schools (gatech, umn, nyu, uga)\n",
    "cds_importance_data = [\n",
    "    {\n",
    "        \"gpa_importance\": \"Very Important\",\n",
    "        \"sat_importance\": \"Considered\",\n",
    "        \"residency_importance\": \"Very Important\",\n",
    "        \"alumni_importance\": \"Not Considered\",\n",
    "        \"volunteer_work\": \"Considered\",\n",
    "        #\"work_experience\": \"Considered\" \n",
    "    },\n",
    "    {\n",
    "        \"gpa_importance\": \"Very Important\",\n",
    "        \"sat_importance\": \"Considered\",\n",
    "        \"residency_importance\": \"Considered\",\n",
    "        \"alumni_importance\": \"Not Considered\",\n",
    "        \"volunteer_work\": \"Considered\",\n",
    "        #\"work_experience\": \"Considered\"\n",
    "    },\n",
    "    {\n",
    "        \"gpa_importance\": \"Very Important\",\n",
    "        \"sat_importance\": \"Important\",\n",
    "        \"residency_importance\": \"Not Considered\",\n",
    "        \"alumni_importance\": \"Not Considered\",\n",
    "        \"volunteer_work\": \"Considered\",\n",
    "        #\"work_experience\": \"Considered\"\n",
    "    },\n",
    "        {\n",
    "        \"gpa_importance\": \"Very Important\",\n",
    "        \"sat_importance\": \"Important\",\n",
    "        \"residency_importance\": \"Not Considered\",\n",
    "        \"alumni_importance\": \"Considered\", # mock data\n",
    "        \"volunteer_work\": \"Considered\",\n",
    "        #\"work_experience\": \"Considered\"\n",
    "    }\n",
    "]\n",
    "\n",
    "# 1. Count importance levels per category\n",
    "importance_levels = [\"Very Important\", \"Important\", \"Considered\", \"Not Considered\"]\n",
    "categories = [\"gpa_importance\", \"sat_importance\", \"residency_importance\", \"alumni_importance\", \"volunteer_work\"]\n",
    "importance_counts = {cat: Counter() for cat in categories}\n",
    "\n",
    "for record in cds_importance_data:\n",
    "    for cat in categories:\n",
    "        importance_counts[cat][record[cat]] += 1\n",
    "\n",
    "# 2. Calculate average weights\n",
    "weight_map = {\n",
    "    \"Very Important\": 1.0,\n",
    "    \"Important\": 0.9,\n",
    "    \"Considered\": 0.8,\n",
    "    \"Not Considered\": 0.0\n",
    "}\n",
    "\n",
    "average_weights = {}\n",
    "for cat in categories:\n",
    "    total = sum(importance_counts[cat].values())\n",
    "    if total == 0:\n",
    "        average_weights[cat] = 0\n",
    "        continue\n",
    "    weighted_sum = sum(weight_map[level] * count for level, count in importance_counts[cat].items())\n",
    "    average_weights[cat] = round(weighted_sum / total, 4)\n",
    "\n",
    "average_weights\n"
   ]
  },
  {
   "cell_type": "code",
   "execution_count": 190,
   "id": "67a8b99b",
   "metadata": {},
   "outputs": [],
   "source": [
    "# Convert average weights into max point allocation (total = 100 points)\n",
    "def normalize_max_points_from_avg_weights(average_weights, total_points=100):\n",
    "    total_weight = sum(average_weights.values())\n",
    "    max_points_by_cat = {\n",
    "        key.replace('_importance', ''): round((w / total_weight) * total_points, 2)\n",
    "        for key, w in average_weights.items()\n",
    "    }\n",
    "    return max_points_by_cat"
   ]
  },
  {
   "cell_type": "code",
   "execution_count": 191,
   "id": "af2716eb",
   "metadata": {},
   "outputs": [
    {
     "data": {
      "text/plain": [
       "{'gpa': 30.3,\n",
       " 'sat': 25.76,\n",
       " 'residency': 13.64,\n",
       " 'alumni': 6.06,\n",
       " 'volunteer_work': 24.24}"
      ]
     },
     "execution_count": 191,
     "metadata": {},
     "output_type": "execute_result"
    }
   ],
   "source": [
    "max_points_by_cat = normalize_max_points_from_avg_weights(average_weights)\n",
    "max_points_by_cat"
   ]
  },
  {
   "cell_type": "markdown",
   "id": "4ca7fa67",
   "metadata": {},
   "source": [
    "----------------"
   ]
  },
  {
   "cell_type": "code",
   "execution_count": 192,
   "id": "e671c51e",
   "metadata": {},
   "outputs": [],
   "source": [
    "def calculate_total_max_score(school_info, max_points_by_cat, weight_map):\n",
    "    total = 0\n",
    "    category_to_importance_key = {\n",
    "        'gpa': 'gpa_importance',\n",
    "        'sat': 'sat_importance',\n",
    "        'residency': 'residency_importance',\n",
    "        'alumni': 'alumni_importance',\n",
    "        'volunteer_work': 'volunteer_work',\n",
    "        'work_experience': 'work_experience'\n",
    "    }\n",
    "    \n",
    "    for category, max_point in max_points_by_cat.items():\n",
    "        importance_key = category_to_importance_key.get(category)\n",
    "        if importance_key and importance_key in school_info:\n",
    "            importance = school_info[importance_key]\n",
    "            weight = weight_map.get(importance, 0)\n",
    "            total += max_point * weight\n",
    "        else:\n",
    "            continue\n",
    "    return total"
   ]
  },
  {
   "cell_type": "code",
   "execution_count": 193,
   "id": "fa7b7567",
   "metadata": {},
   "outputs": [],
   "source": [
    "weight_map = {\n",
    "    \"Very Important\": 1.0,\n",
    "    \"Important\": 0.9,\n",
    "    \"Considered\": 0.8,\n",
    "    \"Not Considered\": 0.0\n",
    "}"
   ]
  },
  {
   "cell_type": "code",
   "execution_count": 194,
   "id": "779f5bce",
   "metadata": {},
   "outputs": [
    {
     "data": {
      "text/plain": [
       "83.94"
      ]
     },
     "execution_count": 194,
     "metadata": {},
     "output_type": "execute_result"
    }
   ],
   "source": [
    "calculate_total_max_score(gatech_cds, max_points_by_cat, weight_map)"
   ]
  },
  {
   "cell_type": "code",
   "execution_count": 195,
   "id": "3f4743ef",
   "metadata": {},
   "outputs": [
    {
     "data": {
      "text/plain": [
       "81.212"
      ]
     },
     "execution_count": 195,
     "metadata": {},
     "output_type": "execute_result"
    }
   ],
   "source": [
    "calculate_total_max_score(umn_cds, max_points_by_cat, weight_map)"
   ]
  },
  {
   "cell_type": "markdown",
   "id": "faf851a9",
   "metadata": {},
   "source": [
    "------------"
   ]
  },
  {
   "cell_type": "code",
   "execution_count": 196,
   "id": "cb678c36",
   "metadata": {},
   "outputs": [],
   "source": [
    "def calculate_compatibility_score(applicant, school_requirements, max_points_by_cat):\n",
    "    \n",
    "    # 1. Check essential requirments\n",
    "    if not (school_requirements['high_school_completion_required'] and\n",
    "            school_requirements['general_college_preparatory_required'] and\n",
    "            school_requirements['sat_act_required']):\n",
    "        return {\"score\": 0, \"details\": {\"reason\": \"Essential requirement not met\"}}\n",
    "\n",
    "    # 2. Define importance weight mapping\n",
    "    weight_map = {\n",
    "        \"Very Important\": 1.0,\n",
    "        \"Important\": 0.9,\n",
    "        \"Considered\": 0.8,\n",
    "        \"Not Considered\": 0.0\n",
    "    }\n",
    "\n",
    "    total_score = 0\n",
    "    details = {}\n",
    "\n",
    "    # 3. Score for alumni relation\n",
    "    alumni_max = max_points_by_cat['alumni']\n",
    "    alumni_score = alumni_max if applicant['alumni'] else 0\n",
    "    alumni_weighted = alumni_score * weight_map[school_requirements['alumni_importance']]\n",
    "    total_score += alumni_weighted\n",
    "    details[\"alumni\"] = round(alumni_weighted, 2)\n",
    "\n",
    "    # 4. Score for first-generation status\n",
    "    #first_max = max_points_by_cat['first_generation']\n",
    "    #first_score = first_max if applicant['first'] else 0\n",
    "    #first_weighted = first_score * weight_map[school_requirements['first_generation_importance']]\n",
    "    #total_score += first_weighted\n",
    "    #details[\"first_generation\"] = round(first_weighted, 2)\n",
    "\n",
    "    # 5. Score based on residency acceptance rate\n",
    "    residency_max = max_points_by_cat['residency']\n",
    "    residency = applicant['residency']\n",
    "    residency_score = school_requirements['residency_acceptance'][residency] * residency_max\n",
    "    residency_weighted = residency_score * weight_map[school_requirements['residency_importance']]\n",
    "    total_score += residency_weighted\n",
    "    details[\"residency\"] = round(residency_weighted, 2)\n",
    "    \n",
    "\n",
    "    # 6. Score based on SAT range position\n",
    "    sat_max = max_points_by_cat['sat']\n",
    "    sat = applicant['sat']\n",
    "    sat_q25 = school_requirements['sat_scores']['25th']\n",
    "    sat_q50 = school_requirements['sat_scores']['50th']\n",
    "    sat_q75 = school_requirements['sat_scores']['75th']\n",
    "\n",
    "    if sat < sat_q25:\n",
    "        sat_score = 0\n",
    "    elif sat > sat_q75:\n",
    "        sat_score = sat_max\n",
    "    else:\n",
    "        sat_score = ((sat - sat_q25) / (sat_q75 - sat_q25)) * sat_max\n",
    "        sat_score = min(sat_max, max(0, sat_score))\n",
    "    sat_weighted = sat_score * weight_map[school_requirements['sat_importance']]\n",
    "    total_score += sat_weighted\n",
    "    details[\"sat\"] = round(sat_weighted, 2)\n",
    "\n",
    "    # 7. Score based on GPA\n",
    "    gpa_max = max_points_by_cat['gpa']\n",
    "    gpa_score = (applicant['gpa'] / 4.0) * gpa_max\n",
    "    gpa_weighted = gpa_score * weight_map[school_requirements['gpa_importance']]\n",
    "    total_score += gpa_weighted\n",
    "    details[\"gpa\"] = round(gpa_weighted, 2)\n",
    "    \n",
    "    # 8. Score for volunteer work\n",
    "    volunteer_max = max_points_by_cat['volunteer_work']\n",
    "    volunteer = applicant['volunteering_hours']\n",
    "    if volunteer < 50:\n",
    "        volunteer_score = 0\n",
    "    elif volunteer >= 200:\n",
    "        volunteer_score = volunteer_max\n",
    "    else:\n",
    "        volunteer_score = volunteer / 200 * volunteer_max\n",
    "    \n",
    "    # 9. Score for work experience\n",
    "    #work_max = max_points_by_cat['work_experience']\n",
    "    #work = applicant['work_months']\n",
    "    \n",
    "    # 10. Calculate school-specific total max score\n",
    "    total_max_score = calculate_total_max_score(school_requirements, max_points_by_cat, weight_map)\n",
    "\n",
    "    # 11. Normalize total_score by total_max_score\n",
    "    if total_max_score > 0:\n",
    "        normalized_score = (total_score / total_max_score) * 100\n",
    "    else:\n",
    "        normalized_score = 0\n",
    "    \n",
    "    return {\n",
    "        \"score\": round(normalized_score, 2), \n",
    "        \"details\": details\n",
    "    }"
   ]
  },
  {
   "cell_type": "code",
   "execution_count": 197,
   "id": "63225178",
   "metadata": {},
   "outputs": [
    {
     "data": {
      "text/plain": [
       "{'score': 53.14,\n",
       " 'details': {'alumni': 0.0, 'residency': 1.12, 'sat': 15.46, 'gpa': 28.03}}"
      ]
     },
     "execution_count": 197,
     "metadata": {},
     "output_type": "execute_result"
    }
   ],
   "source": [
    "calculate_compatibility_score(applicant1, gatech_cds, max_points_by_cat)"
   ]
  },
  {
   "cell_type": "code",
   "execution_count": 198,
   "id": "b632e91c",
   "metadata": {},
   "outputs": [
    {
     "data": {
      "text/plain": [
       "{'score': 70.39,\n",
       " 'details': {'alumni': 0.0, 'residency': 8.53, 'sat': 20.61, 'gpa': 28.03}}"
      ]
     },
     "execution_count": 198,
     "metadata": {},
     "output_type": "execute_result"
    }
   ],
   "source": [
    "calculate_compatibility_score(applicant1, umn_cds, max_points_by_cat)"
   ]
  },
  {
   "cell_type": "code",
   "execution_count": 199,
   "id": "f34172fd",
   "metadata": {},
   "outputs": [
    {
     "data": {
      "text/plain": [
       "{'score': 26.6,\n",
       " 'details': {'alumni': 0.0, 'residency': 1.12, 'sat': 0.0, 'gpa': 21.21}}"
      ]
     },
     "execution_count": 199,
     "metadata": {},
     "output_type": "execute_result"
    }
   ],
   "source": [
    "calculate_compatibility_score(applicant3, gatech_cds, max_points_by_cat)"
   ]
  },
  {
   "cell_type": "code",
   "execution_count": 200,
   "id": "d6a063e3",
   "metadata": {},
   "outputs": [
    {
     "data": {
      "text/plain": [
       "{'score': 36.62,\n",
       " 'details': {'alumni': 0.0, 'residency': 8.53, 'sat': 0.0, 'gpa': 21.21}}"
      ]
     },
     "execution_count": 200,
     "metadata": {},
     "output_type": "execute_result"
    }
   ],
   "source": [
    "calculate_compatibility_score(applicant3, umn_cds, max_points_by_cat)"
   ]
  }
 ],
 "metadata": {
  "kernelspec": {
   "display_name": "base",
   "language": "python",
   "name": "python3"
  },
  "language_info": {
   "codemirror_mode": {
    "name": "ipython",
    "version": 3
   },
   "file_extension": ".py",
   "mimetype": "text/x-python",
   "name": "python",
   "nbconvert_exporter": "python",
   "pygments_lexer": "ipython3",
   "version": "3.11.5"
  }
 },
 "nbformat": 4,
 "nbformat_minor": 5
}
