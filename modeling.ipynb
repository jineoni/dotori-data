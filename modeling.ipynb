{
 "cells": [
  {
   "cell_type": "markdown",
   "id": "867fe259",
   "metadata": {},
   "source": [
    "### Applicants Sample"
   ]
  },
  {
   "cell_type": "code",
   "execution_count": 1,
   "id": "42291858",
   "metadata": {},
   "outputs": [],
   "source": [
    "applicant1 = {\n",
    "    \"high_school_completion\": 1,\n",
    "    \"general_college_requirement\": 1,\n",
    "    \"alumni\": 0,\n",
    "    \"first\": 0,\n",
    "    \"residency\": \"international\",\n",
    "    \"sat\": 1520,\n",
    "    \"gpa\": 3.7\n",
    "}"
   ]
  },
  {
   "cell_type": "code",
   "execution_count": 2,
   "id": "cf401c12",
   "metadata": {},
   "outputs": [],
   "source": [
    "applicant2 = {\n",
    "    \"high_school_completion\": 1,\n",
    "    \"general_college_requirement\": 1,\n",
    "    \"alumni\": 0,\n",
    "    \"first\": 0,\n",
    "    \"residency\": \"international\",\n",
    "    \"sat\": 1480,\n",
    "    \"gpa\": 3.9\n",
    "}"
   ]
  },
  {
   "cell_type": "code",
   "execution_count": 3,
   "id": "07aa1116",
   "metadata": {},
   "outputs": [],
   "source": [
    "applicant3 = {\n",
    "    \"high_school_completion\": 1,\n",
    "    \"general_college_requirement\": 1,\n",
    "    \"alumni\": 0,\n",
    "    \"first\": 0,\n",
    "    \"residency\": \"international\",\n",
    "    \"sat\": 1300,\n",
    "    \"gpa\": 2.8\n",
    "}"
   ]
  },
  {
   "cell_type": "markdown",
   "id": "cf07ff57",
   "metadata": {},
   "source": [
    "### Crawling"
   ]
  },
  {
   "cell_type": "code",
   "execution_count": 13,
   "id": "745e9ba5",
   "metadata": {},
   "outputs": [],
   "source": [
    "import os\n",
    "import pdfplumber\n",
    "import re"
   ]
  },
  {
   "cell_type": "code",
   "execution_count": 14,
   "id": "5302b8df",
   "metadata": {},
   "outputs": [],
   "source": [
    "input_folder = 'pdf'\n",
    "\n",
    "gatech_file_path = os.path.join(input_folder, 'gatech.pdf')"
   ]
  },
  {
   "cell_type": "code",
   "execution_count": 15,
   "id": "f13da305",
   "metadata": {},
   "outputs": [],
   "source": [
    "# Remove None and empty string from row\n",
    "def clean_row(row):\n",
    "    return [cell for cell in row if cell not in [None, '']]"
   ]
  },
  {
   "cell_type": "code",
   "execution_count": 16,
   "id": "9719df68",
   "metadata": {},
   "outputs": [],
   "source": [
    "# Extract only numbers from the cell\n",
    "def clean_number(cell):\n",
    "    cell = re.sub(r'[^\\d]', '', str(cell)) # Remove all non-numeric characters\n",
    "    return int(cell) if cell else 0"
   ]
  },
  {
   "cell_type": "code",
   "execution_count": 19,
   "id": "e7d2d8a7",
   "metadata": {},
   "outputs": [],
   "source": [
    "def extract_residency_data(file_path):\n",
    "    \n",
    "    result = {\n",
    "        'applicants': {'in-state': 0, 'out-of-state': 0, 'international': 0, 'others': 0},\n",
    "        'admitted': {'in-state': 0, 'out-of-state': 0, 'international': 0, 'others': 0}\n",
    "    }\n",
    "\n",
    "    # Define keywords to identify residency-related and first-year-related tables\n",
    "    residency_keywords = ['in-state', 'out-of-state', 'international']\n",
    "    first_keywords = ['first-time', 'first-year']\n",
    "\n",
    "    with pdfplumber.open(file_path) as pdf:\n",
    "        for page in pdf.pages:\n",
    "            tables = page.extract_tables()\n",
    "\n",
    "            for table in tables:\n",
    "                \n",
    "                # Check if this table is relevant\n",
    "                table_str = ' '.join(str(cell).lower() for row in table for cell in row if cell)\n",
    "                if not (any(keyword in table_str for keyword in residency_keywords) and all(keyword in table_str for keyword in first_keywords)):\n",
    "                    continue\n",
    "                \n",
    "                # Extract header row\n",
    "                header_row = clean_row([str(cell or '').lower() for cell in table[0]])\n",
    "\n",
    "                # Find index of each column\n",
    "                col_idx = {'in-state': -1, 'out-of-state': -1, 'international': -1, 'others': -1}\n",
    "                for idx, col in enumerate(header_row):\n",
    "                    if 'in-' in col:\n",
    "                        col_idx['in-state'] = idx\n",
    "                    elif 'out-' in col:\n",
    "                        col_idx['out-of-state'] = idx\n",
    "                    elif 'inter' in col:\n",
    "                        col_idx['international'] = idx\n",
    "                    elif 'unk' in col:\n",
    "                        col_idx['others'] = idx\n",
    "\n",
    "                # Loop through data rows\n",
    "                for row in table[1:]:  # skip header\n",
    "                    row = clean_row(row)\n",
    "                    row_str = ' '.join(str(cell or '').lower() for cell in row)\n",
    "\n",
    "                   # Identify whether this row is about applicants or admitted students\n",
    "                    if 'applied' in row_str:\n",
    "                        target = 'applicants'\n",
    "                    elif 'admitted' in row_str:\n",
    "                        target = 'admitted'\n",
    "                    else:\n",
    "                        continue # Skip if not relevant\n",
    "                    \n",
    "                    # Add residency-specific count\n",
    "                    if col_idx['in-state'] != -1 and col_idx['in-state'] < len(row):\n",
    "                        result[target]['in-state'] += clean_number(row[col_idx['in-state']])\n",
    "                    if col_idx['out-of-state'] != -1 and col_idx['out-of-state'] < len(row):\n",
    "                        result[target]['out-of-state'] += clean_number(row[col_idx['out-of-state']])\n",
    "                    if col_idx['international'] != -1 and col_idx['international'] < len(row):\n",
    "                        result[target]['international'] += clean_number(row[col_idx['international']])\n",
    "                    if col_idx['others'] != -1 and col_idx['others'] < len(row):\n",
    "                        result[target]['others'] += clean_number(row[col_idx['others']])\n",
    "\n",
    "    return result\n"
   ]
  },
  {
   "cell_type": "code",
   "execution_count": 23,
   "id": "3cf59995",
   "metadata": {},
   "outputs": [
    {
     "data": {
      "text/plain": [
       "{'applicants': {'in-state': 10674,\n",
       "  'out-of-state': 38320,\n",
       "  'international': 10795,\n",
       "  'others': 0},\n",
       " 'admitted': {'in-state': 3536,\n",
       "  'out-of-state': 3992,\n",
       "  'international': 885,\n",
       "  'others': 0}}"
      ]
     },
     "execution_count": 23,
     "metadata": {},
     "output_type": "execute_result"
    }
   ],
   "source": [
    "gatech_residency = extract_residency_data(gatech_file_path)\n",
    "gatech_residency"
   ]
  },
  {
   "cell_type": "markdown",
   "id": "3968b5f2",
   "metadata": {},
   "source": [
    "### Preprocessing"
   ]
  },
  {
   "cell_type": "code",
   "execution_count": 25,
   "id": "40c2dc0d",
   "metadata": {},
   "outputs": [],
   "source": [
    "def convert_residency_data_to_stats(residency_data):\n",
    "    applicants = residency_data['applicants']\n",
    "    admitted = residency_data['admitted']\n",
    "\n",
    "    # Calculate acceptance rates by residency type\n",
    "    residency_acceptance = {}\n",
    "    for key in ['in-state', 'out-of-state', 'international']:\n",
    "        if applicants[key] > 0:\n",
    "            rate = admitted[key] / applicants[key]\n",
    "            residency_acceptance[key] = round(rate, 4)\n",
    "        else:\n",
    "            residency_acceptance[key] = 0.0\n",
    "\n",
    "    # Calculate overall acceptance rate and std deviation\n",
    "    total_applicants = sum(applicants.values())\n",
    "    total_admitted = sum(admitted.values())\n",
    "    overall_acceptance_rate = total_admitted / total_applicants if total_applicants > 0 else 0\n",
    "\n",
    "    acceptance_rates = [residency_acceptance[key] for key in ['in-state', 'out-of-state', 'international']]\n",
    "    mean = overall_acceptance_rate\n",
    "    variance = sum((x - mean) ** 2 for x in acceptance_rates) / len(acceptance_rates)\n",
    "    std_dev = variance ** 0.5\n",
    "\n",
    "    return {\n",
    "        \"residency_acceptance\": residency_acceptance,\n",
    "        \"overall_acceptance_rate\": round(overall_acceptance_rate, 4),\n",
    "        \"overall_acceptance_std\": round(std_dev, 4)\n",
    "    }"
   ]
  },
  {
   "cell_type": "code",
   "execution_count": 26,
   "id": "e4055d3a",
   "metadata": {},
   "outputs": [
    {
     "data": {
      "text/plain": [
       "{'residency_acceptance': {'in-state': 0.3313,\n",
       "  'out-of-state': 0.1042,\n",
       "  'international': 0.082},\n",
       " 'overall_acceptance_rate': 0.1407,\n",
       " 'overall_acceptance_std': 0.1171}"
      ]
     },
     "execution_count": 26,
     "metadata": {},
     "output_type": "execute_result"
    }
   ],
   "source": [
    "convert_residency_data_to_stats(gatech_residency)"
   ]
  },
  {
   "cell_type": "markdown",
   "id": "93aa56b5",
   "metadata": {},
   "source": [
    "### Modeling"
   ]
  },
  {
   "cell_type": "code",
   "execution_count": 27,
   "id": "07c0887a",
   "metadata": {},
   "outputs": [],
   "source": [
    "gatech_cds = {\n",
    "    \"high_school_completion_required\": True,\n",
    "    \"general_college_preparatory_required\": True,\n",
    "    \"sat_act_required\": True,\n",
    "    \"alumni_importance\": \"Not Considered\",\n",
    "    \"first_generation_importance\": \"Considered\",\n",
    "    \"residency_importance\": \"Very Important\",\n",
    "    \"sat_importance\": \"Considered\",\n",
    "    \"gpa_importance\": \"Very Important\",\n",
    "    \"residency_acceptance\": {\n",
    "        \"international\": 0.082,\n",
    "        \"in-state\": 0.3313,\n",
    "        \"out-of-state\": 0.1042\n",
    "    },\n",
    "    \"overall_acceptance_rate\": 0.1407,\n",
    "    \"overall_acceptance_std\": 0.1171,\n",
    "    \"sat_scores\": {\n",
    "        \"25th\": 1400,\n",
    "        \"50th\": 1500,\n",
    "        \"75th\": 1560\n",
    "    }\n",
    "}"
   ]
  },
  {
   "cell_type": "code",
   "execution_count": 28,
   "id": "7f02bd25",
   "metadata": {},
   "outputs": [],
   "source": [
    "def calculate_compatibility_score1(applicant, school_requirements):\n",
    "    \n",
    "    # 1. Check essential requirments\n",
    "    if not (school_requirements['high_school_completion_required'] and\n",
    "            school_requirements['general_college_preparatory_required'] and\n",
    "            school_requirements['sat_act_required']):\n",
    "        return {\"score\": 0, \"details\": {\"reason\": \"Essential requirement not met\"}}\n",
    "\n",
    "    # 2. Define importance weight mapping\n",
    "    weight_map = {\n",
    "        \"Very Important\": 1.0,\n",
    "        \"Important\": 0.9,\n",
    "        \"Considered\": 0.8,\n",
    "        \"Not Considered\": 0.0\n",
    "    }\n",
    "\n",
    "    total_score = 0\n",
    "    details = {}\n",
    "\n",
    "    # 3. Score for alumni relation\n",
    "    alumni_score = 20 if applicant['alumni'] else 0\n",
    "    alumni_weighted = alumni_score * weight_map[school_requirements['alumni_importance']]\n",
    "    total_score += alumni_weighted\n",
    "    details[\"alumni\"] = round(alumni_weighted, 2)\n",
    "\n",
    "    # 4. Score for first-generation status\n",
    "    first_score = 20 if applicant['first'] else 0\n",
    "    first_weighted = first_score * weight_map[school_requirements['first_generation_importance']]\n",
    "    total_score += first_weighted\n",
    "    details[\"first_generation\"] = round(first_weighted, 2)\n",
    "\n",
    "    # 5. Score based on residency acceptance rate\n",
    "    residency = applicant['residency']\n",
    "    residency_rate = school_requirements['residency_acceptance'][residency]\n",
    "    overall_rate = school_requirements['overall_acceptance_rate']\n",
    "    std_dev = school_requirements['overall_acceptance_std']\n",
    "    if std_dev > 0:\n",
    "        z = (residency_rate - overall_rate) / std_dev\n",
    "        residency_score = min(20, max(0, ((z + 2) / 4) * 20))\n",
    "    else:\n",
    "        residency_score = 0\n",
    "    residency_weighted = residency_score * weight_map[school_requirements['residency_importance']]\n",
    "    total_score += residency_weighted\n",
    "    details[\"residency\"] = round(residency_weighted, 2)\n",
    "    \n",
    "\n",
    "    # 6. Score based on SAT range position\n",
    "    sat = applicant['sat']\n",
    "    sat_q25 = school_requirements['sat_scores']['25th']\n",
    "    sat_q50 = school_requirements['sat_scores']['50th']\n",
    "    sat_q75 = school_requirements['sat_scores']['75th']\n",
    "\n",
    "    if sat < sat_q25:\n",
    "        sat_score = 5\n",
    "    elif sat < sat_q50:\n",
    "        sat_score = 10\n",
    "    elif sat < sat_q75:\n",
    "        sat_score = 15\n",
    "    else:\n",
    "        sat_score = 20\n",
    "    sat_weighted = sat_score * weight_map[school_requirements['sat_importance']]\n",
    "    total_score += sat_weighted\n",
    "    details[\"sat\"] = round(sat_weighted, 2)\n",
    "\n",
    "    # 7. Score based on GPA\n",
    "    gpa_score = applicant['gpa'] * 5\n",
    "    gpa_weighted = gpa_score * weight_map[school_requirements['gpa_importance']]\n",
    "    total_score += gpa_weighted\n",
    "    details[\"gpa\"] = round(gpa_weighted, 2)\n",
    "\n",
    "    return {\n",
    "        \"score\": round(total_score, 2), \n",
    "        \"details\": details\n",
    "    }\n"
   ]
  },
  {
   "cell_type": "code",
   "execution_count": 29,
   "id": "b956a269",
   "metadata": {},
   "outputs": [
    {
     "data": {
      "text/plain": [
       "{'score': 37.99,\n",
       " 'details': {'alumni': 0.0,\n",
       "  'first_generation': 0.0,\n",
       "  'residency': 7.49,\n",
       "  'sat': 12.0,\n",
       "  'gpa': 18.5}}"
      ]
     },
     "execution_count": 29,
     "metadata": {},
     "output_type": "execute_result"
    }
   ],
   "source": [
    "calculate_compatibility_score1(applicant1, gatech_cds)"
   ]
  },
  {
   "cell_type": "code",
   "execution_count": 30,
   "id": "c695e6fe",
   "metadata": {},
   "outputs": [
    {
     "data": {
      "text/plain": [
       "{'score': 34.99,\n",
       " 'details': {'alumni': 0.0,\n",
       "  'first_generation': 0.0,\n",
       "  'residency': 7.49,\n",
       "  'sat': 8.0,\n",
       "  'gpa': 19.5}}"
      ]
     },
     "execution_count": 30,
     "metadata": {},
     "output_type": "execute_result"
    }
   ],
   "source": [
    "calculate_compatibility_score1(applicant2, gatech_cds)"
   ]
  },
  {
   "cell_type": "code",
   "execution_count": 31,
   "id": "5c62bbe6",
   "metadata": {},
   "outputs": [
    {
     "data": {
      "text/plain": [
       "{'score': 25.49,\n",
       " 'details': {'alumni': 0.0,\n",
       "  'first_generation': 0.0,\n",
       "  'residency': 7.49,\n",
       "  'sat': 4.0,\n",
       "  'gpa': 14.0}}"
      ]
     },
     "execution_count": 31,
     "metadata": {},
     "output_type": "execute_result"
    }
   ],
   "source": [
    "calculate_compatibility_score1(applicant3, gatech_cds)"
   ]
  },
  {
   "cell_type": "markdown",
   "id": "06125981",
   "metadata": {},
   "source": [
    "----------------"
   ]
  },
  {
   "cell_type": "code",
   "execution_count": 32,
   "id": "311984b5",
   "metadata": {},
   "outputs": [
    {
     "data": {
      "text/plain": [
       "{'gpa_importance': 0.9667,\n",
       " 'sat_importance': 0.9667,\n",
       " 'residency_importance': 0.8333,\n",
       " 'first_generation_importance': 0.8333,\n",
       " 'alumni_importance': 0.2667}"
      ]
     },
     "execution_count": 32,
     "metadata": {},
     "output_type": "execute_result"
    }
   ],
   "source": [
    "import pandas as pd\n",
    "from collections import Counter\n",
    "\n",
    "# Example list of CDS importance data for multiple schools (mock data)\n",
    "cds_importance_data = [\n",
    "    {\n",
    "        \"gpa_importance\": \"Very Important\",\n",
    "        \"sat_importance\": \"Important\",\n",
    "        \"residency_importance\": \"Considered\",\n",
    "        \"first_generation_importance\": \"Considered\",\n",
    "        \"alumni_importance\": \"Not Considered\"\n",
    "    },\n",
    "    {\n",
    "        \"gpa_importance\": \"Very Important\",\n",
    "        \"sat_importance\": \"Very Important\",\n",
    "        \"residency_importance\": \"Important\",\n",
    "        \"first_generation_importance\": \"Considered\",\n",
    "        \"alumni_importance\": \"Considered\"\n",
    "    },\n",
    "    {\n",
    "        \"gpa_importance\": \"Important\",\n",
    "        \"sat_importance\": \"Very Important\",\n",
    "        \"residency_importance\": \"Considered\",\n",
    "        \"first_generation_importance\": \"Important\",\n",
    "        \"alumni_importance\": \"Not Considered\"\n",
    "    }\n",
    "]\n",
    "\n",
    "# 1. Count importance levels per category\n",
    "importance_levels = [\"Very Important\", \"Important\", \"Considered\", \"Not Considered\"]\n",
    "categories = [\"gpa_importance\", \"sat_importance\", \"residency_importance\", \"first_generation_importance\", \"alumni_importance\"]\n",
    "importance_counts = {cat: Counter() for cat in categories}\n",
    "\n",
    "for record in cds_importance_data:\n",
    "    for cat in categories:\n",
    "        importance_counts[cat][record[cat]] += 1\n",
    "\n",
    "# 2. Calculate average weights\n",
    "weight_map = {\n",
    "    \"Very Important\": 1.0,\n",
    "    \"Important\": 0.9,\n",
    "    \"Considered\": 0.8,\n",
    "    \"Not Considered\": 0.0\n",
    "}\n",
    "\n",
    "average_weights = {}\n",
    "for cat in categories:\n",
    "    total = sum(importance_counts[cat].values())\n",
    "    if total == 0:\n",
    "        average_weights[cat] = 0\n",
    "        continue\n",
    "    weighted_sum = sum(weight_map[level] * count for level, count in importance_counts[cat].items())\n",
    "    average_weights[cat] = round(weighted_sum / total, 4)\n",
    "\n",
    "average_weights\n"
   ]
  },
  {
   "cell_type": "code",
   "execution_count": 33,
   "id": "67a8b99b",
   "metadata": {},
   "outputs": [],
   "source": [
    "# Convert average weights into max point allocation (total = 100 points)\n",
    "def normalize_max_points_from_avg_weights(average_weights, total_points=100):\n",
    "    total_weight = sum(average_weights.values())\n",
    "    max_points_by_cat = {\n",
    "        key.replace('_importance', ''): round((w / total_weight) * total_points, 2)\n",
    "        for key, w in average_weights.items()\n",
    "    }\n",
    "    return max_points_by_cat"
   ]
  },
  {
   "cell_type": "code",
   "execution_count": 34,
   "id": "b8a2b36f",
   "metadata": {},
   "outputs": [
    {
     "data": {
      "text/plain": [
       "{'gpa': 25.0,\n",
       " 'sat': 25.0,\n",
       " 'residency': 21.55,\n",
       " 'first_generation': 21.55,\n",
       " 'alumni': 6.9}"
      ]
     },
     "execution_count": 34,
     "metadata": {},
     "output_type": "execute_result"
    }
   ],
   "source": [
    "max_points_by_cat = normalize_max_points_from_avg_weights(average_weights)\n",
    "max_points_by_cat"
   ]
  },
  {
   "cell_type": "code",
   "execution_count": 35,
   "id": "d7d79e9b",
   "metadata": {},
   "outputs": [],
   "source": [
    "def calculate_compatibility_score2(applicant, school_requirements, max_points_by_cat):\n",
    "    \n",
    "    # 1. Check essential requirments\n",
    "    if not (school_requirements['high_school_completion_required'] and\n",
    "            school_requirements['general_college_preparatory_required'] and\n",
    "            school_requirements['sat_act_required']):\n",
    "        return {\"score\": 0, \"details\": {\"reason\": \"Essential requirement not met\"}}\n",
    "\n",
    "    # 2. Define importance weight mapping\n",
    "    weight_map = {\n",
    "        \"Very Important\": 1.0,\n",
    "        \"Important\": 0.9,\n",
    "        \"Considered\": 0.8,\n",
    "        \"Not Considered\": 0.0\n",
    "    }\n",
    "\n",
    "    total_score = 0\n",
    "    details = {}\n",
    "\n",
    "    # 3. Score for alumni relation\n",
    "    alumni_max = max_points_by_cat['alumni']\n",
    "    alumni_score = alumni_max if applicant['alumni'] else 0\n",
    "    alumni_weighted = alumni_score * weight_map[school_requirements['alumni_importance']]\n",
    "    total_score += alumni_weighted\n",
    "    details[\"alumni\"] = round(alumni_weighted, 2)\n",
    "\n",
    "    # 4. Score for first-generation status\n",
    "    first_max = max_points_by_cat['first_generation']\n",
    "    first_score = first_max if applicant['first'] else 0\n",
    "    first_weighted = first_score * weight_map[school_requirements['first_generation_importance']]\n",
    "    total_score += first_weighted\n",
    "    details[\"first_generation\"] = round(first_weighted, 2)\n",
    "\n",
    "    # 5. Score based on residency acceptance rate\n",
    "    residency_max = max_points_by_cat['residency']\n",
    "    residency = applicant['residency']\n",
    "    residency_rate = school_requirements['residency_acceptance'][residency]\n",
    "    overall_rate = school_requirements['overall_acceptance_rate']\n",
    "    std_dev = school_requirements['overall_acceptance_std']\n",
    "    if std_dev > 0:\n",
    "        z = (residency_rate - overall_rate) / std_dev\n",
    "        normalized = min(1, max(0, (z + 2) / 4))\n",
    "        residency_score = normalized * residency_max\n",
    "    else:\n",
    "        residency_score = 0\n",
    "    residency_weighted = residency_score * weight_map[school_requirements['residency_importance']]\n",
    "    total_score += residency_weighted\n",
    "    details[\"residency\"] = round(residency_weighted, 2)\n",
    "    \n",
    "\n",
    "    # 6. Score based on SAT range position\n",
    "    sat_max = max_points_by_cat['sat']\n",
    "    sat = applicant['sat']\n",
    "    sat_q25 = school_requirements['sat_scores']['25th']\n",
    "    sat_q50 = school_requirements['sat_scores']['50th']\n",
    "    sat_q75 = school_requirements['sat_scores']['75th']\n",
    "\n",
    "    if sat < sat_q25:\n",
    "        sat_score = 0\n",
    "    elif sat > sat_q75:\n",
    "        sat_score = sat_max\n",
    "    else:\n",
    "        sat_score = ((sat - sat_q25) / (sat_q75 - sat_q25)) * sat_max\n",
    "        sat_score = min(sat_max, max(0, sat_score))\n",
    "    sat_weighted = sat_score * weight_map[school_requirements['sat_importance']]\n",
    "    total_score += sat_weighted\n",
    "    details[\"sat\"] = round(sat_weighted, 2)\n",
    "\n",
    "    # 7. Score based on GPA\n",
    "    gpa_max = max_points_by_cat['gpa']\n",
    "    gpa_score = (applicant['gpa'] / 4.0) * gpa_max\n",
    "    gpa_weighted = gpa_score * weight_map[school_requirements['gpa_importance']]\n",
    "    total_score += gpa_weighted\n",
    "    details[\"gpa\"] = round(gpa_weighted, 2)\n",
    "\n",
    "    return {\n",
    "        \"score\": round(total_score, 2), \n",
    "        \"details\": details\n",
    "    }\n"
   ]
  },
  {
   "cell_type": "code",
   "execution_count": 36,
   "id": "040fad57",
   "metadata": {},
   "outputs": [
    {
     "data": {
      "text/plain": [
       "{'score': 46.2,\n",
       " 'details': {'alumni': 0.0,\n",
       "  'first_generation': 0.0,\n",
       "  'residency': 8.07,\n",
       "  'sat': 15.0,\n",
       "  'gpa': 23.12}}"
      ]
     },
     "execution_count": 36,
     "metadata": {},
     "output_type": "execute_result"
    }
   ],
   "source": [
    "calculate_compatibility_score2(applicant1, gatech_cds, max_points_by_cat)"
   ]
  },
  {
   "cell_type": "code",
   "execution_count": 37,
   "id": "47893236",
   "metadata": {},
   "outputs": [
    {
     "data": {
      "text/plain": [
       "{'score': 42.45,\n",
       " 'details': {'alumni': 0.0,\n",
       "  'first_generation': 0.0,\n",
       "  'residency': 8.07,\n",
       "  'sat': 10.0,\n",
       "  'gpa': 24.38}}"
      ]
     },
     "execution_count": 37,
     "metadata": {},
     "output_type": "execute_result"
    }
   ],
   "source": [
    "calculate_compatibility_score2(applicant2, gatech_cds, max_points_by_cat)"
   ]
  },
  {
   "cell_type": "code",
   "execution_count": 38,
   "id": "0252e29b",
   "metadata": {},
   "outputs": [
    {
     "data": {
      "text/plain": [
       "{'score': 25.57,\n",
       " 'details': {'alumni': 0.0,\n",
       "  'first_generation': 0.0,\n",
       "  'residency': 8.07,\n",
       "  'sat': 0.0,\n",
       "  'gpa': 17.5}}"
      ]
     },
     "execution_count": 38,
     "metadata": {},
     "output_type": "execute_result"
    }
   ],
   "source": [
    "calculate_compatibility_score2(applicant3, gatech_cds, max_points_by_cat)"
   ]
  },
  {
   "cell_type": "code",
   "execution_count": null,
   "id": "8fccd6c1",
   "metadata": {},
   "outputs": [],
   "source": []
  }
 ],
 "metadata": {
  "kernelspec": {
   "display_name": "base",
   "language": "python",
   "name": "python3"
  },
  "language_info": {
   "codemirror_mode": {
    "name": "ipython",
    "version": 3
   },
   "file_extension": ".py",
   "mimetype": "text/x-python",
   "name": "python",
   "nbconvert_exporter": "python",
   "pygments_lexer": "ipython3",
   "version": "3.11.5"
  }
 },
 "nbformat": 4,
 "nbformat_minor": 5
}
