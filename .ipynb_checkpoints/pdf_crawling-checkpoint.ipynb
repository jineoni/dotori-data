{
 "cells": [
  {
   "cell_type": "code",
   "execution_count": 1,
   "metadata": {},
   "outputs": [],
   "source": [
    "import os # Used for creating folders and reading files\n",
    "import re # Used for regular expressions\n",
    "import pdfplumber # Used for extracting text from PDF files\n",
    "import pandas as pd"
   ]
  },
  {
   "cell_type": "code",
   "execution_count": 2,
   "metadata": {},
   "outputs": [],
   "source": [
    "# Set input and output folder paths\n",
    "\n",
    "input_folder = 'pdf'\n",
    "\n",
    "gatech_file_path = os.path.join(input_folder, 'gatech.pdf')\n",
    "umn_file_path = os.path.join(input_folder, 'umn.pdf')\n",
    "nyu_file_path = os.path.join(input_folder, 'nyu.pdf')\n",
    "uga_file_path = os.path.join(input_folder, 'uga.pdf')"
   ]
  },
  {
   "cell_type": "code",
   "execution_count": 3,
   "metadata": {},
   "outputs": [],
   "source": [
    "# Remove None and empty string from row\n",
    "\n",
    "def clean_row(row):\n",
    "    return [cell for cell in row if cell not in [None, '']]"
   ]
  },
  {
   "cell_type": "code",
   "execution_count": 4,
   "metadata": {},
   "outputs": [],
   "source": [
    "# Extract only numbers from the cell\n",
    "\n",
    "def clean_number(cell):\n",
    "    cell = re.sub(r'[^\\d]', '', str(cell)) # Remove all non-numeric characters\n",
    "    return int(cell) if cell else 0"
   ]
  },
  {
   "cell_type": "code",
   "execution_count": 5,
   "metadata": {},
   "outputs": [],
   "source": [
    "# Code to extract text from a specific page for verification\n",
    "\n",
    "def extract_text_from_page(file_path, page_number):\n",
    "    with pdfplumber.open(file_path) as pdf:\n",
    "        # Check if the given page number is valid\n",
    "        if page_number < 1 or page_number > len(pdf.pages):\n",
    "            print(f\"Invalid page number. This PDF has {len(pdf.pages)} pages.\")\n",
    "            return\n",
    "\n",
    "        # Adjust for 0-based indexing in pdfplumber\n",
    "        page = pdf.pages[page_number - 1]\n",
    "        text = page.extract_text()\n",
    "\n",
    "        # Print the extracted text if available\n",
    "        if text:\n",
    "            print(f\"Text from Page {page_number}:\\n\")\n",
    "            print(text)\n",
    "        else:\n",
    "            print(f\"No text found on page {page_number}.\")"
   ]
  },
  {
   "cell_type": "code",
   "execution_count": 6,
   "metadata": {},
   "outputs": [],
   "source": [
    "# Extract text from a section like \"C{#}.\" up to before \"C{#+1}.\"\n",
    "\n",
    "def extract_section_by_label(file_path, section_label):\n",
    "    next_label = \"c\" + str(int(section_label[1:]) + 1)\n",
    "\n",
    "    full_text = \"\"\n",
    "    with pdfplumber.open(file_path) as pdf:\n",
    "        for page in pdf.pages:\n",
    "            text = page.extract_text()\n",
    "            if text:\n",
    "                full_text += text.lower()\n",
    "\n",
    "    # Match exact line starting with \"c{#}.\"\n",
    "    # ^ = matches the beginning of a line\n",
    "    start_match = re.search(rf\"({section_label.lower()}[\\. ])\", full_text)\n",
    "    if not start_match:\n",
    "        print(f\"Section {section_label.upper()} not found.\")\n",
    "        return\n",
    "    start_idx = start_match.start()\n",
    "\n",
    "    # Look for the start of the next section\n",
    "    next_match = re.search(rf\"({next_label}[\\. ])\", full_text[start_idx:])\n",
    "    end_idx = start_idx + next_match.start() if next_match else None # If we don't find the next label, go to the end of the document\n",
    "\n",
    "    section_text = full_text[start_idx:end_idx]\n",
    "\n",
    "    return section_text"
   ]
  },
  {
   "cell_type": "markdown",
   "metadata": {},
   "source": [
    "### C1. Applications (Gender, Residency)"
   ]
  },
  {
   "cell_type": "markdown",
   "metadata": {},
   "source": [
    "##### Gender"
   ]
  },
  {
   "cell_type": "code",
   "execution_count": 7,
   "metadata": {},
   "outputs": [],
   "source": [
    "def extract_gender_data(file_path):\n",
    "    \n",
    "    result = {\n",
    "        'applicants': {'men': 0, 'women': 0, 'others': 0},\n",
    "        'admitted': {'men': 0, 'women': 0, 'others': 0}\n",
    "    }\n",
    "    \n",
    "    # Define keywords to identify gender-related and first-year-related tables\n",
    "    gender_keywords = ['men', 'women', 'another gender', 'unknown gender']\n",
    "    first_keywords = ['first-time', 'first-year']\n",
    "\n",
    "    with pdfplumber.open(file_path) as pdf:\n",
    "        for page in pdf.pages:\n",
    "            tables = page.extract_tables()\n",
    "            \n",
    "            for table in tables:\n",
    "                \n",
    "                # Check if this table is relevant\n",
    "                table_str = ' '.join(str(cell).lower() for row in table for cell in row if cell)\n",
    "                if not (any(keyword in table_str for keyword in gender_keywords) and all(keyword in table_str for keyword in first_keywords)):\n",
    "                    continue\n",
    "                \n",
    "                # Loop through data rows\n",
    "                for row in table:\n",
    "                    row = clean_row(row) # Clean up null and empty cells\n",
    "                    row_str = ' '.join(str(cell or '').lower() for cell in row)\n",
    "\n",
    "                    # Identify whether this row is about applicants or admitted students\n",
    "                    if 'applied' in row_str:\n",
    "                        target = 'applicants'\n",
    "                    elif 'admitted' in row_str:\n",
    "                        target = 'admitted'\n",
    "                    else:\n",
    "                        continue # Skip if not relevant\n",
    "                    \n",
    "                    # Add gender-specific count from the last column\n",
    "                    if 'men' in row_str and 'women' not in row_str:\n",
    "                        result[target]['men'] += clean_number(row[-1])\n",
    "                    elif 'women' in row_str:\n",
    "                        result[target]['women'] += clean_number(row[-1])\n",
    "                    elif 'another gender' in row_str or 'unknown gender' in row_str:\n",
    "                        result[target]['others'] += clean_number(row[-1])\n",
    "                            \n",
    "    return result"
   ]
  },
  {
   "cell_type": "code",
   "execution_count": 8,
   "metadata": {},
   "outputs": [
    {
     "data": {
      "text/plain": [
       "{'applicants': {'men': 40022, 'women': 19765, 'others': 2},\n",
       " 'admitted': {'men': 4634, 'women': 3779, 'others': 0}}"
      ]
     },
     "execution_count": 8,
     "metadata": {},
     "output_type": "execute_result"
    }
   ],
   "source": [
    "extract_gender_data(gatech_file_path)"
   ]
  },
  {
   "cell_type": "code",
   "execution_count": 9,
   "metadata": {},
   "outputs": [
    {
     "data": {
      "text/plain": [
       "{'applicants': {'men': 18901, 'women': 20862, 'others': 0},\n",
       " 'admitted': {'men': 14427, 'women': 16218, 'others': 0}}"
      ]
     },
     "execution_count": 9,
     "metadata": {},
     "output_type": "execute_result"
    }
   ],
   "source": [
    "extract_gender_data(umn_file_path)"
   ]
  },
  {
   "cell_type": "code",
   "execution_count": 10,
   "metadata": {},
   "outputs": [
    {
     "data": {
      "text/plain": [
       "{'applicants': {'men': 0, 'women': 0, 'others': 0},\n",
       " 'admitted': {'men': 0, 'women': 0, 'others': 0}}"
      ]
     },
     "execution_count": 10,
     "metadata": {},
     "output_type": "execute_result"
    }
   ],
   "source": [
    "extract_gender_data(nyu_file_path) # ^^"
   ]
  },
  {
   "cell_type": "code",
   "execution_count": 11,
   "metadata": {},
   "outputs": [
    {
     "data": {
      "text/plain": [
       "{'applicants': {'men': 18211, 'women': 25191, 'others': 14},\n",
       " 'admitted': {'men': 6260, 'women': 9882, 'others': 6}}"
      ]
     },
     "execution_count": 11,
     "metadata": {},
     "output_type": "execute_result"
    }
   ],
   "source": [
    "extract_gender_data(uga_file_path)"
   ]
  },
  {
   "cell_type": "markdown",
   "metadata": {},
   "source": [
    "##### Residency"
   ]
  },
  {
   "cell_type": "code",
   "execution_count": 14,
   "metadata": {},
   "outputs": [],
   "source": [
    "def extract_residency_data(file_path):\n",
    "    \n",
    "    result = {\n",
    "        'applicants': {'in_state': 0, 'out_of_state': 0, 'international': 0, 'others': 0},\n",
    "        'admitted': {'in_state': 0, 'out_of_state': 0, 'international': 0, 'others': 0}\n",
    "    }\n",
    "\n",
    "    # Define keywords to identify residency-related and first-year-related tables\n",
    "    residency_keywords = ['in-state', 'out-of-state', 'international']\n",
    "    first_keywords = ['first-time', 'first-year']\n",
    "\n",
    "    with pdfplumber.open(file_path) as pdf:\n",
    "        for page in pdf.pages:\n",
    "            tables = page.extract_tables()\n",
    "\n",
    "            for table in tables:\n",
    "                \n",
    "                # Check if this table is relevant\n",
    "                table_str = ' '.join(str(cell).lower() for row in table for cell in row if cell)\n",
    "                if not (any(keyword in table_str for keyword in residency_keywords) and all(keyword in table_str for keyword in first_keywords)):\n",
    "                    continue\n",
    "                \n",
    "                # Extract header row\n",
    "                header_row = clean_row([str(cell or '').lower() for cell in table[0]])\n",
    "\n",
    "                # Find index of each column\n",
    "                col_idx = {'in_state': -1, 'out_of_state': -1, 'international': -1, 'others': -1}\n",
    "                for idx, col in enumerate(header_row):\n",
    "                    if 'in-' in col:\n",
    "                        col_idx['in_state'] = idx\n",
    "                    elif 'out-' in col:\n",
    "                        col_idx['out_of_state'] = idx\n",
    "                    elif 'inter' in col:\n",
    "                        col_idx['international'] = idx\n",
    "                    elif 'unk' in col:\n",
    "                        col_idx['others'] = idx\n",
    "\n",
    "                # Loop through data rows\n",
    "                for row in table[1:]:  # skip header\n",
    "                    row = clean_row(row)\n",
    "                    row_str = ' '.join(str(cell or '').lower() for cell in row)\n",
    "\n",
    "                   # Identify whether this row is about applicants or admitted students\n",
    "                    if 'applied' in row_str:\n",
    "                        target = 'applicants'\n",
    "                    elif 'admitted' in row_str:\n",
    "                        target = 'admitted'\n",
    "                    else:\n",
    "                        continue # Skip if not relevant\n",
    "                    \n",
    "                    # Add residency-specific count\n",
    "                    if col_idx['in_state'] != -1 and col_idx['in_state'] < len(row):\n",
    "                        result[target]['in_state'] += clean_number(row[col_idx['in_state']])\n",
    "                    if col_idx['out_of_state'] != -1 and col_idx['out_of_state'] < len(row):\n",
    "                        result[target]['out_of_state'] += clean_number(row[col_idx['out_of_state']])\n",
    "                    if col_idx['international'] != -1 and col_idx['international'] < len(row):\n",
    "                        result[target]['international'] += clean_number(row[col_idx['international']])\n",
    "                    if col_idx['others'] != -1 and col_idx['others'] < len(row):\n",
    "                        result[target]['others'] += clean_number(row[col_idx['others']])\n",
    "\n",
    "    return result\n"
   ]
  },
  {
   "cell_type": "code",
   "execution_count": 15,
   "metadata": {},
   "outputs": [
    {
     "data": {
      "text/plain": [
       "{'applicants': {'in_state': 10674,\n",
       "  'out_of_state': 38320,\n",
       "  'international': 10795,\n",
       "  'others': 0},\n",
       " 'admitted': {'in_state': 3536,\n",
       "  'out_of_state': 3992,\n",
       "  'international': 885,\n",
       "  'others': 0}}"
      ]
     },
     "execution_count": 15,
     "metadata": {},
     "output_type": "execute_result"
    }
   ],
   "source": [
    "extract_residency_data(gatech_file_path)"
   ]
  },
  {
   "cell_type": "code",
   "execution_count": 16,
   "metadata": {},
   "outputs": [
    {
     "data": {
      "text/plain": [
       "{'applicants': {'in_state': 13982,\n",
       "  'out_of_state': 19461,\n",
       "  'international': 1256,\n",
       "  'others': 0},\n",
       " 'admitted': {'in_state': 10498,\n",
       "  'out_of_state': 15400,\n",
       "  'international': 982,\n",
       "  'others': 0}}"
      ]
     },
     "execution_count": 16,
     "metadata": {},
     "output_type": "execute_result"
    }
   ],
   "source": [
    "extract_residency_data(umn_file_path)"
   ]
  },
  {
   "cell_type": "code",
   "execution_count": 24,
   "metadata": {},
   "outputs": [
    {
     "data": {
      "text/plain": [
       "{'applicants': {'in_state': 0,\n",
       "  'out_of_state': 0,\n",
       "  'international': 0,\n",
       "  'others': 0},\n",
       " 'admitted': {'in_state': 0,\n",
       "  'out_of_state': 0,\n",
       "  'international': 0,\n",
       "  'others': 0}}"
      ]
     },
     "execution_count": 24,
     "metadata": {},
     "output_type": "execute_result"
    }
   ],
   "source": [
    "extract_residency_data(nyu_file_path)"
   ]
  },
  {
   "cell_type": "code",
   "execution_count": 17,
   "metadata": {},
   "outputs": [
    {
     "data": {
      "text/plain": [
       "{'applicants': {'in_state': 18210,\n",
       "  'out_of_state': 23867,\n",
       "  'international': 1338,\n",
       "  'others': 1},\n",
       " 'admitted': {'in_state': 9149,\n",
       "  'out_of_state': 6709,\n",
       "  'international': 289,\n",
       "  'others': 1}}"
      ]
     },
     "execution_count": 17,
     "metadata": {},
     "output_type": "execute_result"
    }
   ],
   "source": [
    "extract_residency_data(uga_file_path)"
   ]
  },
  {
   "cell_type": "markdown",
   "metadata": {},
   "source": [
    "##### Applicant Summary"
   ]
  },
  {
   "cell_type": "code",
   "execution_count": 18,
   "metadata": {},
   "outputs": [],
   "source": [
    "def extract_applicant_summary(file_path):\n",
    "    gender_data = extract_gender_data(file_path)\n",
    "    residency_data = extract_residency_data(file_path)\n",
    "\n",
    "    result = {\n",
    "        'applicants': {\n",
    "            'gender': gender_data.get('applicants', {}),\n",
    "            'residency': residency_data.get('applicants', {})\n",
    "        },\n",
    "        'admitted': {\n",
    "            'gender': gender_data.get('admitted', {}),\n",
    "            'residency': residency_data.get('admitted', {})\n",
    "        }\n",
    "    }\n",
    "\n",
    "    return result\n"
   ]
  },
  {
   "cell_type": "code",
   "execution_count": 19,
   "metadata": {},
   "outputs": [
    {
     "data": {
      "text/plain": [
       "{'applicants': {'gender': {'men': 40022, 'women': 19765, 'others': 2},\n",
       "  'residency': {'in_state': 10674,\n",
       "   'out_of_state': 38320,\n",
       "   'international': 10795,\n",
       "   'others': 0}},\n",
       " 'admitted': {'gender': {'men': 4634, 'women': 3779, 'others': 0},\n",
       "  'residency': {'in_state': 3536,\n",
       "   'out_of_state': 3992,\n",
       "   'international': 885,\n",
       "   'others': 0}}}"
      ]
     },
     "execution_count": 19,
     "metadata": {},
     "output_type": "execute_result"
    }
   ],
   "source": [
    "extract_applicant_summary(gatech_file_path)"
   ]
  },
  {
   "cell_type": "code",
   "execution_count": 20,
   "metadata": {},
   "outputs": [
    {
     "data": {
      "text/plain": [
       "{'applicants': {'gender': {'men': 18901, 'women': 20862, 'others': 0},\n",
       "  'residency': {'in_state': 13982,\n",
       "   'out_of_state': 19461,\n",
       "   'international': 1256,\n",
       "   'others': 0}},\n",
       " 'admitted': {'gender': {'men': 14427, 'women': 16218, 'others': 0},\n",
       "  'residency': {'in_state': 10498,\n",
       "   'out_of_state': 15400,\n",
       "   'international': 982,\n",
       "   'others': 0}}}"
      ]
     },
     "execution_count": 20,
     "metadata": {},
     "output_type": "execute_result"
    }
   ],
   "source": [
    "extract_applicant_summary(umn_file_path)"
   ]
  },
  {
   "cell_type": "code",
   "execution_count": 23,
   "metadata": {},
   "outputs": [
    {
     "data": {
      "text/plain": [
       "{'applicants': {'gender': {'men': 0, 'women': 0, 'others': 0},\n",
       "  'residency': {'in_state': 0,\n",
       "   'out_of_state': 0,\n",
       "   'international': 0,\n",
       "   'others': 0}},\n",
       " 'admitted': {'gender': {'men': 0, 'women': 0, 'others': 0},\n",
       "  'residency': {'in_state': 0,\n",
       "   'out_of_state': 0,\n",
       "   'international': 0,\n",
       "   'others': 0}}}"
      ]
     },
     "execution_count": 23,
     "metadata": {},
     "output_type": "execute_result"
    }
   ],
   "source": [
    "extract_applicant_summary(nyu_file_path)"
   ]
  },
  {
   "cell_type": "code",
   "execution_count": 21,
   "metadata": {},
   "outputs": [
    {
     "data": {
      "text/plain": [
       "{'applicants': {'gender': {'men': 18211, 'women': 25191, 'others': 14},\n",
       "  'residency': {'in_state': 18210,\n",
       "   'out_of_state': 23867,\n",
       "   'international': 1338,\n",
       "   'others': 1}},\n",
       " 'admitted': {'gender': {'men': 6260, 'women': 9882, 'others': 6},\n",
       "  'residency': {'in_state': 9149,\n",
       "   'out_of_state': 6709,\n",
       "   'international': 289,\n",
       "   'others': 1}}}"
      ]
     },
     "execution_count": 21,
     "metadata": {},
     "output_type": "execute_result"
    }
   ],
   "source": [
    "extract_applicant_summary(uga_file_path)"
   ]
  },
  {
   "cell_type": "markdown",
   "metadata": {},
   "source": [
    "### C3. High School Completetion requirement"
   ]
  },
  {
   "cell_type": "code",
   "execution_count": 22,
   "metadata": {},
   "outputs": [],
   "source": [
    "def extract_highschool_requirement(file_path):\n",
    "\n",
    "    result = {\n",
    "        'high school diploma required': 0,\n",
    "        'GED accepted': 0\n",
    "    }\n",
    "\n",
    "    # Define exact phrases expected in each case\n",
    "    diploma_and_ged = \"high school diploma is required and ged is accepted\"\n",
    "    diploma_only = \"high school diploma is required and ged is not accepted\"\n",
    "    no_diploma_needed = \"high school diploma or equivalent is not required\"\n",
    "    \n",
    "    # Define marks\n",
    "    marks = ['x', '☒', '✓', '✔', '4']\n",
    "\n",
    "    # Extract only the C3 section using helper function\n",
    "    section_text = extract_section_by_label(file_path, \"C3\")\n",
    "    if not section_text:\n",
    "        return result  # Return default if section not found\n",
    "\n",
    "    section_text = section_text.lower()\n",
    "    found_checked_option = False # Will be set to True if a checkbox is detected\n",
    "\n",
    "    # Go through each line to find checked options\n",
    "    for line in section_text.split('\\n'):\n",
    "        # '4' is included because some pdf files incorrectly render checkmarks as '4'\n",
    "        if diploma_and_ged in line and any(mark in line for mark in marks):\n",
    "            result['high school diploma required'] = 1\n",
    "            result['GED accepted'] = 1\n",
    "            found_checked_option = True\n",
    "            break\n",
    "        elif diploma_only in line and any(mark in line for mark in marks):\n",
    "            result['high school diploma required'] = 1\n",
    "            result['GED accepted'] = 0\n",
    "            found_checked_option = True\n",
    "            break\n",
    "        elif no_diploma_needed in line and any(mark in line for mark in marks):\n",
    "            result['high school diploma required'] = 0\n",
    "            result['GED accepted'] = 0\n",
    "            found_checked_option = True\n",
    "            break\n",
    "\n",
    "    # If no checkboxes were found, use a fallback approach based on keyword presence\n",
    "    if not found_checked_option:\n",
    "        if diploma_and_ged in section_text:\n",
    "            result['high school diploma required'] = 1\n",
    "            result['GED accepted'] = 1\n",
    "        elif diploma_only in section_text:\n",
    "            result['high school diploma required'] = 1\n",
    "            result['GED accepted'] = 0\n",
    "        elif no_diploma_needed in section_text:\n",
    "            result['high school diploma required'] = 0\n",
    "            result['GED accepted'] = 0\n",
    "\n",
    "    return result"
   ]
  },
  {
   "cell_type": "code",
   "execution_count": 25,
   "metadata": {},
   "outputs": [
    {
     "data": {
      "text/plain": [
       "{'high school diploma required': 1, 'GED accepted': 0}"
      ]
     },
     "execution_count": 25,
     "metadata": {},
     "output_type": "execute_result"
    }
   ],
   "source": [
    "extract_highschool_requirement(gatech_file_path)"
   ]
  },
  {
   "cell_type": "code",
   "execution_count": 26,
   "metadata": {},
   "outputs": [
    {
     "data": {
      "text/plain": [
       "{'high school diploma required': 1, 'GED accepted': 1}"
      ]
     },
     "execution_count": 26,
     "metadata": {},
     "output_type": "execute_result"
    }
   ],
   "source": [
    "extract_highschool_requirement(umn_file_path)"
   ]
  },
  {
   "cell_type": "code",
   "execution_count": 27,
   "metadata": {},
   "outputs": [
    {
     "data": {
      "text/plain": [
       "{'high school diploma required': 1, 'GED accepted': 1}"
      ]
     },
     "execution_count": 27,
     "metadata": {},
     "output_type": "execute_result"
    }
   ],
   "source": [
    "extract_highschool_requirement(nyu_file_path)"
   ]
  },
  {
   "cell_type": "code",
   "execution_count": 28,
   "metadata": {},
   "outputs": [
    {
     "data": {
      "text/plain": [
       "{'high school diploma required': 1, 'GED accepted': 1}"
      ]
     },
     "execution_count": 28,
     "metadata": {},
     "output_type": "execute_result"
    }
   ],
   "source": [
    "extract_highschool_requirement(uga_file_path)"
   ]
  },
  {
   "cell_type": "code",
   "execution_count": null,
   "metadata": {},
   "outputs": [
    {
     "name": "stdout",
     "output_type": "stream",
     "text": [
      "c3. high school completion requirement\n",
      "check the appropriate box to identify your high school completion requirement for degree-seeking entering\n",
      "students:\n",
      "4 high school diploma is required and ged is accepted\n",
      "☐\n",
      "high school diploma is required and ged is not accepted\n",
      "☐\n",
      "high school diploma or equivalent is not required\n",
      "☐\n",
      "\n"
     ]
    }
   ],
   "source": [
    "text = extract_section_by_label(uga_file_path, 'c3')\n",
    "for line in text.split('\\n'):\n",
    "    print(line)"
   ]
  },
  {
   "cell_type": "markdown",
   "metadata": {},
   "source": [
    "### C4. General College-Preparatory Program Requirement"
   ]
  },
  {
   "cell_type": "code",
   "execution_count": 113,
   "metadata": {},
   "outputs": [],
   "source": [
    "def extract_college_prep_requirement(file_path):\n",
    "    \n",
    "    result = {\n",
    "        'general college-preparatory program': \n",
    "            {\n",
    "                'required': 0,\n",
    "                'recommended': 0,\n",
    "                'neither required or recommended': 0\n",
    "            }\n",
    "        }\n",
    "\n",
    "    # Define key phrases to match\n",
    "    required = \"require\"\n",
    "    recommended = \"recommend\"\n",
    "    neither = \"neither require nor recommend\"\n",
    "    \n",
    "    # Define marks\n",
    "    marks = ['x', '☒', '✓', '✔', '4']\n",
    "\n",
    "    # Extract only the C4 section using helper function\n",
    "    section_text = extract_section_by_label(file_path, 'C4')\n",
    "    if not section_text:\n",
    "        return result # Return default if section not found\n",
    "    section_text = section_text.lower()\n",
    "    \n",
    "    found_checked_option = False # Will be set to True if a checkbox is detected\n",
    "\n",
    "    # Go through each line to find checked options\n",
    "    for line in section_text.split('\\n'):\n",
    "        \n",
    "        # Skip the question sectence\n",
    "        if line.startswith('c4'):\n",
    "            continue\n",
    "        \n",
    "        # '4' is included because some pdf files incorrectly render checkmarks as '4'\n",
    "        if neither in line and any(mark in line for mark in marks):\n",
    "            result['general college-preparatory program']['neither required or recommended'] = 1\n",
    "            found_checked_option = True\n",
    "            break\n",
    "        elif required in line and any(mark in line for mark in marks):\n",
    "            result['general college-preparatory program']['required'] = 1\n",
    "            found_checked_option = True\n",
    "            break\n",
    "        elif recommended in line and any(mark in line for mark in marks):\n",
    "            result['general college-preparatory program']['recommended'] = 1\n",
    "            found_checked_option = True\n",
    "            break\n",
    "\n",
    "    # If no checkboxes were found, use a fallback approach based on keyword presence\n",
    "    if not found_checked_option:\n",
    "        if \"neither require nor recommend\" in section_text:\n",
    "            result['general college-preparatory program']['neither required or recommended'] = 1\n",
    "        elif \"recommend\" in section_text:\n",
    "            result['general college-preparatory program']['recommended'] = 1\n",
    "        elif \"require\" in section_text:\n",
    "            result['general college-preparatory program']['required'] = 1\n",
    "\n",
    "    return result"
   ]
  },
  {
   "cell_type": "code",
   "execution_count": 114,
   "metadata": {},
   "outputs": [
    {
     "data": {
      "text/plain": [
       "{'general college-preparatory program': {'required': 1,\n",
       "  'recommended': 0,\n",
       "  'neither required or recommended': 0}}"
      ]
     },
     "execution_count": 114,
     "metadata": {},
     "output_type": "execute_result"
    }
   ],
   "source": [
    "extract_college_prep_requirement(gatech_file_path)"
   ]
  },
  {
   "cell_type": "code",
   "execution_count": 115,
   "metadata": {},
   "outputs": [
    {
     "data": {
      "text/plain": [
       "{'general college-preparatory program': {'required': 0,\n",
       "  'recommended': 1,\n",
       "  'neither required or recommended': 0}}"
      ]
     },
     "execution_count": 115,
     "metadata": {},
     "output_type": "execute_result"
    }
   ],
   "source": [
    "extract_college_prep_requirement(umn_file_path)"
   ]
  },
  {
   "cell_type": "code",
   "execution_count": 116,
   "metadata": {},
   "outputs": [
    {
     "name": "stdout",
     "output_type": "stream",
     "text": [
      "c4. does your institution require or recommend a general college-preparatory program for degree-\n",
      "seeking students?\n",
      "☐ require:\n",
      "☒ recommend\n",
      "☐ neither require nor recommendcommon data set 2023-2024\n",
      "\n"
     ]
    }
   ],
   "source": [
    "text = extract_section_by_label(umn_file_path, 'c4')\n",
    "for line in text.split('\\n'):\n",
    "    print(line)"
   ]
  },
  {
   "cell_type": "code",
   "execution_count": 117,
   "metadata": {},
   "outputs": [
    {
     "data": {
      "text/plain": [
       "{'general college-preparatory program': {'required': 0,\n",
       "  'recommended': 1,\n",
       "  'neither required or recommended': 0}}"
      ]
     },
     "execution_count": 117,
     "metadata": {},
     "output_type": "execute_result"
    }
   ],
   "source": [
    "extract_college_prep_requirement(nyu_file_path)"
   ]
  },
  {
   "cell_type": "code",
   "execution_count": 118,
   "metadata": {},
   "outputs": [
    {
     "data": {
      "text/plain": [
       "{'general college-preparatory program': {'required': 1,\n",
       "  'recommended': 0,\n",
       "  'neither required or recommended': 0}}"
      ]
     },
     "execution_count": 118,
     "metadata": {},
     "output_type": "execute_result"
    }
   ],
   "source": [
    "extract_college_prep_requirement(uga_file_path)"
   ]
  },
  {
   "cell_type": "code",
   "execution_count": 119,
   "metadata": {},
   "outputs": [
    {
     "name": "stdout",
     "output_type": "stream",
     "text": [
      "c4. does your institution require or recommend a general college-preparatory program for degree-seeking\n",
      "students?\n",
      "4 require\n",
      "☐\n",
      "recommend\n",
      "☐\n",
      "neither require nor recommend\n",
      "☐\n",
      "\n"
     ]
    }
   ],
   "source": [
    "text = extract_section_by_label(uga_file_path, 'c4')\n",
    "for line in text.split('\\n'):\n",
    "    print(line)"
   ]
  },
  {
   "cell_type": "markdown",
   "metadata": {},
   "source": [
    "### Summarize"
   ]
  },
  {
   "cell_type": "code",
   "execution_count": 33,
   "metadata": {},
   "outputs": [
    {
     "data": {
      "text/plain": [
       "{'general college-preparatory program': {'required': 0,\n",
       "  'recommended': 1,\n",
       "  'neither required or recommended': 0}}"
      ]
     },
     "execution_count": 33,
     "metadata": {},
     "output_type": "execute_result"
    }
   ],
   "source": [
    "extract_college_prep_requirement(nyu_file_path)"
   ]
  },
  {
   "cell_type": "code",
   "execution_count": 34,
   "metadata": {},
   "outputs": [
    {
     "data": {
      "text/plain": [
       "{'general college-preparatory program': {'required': 1,\n",
       "  'recommended': 0,\n",
       "  'neither required or recommended': 0}}"
      ]
     },
     "execution_count": 34,
     "metadata": {},
     "output_type": "execute_result"
    }
   ],
   "source": [
    "extract_college_prep_requirement(uga_file_path)"
   ]
  },
  {
   "cell_type": "code",
   "execution_count": 35,
   "metadata": {},
   "outputs": [
    {
     "name": "stdout",
     "output_type": "stream",
     "text": [
      "c4. does your institution require or recommend a general college-preparatory program for degree-seeking\n",
      "students?\n",
      "4 require\n",
      "☐\n",
      "recommend\n",
      "☐\n",
      "neither require nor recommend\n",
      "☐\n",
      "\n"
     ]
    }
   ],
   "source": [
    "text = extract_section_by_label(uga_file_path, 'c4')\n",
    "for line in text.split('\\n'):\n",
    "    print(line)"
   ]
  },
  {
   "cell_type": "markdown",
   "metadata": {},
   "source": [
    "### Summarize"
   ]
  },
  {
   "cell_type": "code",
   "execution_count": 36,
   "metadata": {},
   "outputs": [],
   "source": [
    "# Summarize extracted data into a JSON-ready dictionary\n",
    "\n",
    "def summarize_results(filename, gender_data, residency_data, highschool_data, prep_data):\n",
    "    \n",
    "    def calc_ratio(group_dict):\n",
    "        total = sum(group_dict.values()) or 1\n",
    "        return {k: round(v / total * 100) for k, v in group_dict.items()}\n",
    "\n",
    "    return {\n",
    "        \"filename\": filename,\n",
    "        \"summary\": {\n",
    "            \"gender_ratio\": {\n",
    "                \"applicants\": calc_ratio(gender_data.get('applicants', {})),\n",
    "                \"admitted\": calc_ratio(gender_data.get('admitted', {}))\n",
    "            },\n",
    "            \"residency_ratio\": {\n",
    "                \"applicants\": calc_ratio(residency_data.get('applicants', {})),\n",
    "                \"admitted\": calc_ratio(residency_data.get('admitted', {}))\n",
    "            },\n",
    "            \"hs_diploma_required\": bool(highschool_data.get('high school diploma required', 0)),\n",
    "            \"ged_accepted\": bool(highschool_data.get('GED accepted', 0)),\n",
    "            \"college_prep\": (\n",
    "                \"required\" if prep_data['general college-preparatory program']['required']\n",
    "                else \"recommended\" if prep_data['general college-preparatory program']['recommended']\n",
    "                else \"neither\"\n",
    "            )\n",
    "        }\n",
    "    }"
   ]
  },
  {
   "cell_type": "code",
   "execution_count": 37,
   "metadata": {},
   "outputs": [
    {
     "data": {
      "text/plain": [
       "{'filename': 'pdf\\\\gatech.pdf',\n",
       " 'summary': {'gender_ratio': {'applicants': {'men': 67,\n",
       "    'women': 33,\n",
       "    'others': 0},\n",
       "   'admitted': {'men': 55, 'women': 45, 'others': 0}},\n",
       "  'residency_ratio': {'applicants': {'in_state': 18,\n",
       "    'out_of_state': 64,\n",
       "    'international': 18,\n",
       "    'others': 0},\n",
       "   'admitted': {'in_state': 42,\n",
       "    'out_of_state': 47,\n",
       "    'international': 11,\n",
       "    'others': 0}},\n",
       "  'hs_diploma_required': True,\n",
       "  'ged_accepted': False,\n",
       "  'college_prep': 'required'}}"
      ]
     },
     "execution_count": 37,
     "metadata": {},
     "output_type": "execute_result"
    }
   ],
   "source": [
    "summarize_results(gatech_file_path, extract_gender_data(gatech_file_path), extract_residency_data(gatech_file_path), extract_highschool_requirement(gatech_file_path), extract_college_prep_requirement(gatech_file_path))"
   ]
  },
  {
   "cell_type": "code",
   "execution_count": 38,
   "metadata": {},
   "outputs": [
    {
     "data": {
      "text/plain": [
       "{'filename': 'pdf\\\\umn.pdf',\n",
       " 'summary': {'gender_ratio': {'applicants': {'men': 48,\n",
       "    'women': 52,\n",
       "    'others': 0},\n",
       "   'admitted': {'men': 47, 'women': 53, 'others': 0}},\n",
       "  'residency_ratio': {'applicants': {'in_state': 40,\n",
       "    'out_of_state': 56,\n",
       "    'international': 4,\n",
       "    'others': 0},\n",
       "   'admitted': {'in_state': 39,\n",
       "    'out_of_state': 57,\n",
       "    'international': 4,\n",
       "    'others': 0}},\n",
       "  'hs_diploma_required': True,\n",
       "  'ged_accepted': True,\n",
       "  'college_prep': 'recommended'}}"
      ]
     },
     "execution_count": 38,
     "metadata": {},
     "output_type": "execute_result"
    }
   ],
   "source": [
    "summarize_results(umn_file_path, extract_gender_data(umn_file_path), extract_residency_data(umn_file_path), extract_highschool_requirement(umn_file_path), extract_college_prep_requirement(umn_file_path))"
   ]
  },
  {
   "cell_type": "code",
   "execution_count": 39,
   "metadata": {},
   "outputs": [
    {
     "data": {
      "text/plain": [
       "{'filename': 'pdf\\\\nyu.pdf',\n",
       " 'summary': {'gender_ratio': {'applicants': {'men': 0,\n",
       "    'women': 0,\n",
       "    'others': 0},\n",
       "   'admitted': {'men': 0, 'women': 0, 'others': 0}},\n",
       "  'residency_ratio': {'applicants': {'in_state': 0,\n",
       "    'out_of_state': 0,\n",
       "    'international': 0,\n",
       "    'others': 0},\n",
       "   'admitted': {'in_state': 0,\n",
       "    'out_of_state': 0,\n",
       "    'international': 0,\n",
       "    'others': 0}},\n",
       "  'hs_diploma_required': True,\n",
       "  'ged_accepted': True,\n",
       "  'college_prep': 'recommended'}}"
      ]
     },
     "execution_count": 39,
     "metadata": {},
     "output_type": "execute_result"
    }
   ],
   "source": [
    "summarize_results(nyu_file_path, extract_gender_data(nyu_file_path), extract_residency_data(nyu_file_path), extract_highschool_requirement(nyu_file_path), extract_college_prep_requirement(nyu_file_path))"
   ]
  },
  {
   "cell_type": "code",
   "execution_count": 40,
   "metadata": {},
   "outputs": [
    {
     "data": {
      "text/plain": [
       "{'filename': 'pdf\\\\uga.pdf',\n",
       " 'summary': {'gender_ratio': {'applicants': {'men': 42,\n",
       "    'women': 58,\n",
       "    'others': 0},\n",
       "   'admitted': {'men': 39, 'women': 61, 'others': 0}},\n",
       "  'residency_ratio': {'applicants': {'in_state': 42,\n",
       "    'out_of_state': 55,\n",
       "    'international': 3,\n",
       "    'others': 0},\n",
       "   'admitted': {'in_state': 57,\n",
       "    'out_of_state': 42,\n",
       "    'international': 2,\n",
       "    'others': 0}},\n",
       "  'hs_diploma_required': True,\n",
       "  'ged_accepted': True,\n",
       "  'college_prep': 'required'}}"
      ]
     },
     "execution_count": 40,
     "metadata": {},
     "output_type": "execute_result"
    }
   ],
   "source": [
    "summarize_results(uga_file_path, extract_gender_data(uga_file_path), extract_residency_data(uga_file_path), extract_highschool_requirement(uga_file_path), extract_college_prep_requirement(uga_file_path))"
   ]
  },
  {
   "cell_type": "markdown",
   "metadata": {},
   "source": [
    "C5. Relative importance of each of the following academic and nonacademic factors"
   ]
  },
  {
   "cell_type": "code",
   "execution_count": 120,
   "metadata": {},
   "outputs": [],
   "source": [
    "def extract_admission_factors(file_path, mode=\"table\"):\n",
    "    import pdfplumber\n",
    "\n",
    "    academic_factors = [\n",
    "        \"rigor of secondary school record\", \"class rank\",\n",
    "        \"academic gpa\", \"standardized test scores\",\n",
    "        \"application essay\", \"recommendation\"\n",
    "    ]\n",
    "    nonacademic_factors = [\n",
    "        \"interview\", \"extracurricular activities\", \"talent/ability\",\n",
    "        \"character/personal qualities\", \"first generation\",\n",
    "        \"alumni/ae relation\", \"geographical residence\",\n",
    "        \"state residency\", \"religious affiliation/commitment\",\n",
    "        \"volunteer work\", \"work experience\", \"level of applicant’s interest\"\n",
    "    ]\n",
    "\n",
    "    result = {\n",
    "        \"academic\": {factor: None for factor in academic_factors},\n",
    "        \"nonacademic\": {factor: None for factor in nonacademic_factors}\n",
    "    }\n",
    "\n",
    "    marker_values = [\"x\", \"✔\", \"✓\", \"☑\", \"☒\", \"■\", \"▣\", \"✗\", \"4\"]\n",
    "\n",
    "    if mode == \"table\":\n",
    "        importance_by_index = {\n",
    "            1: \"very important\",\n",
    "            2: \"important\",\n",
    "            3: \"considered\",\n",
    "            4: \"not considered\"\n",
    "        }\n",
    "\n",
    "        def normalize_header_row(header_row):\n",
    "            combined = []\n",
    "            skip = False\n",
    "            for i in range(len(header_row)):\n",
    "                if skip:\n",
    "                    skip = False\n",
    "                    continue\n",
    "                word = header_row[i]\n",
    "                next_word = header_row[i + 1] if i + 1 < len(header_row) else \"\"\n",
    "\n",
    "                if word == \"very\" and next_word == \"important\":\n",
    "                    combined.append(\"very important\")\n",
    "                    skip = True\n",
    "                elif word == \"not\" and next_word == \"considered\":\n",
    "                    combined.append(\"not considered\")\n",
    "                    skip = True\n",
    "                else:\n",
    "                    combined.append(word)\n",
    "            return combined\n",
    "\n",
    "        with pdfplumber.open(file_path) as pdf:\n",
    "            for page in pdf.pages:\n",
    "                tables = page.extract_tables()\n",
    "                for table in tables:\n",
    "                    if not table or len(table[0]) < 3:\n",
    "                        continue\n",
    "\n",
    "                    raw_header_row = [str(cell or '').lower().strip() for cell in table[0]]\n",
    "                    header_row = normalize_header_row(raw_header_row)\n",
    "\n",
    "                    start_idx = 1 if header_row[0] in [\"academic\", \"nonacademic\"] else 0\n",
    "\n",
    "                    col_to_level = {\n",
    "                        idx: importance_by_index[idx]\n",
    "                        for idx in importance_by_index\n",
    "                        if idx < len(header_row)\n",
    "                    }\n",
    "\n",
    "                    if len(col_to_level) < 2:\n",
    "                        continue\n",
    "\n",
    "                    for row in table[1:]:\n",
    "                        row = [str(cell or '').lower().strip() for cell in row]\n",
    "                        if len(row) < 2:\n",
    "                            continue\n",
    "\n",
    "                        factor_label = row[0]\n",
    "                        if factor_label in [\"academic\", \"nonacademic\"]:\n",
    "                            continue\n",
    "\n",
    "                        if factor_label in academic_factors:\n",
    "                            category = \"academic\"\n",
    "                        elif factor_label in nonacademic_factors:\n",
    "                            category = \"nonacademic\"\n",
    "                        else:\n",
    "                            continue\n",
    "\n",
    "                        for j in range(1, len(row)):\n",
    "                            cell = row[j]\n",
    "                            if cell in marker_values and j in col_to_level:\n",
    "                                result[category][factor_label] = col_to_level[j]\n",
    "                                break\n",
    "                            elif cell in col_to_level.values():\n",
    "                                result[category][factor_label] = cell\n",
    "                                break\n",
    "\n",
    "    elif mode == \"text\":\n",
    "        importance_by_index = {\n",
    "            0: \"very important\",\n",
    "            1: \"important\",\n",
    "            2: \"considered\",\n",
    "            3: \"not considered\"\n",
    "        }\n",
    "\n",
    "        def extract_section_by_label(file_path, section_label):\n",
    "            section_label = section_label.lower().strip()\n",
    "            capture = False\n",
    "            extracted_lines = []\n",
    "\n",
    "            with pdfplumber.open(file_path) as pdf:\n",
    "                for page in pdf.pages:\n",
    "                    text = page.extract_text()\n",
    "                    if not text:\n",
    "                        continue\n",
    "                    lines = text.split('\\n')\n",
    "                    for line in lines:\n",
    "                        line_clean = line.strip().lower()\n",
    "                        if line_clean.startswith(section_label):\n",
    "                            capture = True\n",
    "                        elif capture and line_clean.startswith('c8'):\n",
    "                            capture = False\n",
    "                            break\n",
    "                        if capture:\n",
    "                            extracted_lines.append(line)\n",
    "            return extracted_lines\n",
    "\n",
    "        lines = extract_section_by_label(file_path, 'C7')\n",
    "        if not lines:\n",
    "            return result\n",
    "\n",
    "        lines = [line.strip().lower() for line in lines if line.strip()]\n",
    "        i = 0\n",
    "        while i < len(lines):\n",
    "            line = lines[i]\n",
    "\n",
    "            if any(mark in line for mark in marker_values):\n",
    "                marks = line.split()\n",
    "                for j, mark in enumerate(marks):\n",
    "                    if mark in marker_values and j in importance_by_index:\n",
    "                        importance = importance_by_index[j]\n",
    "\n",
    "                        factor_candidates = []\n",
    "\n",
    "                        if i >= 1:\n",
    "                            factor_candidates.append(lines[i - 1])\n",
    "                        if i >= 2:\n",
    "                            factor_candidates.append(lines[i - 2] + \" \" + lines[i - 1])\n",
    "                        if i + 1 < len(lines):\n",
    "                            factor_candidates.append(lines[i - 1] + \" \" + lines[i + 1])\n",
    "                        # ✅ 현재 줄에서 마킹 앞쪽 텍스트도 후보로 포함\n",
    "                        factor_candidates.append(lines[i].split(mark)[0].strip())\n",
    "\n",
    "                        for candidate in factor_candidates:\n",
    "                            candidate = candidate.strip()\n",
    "                            if candidate in academic_factors:\n",
    "                                result[\"academic\"][candidate] = importance\n",
    "                                break\n",
    "                            elif candidate in nonacademic_factors:\n",
    "                                result[\"nonacademic\"][candidate] = importance\n",
    "                                break\n",
    "                i += 2\n",
    "            else:\n",
    "                i += 1\n",
    "\n",
    "    return result\n"
   ]
  },
  {
   "cell_type": "code",
   "execution_count": 89,
   "metadata": {},
   "outputs": [
    {
     "data": {
      "text/plain": [
       "{'academic': {'rigor of secondary school record': 'very important',\n",
       "  'class rank': 'not considered',\n",
       "  'academic gpa': 'very important',\n",
       "  'standardized test scores': 'considered',\n",
       "  'application essay': 'important',\n",
       "  'recommendation': None},\n",
       " 'nonacademic': {'interview': 'not considered',\n",
       "  'extracurricular activities': 'important',\n",
       "  'talent/ability': 'considered',\n",
       "  'character/personal qualities': 'very important',\n",
       "  'first generation': 'considered',\n",
       "  'alumni/ae relation': 'not considered',\n",
       "  'geographical residence': 'considered',\n",
       "  'state residency': 'very important',\n",
       "  'religious affiliation/commitment': 'not considered',\n",
       "  'volunteer work': 'considered',\n",
       "  'work experience': 'considered',\n",
       "  'level of applicant’s interest': 'not considered'}}"
      ]
     },
     "execution_count": 89,
     "metadata": {},
     "output_type": "execute_result"
    }
   ],
   "source": [
    "extract_admission_factors_data(gatech_file_path)"
   ]
  },
  {
   "cell_type": "code",
   "execution_count": 121,
   "metadata": {},
   "outputs": [
    {
     "data": {
      "text/plain": [
       "{'academic': {'rigor of secondary school record': None,\n",
       "  'class rank': None,\n",
       "  'academic gpa': None,\n",
       "  'standardized test scores': None,\n",
       "  'application essay': None,\n",
       "  'recommendation': None},\n",
       " 'nonacademic': {'interview': None,\n",
       "  'extracurricular activities': None,\n",
       "  'talent/ability': None,\n",
       "  'character/personal qualities': None,\n",
       "  'first generation': None,\n",
       "  'alumni/ae relation': None,\n",
       "  'geographical residence': None,\n",
       "  'state residency': None,\n",
       "  'religious affiliation/commitment': None,\n",
       "  'volunteer work': None,\n",
       "  'work experience': None,\n",
       "  'level of applicant’s interest': None}}"
      ]
     },
     "execution_count": 121,
     "metadata": {},
     "output_type": "execute_result"
    }
   ],
   "source": [
    "extract_admission_factors_data(umn_file_path)"
   ]
  },
  {
   "cell_type": "code",
   "execution_count": 87,
   "metadata": {},
   "outputs": [
    {
     "data": {
      "text/plain": [
       "{'academic': {'rigor of secondary school record': None,\n",
       "  'class rank': None,\n",
       "  'academic gpa': None,\n",
       "  'standardized test scores': None,\n",
       "  'application essay': None,\n",
       "  'recommendation(s)': None},\n",
       " 'nonacademic': {'interview': None,\n",
       "  'extracurricular activities': None,\n",
       "  'talent/ability': None,\n",
       "  'character/personal qualities': None,\n",
       "  'first generation': None,\n",
       "  'alumni/ae relation': None,\n",
       "  'geographical residence': None,\n",
       "  'state residency': None,\n",
       "  'religious affiliation/commitment': None,\n",
       "  'volunteer work': None,\n",
       "  'work experience': None,\n",
       "  'level of applicant’s interest': None}}"
      ]
     },
     "execution_count": 87,
     "metadata": {},
     "output_type": "execute_result"
    }
   ],
   "source": [
    "extract_admission_factors_data(nyu_file_path)"
   ]
  },
  {
   "cell_type": "code",
   "execution_count": 86,
   "metadata": {},
   "outputs": [
    {
     "data": {
      "text/plain": [
       "{'academic': {'rigor of secondary school record': None,\n",
       "  'class rank': None,\n",
       "  'academic gpa': None,\n",
       "  'standardized test scores': None,\n",
       "  'application essay': None,\n",
       "  'recommendation(s)': None},\n",
       " 'nonacademic': {'interview': None,\n",
       "  'extracurricular activities': None,\n",
       "  'talent/ability': None,\n",
       "  'character/personal qualities': None,\n",
       "  'first generation': None,\n",
       "  'alumni/ae relation': None,\n",
       "  'geographical residence': None,\n",
       "  'state residency': None,\n",
       "  'religious affiliation/commitment': None,\n",
       "  'volunteer work': None,\n",
       "  'work experience': None,\n",
       "  'level of applicant’s interest': None}}"
      ]
     },
     "execution_count": 86,
     "metadata": {},
     "output_type": "execute_result"
    }
   ],
   "source": [
    "extract_admission_factors_data(uga_file_path)"
   ]
  },
  {
   "cell_type": "markdown",
   "metadata": {},
   "source": [
    "C6. SAT or ACT"
   ]
  },
  {
   "cell_type": "code",
   "execution_count": 167,
   "metadata": {},
   "outputs": [],
   "source": [
    "import re\n",
    "\n",
    "def extract_sat_act_scores(file_path):\n",
    "    regex_map = {\n",
    "        \"SAT Composite\": r\"sat.*composite\",\n",
    "        \"SAT EBRW\": r\"sat.*(evidence|ebrw|writing)\",\n",
    "        \"SAT Math\": r\"sat.*math\",\n",
    "        \"ACT Composite\": r\"act.*composite\",\n",
    "        \"ACT Math\": r\"act.*math\",\n",
    "        \"ACT English\": r\"act.*english\",\n",
    "        \"ACT Writing\": r\"act.*writing\",\n",
    "        \"ACT Science\": r\"act.*science\",\n",
    "        \"ACT Reading\": r\"act.*reading\"\n",
    "    }\n",
    "\n",
    "    score_data = {label: {'25th': None, '50th': None, '75th': None} for label in regex_map}\n",
    "\n",
    "    with pdfplumber.open(file_path) as pdf:\n",
    "        for page in pdf.pages:\n",
    "            tables = page.extract_tables()\n",
    "            text = page.extract_text() or \"\"\n",
    "\n",
    "            act_writing_present = \"act writing\" in text.lower()\n",
    "\n",
    "            for table in tables:\n",
    "                for row in table:\n",
    "                    if not row or len(row) < 2:\n",
    "                        continue\n",
    "\n",
    "                    row_text = [str(cell).lower().strip() if cell else \"\" for cell in row]\n",
    "                    label_candidate = row_text[0]\n",
    "                    label_matched = None\n",
    "\n",
    "                    for label, pattern in regex_map.items():\n",
    "                        if re.search(pattern, label_candidate):\n",
    "                            label_matched = label\n",
    "                            break\n",
    "\n",
    "                    if not label_matched and re.fullmatch(r\"writing\", label_candidate):\n",
    "                        label_matched = \"SAT EBRW\" if act_writing_present else None\n",
    "\n",
    "                    if not label_matched:\n",
    "                        continue\n",
    "\n",
    "                    numeric_values = [v for v in row_text[1:] if v.replace('.', '', 1).isdigit()]\n",
    "                    for j, percentile in enumerate(['25th', '50th', '75th']):\n",
    "                        if j < len(numeric_values):\n",
    "                            score_data[label_matched][percentile] = numeric_values[j]\n",
    "\n",
    "            fallback_labels = []\n",
    "            for line in text.split(\"\\n\"):\n",
    "                line_lower = line.lower()\n",
    "                for label, pattern in regex_map.items():\n",
    "                    if re.search(pattern, line_lower):\n",
    "                        if label not in fallback_labels:\n",
    "                            fallback_labels.append(label)\n",
    "\n",
    "            for table in tables:\n",
    "                numeric_rows = [\n",
    "                    [str(cell).strip() for cell in row if cell and str(cell).strip().replace('.', '', 1).isdigit()]\n",
    "                    for row in table if row\n",
    "                ]\n",
    "                numeric_rows = [r for r in numeric_rows if len(r) >= 2]\n",
    "\n",
    "                if len(numeric_rows) >= 3 and len(fallback_labels) >= 3:\n",
    "                    for i in range(min(len(fallback_labels), len(numeric_rows))):\n",
    "                        values = numeric_rows[i]\n",
    "                        for j, percentile in enumerate(['25th', '50th', '75th']):\n",
    "                            if j < len(values):\n",
    "                                score_data[fallback_labels[i]][percentile] = values[j]\n",
    "                    break\n",
    "\n",
    "    return score_data\n"
   ]
  },
  {
   "cell_type": "code",
   "execution_count": 168,
   "metadata": {},
   "outputs": [],
   "source": [
    "import pandas as pd\n",
    "\n",
    "def display_sat_act_scores_as_table(score_data):\n",
    "    df = pd.DataFrame(score_data).T\n",
    "    df.columns = ['25th', '50th', '75th']\n",
    "    df = df.fillna(\"No data\")\n",
    "    print(df)"
   ]
  },
  {
   "cell_type": "code",
   "execution_count": 150,
   "metadata": {},
   "outputs": [
    {
     "name": "stdout",
     "output_type": "stream",
     "text": [
      "               25th  50th  75th\n",
      "SAT Composite  1370  1460  1530\n",
      "SAT EBRW        680   720   750\n",
      "SAT Math        690   760   790\n",
      "ACT Composite    30    33    34\n",
      "ACT Math         29    32    35\n",
      "ACT English      31    34    35\n",
      "ACT Writing       8     8     9\n",
      "ACT Science      29    33    35\n",
      "ACT Reading      31    34    35\n"
     ]
    }
   ],
   "source": [
    "gatech_scores = extract_sat_act_scores(gatech_file_path)\n",
    "display_sat_act_scores_as_table(gatech_scores)"
   ]
  },
  {
   "cell_type": "code",
   "execution_count": 157,
   "metadata": {},
   "outputs": [
    {
     "name": "stdout",
     "output_type": "stream",
     "text": [
      "               25th  50th  75th\n",
      "SAT Composite  1328  1400  1460\n",
      "SAT EBRW        640   680   720\n",
      "SAT Math        670   720   760\n",
      "ACT Composite    27    29    31\n",
      "ACT Math         25    28    31\n",
      "ACT English      25    28    33\n",
      "ACT Writing       7     8     9\n",
      "ACT Science      25    28    32\n",
      "ACT Reading      27    31    34\n"
     ]
    }
   ],
   "source": [
    "umn_scores = extract_sat_act_scores(umn_file_path)\n",
    "display_sat_act_scores_as_table(umn_scores)"
   ]
  },
  {
   "cell_type": "code",
   "execution_count": 169,
   "metadata": {},
   "outputs": [
    {
     "name": "stdout",
     "output_type": "stream",
     "text": [
      "                  25th     50th     75th\n",
      "SAT Composite     1480     1550  No data\n",
      "SAT EBRW           720      750      770\n",
      "SAT Math           760      780      800\n",
      "ACT Composite       33       34       35\n",
      "ACT Math       No data  No data  No data\n",
      "ACT English    No data  No data  No data\n",
      "ACT Writing    No data  No data  No data\n",
      "ACT Science    No data  No data  No data\n",
      "ACT Reading    No data  No data  No data\n"
     ]
    }
   ],
   "source": [
    "nyu_scores = extract_sat_act_scores(nyu_file_path)\n",
    "display_sat_act_scores_as_table(nyu_scores)"
   ]
  },
  {
   "cell_type": "code",
   "execution_count": null,
   "metadata": {},
   "outputs": [],
   "source": [
    "uga_scores = extract_sat_act_scores(uga_file_path)\n",
    "display_sat_act_scores_as_table(uga_scores)"
   ]
  },
  {
   "cell_type": "markdown",
   "metadata": {},
   "source": [
    "C7. GPA"
   ]
  },
  {
   "cell_type": "code",
   "execution_count": 55,
   "metadata": {},
   "outputs": [],
   "source": [
    "import re\n",
    "import pandas as pd\n",
    "import pdfplumber\n",
    "\n",
    "def extract_gpa_data(file_path):\n",
    "    gpa_data = []\n",
    "    average_gpa = None\n",
    "    gpa_lines = []\n",
    "\n",
    "    with pdfplumber.open(file_path) as pdf:\n",
    "        for page in pdf.pages:\n",
    "            text = page.extract_text()\n",
    "            lines = text.split('\\n')\n",
    "\n",
    "            for line in lines:\n",
    "                lower_line = line.lower().strip()\n",
    "\n",
    "                if \"average high school gpa\" in lower_line:\n",
    "                    match = re.search(r'gpa[:\\s]+([0-9.]+)', lower_line)\n",
    "                    if match:\n",
    "                        average_gpa = float(match.group(1))\n",
    "\n",
    "                if lower_line.startswith(\"percent who had gpa\") or \"total\" in lower_line:\n",
    "                    gpa_lines.append(line.strip())\n",
    "\n",
    "    for line in gpa_lines:\n",
    "        match = re.match(r\"(Percent.*?)(\\s+\\d+\\.?\\d*%)?$\", line.strip(), flags=re.IGNORECASE)\n",
    "        if match:\n",
    "            label = match.group(1).strip()\n",
    "            percent = match.group(2).strip() if match.group(2) else \"No data\"\n",
    "            gpa_data.append((label, \"No data\", \"No data\", percent))\n",
    "\n",
    "    # DataFrame 변환\n",
    "    gpa_df = pd.DataFrame(\n",
    "        gpa_data,\n",
    "        columns=[\n",
    "            \"Score Range\",\n",
    "            \"Percent (Submitted)\",\n",
    "            \"Percent (Not Submitted)\",\n",
    "            \"Percent (All Students)\",\n",
    "        ]\n",
    "    )\n",
    "\n",
    "    return gpa_df, average_gpa\n"
   ]
  },
  {
   "cell_type": "code",
   "execution_count": 27,
   "metadata": {},
   "outputs": [
    {
     "name": "stdout",
     "output_type": "stream",
     "text": [
      "                              Score Range Percent (Submitted) Percent (Not Submitted) Percent (All Students)\n",
      "               Percent who had GPA of 4.0              92.54%                                         92.54%\n",
      "Percent who had GPA between 3.75 and 3.99               5.26%                                          5.26%\n",
      "Percent who had GPA between 3.50 and 3.74               1.13%                                          1.13%\n",
      "Percent who had GPA between 3.25 and 3.49               0.33%                                          0.33%\n",
      "Percent who had GPA between 3.00 and 3.24               0.25%                                          0.25%\n",
      "Percent who had GPA between 2.50 and 2.99               0.43%                                          0.43%\n",
      " Percent who had GPA between 2.0 and 2.49               0.06%                                          0.06%\n",
      " Percent who had GPA between 1.0 and 1.99               0.00%                                          0.00%\n",
      "            Percent who had GPA below 1.0               0.00%                                          0.00%\n",
      "                     Totals should = 100%             100.00%                   0.00%                100.00%\n",
      "Gatech Avg GPA :  4.14\n"
     ]
    }
   ],
   "source": [
    "gatech_gpa_df, gatech_avg_gpa = extract_gpa_data(gatech_file_path)\n",
    "print(gatech_gpa_df.to_string(index=False))\n",
    "print(\"Gatech Avg GPA : \" , gatech_avg_gpa)"
   ]
  },
  {
   "cell_type": "code",
   "execution_count": 28,
   "metadata": {},
   "outputs": [
    {
     "name": "stdout",
     "output_type": "stream",
     "text": [
      "Empty DataFrame\n",
      "Columns: [Score Range, Percent (Submitted), Percent (Not Submitted), Percent (All Students)]\n",
      "Index: []\n",
      "UMN Avg GPA :  None\n"
     ]
    }
   ],
   "source": [
    "umn_gpa_df, umn_avg_gpa = extract_gpa_data(umn_file_path)\n",
    "print(umn_gpa_df.to_string(index=False))\n",
    "print(\"UMN Avg GPA : \" , umn_avg_gpa)"
   ]
  },
  {
   "cell_type": "code",
   "execution_count": 56,
   "metadata": {},
   "outputs": [
    {
     "name": "stdout",
     "output_type": "stream",
     "text": [
      "                                                                    Score Range Percent (Submitted) Percent (Not Submitted) Percent (All Students)\n",
      "     Percent of total first-time, first-year students who submitted high school             No data                 No data                No data\n",
      "                                                     Percent who had GPA of 4.0             No data                 No data                  23.1%\n",
      "                                      Percent who had GPA between 3.75 and 3.99             No data                 No data                  47.6%\n",
      "                                      Percent who had GPA between 3.50 and 3.74             No data                 No data                  22.9%\n",
      "                                      Percent who had GPA between 3.25 and 3.49             No data                 No data                   5.2%\n",
      "                                      Percent who had GPA between 3.00 and 3.24             No data                 No data                   1.0%\n",
      "                                      Percent who had GPA between 2.50 and 2.99             No data                 No data                   0.2%\n",
      "                                       Percent who had GPA between 2.0 and 2.49             No data                 No data                   0.0%\n",
      "                                       Percent who had GPA between 1.0 and 1.99             No data                 No data                No data\n",
      "                                                  Percent who had GPA below 1.0             No data                 No data                No data\n",
      "Percent of total first-time, first-year students who submitted high school GPA:             No data                 No data                  99.0%\n",
      "NYU Avg GPA :  3.81\n"
     ]
    }
   ],
   "source": [
    "nyu_gpa_df, nyu_avg_gpa = extract_gpa_data(nyu_file_path)\n",
    "print(nyu_gpa_df.to_string(index=False))\n",
    "print(\"NYU Avg GPA : \" , nyu_avg_gpa)"
   ]
  },
  {
   "cell_type": "code",
   "execution_count": 30,
   "metadata": {},
   "outputs": [
    {
     "name": "stdout",
     "output_type": "stream",
     "text": [
      "                              Score Range Percent (Submitted) Percent (Not Submitted) Percent (All Students)\n",
      "               Percent who had GPA of 4.0               81.87                                          81.87\n",
      "Percent who had GPA between 3.75 and 3.99               15.56                                          15.56\n",
      "Percent who had GPA between 3.50 and 3.74                1.76                                           1.76\n",
      "Percent who had GPA between 3.25 and 3.49                0.33                                           0.33\n",
      "Percent who had GPA between 3.00 and 3.24                0.20                                           0.20\n",
      "Percent who had GPA between 2.50 and 2.99                0.20                                           0.20\n",
      " Percent who had GPA between 2.0 and 2.49                0.08                                           0.08\n",
      " Percent who had GPA between 1.0 and 1.99                0.00                                           0.00\n",
      "            Percent who had GPA below 1.0                0.00                                           0.00\n",
      "                     Totals should = 100%              100.00                    0.00                 100.00\n",
      "UGA Avg GPA :  4.14\n"
     ]
    }
   ],
   "source": [
    "uga_gpa_df, uga_avg_gpa = extract_gpa_data(uga_file_path)\n",
    "print(uga_gpa_df.to_string(index=False))\n",
    "print(\"UGA Avg GPA : \" , uga_avg_gpa)"
   ]
  },
  {
   "cell_type": "markdown",
   "metadata": {},
   "source": [
    "C8. Early Decision"
   ]
  },
  {
   "cell_type": "code",
   "execution_count": 17,
   "metadata": {},
   "outputs": [],
   "source": [
    "def extract_early_decision(file_path):\n",
    "    section_text = \"\"\n",
    "\n",
    "    with pdfplumber.open(file_path) as pdf:\n",
    "        for page in pdf.pages:\n",
    "            text = page.extract_text()\n",
    "            if text and \"C21\" in text:\n",
    "                section_text += text.lower()\n",
    "\n",
    "    if not section_text:\n",
    "        return \"Unknown\"\n",
    "\n",
    "    if \"☒ no\" in section_text or \"☑ no\" in section_text:\n",
    "        return \"No\"\n",
    "    if \"☒ yes\" in section_text or \"☑ yes\" in section_text:\n",
    "        return \"Yes\"\n",
    "\n",
    "    if \"yes\" in section_text and \"no\" in section_text and \"x\" in section_text:\n",
    "        yes_index = section_text.find(\"yes\")\n",
    "        no_index = section_text.find(\"no\")\n",
    "        x_index = section_text.find(\"x\")\n",
    "\n",
    "        if abs(x_index - no_index) < abs(x_index - yes_index):\n",
    "            return \"No\"\n",
    "        else:\n",
    "            return \"Yes\"\n",
    "\n",
    "    if \"yes\" in section_text and \"no\" not in section_text:\n",
    "        return \"Yes\"\n",
    "\n",
    "    return \"Unknown\"\n"
   ]
  },
  {
   "cell_type": "code",
   "execution_count": 18,
   "metadata": {},
   "outputs": [
    {
     "data": {
      "text/plain": [
       "'No'"
      ]
     },
     "execution_count": 18,
     "metadata": {},
     "output_type": "execute_result"
    }
   ],
   "source": [
    "extract_early_decision(gatech_file_path)"
   ]
  },
  {
   "cell_type": "code",
   "execution_count": 19,
   "metadata": {},
   "outputs": [
    {
     "data": {
      "text/plain": [
       "'No'"
      ]
     },
     "execution_count": 19,
     "metadata": {},
     "output_type": "execute_result"
    }
   ],
   "source": [
    "extract_early_decision(umn_file_path)"
   ]
  },
  {
   "cell_type": "code",
   "execution_count": 20,
   "metadata": {},
   "outputs": [
    {
     "data": {
      "text/plain": [
       "'Yes'"
      ]
     },
     "execution_count": 20,
     "metadata": {},
     "output_type": "execute_result"
    }
   ],
   "source": [
    "extract_early_decision(nyu_file_path)"
   ]
  },
  {
   "cell_type": "code",
   "execution_count": 21,
   "metadata": {},
   "outputs": [
    {
     "data": {
      "text/plain": [
       "'No'"
      ]
     },
     "execution_count": 21,
     "metadata": {},
     "output_type": "execute_result"
    }
   ],
   "source": [
    "extract_early_decision(uga_file_path)"
   ]
  },
  {
   "cell_type": "code",
   "execution_count": null,
   "metadata": {},
   "outputs": [],
   "source": []
  }
 ],
 "metadata": {
  "kernelspec": {
   "display_name": "Python (Fix)",
   "language": "python",
   "name": "jupyter-fix"
  },
  "language_info": {
   "codemirror_mode": {
    "name": "ipython",
    "version": 3
   },
   "file_extension": ".py",
   "mimetype": "text/x-python",
   "name": "python",
   "nbconvert_exporter": "python",
   "pygments_lexer": "ipython3",
   "version": "3.10.16"
  }
 },
 "nbformat": 4,
 "nbformat_minor": 4
}
