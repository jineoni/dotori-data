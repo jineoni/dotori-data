{
 "cells": [
  {
   "cell_type": "code",
   "execution_count": 1,
   "metadata": {},
   "outputs": [],
   "source": [
    "import os # Used for creating folders and reading files\n",
    "import re # Used for regular expressions\n",
    "import pdfplumber # Used for extracting text from PDF files"
   ]
  },
  {
   "cell_type": "code",
   "execution_count": 3,
   "metadata": {},
   "outputs": [],
   "source": [
    "# Set input and output folder paths\n",
    "\n",
    "input_folder = 'pdf'\n",
    "\n",
    "gatech_file_path = os.path.join(input_folder, 'gatech.pdf')\n",
    "umn_file_path = os.path.join(input_folder, 'umn.pdf')\n",
    "nyu_file_path = os.path.join(input_folder, 'nyu.pdf')\n",
    "uga_file_path = os.path.join(input_folder, 'uga.pdf')"
   ]
  },
  {
   "cell_type": "code",
   "execution_count": 5,
   "metadata": {},
   "outputs": [],
   "source": [
    "# Remove None and empty string from row\n",
    "\n",
    "def clean_row(row):\n",
    "    return [cell for cell in row if cell not in [None, '']]"
   ]
  },
  {
   "cell_type": "code",
   "execution_count": 7,
   "metadata": {},
   "outputs": [],
   "source": [
    "# Extract only numbers from the cell\n",
    "\n",
    "def clean_number(cell):\n",
    "    cell = re.sub(r'[^\\d]', '', str(cell)) # Remove all non-numeric characters\n",
    "    return int(cell) if cell else 0"
   ]
  },
  {
   "cell_type": "code",
   "execution_count": 9,
   "metadata": {},
   "outputs": [],
   "source": [
    "# Extract only floats from the cell\n",
    "\n",
    "def clean_float(cell):\n",
    "    cell = re.sub(r'[^\\d.]', '', str(cell))\n",
    "    return float(cell) if cell else 0.0"
   ]
  },
  {
   "cell_type": "code",
   "execution_count": 11,
   "metadata": {},
   "outputs": [],
   "source": [
    "# Code to extract text from a specific page for verification\n",
    "\n",
    "def extract_text_from_page(file_path, page_number):\n",
    "    with pdfplumber.open(file_path) as pdf:\n",
    "        # Check if the given page number is valid\n",
    "        if page_number < 1 or page_number > len(pdf.pages):\n",
    "            print(f\"Invalid page number. This PDF has {len(pdf.pages)} pages.\")\n",
    "            return\n",
    "\n",
    "        # Adjust for 0-based indexing in pdfplumber\n",
    "        page = pdf.pages[page_number - 1]\n",
    "        text = page.extract_text()\n",
    "\n",
    "        # Print the extracted text if available\n",
    "        if text:\n",
    "            print(f\"Text from Page {page_number}:\\n\")\n",
    "            print(text)\n",
    "        else:\n",
    "            print(f\"No text found on page {page_number}.\")"
   ]
  },
  {
   "cell_type": "code",
   "execution_count": 13,
   "metadata": {},
   "outputs": [],
   "source": [
    "# Extract text from a section like \"C{#}.\" up to before \"C{#+1}.\"\n",
    "\n",
    "def extract_section_by_label(file_path, section_label):\n",
    "    next_label = \"c\" + str(int(section_label[1:]) + 1)\n",
    "\n",
    "    full_text = \"\"\n",
    "    with pdfplumber.open(file_path) as pdf:\n",
    "        for page in pdf.pages:\n",
    "            text = page.extract_text()\n",
    "            if text:\n",
    "                full_text += text.lower()\n",
    "\n",
    "    # Match exact line starting with \"c{#}.\"\n",
    "    # ^ = matches the beginning of a line\n",
    "    start_match = re.search(rf\"({section_label.lower()}[\\. ])\", full_text)\n",
    "    if not start_match:\n",
    "        print(f\"Section {section_label.upper()} not found.\")\n",
    "        return\n",
    "    start_idx = start_match.start()\n",
    "\n",
    "    # Look for the start of the next section\n",
    "    next_match = re.search(rf\"({next_label}[\\. ])\", full_text[start_idx:])\n",
    "    end_idx = start_idx + next_match.start() if next_match else None # If we don't find the next label, go to the end of the document\n",
    "\n",
    "    section_text = full_text[start_idx:end_idx]\n",
    "\n",
    "    return section_text"
   ]
  },
  {
   "cell_type": "markdown",
   "metadata": {},
   "source": [
    "### C1. Applications (Gender, Residency)"
   ]
  },
  {
   "cell_type": "markdown",
   "metadata": {},
   "source": [
    "##### Gender"
   ]
  },
  {
   "cell_type": "code",
   "execution_count": 7,
   "metadata": {},
   "outputs": [],
   "source": [
    "def extract_gender_data(file_path):\n",
    "    \n",
    "    result = {\n",
    "        'applicants': {'men': 0, 'women': 0, 'others': 0},\n",
    "        'admitted': {'men': 0, 'women': 0, 'others': 0}\n",
    "    }\n",
    "    \n",
    "    # Define keywords to identify gender-related and first-year-related tables\n",
    "    gender_keywords = ['men', 'women', 'another gender', 'unknown gender']\n",
    "    first_keywords = ['first-time', 'first-year']\n",
    "\n",
    "    with pdfplumber.open(file_path) as pdf:\n",
    "        for page in pdf.pages:\n",
    "            tables = page.extract_tables()\n",
    "            \n",
    "            for table in tables:\n",
    "                \n",
    "                # Check if this table is relevant\n",
    "                table_str = ' '.join(str(cell).lower() for row in table for cell in row if cell)\n",
    "                if not (any(keyword in table_str for keyword in gender_keywords) and all(keyword in table_str for keyword in first_keywords)):\n",
    "                    continue\n",
    "                \n",
    "                # Loop through data rows\n",
    "                for row in table:\n",
    "                    row = clean_row(row) # Clean up null and empty cells\n",
    "                    row_str = ' '.join(str(cell or '').lower() for cell in row)\n",
    "\n",
    "                    # Identify whether this row is about applicants or admitted students\n",
    "                    if 'applied' in row_str:\n",
    "                        target = 'applicants'\n",
    "                    elif 'admitted' in row_str:\n",
    "                        target = 'admitted'\n",
    "                    else:\n",
    "                        continue # Skip if not relevant\n",
    "                    \n",
    "                    # Add gender-specific count from the last column\n",
    "                    if 'men' in row_str and 'women' not in row_str:\n",
    "                        result[target]['men'] += clean_number(row[-1])\n",
    "                    elif 'women' in row_str:\n",
    "                        result[target]['women'] += clean_number(row[-1])\n",
    "                    elif 'another gender' in row_str or 'unknown gender' in row_str:\n",
    "                        result[target]['others'] += clean_number(row[-1])\n",
    "                            \n",
    "    return result"
   ]
  },
  {
   "cell_type": "code",
   "execution_count": 8,
   "metadata": {},
   "outputs": [
    {
     "data": {
      "text/plain": [
       "{'applicants': {'men': 40022, 'women': 19765, 'others': 2},\n",
       " 'admitted': {'men': 4634, 'women': 3779, 'others': 0}}"
      ]
     },
     "execution_count": 8,
     "metadata": {},
     "output_type": "execute_result"
    }
   ],
   "source": [
    "extract_gender_data(gatech_file_path)"
   ]
  },
  {
   "cell_type": "code",
   "execution_count": 9,
   "metadata": {},
   "outputs": [
    {
     "data": {
      "text/plain": [
       "{'applicants': {'men': 18901, 'women': 20862, 'others': 0},\n",
       " 'admitted': {'men': 14427, 'women': 16218, 'others': 0}}"
      ]
     },
     "execution_count": 9,
     "metadata": {},
     "output_type": "execute_result"
    }
   ],
   "source": [
    "extract_gender_data(umn_file_path)"
   ]
  },
  {
   "cell_type": "code",
   "execution_count": 10,
   "metadata": {},
   "outputs": [
    {
     "data": {
      "text/plain": [
       "{'applicants': {'men': 0, 'women': 0, 'others': 0},\n",
       " 'admitted': {'men': 0, 'women': 0, 'others': 0}}"
      ]
     },
     "execution_count": 10,
     "metadata": {},
     "output_type": "execute_result"
    }
   ],
   "source": [
    "extract_gender_data(nyu_file_path) # ^^"
   ]
  },
  {
   "cell_type": "code",
   "execution_count": 11,
   "metadata": {},
   "outputs": [
    {
     "data": {
      "text/plain": [
       "{'applicants': {'men': 18211, 'women': 25191, 'others': 14},\n",
       " 'admitted': {'men': 6260, 'women': 9882, 'others': 6}}"
      ]
     },
     "execution_count": 11,
     "metadata": {},
     "output_type": "execute_result"
    }
   ],
   "source": [
    "extract_gender_data(uga_file_path)"
   ]
  },
  {
   "cell_type": "markdown",
   "metadata": {},
   "source": [
    "##### Residency"
   ]
  },
  {
   "cell_type": "code",
   "execution_count": 14,
   "metadata": {},
   "outputs": [],
   "source": [
    "def extract_residency_data(file_path):\n",
    "    \n",
    "    result = {\n",
    "        'applicants': {'in_state': 0, 'out_of_state': 0, 'international': 0, 'others': 0},\n",
    "        'admitted': {'in_state': 0, 'out_of_state': 0, 'international': 0, 'others': 0}\n",
    "    }\n",
    "\n",
    "    # Define keywords to identify residency-related and first-year-related tables\n",
    "    residency_keywords = ['in-state', 'out-of-state', 'international']\n",
    "    first_keywords = ['first-time', 'first-year']\n",
    "\n",
    "    with pdfplumber.open(file_path) as pdf:\n",
    "        for page in pdf.pages:\n",
    "            tables = page.extract_tables()\n",
    "\n",
    "            for table in tables:\n",
    "                \n",
    "                # Check if this table is relevant\n",
    "                table_str = ' '.join(str(cell).lower() for row in table for cell in row if cell)\n",
    "                if not (any(keyword in table_str for keyword in residency_keywords) and all(keyword in table_str for keyword in first_keywords)):\n",
    "                    continue\n",
    "                \n",
    "                # Extract header row\n",
    "                header_row = clean_row([str(cell or '').lower() for cell in table[0]])\n",
    "\n",
    "                # Find index of each column\n",
    "                col_idx = {'in_state': -1, 'out_of_state': -1, 'international': -1, 'others': -1}\n",
    "                for idx, col in enumerate(header_row):\n",
    "                    if 'in-' in col:\n",
    "                        col_idx['in_state'] = idx\n",
    "                    elif 'out-' in col:\n",
    "                        col_idx['out_of_state'] = idx\n",
    "                    elif 'inter' in col:\n",
    "                        col_idx['international'] = idx\n",
    "                    elif 'unk' in col:\n",
    "                        col_idx['others'] = idx\n",
    "\n",
    "                # Loop through data rows\n",
    "                for row in table[1:]:  # skip header\n",
    "                    row = clean_row(row)\n",
    "                    row_str = ' '.join(str(cell or '').lower() for cell in row)\n",
    "\n",
    "                   # Identify whether this row is about applicants or admitted students\n",
    "                    if 'applied' in row_str:\n",
    "                        target = 'applicants'\n",
    "                    elif 'admitted' in row_str:\n",
    "                        target = 'admitted'\n",
    "                    else:\n",
    "                        continue # Skip if not relevant\n",
    "                    \n",
    "                    # Add residency-specific count\n",
    "                    if col_idx['in_state'] != -1 and col_idx['in_state'] < len(row):\n",
    "                        result[target]['in_state'] += clean_number(row[col_idx['in_state']])\n",
    "                    if col_idx['out_of_state'] != -1 and col_idx['out_of_state'] < len(row):\n",
    "                        result[target]['out_of_state'] += clean_number(row[col_idx['out_of_state']])\n",
    "                    if col_idx['international'] != -1 and col_idx['international'] < len(row):\n",
    "                        result[target]['international'] += clean_number(row[col_idx['international']])\n",
    "                    if col_idx['others'] != -1 and col_idx['others'] < len(row):\n",
    "                        result[target]['others'] += clean_number(row[col_idx['others']])\n",
    "\n",
    "    return result\n"
   ]
  },
  {
   "cell_type": "code",
   "execution_count": 15,
   "metadata": {},
   "outputs": [
    {
     "data": {
      "text/plain": [
       "{'applicants': {'in_state': 10674,\n",
       "  'out_of_state': 38320,\n",
       "  'international': 10795,\n",
       "  'others': 0},\n",
       " 'admitted': {'in_state': 3536,\n",
       "  'out_of_state': 3992,\n",
       "  'international': 885,\n",
       "  'others': 0}}"
      ]
     },
     "execution_count": 15,
     "metadata": {},
     "output_type": "execute_result"
    }
   ],
   "source": [
    "extract_residency_data(gatech_file_path)"
   ]
  },
  {
   "cell_type": "code",
   "execution_count": 16,
   "metadata": {},
   "outputs": [
    {
     "data": {
      "text/plain": [
       "{'applicants': {'in_state': 13982,\n",
       "  'out_of_state': 19461,\n",
       "  'international': 1256,\n",
       "  'others': 0},\n",
       " 'admitted': {'in_state': 10498,\n",
       "  'out_of_state': 15400,\n",
       "  'international': 982,\n",
       "  'others': 0}}"
      ]
     },
     "execution_count": 16,
     "metadata": {},
     "output_type": "execute_result"
    }
   ],
   "source": [
    "extract_residency_data(umn_file_path)"
   ]
  },
  {
   "cell_type": "code",
   "execution_count": 24,
   "metadata": {},
   "outputs": [
    {
     "data": {
      "text/plain": [
       "{'applicants': {'in_state': 0,\n",
       "  'out_of_state': 0,\n",
       "  'international': 0,\n",
       "  'others': 0},\n",
       " 'admitted': {'in_state': 0,\n",
       "  'out_of_state': 0,\n",
       "  'international': 0,\n",
       "  'others': 0}}"
      ]
     },
     "execution_count": 24,
     "metadata": {},
     "output_type": "execute_result"
    }
   ],
   "source": [
    "extract_residency_data(nyu_file_path)"
   ]
  },
  {
   "cell_type": "code",
   "execution_count": 17,
   "metadata": {},
   "outputs": [
    {
     "data": {
      "text/plain": [
       "{'applicants': {'in_state': 18210,\n",
       "  'out_of_state': 23867,\n",
       "  'international': 1338,\n",
       "  'others': 1},\n",
       " 'admitted': {'in_state': 9149,\n",
       "  'out_of_state': 6709,\n",
       "  'international': 289,\n",
       "  'others': 1}}"
      ]
     },
     "execution_count": 17,
     "metadata": {},
     "output_type": "execute_result"
    }
   ],
   "source": [
    "extract_residency_data(uga_file_path)"
   ]
  },
  {
   "cell_type": "markdown",
   "metadata": {},
   "source": [
    "##### Applicant Summary"
   ]
  },
  {
   "cell_type": "code",
   "execution_count": 18,
   "metadata": {},
   "outputs": [],
   "source": [
    "def extract_applicant_summary(file_path):\n",
    "    gender_data = extract_gender_data(file_path)\n",
    "    residency_data = extract_residency_data(file_path)\n",
    "\n",
    "    result = {\n",
    "        'applicants': {\n",
    "            'gender': gender_data.get('applicants', {}),\n",
    "            'residency': residency_data.get('applicants', {})\n",
    "        },\n",
    "        'admitted': {\n",
    "            'gender': gender_data.get('admitted', {}),\n",
    "            'residency': residency_data.get('admitted', {})\n",
    "        }\n",
    "    }\n",
    "\n",
    "    return result\n"
   ]
  },
  {
   "cell_type": "code",
   "execution_count": 19,
   "metadata": {},
   "outputs": [
    {
     "data": {
      "text/plain": [
       "{'applicants': {'gender': {'men': 40022, 'women': 19765, 'others': 2},\n",
       "  'residency': {'in_state': 10674,\n",
       "   'out_of_state': 38320,\n",
       "   'international': 10795,\n",
       "   'others': 0}},\n",
       " 'admitted': {'gender': {'men': 4634, 'women': 3779, 'others': 0},\n",
       "  'residency': {'in_state': 3536,\n",
       "   'out_of_state': 3992,\n",
       "   'international': 885,\n",
       "   'others': 0}}}"
      ]
     },
     "execution_count": 19,
     "metadata": {},
     "output_type": "execute_result"
    }
   ],
   "source": [
    "extract_applicant_summary(gatech_file_path)"
   ]
  },
  {
   "cell_type": "code",
   "execution_count": 20,
   "metadata": {},
   "outputs": [
    {
     "data": {
      "text/plain": [
       "{'applicants': {'gender': {'men': 18901, 'women': 20862, 'others': 0},\n",
       "  'residency': {'in_state': 13982,\n",
       "   'out_of_state': 19461,\n",
       "   'international': 1256,\n",
       "   'others': 0}},\n",
       " 'admitted': {'gender': {'men': 14427, 'women': 16218, 'others': 0},\n",
       "  'residency': {'in_state': 10498,\n",
       "   'out_of_state': 15400,\n",
       "   'international': 982,\n",
       "   'others': 0}}}"
      ]
     },
     "execution_count": 20,
     "metadata": {},
     "output_type": "execute_result"
    }
   ],
   "source": [
    "extract_applicant_summary(umn_file_path)"
   ]
  },
  {
   "cell_type": "code",
   "execution_count": 23,
   "metadata": {},
   "outputs": [
    {
     "data": {
      "text/plain": [
       "{'applicants': {'gender': {'men': 0, 'women': 0, 'others': 0},\n",
       "  'residency': {'in_state': 0,\n",
       "   'out_of_state': 0,\n",
       "   'international': 0,\n",
       "   'others': 0}},\n",
       " 'admitted': {'gender': {'men': 0, 'women': 0, 'others': 0},\n",
       "  'residency': {'in_state': 0,\n",
       "   'out_of_state': 0,\n",
       "   'international': 0,\n",
       "   'others': 0}}}"
      ]
     },
     "execution_count": 23,
     "metadata": {},
     "output_type": "execute_result"
    }
   ],
   "source": [
    "extract_applicant_summary(nyu_file_path)"
   ]
  },
  {
   "cell_type": "code",
   "execution_count": 21,
   "metadata": {},
   "outputs": [
    {
     "data": {
      "text/plain": [
       "{'applicants': {'gender': {'men': 18211, 'women': 25191, 'others': 14},\n",
       "  'residency': {'in_state': 18210,\n",
       "   'out_of_state': 23867,\n",
       "   'international': 1338,\n",
       "   'others': 1}},\n",
       " 'admitted': {'gender': {'men': 6260, 'women': 9882, 'others': 6},\n",
       "  'residency': {'in_state': 9149,\n",
       "   'out_of_state': 6709,\n",
       "   'international': 289,\n",
       "   'others': 1}}}"
      ]
     },
     "execution_count": 21,
     "metadata": {},
     "output_type": "execute_result"
    }
   ],
   "source": [
    "extract_applicant_summary(uga_file_path)"
   ]
  },
  {
   "cell_type": "markdown",
   "metadata": {},
   "source": [
    "### C3. High School Completetion requirement"
   ]
  },
  {
   "cell_type": "code",
   "execution_count": 22,
   "metadata": {},
   "outputs": [],
   "source": [
    "def extract_highschool_requirement(file_path):\n",
    "\n",
    "    result = {\n",
    "        'high school diploma required': 0,\n",
    "        'GED accepted': 0\n",
    "    }\n",
    "\n",
    "    # Define exact phrases expected in each case\n",
    "    diploma_and_ged = \"high school diploma is required and ged is accepted\"\n",
    "    diploma_only = \"high school diploma is required and ged is not accepted\"\n",
    "    no_diploma_needed = \"high school diploma or equivalent is not required\"\n",
    "    \n",
    "    # Define marks\n",
    "    marks = ['x', '☒', '✓', '✔', '4']\n",
    "\n",
    "    # Extract only the C3 section using helper function\n",
    "    section_text = extract_section_by_label(file_path, \"C3\")\n",
    "    if not section_text:\n",
    "        return result  # Return default if section not found\n",
    "\n",
    "    section_text = section_text.lower()\n",
    "    found_checked_option = False # Will be set to True if a checkbox is detected\n",
    "\n",
    "    # Go through each line to find checked options\n",
    "    for line in section_text.split('\\n'):\n",
    "        # '4' is included because some pdf files incorrectly render checkmarks as '4'\n",
    "        if diploma_and_ged in line and any(mark in line for mark in marks):\n",
    "            result['high school diploma required'] = 1\n",
    "            result['GED accepted'] = 1\n",
    "            found_checked_option = True\n",
    "            break\n",
    "        elif diploma_only in line and any(mark in line for mark in marks):\n",
    "            result['high school diploma required'] = 1\n",
    "            result['GED accepted'] = 0\n",
    "            found_checked_option = True\n",
    "            break\n",
    "        elif no_diploma_needed in line and any(mark in line for mark in marks):\n",
    "            result['high school diploma required'] = 0\n",
    "            result['GED accepted'] = 0\n",
    "            found_checked_option = True\n",
    "            break\n",
    "\n",
    "        # If no checkboxes were found, use a fallback approach based on keyword presence\n",
    "        if not found_checked_option:\n",
    "            if diploma_and_ged in section_text:\n",
    "                result['high school diploma required'] = 1\n",
    "                result['GED accepted'] = 1\n",
    "            elif diploma_only in section_text:\n",
    "                result['high school diploma required'] = 1\n",
    "                result['GED accepted'] = 0\n",
    "            elif no_diploma_needed in section_text:\n",
    "                result['high school diploma required'] = 0\n",
    "                result['GED accepted'] = 0\n",
    "    \n",
    "        return result"
   ]
  },
  {
   "cell_type": "code",
   "execution_count": 25,
   "metadata": {},
   "outputs": [
    {
     "data": {
      "text/plain": [
       "{'high school diploma required': 1, 'GED accepted': 0}"
      ]
     },
     "execution_count": 25,
     "metadata": {},
     "output_type": "execute_result"
    }
   ],
   "source": [
    "extract_highschool_requirement(gatech_file_path)"
   ]
  },
  {
   "cell_type": "code",
   "execution_count": 26,
   "metadata": {},
   "outputs": [
    {
     "data": {
      "text/plain": [
       "{'high school diploma required': 1, 'GED accepted': 1}"
      ]
     },
     "execution_count": 26,
     "metadata": {},
     "output_type": "execute_result"
    }
   ],
   "source": [
    "extract_highschool_requirement(umn_file_path)"
   ]
  },
  {
   "cell_type": "code",
   "execution_count": 27,
   "metadata": {},
   "outputs": [
    {
     "data": {
      "text/plain": [
       "{'high school diploma required': 1, 'GED accepted': 1}"
      ]
     },
     "execution_count": 27,
     "metadata": {},
     "output_type": "execute_result"
    }
   ],
   "source": [
    "extract_highschool_requirement(nyu_file_path)"
   ]
  },
  {
   "cell_type": "code",
   "execution_count": 28,
   "metadata": {},
   "outputs": [
    {
     "data": {
      "text/plain": [
       "{'high school diploma required': 1, 'GED accepted': 1}"
      ]
     },
     "execution_count": 28,
     "metadata": {},
     "output_type": "execute_result"
    }
   ],
   "source": [
    "extract_highschool_requirement(uga_file_path)"
   ]
  },
  {
   "cell_type": "code",
   "execution_count": null,
   "metadata": {},
   "outputs": [
    {
     "name": "stdout",
     "output_type": "stream",
     "text": [
      "c3. high school completion requirement\n",
      "check the appropriate box to identify your high school completion requirement for degree-seeking entering\n",
      "students:\n",
      "4 high school diploma is required and ged is accepted\n",
      "☐\n",
      "high school diploma is required and ged is not accepted\n",
      "☐\n",
      "high school diploma or equivalent is not required\n",
      "☐\n",
      "\n"
     ]
    }
   ],
   "source": [
    "text = extract_section_by_label(uga_file_path, 'c3')\n",
    "for line in text.split('\\n'):\n",
    "    print(line)"
   ]
  },
  {
   "cell_type": "markdown",
   "metadata": {},
   "source": [
    "### C4. General College-Preparatory Program Requirement"
   ]
  },
  {
   "cell_type": "code",
   "execution_count": 39,
   "metadata": {},
   "outputs": [],
   "source": [
    "def extract_college_prep_requirement(file_path):\n",
    "    \n",
    "    result = {\n",
    "        'general college-preparatory program': \n",
    "            {\n",
    "                'required': 0,\n",
    "                'recommended': 0,\n",
    "                'neither required or recommended': 0\n",
    "            }\n",
    "        }\n",
    "\n",
    "    # Define key phrases to match\n",
    "    required = \"require\"\n",
    "    recommended = \"recommend\"\n",
    "    neither = \"neither require nor recommend\"\n",
    "    \n",
    "    # Define marks\n",
    "    marks = ['x', '☒', '✓', '✔', '4']\n",
    "\n",
    "    # Extract only the C4 section using helper function\n",
    "    section_text = extract_section_by_label(file_path, 'C4')\n",
    "    if not section_text:\n",
    "        return result # Return default if section not found\n",
    "    section_text = section_text.lower()\n",
    "    \n",
    "    found_checked_option = False # Will be set to True if a checkbox is detected\n",
    "\n",
    "    # Go through each line to find checked options\n",
    "    for line in section_text.split('\\n'):\n",
    "        \n",
    "        # Skip the question sectence\n",
    "        if line.startswith('c4'):\n",
    "            continue\n",
    "        \n",
    "        # '4' is included because some pdf files incorrectly render checkmarks as '4'\n",
    "        if neither in line and any(mark in line for mark in marks):\n",
    "            result['general college-preparatory program']['neither required or recommended'] = 1\n",
    "            found_checked_option = True\n",
    "            break\n",
    "        elif required in line and any(mark in line for mark in marks):\n",
    "            result['general college-preparatory program']['required'] = 1\n",
    "            found_checked_option = True\n",
    "            break\n",
    "        elif recommended in line and any(mark in line for mark in marks):\n",
    "            result['general college-preparatory program']['recommended'] = 1\n",
    "            found_checked_option = True\n",
    "            break\n",
    "\n",
    "    # If no checkboxes were found, use a fallback approach based on keyword presence\n",
    "    if not found_checked_option:\n",
    "        if \"neither require nor recommend\" in section_text:\n",
    "            result['general college-preparatory program']['neither required or recommended'] = 1\n",
    "        elif \"recommend\" in section_text:\n",
    "            result['general college-preparatory program']['recommended'] = 1\n",
    "        elif \"require\" in section_text:\n",
    "            result['general college-preparatory program']['required'] = 1\n",
    "\n",
    "    return result"
   ]
  },
  {
   "cell_type": "code",
   "execution_count": 114,
   "metadata": {},
   "outputs": [
    {
     "data": {
      "text/plain": [
       "{'general college-preparatory program': {'required': 1,\n",
       "  'recommended': 0,\n",
       "  'neither required or recommended': 0}}"
      ]
     },
     "execution_count": 114,
     "metadata": {},
     "output_type": "execute_result"
    }
   ],
   "source": [
    "extract_college_prep_requirement(gatech_file_path)"
   ]
  },
  {
   "cell_type": "code",
   "execution_count": 115,
   "metadata": {},
   "outputs": [
    {
     "data": {
      "text/plain": [
       "{'general college-preparatory program': {'required': 0,\n",
       "  'recommended': 1,\n",
       "  'neither required or recommended': 0}}"
      ]
     },
     "execution_count": 115,
     "metadata": {},
     "output_type": "execute_result"
    }
   ],
   "source": [
    "extract_college_prep_requirement(umn_file_path)"
   ]
  },
  {
   "cell_type": "code",
   "execution_count": 116,
   "metadata": {},
   "outputs": [
    {
     "name": "stdout",
     "output_type": "stream",
     "text": [
      "c4. does your institution require or recommend a general college-preparatory program for degree-\n",
      "seeking students?\n",
      "☐ require:\n",
      "☒ recommend\n",
      "☐ neither require nor recommendcommon data set 2023-2024\n",
      "\n"
     ]
    }
   ],
   "source": [
    "text = extract_section_by_label(umn_file_path, 'c4')\n",
    "for line in text.split('\\n'):\n",
    "    print(line)"
   ]
  },
  {
   "cell_type": "code",
   "execution_count": 117,
   "metadata": {},
   "outputs": [
    {
     "data": {
      "text/plain": [
       "{'general college-preparatory program': {'required': 0,\n",
       "  'recommended': 1,\n",
       "  'neither required or recommended': 0}}"
      ]
     },
     "execution_count": 117,
     "metadata": {},
     "output_type": "execute_result"
    }
   ],
   "source": [
    "extract_college_prep_requirement(nyu_file_path)"
   ]
  },
  {
   "cell_type": "code",
   "execution_count": 118,
   "metadata": {},
   "outputs": [
    {
     "data": {
      "text/plain": [
       "{'general college-preparatory program': {'required': 1,\n",
       "  'recommended': 0,\n",
       "  'neither required or recommended': 0}}"
      ]
     },
     "execution_count": 118,
     "metadata": {},
     "output_type": "execute_result"
    }
   ],
   "source": [
    "extract_college_prep_requirement(uga_file_path)"
   ]
  },
  {
   "cell_type": "code",
   "execution_count": 119,
   "metadata": {},
   "outputs": [
    {
     "name": "stdout",
     "output_type": "stream",
     "text": [
      "c4. does your institution require or recommend a general college-preparatory program for degree-seeking\n",
      "students?\n",
      "4 require\n",
      "☐\n",
      "recommend\n",
      "☐\n",
      "neither require nor recommend\n",
      "☐\n",
      "\n"
     ]
    }
   ],
   "source": [
    "text = extract_section_by_label(uga_file_path, 'c4')\n",
    "for line in text.split('\\n'):\n",
    "    print(line)"
   ]
  },
  {
   "cell_type": "markdown",
   "metadata": {},
   "source": [
    "### Summarize"
   ]
  },
  {
   "cell_type": "code",
   "execution_count": 33,
   "metadata": {},
   "outputs": [
    {
     "data": {
      "text/plain": [
       "{'general college-preparatory program': {'required': 0,\n",
       "  'recommended': 1,\n",
       "  'neither required or recommended': 0}}"
      ]
     },
     "execution_count": 33,
     "metadata": {},
     "output_type": "execute_result"
    }
   ],
   "source": [
    "extract_college_prep_requirement(nyu_file_path)"
   ]
  },
  {
   "cell_type": "code",
   "execution_count": 34,
   "metadata": {},
   "outputs": [
    {
     "data": {
      "text/plain": [
       "{'general college-preparatory program': {'required': 1,\n",
       "  'recommended': 0,\n",
       "  'neither required or recommended': 0}}"
      ]
     },
     "execution_count": 34,
     "metadata": {},
     "output_type": "execute_result"
    }
   ],
   "source": [
    "extract_college_prep_requirement(uga_file_path)"
   ]
  },
  {
   "cell_type": "code",
   "execution_count": 35,
   "metadata": {},
   "outputs": [
    {
     "name": "stdout",
     "output_type": "stream",
     "text": [
      "c4. does your institution require or recommend a general college-preparatory program for degree-seeking\n",
      "students?\n",
      "4 require\n",
      "☐\n",
      "recommend\n",
      "☐\n",
      "neither require nor recommend\n",
      "☐\n",
      "\n"
     ]
    }
   ],
   "source": [
    "text = extract_section_by_label(uga_file_path, 'c4')\n",
    "for line in text.split('\\n'):\n",
    "    print(line)"
   ]
  },
  {
   "cell_type": "markdown",
   "metadata": {},
   "source": [
    "### Summarize"
   ]
  },
  {
   "cell_type": "code",
   "execution_count": 36,
   "metadata": {},
   "outputs": [],
   "source": [
    "# Summarize extracted data into a JSON-ready dictionary\n",
    "\n",
    "def summarize_results(filename, gender_data, residency_data, highschool_data, prep_data):\n",
    "    \n",
    "    def calc_ratio(group_dict):\n",
    "        total = sum(group_dict.values()) or 1\n",
    "        return {k: round(v / total * 100) for k, v in group_dict.items()}\n",
    "\n",
    "    return {\n",
    "        \"filename\": filename,\n",
    "        \"summary\": {\n",
    "            \"gender_ratio\": {\n",
    "                \"applicants\": calc_ratio(gender_data.get('applicants', {})),\n",
    "                \"admitted\": calc_ratio(gender_data.get('admitted', {}))\n",
    "            },\n",
    "            \"residency_ratio\": {\n",
    "                \"applicants\": calc_ratio(residency_data.get('applicants', {})),\n",
    "                \"admitted\": calc_ratio(residency_data.get('admitted', {}))\n",
    "            },\n",
    "            \"hs_diploma_required\": bool(highschool_data.get('high school diploma required', 0)),\n",
    "            \"ged_accepted\": bool(highschool_data.get('GED accepted', 0)),\n",
    "            \"college_prep\": (\n",
    "                \"required\" if prep_data['general college-preparatory program']['required']\n",
    "                else \"recommended\" if prep_data['general college-preparatory program']['recommended']\n",
    "                else \"neither\"\n",
    "            )\n",
    "        }\n",
    "    }"
   ]
  },
  {
   "cell_type": "code",
   "execution_count": 37,
   "metadata": {},
   "outputs": [
    {
     "data": {
      "text/plain": [
       "{'filename': 'pdf\\\\gatech.pdf',\n",
       " 'summary': {'gender_ratio': {'applicants': {'men': 67,\n",
       "    'women': 33,\n",
       "    'others': 0},\n",
       "   'admitted': {'men': 55, 'women': 45, 'others': 0}},\n",
       "  'residency_ratio': {'applicants': {'in_state': 18,\n",
       "    'out_of_state': 64,\n",
       "    'international': 18,\n",
       "    'others': 0},\n",
       "   'admitted': {'in_state': 42,\n",
       "    'out_of_state': 47,\n",
       "    'international': 11,\n",
       "    'others': 0}},\n",
       "  'hs_diploma_required': True,\n",
       "  'ged_accepted': False,\n",
       "  'college_prep': 'required'}}"
      ]
     },
     "execution_count": 37,
     "metadata": {},
     "output_type": "execute_result"
    }
   ],
   "source": [
    "summarize_results(gatech_file_path, extract_gender_data(gatech_file_path), extract_residency_data(gatech_file_path), extract_highschool_requirement(gatech_file_path), extract_college_prep_requirement(gatech_file_path))"
   ]
  },
  {
   "cell_type": "code",
   "execution_count": 38,
   "metadata": {},
   "outputs": [
    {
     "data": {
      "text/plain": [
       "{'filename': 'pdf\\\\umn.pdf',\n",
       " 'summary': {'gender_ratio': {'applicants': {'men': 48,\n",
       "    'women': 52,\n",
       "    'others': 0},\n",
       "   'admitted': {'men': 47, 'women': 53, 'others': 0}},\n",
       "  'residency_ratio': {'applicants': {'in_state': 40,\n",
       "    'out_of_state': 56,\n",
       "    'international': 4,\n",
       "    'others': 0},\n",
       "   'admitted': {'in_state': 39,\n",
       "    'out_of_state': 57,\n",
       "    'international': 4,\n",
       "    'others': 0}},\n",
       "  'hs_diploma_required': True,\n",
       "  'ged_accepted': True,\n",
       "  'college_prep': 'recommended'}}"
      ]
     },
     "execution_count": 38,
     "metadata": {},
     "output_type": "execute_result"
    }
   ],
   "source": [
    "summarize_results(umn_file_path, extract_gender_data(umn_file_path), extract_residency_data(umn_file_path), extract_highschool_requirement(umn_file_path), extract_college_prep_requirement(umn_file_path))"
   ]
  },
  {
   "cell_type": "code",
   "execution_count": 39,
   "metadata": {},
   "outputs": [
    {
     "data": {
      "text/plain": [
       "{'filename': 'pdf\\\\nyu.pdf',\n",
       " 'summary': {'gender_ratio': {'applicants': {'men': 0,\n",
       "    'women': 0,\n",
       "    'others': 0},\n",
       "   'admitted': {'men': 0, 'women': 0, 'others': 0}},\n",
       "  'residency_ratio': {'applicants': {'in_state': 0,\n",
       "    'out_of_state': 0,\n",
       "    'international': 0,\n",
       "    'others': 0},\n",
       "   'admitted': {'in_state': 0,\n",
       "    'out_of_state': 0,\n",
       "    'international': 0,\n",
       "    'others': 0}},\n",
       "  'hs_diploma_required': True,\n",
       "  'ged_accepted': True,\n",
       "  'college_prep': 'recommended'}}"
      ]
     },
     "execution_count": 39,
     "metadata": {},
     "output_type": "execute_result"
    }
   ],
   "source": [
    "summarize_results(nyu_file_path, extract_gender_data(nyu_file_path), extract_residency_data(nyu_file_path), extract_highschool_requirement(nyu_file_path), extract_college_prep_requirement(nyu_file_path))"
   ]
  },
  {
   "cell_type": "code",
   "execution_count": 40,
   "metadata": {},
   "outputs": [
    {
     "data": {
      "text/plain": [
       "{'filename': 'pdf\\\\uga.pdf',\n",
       " 'summary': {'gender_ratio': {'applicants': {'men': 42,\n",
       "    'women': 58,\n",
       "    'others': 0},\n",
       "   'admitted': {'men': 39, 'women': 61, 'others': 0}},\n",
       "  'residency_ratio': {'applicants': {'in_state': 42,\n",
       "    'out_of_state': 55,\n",
       "    'international': 3,\n",
       "    'others': 0},\n",
       "   'admitted': {'in_state': 57,\n",
       "    'out_of_state': 42,\n",
       "    'international': 2,\n",
       "    'others': 0}},\n",
       "  'hs_diploma_required': True,\n",
       "  'ged_accepted': True,\n",
       "  'college_prep': 'required'}}"
      ]
     },
     "execution_count": 40,
     "metadata": {},
     "output_type": "execute_result"
    }
   ],
   "source": [
    "summarize_results(uga_file_path, extract_gender_data(uga_file_path), extract_residency_data(uga_file_path), extract_highschool_requirement(uga_file_path), extract_college_prep_requirement(uga_file_path))"
   ]
  },
  {
   "cell_type": "markdown",
   "metadata": {},
   "source": [
    "C5. Relative importance of each of the following academic and nonacademic factors"
   ]
  },
  {
   "cell_type": "code",
   "execution_count": 45,
   "metadata": {},
   "outputs": [],
   "source": [
    "# 코드 다시 짜기 존나 안됨 ㅅ;ㅂ;ㅄ빌;ㅄ;ㅂ;립;실\n",
    "\n",
    "def extract_relative_importance(file_path):\n",
    "    importance_levels = [\"very important\", \"important\", \"considered\", \"not considered\"]\n",
    "    marks = ['x', '☒', '✓', '✔', '4']\n",
    "\n",
    "    academic_factors = [\n",
    "        \"rigor of secondary school record\",\n",
    "        \"class rank\",\n",
    "        \"academic grade point average (gpa)\",\n",
    "        \"recommendations\",\n",
    "        \"standardized test scores\",\n",
    "        \"application essay\"\n",
    "    ]\n",
    "\n",
    "    nonacademic_factors = [\n",
    "        \"interview\",\n",
    "        \"extracurricular activities\",\n",
    "        \"talent/ability\",\n",
    "        \"character/personal qualities\",\n",
    "        \"first generation\",\n",
    "        \"alumni/ae relation\",\n",
    "        \"geographical residence\",\n",
    "        \"state residency\",\n",
    "        \"religious affiliation/commitment\",\n",
    "        \"volunteer work\",\n",
    "        \"work experience\",\n",
    "        \"level of applicant’s interest\"\n",
    "    ]\n",
    "\n",
    "    alias_map = {\n",
    "        \"academic gpa\": \"academic grade point average (gpa)\",\n",
    "        \"recommendation\": \"recommendations\",\n",
    "        \"recommendation(s)\": \"recommendations\",\n",
    "        \"level of applicant's interest\": \"level of applicant’s interest\"\n",
    "    }\n",
    "\n",
    "    def normalize_factor(name):\n",
    "        key = name.lower().replace(\"’\", \"'\").strip()\n",
    "        return alias_map.get(key, key)\n",
    "\n",
    "    result = {\n",
    "        \"academic\": {factor: \"unknown\" for factor in academic_factors},\n",
    "        \"nonacademic\": {factor: \"unknown\" for factor in nonacademic_factors}\n",
    "    }\n",
    "\n",
    "    found_table = False\n",
    "\n",
    "    with pdfplumber.open(file_path) as pdf:\n",
    "        for page in pdf.pages:\n",
    "            tables = page.extract_tables()\n",
    "            # Gatech case : table\n",
    "            for table in tables:\n",
    "                if not table or len(table) < 2:\n",
    "                    continue\n",
    "\n",
    "                headers = [str(cell).strip().lower() if cell else \"\" for cell in table[0]]\n",
    "                if not all(level in headers for level in importance_levels):\n",
    "                    continue\n",
    "\n",
    "                found_table = True\n",
    "\n",
    "                for row in table[1:]:\n",
    "                    row = [str(cell).strip().replace('\\n', ' ').lower() if cell else \"\" for cell in row]\n",
    "                    if not row or row[0] in [\"academic\", \"nonacademic\"]:\n",
    "                        continue\n",
    "\n",
    "                    raw_factor = row[0]\n",
    "                    factor = normalize_factor(raw_factor)\n",
    "                    importance = \"unknown\"\n",
    "                    for i in range(1, min(len(row), len(headers))):\n",
    "                        if any(mark in row[i] for mark in marks):\n",
    "                            importance = headers[i]\n",
    "                            break\n",
    "\n",
    "                    if factor in result[\"academic\"]:\n",
    "                        result[\"academic\"][factor] = importance\n",
    "                    elif factor in result[\"nonacademic\"]:\n",
    "                        result[\"nonacademic\"][factor] = importance\n",
    "\n",
    "            if found_table:\n",
    "                break  # stop processing further pages once a valid table is found\n",
    "    # Umn case : check box\n",
    "    if not found_table:\n",
    "        section_text = extract_section_by_label(file_path, \"C7\")\n",
    "        if not section_text:\n",
    "            return result\n",
    "\n",
    "        lines = section_text.lower().splitlines()[:35]\n",
    "        importance_map = {0: \"very important\", 1: \"important\", 2: \"considered\", 3: \"not considered\"}\n",
    "\n",
    "        for line in lines:\n",
    "            line = line.replace(\"'\", \"’\")\n",
    "            tokens = line.split()\n",
    "            mark_index = None\n",
    "            for idx, token in enumerate(tokens[-4:]):\n",
    "                if token in marks:\n",
    "                    mark_index = idx\n",
    "                    break\n",
    "            if mark_index is not None:\n",
    "                factor_tokens = tokens[:-4]\n",
    "                factor = normalize_factor(\" \".join(factor_tokens))\n",
    "                importance = importance_map.get(mark_index, \"unknown\")\n",
    "                if factor in result[\"academic\"]:\n",
    "                    result[\"academic\"][factor] = importance\n",
    "                elif factor in result[\"nonacademic\"]:\n",
    "                    result[\"nonacademic\"][factor] = importance\n",
    "            else:\n",
    "                for factor in academic_factors + nonacademic_factors:\n",
    "                    factor_key = normalize_factor(factor)\n",
    "                    if factor_key in line:\n",
    "                        for level in sorted(importance_levels, key=lambda x: -len(x)):\n",
    "                            if level in line:\n",
    "                                category = \"academic\" if factor in academic_factors else \"nonacademic\"\n",
    "                                result[category][factor_key] = level\n",
    "                                break\n",
    "\n",
    "\n",
    "    return result"
   ]
  },
  {
   "cell_type": "code",
   "execution_count": 181,
   "metadata": {},
   "outputs": [
    {
     "data": {
      "text/plain": [
       "{'academic': {'rigor of secondary school record': 'very important',\n",
       "  'class rank': 'not considered',\n",
       "  'academic grade point average (gpa)': 'very important',\n",
       "  'recommendations': 'considered',\n",
       "  'standardized test scores': 'considered',\n",
       "  'application essay': 'important'},\n",
       " 'nonacademic': {'interview': 'not considered',\n",
       "  'extracurricular activities': 'important',\n",
       "  'talent/ability': 'considered',\n",
       "  'character/personal qualities': 'very important',\n",
       "  'first generation': 'considered',\n",
       "  'alumni/ae relation': 'not considered',\n",
       "  'geographical residence': 'considered',\n",
       "  'state residency': 'very important',\n",
       "  'religious affiliation/commitment': 'not considered',\n",
       "  'volunteer work': 'considered',\n",
       "  'work experience': 'considered',\n",
       "  'level of applicant’s interest': 'not considered'}}"
      ]
     },
     "execution_count": 181,
     "metadata": {},
     "output_type": "execute_result"
    }
   ],
   "source": [
    "extract_relative_importance(gatech_file_path)"
   ]
  },
  {
   "cell_type": "code",
   "execution_count": 33,
   "metadata": {},
   "outputs": [
    {
     "data": {
      "text/plain": [
       "{'academic': {'rigor of secondary school record': 'unknown',\n",
       "  'class rank': 'very important',\n",
       "  'academic grade point average (gpa)': 'very important',\n",
       "  'recommendations': 'considered',\n",
       "  'standardized test scores': 'considered',\n",
       "  'application essay': 'considered'},\n",
       " 'nonacademic': {'interview': 'not considered',\n",
       "  'extracurricular activities': 'considered',\n",
       "  'talent/ability': 'considered',\n",
       "  'character/personal qualities': 'considered',\n",
       "  'first generation': 'considered',\n",
       "  'alumni/ae relation': 'not considered',\n",
       "  'geographical residence': 'considered',\n",
       "  'state residency': 'considered',\n",
       "  'religious affiliation/commitment': 'unknown',\n",
       "  'volunteer work': 'considered',\n",
       "  'work experience': 'considered',\n",
       "  'level of applicant’s interest': 'not considered'}}"
      ]
     },
     "execution_count": 33,
     "metadata": {},
     "output_type": "execute_result"
    }
   ],
   "source": [
    "#'rigor of secondary school record','religious affiliation/commitment' are splited into two lines so should manually enter data\n",
    "extract_relative_importance(umn_file_path)"
   ]
  },
  {
   "cell_type": "code",
   "execution_count": 47,
   "metadata": {},
   "outputs": [
    {
     "data": {
      "text/plain": [
       "{'academic': {'rigor of secondary school record': 'very important',\n",
       "  'class rank': 'not considered',\n",
       "  'academic grade point average (gpa)': 'very important',\n",
       "  'recommendations': 'very important',\n",
       "  'standardized test scores': 'important',\n",
       "  'application essay': 'very important'},\n",
       " 'nonacademic': {'interview': 'not considered',\n",
       "  'extracurricular activities': 'unknown',\n",
       "  'talent/ability': 'considered',\n",
       "  'character/personal qualities': 'very important',\n",
       "  'first generation': 'considered',\n",
       "  'alumni/ae relation': 'not considered',\n",
       "  'geographical residence': 'considered',\n",
       "  'state residency': 'not considered',\n",
       "  'religious affiliation/commitment': 'unknown',\n",
       "  'volunteer work': 'considered',\n",
       "  'work experience': 'considered',\n",
       "  'level of applicant’s interest': 'considered'}}"
      ]
     },
     "execution_count": 47,
     "metadata": {},
     "output_type": "execute_result"
    }
   ],
   "source": [
    "# Typos in 'Extracurriculuar activities','Religious affilitation/commitment'. Should manually enter data.\n",
    "extract_relative_importance(nyu_file_path)"
   ]
  },
  {
   "cell_type": "code",
   "execution_count": 211,
   "metadata": {},
   "outputs": [
    {
     "data": {
      "text/plain": [
       "['c7. relative importance of each of the following academic and nonacademic factors in your first-time, first-',\n",
       " 'year, degree-seeking general (not including programs with specific criteria) admission decisions.',\n",
       " 'not',\n",
       " 'very important important considered',\n",
       " 'considered',\n",
       " 'academic',\n",
       " 'rigor of secondary school record 4',\n",
       " '☐ ☐ ☐ ☐',\n",
       " 'class rank 4',\n",
       " '☐ ☐ ☐ ☐',\n",
       " 'academic gpa 4',\n",
       " '☐ ☐ ☐ ☐',\n",
       " 'standardized test scores 4',\n",
       " '☐ ☐ ☐ ☐',\n",
       " 'application essay 4',\n",
       " '☐ ☐ ☐ ☐',\n",
       " 'recommendation 4',\n",
       " '☐ ☐ ☐ ☐',\n",
       " 'nonacademic',\n",
       " 'interview 4']"
      ]
     },
     "execution_count": 211,
     "metadata": {},
     "output_type": "execute_result"
    }
   ],
   "source": [
    "# Manually enter data - Can't extract check mark\n",
    "# extract_relative_importance(uga_file_path)"
   ]
  },
  {
   "cell_type": "markdown",
   "metadata": {},
   "source": [
    "C6. SAT or ACT"
   ]
  },
  {
   "cell_type": "code",
   "execution_count": 19,
   "metadata": {},
   "outputs": [],
   "source": [
    "def extract_sat_act_scores(file_path):\n",
    "    regex_map = {\n",
    "        \"SAT Composite\": r\"sat.*composite\",\n",
    "        \"SAT EBRW\": r\"sat.*(evidence|ebrw|writing)\",\n",
    "        \"SAT Math\": r\"sat.*math\",\n",
    "        \"ACT Composite\": r\"act.*composite\",\n",
    "        \"ACT Math\": r\"act.*math\",\n",
    "        \"ACT English\": r\"act.*english\",\n",
    "        \"ACT Writing\": r\"act.*writing\",\n",
    "        \"ACT Science\": r\"act.*science\",\n",
    "        \"ACT Reading\": r\"act.*reading\"\n",
    "    }\n",
    "\n",
    "    score_data = {label: {'25th': None, '50th': None, '75th': None} for label in regex_map}\n",
    "\n",
    "    with pdfplumber.open(file_path) as pdf:\n",
    "        for page in pdf.pages:\n",
    "            tables = page.extract_tables()\n",
    "            text = page.extract_text() or \"\"\n",
    "\n",
    "            act_writing_present = \"act writing\" in text.lower()\n",
    "\n",
    "            for table in tables:\n",
    "                 for row in table:\n",
    "                    cleaned_row = [str(cell).lower().strip() if cell else \"\" for cell in row]\n",
    "                    row_label = cleaned_row[0]\n",
    "\n",
    "                    matched_label = None\n",
    "                    for label, pattern in regex_map.items():\n",
    "                        if re.search(pattern, row_label):\n",
    "                            matched_label = label\n",
    "                            break\n",
    "\n",
    "                    if not matched_label and re.fullmatch(r\"writing\", row_label):\n",
    "                        matched_label = \"SAT EBRW\"\n",
    "\n",
    "                    if matched_label:\n",
    "                        numeric_values = [cell for cell in cleaned_row[1:] if cell.replace('.', '', 1).isdigit()]\n",
    "                        for i, key in enumerate(['25th', '50th', '75th']):\n",
    "                            if i < len(numeric_values):\n",
    "                                score_data[matched_label][key] = numeric_values[i]\n",
    "\n",
    "    return score_data"
   ]
  },
  {
   "cell_type": "code",
   "execution_count": 21,
   "metadata": {},
   "outputs": [
    {
     "data": {
      "text/plain": [
       "{'SAT Composite': {'25th': '1370', '50th': '1460', '75th': '1530'},\n",
       " 'SAT EBRW': {'25th': '680', '50th': '720', '75th': '750'},\n",
       " 'SAT Math': {'25th': '690', '50th': '760', '75th': '790'},\n",
       " 'ACT Composite': {'25th': '30', '50th': '33', '75th': '34'},\n",
       " 'ACT Math': {'25th': '29', '50th': '32', '75th': '35'},\n",
       " 'ACT English': {'25th': '31', '50th': '34', '75th': '35'},\n",
       " 'ACT Writing': {'25th': '8', '50th': '8', '75th': '9'},\n",
       " 'ACT Science': {'25th': '29', '50th': '33', '75th': '35'},\n",
       " 'ACT Reading': {'25th': '31', '50th': '34', '75th': '35'}}"
      ]
     },
     "execution_count": 21,
     "metadata": {},
     "output_type": "execute_result"
    }
   ],
   "source": [
    "extract_sat_act_scores(gatech_file_path)"
   ]
  },
  {
   "cell_type": "code",
   "execution_count": 23,
   "metadata": {},
   "outputs": [
    {
     "data": {
      "text/plain": [
       "{'SAT Composite': {'25th': '1328', '50th': '1400', '75th': '1460'},\n",
       " 'SAT EBRW': {'25th': '640', '50th': '680', '75th': '720'},\n",
       " 'SAT Math': {'25th': '670', '50th': '720', '75th': '760'},\n",
       " 'ACT Composite': {'25th': '27', '50th': '29', '75th': '31'},\n",
       " 'ACT Math': {'25th': '25', '50th': '28', '75th': '31'},\n",
       " 'ACT English': {'25th': '25', '50th': '28', '75th': '33'},\n",
       " 'ACT Writing': {'25th': '7', '50th': '8', '75th': '9'},\n",
       " 'ACT Science': {'25th': '25', '50th': '28', '75th': '32'},\n",
       " 'ACT Reading': {'25th': '27', '50th': '31', '75th': '34'}}"
      ]
     },
     "execution_count": 23,
     "metadata": {},
     "output_type": "execute_result"
    }
   ],
   "source": [
    "extract_sat_act_scores(umn_file_path)"
   ]
  },
  {
   "cell_type": "code",
   "execution_count": 24,
   "metadata": {},
   "outputs": [
    {
     "data": {
      "text/plain": [
       "{'SAT Composite': {'25th': None, '50th': None, '75th': None},\n",
       " 'SAT EBRW': {'25th': None, '50th': None, '75th': None},\n",
       " 'SAT Math': {'25th': None, '50th': None, '75th': None},\n",
       " 'ACT Composite': {'25th': None, '50th': None, '75th': None},\n",
       " 'ACT Math': {'25th': None, '50th': None, '75th': None},\n",
       " 'ACT English': {'25th': None, '50th': None, '75th': None},\n",
       " 'ACT Writing': {'25th': None, '50th': None, '75th': None},\n",
       " 'ACT Science': {'25th': None, '50th': None, '75th': None},\n",
       " 'ACT Reading': {'25th': None, '50th': None, '75th': None}}"
      ]
     },
     "execution_count": 24,
     "metadata": {},
     "output_type": "execute_result"
    }
   ],
   "source": [
    "extract_sat_act_scores(nyu_file_path)"
   ]
  },
  {
   "cell_type": "code",
   "execution_count": 25,
   "metadata": {},
   "outputs": [
    {
     "data": {
      "text/plain": [
       "{'SAT Composite': {'25th': '1230', '50th': '1320', '75th': '1410'},\n",
       " 'SAT EBRW': {'25th': '620', '50th': '670', '75th': '710'},\n",
       " 'SAT Math': {'25th': '600', '50th': '660', '75th': '710'},\n",
       " 'ACT Composite': {'25th': '27', '50th': '7', '75th': '3'},\n",
       " 'ACT Math': {'25th': '25', '50th': '28', '75th': '31'},\n",
       " 'ACT English': {'25th': '26', '50th': '31', '75th': '34'},\n",
       " 'ACT Writing': {'25th': None, '50th': None, '75th': None},\n",
       " 'ACT Science': {'25th': '25', '50th': '29', '75th': '32'},\n",
       " 'ACT Reading': {'25th': '28', '50th': '32', '75th': '34'}}"
      ]
     },
     "execution_count": 25,
     "metadata": {},
     "output_type": "execute_result"
    }
   ],
   "source": [
    "extract_sat_act_scores(uga_file_path)"
   ]
  },
  {
   "cell_type": "markdown",
   "metadata": {},
   "source": [
    "C7. GPA"
   ]
  },
  {
   "cell_type": "code",
   "execution_count": 105,
   "metadata": {},
   "outputs": [],
   "source": [
    "def extract_gpa_data(file_path):\n",
    "    gpa_keys = [\n",
    "        \"4.0\", \"3.75-3.99\", \"3.50-3.74\", \"3.25-3.49\", \"3.00-3.24\",\n",
    "        \"2.50-2.99\", \"2.00-2.49\", \"1.00-1.99\", \"<1.0\"\n",
    "    ]\n",
    "    gpa_result = {\n",
    "        \"GPA Ranges\": {key: None for key in gpa_keys},\n",
    "        \"Average GPA\": None\n",
    "    }\n",
    "    \n",
    "    gpa_values = []\n",
    "\n",
    "    with pdfplumber.open(file_path) as pdf:\n",
    "        for page in pdf.pages:\n",
    "            tables = page.extract_tables()\n",
    "\n",
    "            # Check if table is relevant\n",
    "            for table in tables:\n",
    "                table_str = ' '.join(str(cell).lower() for row in table for cell in row if cell)\n",
    "                if \"percent who had gpa\" not in table_str:\n",
    "                    continue  \n",
    "                # Extract GPA Ranges\n",
    "                for row in table:\n",
    "                    if not row or len(row) < 2:\n",
    "                        continue\n",
    "                    row_text = ' '.join(str(cell or '').lower() for cell in row)\n",
    "                    if \"percent who had gpa\" in row_text:\n",
    "                        # Check only the rightmost column\n",
    "                        rightmost = row[-1]\n",
    "                        if rightmost:\n",
    "                            match = re.search(r'\\d{1,3}\\.\\d{1,2}', str(rightmost))\n",
    "                        if match:\n",
    "                            gpa_values.append(clean_float(match.group(0)))\n",
    "\n",
    "            # Extract Average GPA\n",
    "            text = page.extract_text()\n",
    "            if text:\n",
    "                lines = text.split('\\n')\n",
    "                for i, line in enumerate(lines):\n",
    "                    if \"average high school gpa\" in line.lower():\n",
    "            # Search next line if splited into more than a line\n",
    "                        match = re.search(r'(\\d\\.\\d{1,2})', line)\n",
    "                        if not match and i + 1 < len(lines):\n",
    "                            match = re.search(r'(\\d\\.\\d{1,2})', lines[i + 1])\n",
    "                        if match:\n",
    "                            gpa_result[\"Average GPA\"] = clean_float(match.group(1))\n",
    "                            break\n",
    "    # Mapping\n",
    "    for key, value in zip(gpa_keys, gpa_values):\n",
    "        gpa_result[\"GPA Ranges\"][key] = value\n",
    "\n",
    "    return gpa_result"
   ]
  },
  {
   "cell_type": "code",
   "execution_count": 103,
   "metadata": {},
   "outputs": [
    {
     "data": {
      "text/plain": [
       "{'GPA Ranges': {'4.0': 92.54,\n",
       "  '3.75-3.99': 5.26,\n",
       "  '3.50-3.74': 1.13,\n",
       "  '3.25-3.49': 0.33,\n",
       "  '3.00-3.24': 0.25,\n",
       "  '2.50-2.99': 0.43,\n",
       "  '2.00-2.49': 0.06,\n",
       "  '1.00-1.99': 0.0,\n",
       "  '<1.0': 0.0},\n",
       " 'Average GPA': 4.14}"
      ]
     },
     "execution_count": 103,
     "metadata": {},
     "output_type": "execute_result"
    }
   ],
   "source": [
    "extract_gpa_data(gatech_file_path)"
   ]
  },
  {
   "cell_type": "code",
   "execution_count": 107,
   "metadata": {},
   "outputs": [
    {
     "data": {
      "text/plain": [
       "{'GPA Ranges': {'4.0': None,\n",
       "  '3.75-3.99': None,\n",
       "  '3.50-3.74': None,\n",
       "  '3.25-3.49': None,\n",
       "  '3.00-3.24': None,\n",
       "  '2.50-2.99': None,\n",
       "  '2.00-2.49': None,\n",
       "  '1.00-1.99': None,\n",
       "  '<1.0': None},\n",
       " 'Average GPA': None}"
      ]
     },
     "execution_count": 107,
     "metadata": {},
     "output_type": "execute_result"
    }
   ],
   "source": [
    "# Not given\n",
    "extract_gpa_data(umn_file_path)"
   ]
  },
  {
   "cell_type": "code",
   "execution_count": 92,
   "metadata": {},
   "outputs": [
    {
     "data": {
      "text/plain": [
       "{'GPA Ranges': {'4.0': None,\n",
       "  '3.75-3.99': None,\n",
       "  '3.50-3.74': None,\n",
       "  '3.25-3.49': None,\n",
       "  '3.00-3.24': None,\n",
       "  '2.50-2.99': None,\n",
       "  '2.00-2.49': None,\n",
       "  '1.00-1.99': None,\n",
       "  '<1.0': None},\n",
       " 'Average GPA': 3.81}"
      ]
     },
     "execution_count": 92,
     "metadata": {},
     "output_type": "execute_result"
    }
   ],
   "source": [
    "# Manually enter GPA Ranges - Not in a table form\n",
    "extract_gpa_data(nyu_file_path)"
   ]
  },
  {
   "cell_type": "code",
   "execution_count": 93,
   "metadata": {},
   "outputs": [
    {
     "data": {
      "text/plain": [
       "{'GPA Ranges': {'4.0': 81.87,\n",
       "  '3.75-3.99': 15.56,\n",
       "  '3.50-3.74': 1.76,\n",
       "  '3.25-3.49': 0.33,\n",
       "  '3.00-3.24': 0.2,\n",
       "  '2.50-2.99': 0.2,\n",
       "  '2.00-2.49': 0.08,\n",
       "  '1.00-1.99': 0.0,\n",
       "  '<1.0': 0.0},\n",
       " 'Average GPA': 4.14}"
      ]
     },
     "execution_count": 93,
     "metadata": {},
     "output_type": "execute_result"
    }
   ],
   "source": [
    "extract_gpa_data(uga_file_path)"
   ]
  },
  {
   "cell_type": "markdown",
   "metadata": {},
   "source": [
    "C8. Early Decision"
   ]
  },
  {
   "cell_type": "code",
   "execution_count": 107,
   "metadata": {},
   "outputs": [],
   "source": [
    "def extract_section_containing(file_path, keyword):\n",
    "    section_text = \"\"\n",
    "\n",
    "    with pdfplumber.open(file_path) as pdf:\n",
    "        for page in pdf.pages:\n",
    "            text = page.extract_text()\n",
    "            if text and keyword.lower() in text.lower():\n",
    "                section_text += text.lower() + \"\\n\"\n",
    "    return section_text.strip()\n",
    "\n",
    "# Return \"Yes\" or \"No\" based on presence of marks\n",
    "def get_marked_choice(section_text):\n",
    "    if \"☒ no\" in section_text or \"☑ no\" in section_text:\n",
    "        return \"No\"\n",
    "    if \"☒ yes\" in section_text or \"☑ yes\" in section_text:\n",
    "        return \"Yes\"\n",
    "    return None\n",
    "\n",
    "# If 'yes', 'no', and 'x' exist in the section, infer the answer based on proximity of 'x' to either 'yes' or 'no'.\n",
    "def infer_choice_from_x(section_text):\n",
    "    if \"yes\" in section_text and \"no\" in section_text and \"x\" in section_text:\n",
    "        yes_index = section_text.find(\"yes\")\n",
    "        no_index = section_text.find(\"no\")\n",
    "        x_index = section_text.find(\"x\")\n",
    "\n",
    "        if abs(x_index - no_index) < abs(x_index - yes_index):\n",
    "            return \"No\"\n",
    "        else:\n",
    "            return \"Yes\"\n",
    "    return None\n",
    "\n",
    "def extract_early_decision(file_path):\n",
    "    result = {\"Early Decision\": None}\n",
    "    section_text = extract_section_containing(file_path, \"C21\")\n",
    "\n",
    "    if not section_text:\n",
    "        result[\"Early Decision\"] = \"Unknown\"\n",
    "        return result\n",
    "\n",
    "    # Step 1: Check for marked options\n",
    "    marked = get_marked_choice(section_text)\n",
    "    if marked:\n",
    "        result[\"Early Decision\"] = marked\n",
    "        return result\n",
    "\n",
    "   # Step 2: Infer using proximity of 'x' to 'yes' or 'no'\n",
    "    inferred = infer_choice_from_x(section_text)\n",
    "    if inferred:\n",
    "        result[\"Early Decision\"] = inferred\n",
    "        return result\n",
    "\n",
    "    # Step 3: If only 'yes' exists, assume \"Yes\"\n",
    "    if \"yes\" in section_text and \"no\" not in section_text:\n",
    "        result[\"Early Decision\"] = \"Yes\"\n",
    "        return result\n",
    "\n",
    "    # Step 4: No clear answer found\n",
    "    result[\"Early Decision\"] = \"Unknown\"\n",
    "    return result"
   ]
  },
  {
   "cell_type": "code",
   "execution_count": 109,
   "metadata": {},
   "outputs": [
    {
     "data": {
      "text/plain": [
       "{'Early Decision': 'No'}"
      ]
     },
     "execution_count": 109,
     "metadata": {},
     "output_type": "execute_result"
    }
   ],
   "source": [
    "extract_early_decision(gatech_file_path)"
   ]
  },
  {
   "cell_type": "code",
   "execution_count": 110,
   "metadata": {},
   "outputs": [
    {
     "data": {
      "text/plain": [
       "{'Early Decision': 'No'}"
      ]
     },
     "execution_count": 110,
     "metadata": {},
     "output_type": "execute_result"
    }
   ],
   "source": [
    "extract_early_decision(umn_file_path)"
   ]
  },
  {
   "cell_type": "code",
   "execution_count": 111,
   "metadata": {},
   "outputs": [
    {
     "data": {
      "text/plain": [
       "{'Early Decision': 'Yes'}"
      ]
     },
     "execution_count": 111,
     "metadata": {},
     "output_type": "execute_result"
    }
   ],
   "source": [
    "extract_early_decision(nyu_file_path)"
   ]
  },
  {
   "cell_type": "code",
   "execution_count": 102,
   "metadata": {},
   "outputs": [
    {
     "data": {
      "text/plain": [
       "{'Early Decision': 'No'}"
      ]
     },
     "execution_count": 102,
     "metadata": {},
     "output_type": "execute_result"
    }
   ],
   "source": [
    "extract_early_decision(uga_file_path)"
   ]
  },
  {
   "cell_type": "markdown",
   "metadata": {},
   "source": [
    "C9. Superscore"
   ]
  },
  {
   "cell_type": "markdown",
   "metadata": {},
   "source": [
    "C10. SAT/ACT Requirement"
   ]
  },
  {
   "cell_type": "code",
   "execution_count": 153,
   "metadata": {},
   "outputs": [],
   "source": [
    "def classify_requirement(text):\n",
    "    text = text.lower().replace('\\n', ' ')\n",
    "    if \"required to be considered\" in text:\n",
    "        return \"Required\"\n",
    "    elif \"required for some\" in text:\n",
    "        return \"Required for some\"\n",
    "    elif \"recommended\" in text:\n",
    "        return \"Recommended\"\n",
    "    elif \"not required\" in text:\n",
    "        return \"Optional\"\n",
    "    elif \"not considered\" in text:\n",
    "        return \"Not considered\"\n",
    "    return \"Unknown\"\n",
    "\n",
    "# Nyu case\n",
    "def extract_requirement_from_text_lines(text_lines, keyword):\n",
    "    for i, line in enumerate(text_lines):\n",
    "        if keyword.lower() in line.lower():\n",
    "            if i + 1 < len(text_lines):\n",
    "                next_line = text_lines[i + 1].strip()\n",
    "                return classify_requirement(next_line)\n",
    "    return \"Unknown\"\n",
    "\n",
    "# Nyu case : text\n",
    "def extract_from_text(pdf):\n",
    "    labels = {\n",
    "        \"SAT or ACT\": \"SAT and/or ACT\",\n",
    "        \"ACT Only\": \"ACT Only\",\n",
    "        \"SAT Only\": \"SAT Only\"\n",
    "    }\n",
    "    result = {f\"{label} Requirement\": \"Unknown\" for label in labels}\n",
    "\n",
    "    full_text = \"\"\n",
    "    for page in pdf.pages:\n",
    "        text = page.extract_text()\n",
    "        if text:\n",
    "            full_text += \"\\n\" + text\n",
    "\n",
    "    lines = full_text.split(\"\\n\")\n",
    "\n",
    "    for label, keyword in labels.items():\n",
    "        result[f\"{label} Requirement\"] = extract_requirement_from_text_lines(lines, keyword)\n",
    "\n",
    "    return result\n",
    "\n",
    "# Gatech, Umn case : table\n",
    "def extract_from_table(pdf):\n",
    "    labels = [\"SAT or ACT\", \"ACT Only\", \"SAT Only\"]\n",
    "    result = {f\"{label} Requirement\": \"Unknown\" for label in labels}\n",
    "\n",
    "    for page in pdf.pages:\n",
    "        tables = page.extract_tables()\n",
    "        for table in tables:\n",
    "            if not table or len(table) < 2:\n",
    "                continue\n",
    "\n",
    "            table_str = ' '.join(str(cell).lower() for row in table for cell in row if cell)\n",
    "            if \"sat or act\" not in table_str:\n",
    "                continue\n",
    "\n",
    "            headers = [str(cell).strip().lower() if cell else \"\" for cell in table[0]]\n",
    "\n",
    "            for row in table[1:]:\n",
    "                row_cells = [str(cell).strip().lower() if cell else \"\" for cell in row]\n",
    "                for label in labels:\n",
    "                    if label.lower() in row_cells[0]:\n",
    "                        for i in range(1, len(row)):\n",
    "                            if i < len(headers) and is_marked(row[i]):\n",
    "                                category = classify_requirement(headers[i])\n",
    "                                if category:\n",
    "                                    result[f\"{label} Requirement\"] = category\n",
    "                                    break\n",
    "    return result\n",
    "\n",
    "def extract_sat_act_required(file_path):\n",
    "    with pdfplumber.open(file_path) as pdf:\n",
    "        table_result = extract_from_table(pdf)\n",
    "        if all(value == \"Unknown\" for value in table_result.values()):\n",
    "            return extract_from_text(pdf)\n",
    "        return table_result"
   ]
  },
  {
   "cell_type": "code",
   "execution_count": 155,
   "metadata": {},
   "outputs": [
    {
     "data": {
      "text/plain": [
       "{'SAT or ACT Requirement': 'Required',\n",
       " 'ACT Only Requirement': 'Unknown',\n",
       " 'SAT Only Requirement': 'Unknown'}"
      ]
     },
     "execution_count": 155,
     "metadata": {},
     "output_type": "execute_result"
    }
   ],
   "source": [
    "extract_sat_act_required(gatech_file_path)"
   ]
  },
  {
   "cell_type": "code",
   "execution_count": 156,
   "metadata": {},
   "outputs": [
    {
     "data": {
      "text/plain": [
       "{'SAT or ACT Requirement': 'Optional',\n",
       " 'ACT Only Requirement': 'Unknown',\n",
       " 'SAT Only Requirement': 'Unknown'}"
      ]
     },
     "execution_count": 156,
     "metadata": {},
     "output_type": "execute_result"
    }
   ],
   "source": [
    "extract_sat_act_required(umn_file_path)"
   ]
  },
  {
   "cell_type": "code",
   "execution_count": 157,
   "metadata": {},
   "outputs": [
    {
     "data": {
      "text/plain": [
       "{'SAT or ACT Requirement': 'Recommended',\n",
       " 'ACT Only Requirement': 'Optional',\n",
       " 'SAT Only Requirement': 'Optional'}"
      ]
     },
     "execution_count": 157,
     "metadata": {},
     "output_type": "execute_result"
    }
   ],
   "source": [
    "extract_sat_act_required(nyu_file_path)"
   ]
  },
  {
   "cell_type": "code",
   "execution_count": 158,
   "metadata": {},
   "outputs": [
    {
     "data": {
      "text/plain": [
       "{'SAT or ACT Requirement': 'Unknown',\n",
       " 'ACT Only Requirement': 'Unknown',\n",
       " 'SAT Only Requirement': 'Unknown'}"
      ]
     },
     "execution_count": 158,
     "metadata": {},
     "output_type": "execute_result"
    }
   ],
   "source": [
    "# Manually enter SAT/ACT requirements - Not in a table form\n",
    "extract_sat_act_required(uga_file_path)"
   ]
  },
  {
   "cell_type": "markdown",
   "metadata": {},
   "source": [
    "C11. Distribution of high school units required and/or recommended"
   ]
  },
  {
   "cell_type": "code",
   "execution_count": 19,
   "metadata": {},
   "outputs": [],
   "source": [
    "def extract_highschool_units(file_path):\n",
    "    expected_keys = [\n",
    "        \"Total academic units\",\n",
    "        \"English\",\n",
    "        \"Mathematics\",\n",
    "        \"Science\",\n",
    "        \"Of these, units that must be lab\",\n",
    "        \"Foreign language\",\n",
    "        \"Social studies\",\n",
    "        \"History\",\n",
    "        \"Academic electives\",\n",
    "        \"Computer Science\",\n",
    "        \"Visual/Performing Arts\",\n",
    "        \"Other (specify)\"\n",
    "    ]\n",
    "\n",
    "    result = {\n",
    "        key: {\"required\": 0.0, \"recommended\": 0.0} for key in expected_keys\n",
    "    }\n",
    "\n",
    "    def normalize(text):\n",
    "        return re.sub(r'\\s+', ' ', str(text)).strip().lower()\n",
    "\n",
    "    with pdfplumber.open(file_path) as pdf:\n",
    "        for page in pdf.pages:\n",
    "            tables = page.extract_tables()\n",
    "            for table in tables:\n",
    "                found_table = False\n",
    "                for row in table:\n",
    "                    row_text = [normalize(cell) for cell in row if cell]\n",
    "                    if any(\"total academic units\" in cell for cell in row_text):\n",
    "                        found_table = True\n",
    "                        break\n",
    "                if not found_table:\n",
    "                    continue\n",
    "\n",
    "                for row in table:\n",
    "                    cells = clean_row(row)\n",
    "                    if not cells or len(cells) < 1:\n",
    "                        continue\n",
    "                    raw_label = str(cells[0]).strip()\n",
    "                    norm_label = normalize(raw_label)\n",
    "                    if \"distribution of high school units\" in norm_label:\n",
    "                        continue  # skip header\n",
    "                    for expected_key in expected_keys:\n",
    "                        if normalize(expected_key) == norm_label:\n",
    "                            required = clean_float(cells[1]) if len(cells) > 1 else 0.0\n",
    "                            recommended = clean_float(cells[2]) if len(cells) > 2 else 0.0\n",
    "                            result[expected_key] = {\n",
    "                                \"required\": required,\n",
    "                                \"recommended\": recommended\n",
    "                            }\n",
    "                            break\n",
    "    return result"
   ]
  },
  {
   "cell_type": "code",
   "execution_count": 21,
   "metadata": {},
   "outputs": [
    {
     "data": {
      "text/plain": [
       "{'Total academic units': {'required': 17.0, 'recommended': 0.0},\n",
       " 'English': {'required': 4.0, 'recommended': 0.0},\n",
       " 'Mathematics': {'required': 4.0, 'recommended': 0.0},\n",
       " 'Science': {'required': 4.0, 'recommended': 0.0},\n",
       " 'Of these, units that must be lab': {'required': 2.0, 'recommended': 0.0},\n",
       " 'Foreign language': {'required': 2.0, 'recommended': 0.0},\n",
       " 'Social studies': {'required': 3.0, 'recommended': 0.0},\n",
       " 'History': {'required': 0.0, 'recommended': 0.0},\n",
       " 'Academic electives': {'required': 0.0, 'recommended': 0.0},\n",
       " 'Computer Science': {'required': 0.0, 'recommended': 0.0},\n",
       " 'Visual/Performing Arts': {'required': 0.0, 'recommended': 0.0},\n",
       " 'Other (specify)': {'required': 0.0, 'recommended': 0.0}}"
      ]
     },
     "execution_count": 21,
     "metadata": {},
     "output_type": "execute_result"
    }
   ],
   "source": [
    "extract_highschool_units(gatech_file_path)"
   ]
  },
  {
   "cell_type": "code",
   "execution_count": 23,
   "metadata": {},
   "outputs": [
    {
     "data": {
      "text/plain": [
       "{'Total academic units': {'required': 18.0, 'recommended': 19.0},\n",
       " 'English': {'required': 4.0, 'recommended': 4.0},\n",
       " 'Mathematics': {'required': 4.0, 'recommended': 4.0},\n",
       " 'Science': {'required': 3.0, 'recommended': 4.0},\n",
       " 'Of these, units that must be lab': {'required': 1.0, 'recommended': 1.0},\n",
       " 'Foreign language': {'required': 2.0, 'recommended': 2.0},\n",
       " 'Social studies': {'required': 3.0, 'recommended': 3.0},\n",
       " 'History': {'required': 0.0, 'recommended': 0.0},\n",
       " 'Academic electives': {'required': 0.0, 'recommended': 0.0},\n",
       " 'Computer Science': {'required': 0.0, 'recommended': 0.0},\n",
       " 'Visual/Performing Arts': {'required': 1.0, 'recommended': 1.0},\n",
       " 'Other (specify)': {'required': 0.0, 'recommended': 0.0}}"
      ]
     },
     "execution_count": 23,
     "metadata": {},
     "output_type": "execute_result"
    }
   ],
   "source": [
    "extract_highschool_units(umn_file_path)"
   ]
  },
  {
   "cell_type": "code",
   "execution_count": 24,
   "metadata": {},
   "outputs": [
    {
     "data": {
      "text/plain": [
       "{'Total academic units': {'required': 16.0, 'recommended': 20.0},\n",
       " 'English': {'required': 4.0, 'recommended': 4.0},\n",
       " 'Mathematics': {'required': 3.0, 'recommended': 4.0},\n",
       " 'Science': {'required': 3.0, 'recommended': 4.0},\n",
       " 'Of these, units that must be lab': {'required': 0.0, 'recommended': 0.0},\n",
       " 'Foreign language': {'required': 3.0, 'recommended': 4.0},\n",
       " 'Social studies': {'required': 3.0, 'recommended': 4.0},\n",
       " 'History': {'required': 0.0, 'recommended': 0.0},\n",
       " 'Academic electives': {'required': 0.0, 'recommended': 0.0},\n",
       " 'Computer Science': {'required': 0.0, 'recommended': 0.0},\n",
       " 'Visual/Performing Arts': {'required': 0.0, 'recommended': 0.0},\n",
       " 'Other (specify)': {'required': 0.0, 'recommended': 0.0}}"
      ]
     },
     "execution_count": 24,
     "metadata": {},
     "output_type": "execute_result"
    }
   ],
   "source": [
    "extract_highschool_units(nyu_file_path)"
   ]
  },
  {
   "cell_type": "code",
   "execution_count": 25,
   "metadata": {},
   "outputs": [
    {
     "data": {
      "text/plain": [
       "{'Total academic units': {'required': 17.0, 'recommended': 19.0},\n",
       " 'English': {'required': 4.0, 'recommended': 4.0},\n",
       " 'Mathematics': {'required': 4.0, 'recommended': 4.0},\n",
       " 'Science': {'required': 4.0, 'recommended': 4.0},\n",
       " 'Of these, units that must be lab': {'required': 2.0, 'recommended': 2.0},\n",
       " 'Foreign language': {'required': 2.0, 'recommended': 3.0},\n",
       " 'Social studies': {'required': 3.0, 'recommended': 3.0},\n",
       " 'History': {'required': 0.0, 'recommended': 0.0},\n",
       " 'Academic electives': {'required': 1.0, 'recommended': 0.0},\n",
       " 'Computer Science': {'required': 0.0, 'recommended': 0.0},\n",
       " 'Visual/Performing Arts': {'required': 0.0, 'recommended': 0.0},\n",
       " 'Other (specify)': {'required': 0.0, 'recommended': 0.0}}"
      ]
     },
     "execution_count": 25,
     "metadata": {},
     "output_type": "execute_result"
    }
   ],
   "source": [
    "extract_highschool_units(uga_file_path)"
   ]
  },
  {
   "cell_type": "markdown",
   "metadata": {},
   "source": [
    "C12. Control : Private or Public or Proprietary"
   ]
  },
  {
   "cell_type": "code",
   "execution_count": 82,
   "metadata": {},
   "outputs": [],
   "source": [
    "def extract_private_public(file_path):\n",
    "    marks = ['x', '☒', '✓', '✔', '4']\n",
    "    expected_keys = ['public', 'private (nonprofit)', 'proprietary']\n",
    "\n",
    "    section_text = extract_section_by_label(file_path, 'A2')\n",
    "    if not section_text:\n",
    "        return {\"Control\": \"Unknown\"}\n",
    "\n",
    "    # Use first 10 lines only\n",
    "    lines = section_text.lower().splitlines()[:10]\n",
    "    # Uga case : 'a2' printed out twice due to OCR error\n",
    "    a2_count = sum(1 for line in lines if 'a2' in line)\n",
    "\n",
    "    # Gatech, Umn case : marked\n",
    "    for line in lines:\n",
    "        for key in expected_keys:\n",
    "            for mark in marks:\n",
    "                if f\"{mark} {key}\" in line:\n",
    "                    return {\"Control\": key.title()}\n",
    "\n",
    "    # Uga case : OCR error\n",
    "    if a2_count >= 2:\n",
    "        found_keys = []\n",
    "        for key in expected_keys:\n",
    "            if any(key in line for line in lines):\n",
    "                found_keys.append(key)\n",
    "        missing_keys = [k for k in expected_keys if k not in found_keys]\n",
    "        if missing_keys:\n",
    "            return {\"Control\": missing_keys[0].title()}\n",
    "\n",
    "    # Nyu case : text\n",
    "    earliest_index = float('inf')\n",
    "    first_found = None\n",
    "    for key in expected_keys:\n",
    "        for i, line in enumerate(lines):\n",
    "            if key in line and i < earliest_index:\n",
    "                earliest_index = i\n",
    "                first_found = key\n",
    "                break\n",
    "\n",
    "    if first_found:\n",
    "        return {\"Control\": first_found.title()}\n",
    "\n",
    "    return {\"Control\": \"Unknown\"}"
   ]
  },
  {
   "cell_type": "code",
   "execution_count": 84,
   "metadata": {},
   "outputs": [
    {
     "data": {
      "text/plain": [
       "{'Control': 'Public'}"
      ]
     },
     "execution_count": 84,
     "metadata": {},
     "output_type": "execute_result"
    }
   ],
   "source": [
    "extract_private_public(gatech_file_path)"
   ]
  },
  {
   "cell_type": "code",
   "execution_count": 85,
   "metadata": {},
   "outputs": [
    {
     "data": {
      "text/plain": [
       "{'Control': 'Public'}"
      ]
     },
     "execution_count": 85,
     "metadata": {},
     "output_type": "execute_result"
    }
   ],
   "source": [
    "extract_private_public(umn_file_path)"
   ]
  },
  {
   "cell_type": "code",
   "execution_count": 86,
   "metadata": {},
   "outputs": [
    {
     "data": {
      "text/plain": [
       "{'Control': 'Private (Nonprofit)'}"
      ]
     },
     "execution_count": 86,
     "metadata": {},
     "output_type": "execute_result"
    }
   ],
   "source": [
    "extract_private_public(nyu_file_path)"
   ]
  },
  {
   "cell_type": "code",
   "execution_count": 87,
   "metadata": {},
   "outputs": [
    {
     "data": {
      "text/plain": [
       "{'Control': 'Public'}"
      ]
     },
     "execution_count": 87,
     "metadata": {},
     "output_type": "execute_result"
    }
   ],
   "source": [
    "extract_private_public(uga_file_path)"
   ]
  },
  {
   "cell_type": "markdown",
   "metadata": {},
   "source": [
    "C13. State"
   ]
  },
  {
   "cell_type": "code",
   "execution_count": 100,
   "metadata": {},
   "outputs": [],
   "source": [
    "def extract_state(file_path):\n",
    "    state_name_to_abbr = {\n",
    "        'Alabama': 'AL', 'Alaska': 'AK', 'Arizona': 'AZ', 'Arkansas': 'AR',\n",
    "        'California': 'CA', 'Colorado': 'CO', 'Connecticut': 'CT', 'Delaware': 'DE',\n",
    "        'Florida': 'FL', 'Georgia': 'GA', 'Hawaii': 'HI', 'Idaho': 'ID',\n",
    "        'Illinois': 'IL', 'Indiana': 'IN', 'Iowa': 'IA', 'Kansas': 'KS',\n",
    "        'Kentucky': 'KY', 'Louisiana': 'LA', 'Maine': 'ME', 'Maryland': 'MD',\n",
    "        'Massachusetts': 'MA', 'Michigan': 'MI', 'Minnesota': 'MN',\n",
    "        'Mississippi': 'MS', 'Missouri': 'MO', 'Montana': 'MT', 'Nebraska': 'NE',\n",
    "        'Nevada': 'NV', 'New Hampshire': 'NH', 'New Jersey': 'NJ',\n",
    "        'New Mexico': 'NM', 'New York': 'NY', 'North Carolina': 'NC',\n",
    "        'North Dakota': 'ND', 'Ohio': 'OH', 'Oklahoma': 'OK', 'Oregon': 'OR',\n",
    "        'Pennsylvania': 'PA', 'Rhode Island': 'RI', 'South Carolina': 'SC',\n",
    "        'South Dakota': 'SD', 'Tennessee': 'TN', 'Texas': 'TX', 'Utah': 'UT',\n",
    "        'Vermont': 'VT', 'Virginia': 'VA', 'Washington': 'WA',\n",
    "        'West Virginia': 'WV', 'Wisconsin': 'WI', 'Wyoming': 'WY'\n",
    "    }\n",
    "\n",
    "    section_text = extract_section_by_label(file_path, 'A1')\n",
    "    if not section_text:\n",
    "        return {\"State\": \"Unknown\"}\n",
    "\n",
    "    lines = section_text.lower().splitlines()[:20]\n",
    "\n",
    "    for line in lines:\n",
    "        if 'state' in line:\n",
    "            # Full state name\n",
    "            for state, abbr in state_name_to_abbr.items():\n",
    "                if state.lower() in line:\n",
    "                    return {\"State\": abbr}\n",
    "            # Abbreviation state name \n",
    "            for abbr in state_name_to_abbr.values():\n",
    "                if f' {abbr.lower()} ' in f' {line} ':\n",
    "                    return {\"State\": abbr}\n",
    "\n",
    "    return {\"State\": \"Unknown\"}"
   ]
  },
  {
   "cell_type": "code",
   "execution_count": 102,
   "metadata": {},
   "outputs": [
    {
     "data": {
      "text/plain": [
       "{'State': 'GA'}"
      ]
     },
     "execution_count": 102,
     "metadata": {},
     "output_type": "execute_result"
    }
   ],
   "source": [
    "extract_state(gatech_file_path)"
   ]
  },
  {
   "cell_type": "code",
   "execution_count": 103,
   "metadata": {},
   "outputs": [
    {
     "data": {
      "text/plain": [
       "{'State': 'MN'}"
      ]
     },
     "execution_count": 103,
     "metadata": {},
     "output_type": "execute_result"
    }
   ],
   "source": [
    "extract_state(umn_file_path)"
   ]
  },
  {
   "cell_type": "code",
   "execution_count": 104,
   "metadata": {},
   "outputs": [
    {
     "data": {
      "text/plain": [
       "{'State': 'NY'}"
      ]
     },
     "execution_count": 104,
     "metadata": {},
     "output_type": "execute_result"
    }
   ],
   "source": [
    "extract_state(nyu_file_path)"
   ]
  },
  {
   "cell_type": "code",
   "execution_count": 105,
   "metadata": {},
   "outputs": [
    {
     "data": {
      "text/plain": [
       "{'State': 'GA'}"
      ]
     },
     "execution_count": 105,
     "metadata": {},
     "output_type": "execute_result"
    }
   ],
   "source": [
    "extract_state(uga_file_path)"
   ]
  }
 ],
 "metadata": {
  "kernelspec": {
   "display_name": "Python (Fix)",
   "language": "python",
   "name": "jupyter-fix"
  },
  "language_info": {
   "codemirror_mode": {
    "name": "ipython",
    "version": 3
   },
   "file_extension": ".py",
   "mimetype": "text/x-python",
   "name": "python",
   "nbconvert_exporter": "python",
   "pygments_lexer": "ipython3",
   "version": "3.10.16"
  }
 },
 "nbformat": 4,
 "nbformat_minor": 4
}
