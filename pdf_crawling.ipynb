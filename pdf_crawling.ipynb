{
 "cells": [
  {
   "cell_type": "code",
   "execution_count": 2,
   "metadata": {},
   "outputs": [],
   "source": [
    "import pdfplumber\n",
    "import re"
   ]
  },
  {
   "cell_type": "code",
   "execution_count": 8,
   "metadata": {},
   "outputs": [
    {
     "name": "stdout",
     "output_type": "stream",
     "text": [
      "[Page 7] 지원자 - 남: 40,022명, 여: 19,765명\n",
      "[Page 7] 합격자 - 남: 4,634명, 여: 3,779명\n",
      "------\n"
     ]
    }
   ],
   "source": [
    "results = []\n",
    "\n",
    "with pdfplumber.open(r\"pdf\\gatech.pdf\") as pdf:\n",
    "    for i, page in enumerate(pdf.pages):\n",
    "        text = page.extract_text()\n",
    "\n",
    "        if text:\n",
    "            applicants = re.findall(r'Total first-time, first-year men who applied\\s+([\\d,]+)', text)\n",
    "            women = re.findall(r'Total first-time, first-year women who applied\\s+([\\d,]+)', text)\n",
    "            admits_men = re.findall(r'Total first-time, first-year men who were admitted\\s+([\\d,]+)', text)\n",
    "            admits_women = re.findall(r'Total first-time, first-year women who were admitted\\s+([\\d,]+)', text)\n",
    "\n",
    "            if applicants and women and admits_men and admits_women:\n",
    "                results.append({\n",
    "                    'page': i + 1,  # 사람용 페이지 번호\n",
    "                    '지원자_남': applicants[0],\n",
    "                    '지원자_여': women[0],\n",
    "                    '합격자_남': admits_men[0],\n",
    "                    '합격자_여': admits_women[0]\n",
    "                })\n",
    "\n",
    "for r in results:\n",
    "    print(f\"[Page {r['page']}] 지원자 - 남: {r['지원자_남']}명, 여: {r['지원자_여']}명\")\n",
    "    print(f\"[Page {r['page']}] 합격자 - 남: {r['합격자_남']}명, 여: {r['합격자_여']}명\")\n",
    "    print(\"------\")"
   ]
  },
  {
   "cell_type": "code",
   "execution_count": null,
   "metadata": {},
   "outputs": [],
   "source": []
  }
 ],
 "metadata": {
  "kernelspec": {
   "display_name": "base",
   "language": "python",
   "name": "python3"
  },
  "language_info": {
   "codemirror_mode": {
    "name": "ipython",
    "version": 3
   },
   "file_extension": ".py",
   "mimetype": "text/x-python",
   "name": "python",
   "nbconvert_exporter": "python",
   "pygments_lexer": "ipython3",
   "version": "3.11.5"
  }
 },
 "nbformat": 4,
 "nbformat_minor": 2
}
