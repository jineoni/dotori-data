{
 "cells": [
  {
   "cell_type": "code",
   "execution_count": 4,
   "metadata": {},
   "outputs": [],
   "source": [
    "import os # Used for creating folders and reading files\n",
    "import re # Used for regular expressions\n",
    "import pdfplumber # Used for extracting text from PDF files\n",
    "import pandas as pd"
   ]
  },
  {
   "cell_type": "code",
   "execution_count": 5,
   "metadata": {},
   "outputs": [],
   "source": [
    "# Set input and output folder paths\n",
    "\n",
    "input_folder = 'pdf'\n",
    "output_folder = 'output'"
   ]
  },
  {
   "cell_type": "code",
   "execution_count": 6,
   "metadata": {},
   "outputs": [],
   "source": [
    "# Remove None and empty string from row\n",
    "\n",
    "def clean_row(row):\n",
    "    return [cell for cell in row if cell not in [None, '']]"
   ]
  },
  {
   "cell_type": "code",
   "execution_count": 7,
   "metadata": {},
   "outputs": [],
   "source": [
    "# Extract only numbers from the cell\n",
    "\n",
    "def clean_number(cell):\n",
    "    cell = re.sub(r'[^\\d]', '', str(cell)) # Remove all non-numeric characters\n",
    "    return int(cell) if cell else 0"
   ]
  },
  {
   "cell_type": "markdown",
   "metadata": {},
   "source": [
    "### Gender"
   ]
  },
  {
   "cell_type": "code",
   "execution_count": null,
   "metadata": {},
   "outputs": [],
   "source": [
    "def extract_gender_data(file_path):\n",
    "    result = {'applicants': {'men': 0, 'women': 0, 'others': 0},\n",
    "              'admitted': {'men': 0, 'women': 0, 'others': 0}}\n",
    "    \n",
    "    gender_keywords = ['men', 'women', 'another gender', 'unknown gender']\n",
    "    first_keywords = ['first-time', 'first-year']\n",
    "\n",
    "    with pdfplumber.open(file_path) as pdf:\n",
    "        for page in pdf.pages:\n",
    "            tables = page.extract_tables()\n",
    "\n",
    "            for table in tables:\n",
    "                \n",
    "                # Check if this table is gender-related\n",
    "                table_str = ' '.join([' '.join([str(cell or '') for cell in row]).lower() for row in table])\n",
    "\n",
    "                # Skip non-gender table\n",
    "                if not (any(keyword in table_str for keyword in gender_keywords) and all(keyword in table_str for keyword in first_keywords)):\n",
    "                    continue  \n",
    "                \n",
    "                # Loop through data rows\n",
    "                for row_idx, row in enumerate(table): # row_index: row number, row: list of values\n",
    "                    row = clean_row(row)\n",
    "                    row_str = ' '.join([str(cell or '') for cell in row]).lower()\n",
    "\n",
    "                    # Determine target group\n",
    "                    if 'applied' in row_str:\n",
    "                        target = 'applicants'\n",
    "                    elif 'admitted' in row_str:\n",
    "                        target = 'admitted'\n",
    "                    else:\n",
    "                        continue\n",
    "\n",
    "                    # Extract numbers\n",
    "                    if len(row) > 2: # Column-based structure\n",
    "                        # Assume that men, women, and others are always located in the first, second, and third columns respectively\n",
    "                        result[target]['men'] += clean_number(row[0])\n",
    "                        result[target]['women'] += clean_number(row[1])\n",
    "                        result[target]['others'] += clean_number(row[2])\n",
    "                    else: # Row-based structure\n",
    "                        if 'men' in row_str and 'women' not in row_str:\n",
    "                            result[target]['men'] += clean_number(row[-1])\n",
    "                        elif 'women' in row_str:\n",
    "                            result[target]['women'] += clean_number(row[-1])\n",
    "                        elif 'another gender' in row_str or 'unknown gender' in row_str:\n",
    "                            result[target]['others'] += clean_number(row[-1])\n",
    "                            \n",
    "    return result"
   ]
  },
  {
   "cell_type": "code",
   "execution_count": 203,
   "metadata": {},
   "outputs": [
    {
     "data": {
      "text/plain": [
       "{'applicants': {'men': 40022, 'women': 19765, 'others': 2},\n",
       " 'admitted': {'men': 4634, 'women': 3779, 'others': 0}}"
      ]
     },
     "execution_count": 203,
     "metadata": {},
     "output_type": "execute_result"
    }
   ],
   "source": [
    "file_path = os.path.join(input_folder, 'gatech.pdf')\n",
    "data = extract_gender_data(file_path)\n",
    "data"
   ]
  },
  {
   "cell_type": "code",
   "execution_count": 204,
   "metadata": {},
   "outputs": [
    {
     "data": {
      "text/plain": [
       "{'applicants': {'men': 18901, 'women': 20862, 'others': 0},\n",
       " 'admitted': {'men': 14427, 'women': 16218, 'others': 0}}"
      ]
     },
     "execution_count": 204,
     "metadata": {},
     "output_type": "execute_result"
    }
   ],
   "source": [
    "file_path = os.path.join(input_folder, 'umn.pdf')\n",
    "data = extract_gender_data(file_path)\n",
    "data"
   ]
  },
  {
   "cell_type": "code",
   "execution_count": 205,
   "metadata": {},
   "outputs": [
    {
     "data": {
      "text/plain": [
       "{'applicants': {'men': 18211, 'women': 25191, 'others': 14},\n",
       " 'admitted': {'men': 6260, 'women': 9882, 'others': 6}}"
      ]
     },
     "execution_count": 205,
     "metadata": {},
     "output_type": "execute_result"
    }
   ],
   "source": [
    "file_path = os.path.join(input_folder, 'uga.pdf')\n",
    "data = extract_gender_data(file_path)\n",
    "data"
   ]
  },
  {
   "cell_type": "markdown",
   "metadata": {},
   "source": [
    "### Residency"
   ]
  },
  {
   "cell_type": "code",
   "execution_count": null,
   "metadata": {},
   "outputs": [],
   "source": [
    "def extract_residency_data(file_path):\n",
    "    result = {'applicants': {'in_state': 0, 'out_of_state': 0, 'international': 0, 'others': 0},\n",
    "        'admitted': {'in_state': 0, 'out_of_state': 0, 'international': 0, 'others': 0}}\n",
    "\n",
    "    residency_keywords = ['in-state', 'out-of-state', 'international']\n",
    "    first_keywords = ['first-time', 'first-year']\n",
    "\n",
    "    with pdfplumber.open(file_path) as pdf:\n",
    "        for page in pdf.pages:\n",
    "            tables = page.extract_tables()\n",
    "\n",
    "            for table in tables:\n",
    "                \n",
    "                # Check if this table is residency-related\n",
    "                table_str = ' '.join([' '.join([str(cell or '') for cell in row]).lower() for row in table])\n",
    "\n",
    "                # Skip non-residency table\n",
    "                if not (any(keyword in table_str for keyword in residency_keywords) and all(keyword in table_str for keyword in first_keywords)):\n",
    "                    continue \n",
    "                \n",
    "                # Extract header row\n",
    "                header_row = clean_row([str(cell or '').lower() for cell in table[0]])\n",
    "\n",
    "                # Find index of each column\n",
    "                col_idx = {'in_state': -1, 'out_of_state': -1, 'international': -1, 'others': -1}\n",
    "\n",
    "                for idx, col in enumerate(header_row):\n",
    "                    if 'in-' in col:\n",
    "                        col_idx['in_state'] = idx\n",
    "                    elif 'out-' in col:\n",
    "                        col_idx['out_of_state'] = idx\n",
    "                    elif 'inter' in col:\n",
    "                        col_idx['international'] = idx\n",
    "                    elif 'unk' in col:\n",
    "                        col_idx['others'] = idx\n",
    "\n",
    "                # Loop through data rows\n",
    "                for row in table[1:]:  # skip header\n",
    "                    row = clean_row(row)\n",
    "                    row_str = ' '.join([str(cell or '') for cell in row]).lower()\n",
    "\n",
    "                    # Determine target group\n",
    "                    if 'applied' in row_str:\n",
    "                        target = 'applicants'\n",
    "                    elif 'admitted' in row_str:\n",
    "                        target = 'admitted'\n",
    "                    else:\n",
    "                        continue\n",
    "                    \n",
    "                    # Extract numbers\n",
    "                    if col_idx['in_state'] != -1:\n",
    "                        result[target]['in_state'] += clean_number(row[col_idx['in_state']])\n",
    "                    if col_idx['out_of_state'] != -1:\n",
    "                        result[target]['out_of_state'] += clean_number(row[col_idx['out_of_state']])\n",
    "                    if col_idx['international'] != -1:\n",
    "                        result[target]['international'] += clean_number(row[col_idx['international']])\n",
    "                    if col_idx['others'] != -1:\n",
    "                        result[target]['others'] += clean_number(row[col_idx['others']])\n",
    "\n",
    "    return result\n"
   ]
  },
  {
   "cell_type": "code",
   "execution_count": 41,
   "metadata": {},
   "outputs": [
    {
     "data": {
      "text/plain": [
       "{'applicants': {'in_state': 10674,\n",
       "  'out_of_state': 38320,\n",
       "  'international': 10795,\n",
       "  'others': 0},\n",
       " 'admitted': {'in_state': 3536,\n",
       "  'out_of_state': 3992,\n",
       "  'international': 885,\n",
       "  'others': 0}}"
      ]
     },
     "execution_count": 41,
     "metadata": {},
     "output_type": "execute_result"
    }
   ],
   "source": [
    "file_path = os.path.join(input_folder, 'gatech.pdf')\n",
    "data = extract_residency_data(file_path)\n",
    "data"
   ]
  },
  {
   "cell_type": "code",
   "execution_count": 42,
   "metadata": {},
   "outputs": [
    {
     "data": {
      "text/plain": [
       "{'applicants': {'in_state': 13982,\n",
       "  'out_of_state': 19461,\n",
       "  'international': 1256,\n",
       "  'others': 0},\n",
       " 'admitted': {'in_state': 10498,\n",
       "  'out_of_state': 15400,\n",
       "  'international': 982,\n",
       "  'others': 0}}"
      ]
     },
     "execution_count": 42,
     "metadata": {},
     "output_type": "execute_result"
    }
   ],
   "source": [
    "file_path = os.path.join(input_folder, 'umn.pdf')\n",
    "data = extract_residency_data(file_path)\n",
    "data"
   ]
  },
  {
   "cell_type": "code",
   "execution_count": 44,
   "metadata": {},
   "outputs": [
    {
     "data": {
      "text/plain": [
       "{'applicants': {'in_state': 18210,\n",
       "  'out_of_state': 23867,\n",
       "  'international': 1338,\n",
       "  'others': 1},\n",
       " 'admitted': {'in_state': 9149,\n",
       "  'out_of_state': 6709,\n",
       "  'international': 289,\n",
       "  'others': 1}}"
      ]
     },
     "execution_count": 44,
     "metadata": {},
     "output_type": "execute_result"
    }
   ],
   "source": [
    "file_path = os.path.join(input_folder, 'uga.pdf')\n",
    "data = extract_residency_data(file_path)\n",
    "data"
   ]
  },
  {
   "cell_type": "code",
   "execution_count": 26,
   "metadata": {},
   "outputs": [
    {
     "ename": "TypeError",
     "evalue": "sequence item 2: expected str instance, NoneType found",
     "output_type": "error",
     "traceback": [
      "\u001b[1;31m---------------------------------------------------------------------------\u001b[0m",
      "\u001b[1;31mTypeError\u001b[0m                                 Traceback (most recent call last)",
      "Cell \u001b[1;32mIn[26], line 5\u001b[0m\n\u001b[0;32m      3\u001b[0m \u001b[38;5;28;01mif\u001b[39;00m filename\u001b[38;5;241m.\u001b[39mendswith(\u001b[38;5;124m'\u001b[39m\u001b[38;5;124m.pdf\u001b[39m\u001b[38;5;124m'\u001b[39m):  \u001b[38;5;66;03m# pdf 파일만 처리\u001b[39;00m\n\u001b[0;32m      4\u001b[0m     file_path \u001b[38;5;241m=\u001b[39m os\u001b[38;5;241m.\u001b[39mpath\u001b[38;5;241m.\u001b[39mjoin(input_folder, filename)  \u001b[38;5;66;03m# 경로 생성\u001b[39;00m\n\u001b[1;32m----> 5\u001b[0m     data \u001b[38;5;241m=\u001b[39m \u001b[43mextract_data_from_pdf\u001b[49m\u001b[43m(\u001b[49m\u001b[43mfile_path\u001b[49m\u001b[43m)\u001b[49m           \u001b[38;5;66;03m# pdf 1개 처리 결과\u001b[39;00m\n\u001b[0;32m      6\u001b[0m     \u001b[38;5;28mprint\u001b[39m(data)\n",
      "Cell \u001b[1;32mIn[8], line 39\u001b[0m, in \u001b[0;36mextract_data_from_pdf\u001b[1;34m(file_path)\u001b[0m\n\u001b[0;32m     37\u001b[0m \u001b[38;5;28;01mfor\u001b[39;00m table \u001b[38;5;129;01min\u001b[39;00m tables:\n\u001b[0;32m     38\u001b[0m     \u001b[38;5;28;01mfor\u001b[39;00m row \u001b[38;5;129;01min\u001b[39;00m table:\n\u001b[1;32m---> 39\u001b[0m         row_str \u001b[38;5;241m=\u001b[39m \u001b[38;5;124m'\u001b[39m\u001b[38;5;124m \u001b[39m\u001b[38;5;124m'\u001b[39m\u001b[38;5;241m.\u001b[39mjoin(row)\u001b[38;5;241m.\u001b[39mlower()\n\u001b[0;32m     41\u001b[0m         \u001b[38;5;66;03m# full-time 학부생 처리\u001b[39;00m\n\u001b[0;32m     42\u001b[0m         \u001b[38;5;28;01mif\u001b[39;00m \u001b[38;5;124m'\u001b[39m\u001b[38;5;124mtotal undergraduate full-time students\u001b[39m\u001b[38;5;124m'\u001b[39m \u001b[38;5;129;01min\u001b[39;00m row_str \u001b[38;5;129;01mor\u001b[39;00m \u001b[38;5;124m'\u001b[39m\u001b[38;5;124mtotal undergraduate students\u001b[39m\u001b[38;5;124m'\u001b[39m \u001b[38;5;129;01min\u001b[39;00m row_str:\n",
      "\u001b[1;31mTypeError\u001b[0m: sequence item 2: expected str instance, NoneType found"
     ]
    }
   ],
   "source": [
    "# input 폴더 안에 있는 모든 pdf 파일 가져와서 처리\n",
    "for filename in os.listdir(input_folder):\n",
    "    if filename.endswith('.pdf'):  # pdf 파일만 처리\n",
    "        file_path = os.path.join(input_folder, filename)  # 경로 생성\n",
    "        data = extract_data_from_pdf(file_path)           # pdf 1개 처리 결과\n",
    "        print(data)"
   ]
  },
  {
   "cell_type": "code",
   "execution_count": null,
   "metadata": {},
   "outputs": [],
   "source": [
    "\n"
   ]
  }
 ],
 "metadata": {
  "kernelspec": {
   "display_name": "base",
   "language": "python",
   "name": "python3"
  },
  "language_info": {
   "codemirror_mode": {
    "name": "ipython",
    "version": 3
   },
   "file_extension": ".py",
   "mimetype": "text/x-python",
   "name": "python",
   "nbconvert_exporter": "python",
   "pygments_lexer": "ipython3",
   "version": "3.11.5"
  }
 },
 "nbformat": 4,
 "nbformat_minor": 2
}
