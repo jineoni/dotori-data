{
 "cells": [
  {
   "cell_type": "code",
   "execution_count": null,
   "metadata": {},
   "outputs": [],
   "source": [
    "import os # 폴더 만들고 파일 읽어올 때 사용\n",
    "import re # 정규표현식\n",
    "import pdfplumber # pdf에서 텍스트 추출\n",
    "import pandas as pd"
   ]
  },
  {
   "cell_type": "code",
   "execution_count": 10,
   "metadata": {},
   "outputs": [],
   "source": [
    "# input/output 폴더 세팅\n",
    "input_folder = 'pdf'\n",
    "output_folder = 'output'"
   ]
  },
  {
   "cell_type": "code",
   "execution_count": 41,
   "metadata": {},
   "outputs": [],
   "source": [
    "# 숫자 데이터 깔끔하게 변환하는 함수\n",
    "def clean_number(text):\n",
    "    try:\n",
    "        return int(text.replace(',', '').strip())\n",
    "    except:\n",
    "        return 0"
   ]
  },
  {
   "cell_type": "code",
   "execution_count": 42,
   "metadata": {},
   "outputs": [],
   "source": [
    "# 숫자만 추출하는 함수\n",
    "def extract_number(pattern, text):\n",
    "    match = re.findall(pattern, text, re.IGNORECASE)\n",
    "    return int(match[0].replace(',', '')) if match else 0"
   ]
  },
  {
   "cell_type": "code",
   "execution_count": 55,
   "metadata": {},
   "outputs": [],
   "source": [
    "def find_number(row):\n",
    "    for cell in reversed(row):\n",
    "        if cell and re.search(r'\\d', str(cell)):\n",
    "            return clean_number(cell)\n",
    "    return 0"
   ]
  },
  {
   "cell_type": "code",
   "execution_count": 81,
   "metadata": {},
   "outputs": [],
   "source": [
    "def extract_gender_data(file_path):\n",
    "    result = {'지원자': {'남':0, '여':0, '기타':0},\n",
    "              '합격자': {'남':0, '여':0, '기타':0}}\n",
    "\n",
    "    with pdfplumber.open(file_path) as pdf:\n",
    "        for page in pdf.pages:\n",
    "            tables = page.extract_tables()\n",
    "\n",
    "            for table in tables:\n",
    "                for row in table:\n",
    "                    row_str = ' '.join([str(cell or '') for cell in row]).lower()\n",
    "\n",
    "                    if 'who applied' in row_str:\n",
    "                        target = '지원자'\n",
    "                    elif 'who were admitted' in row_str:\n",
    "                        target = '합격자'\n",
    "                    else:\n",
    "                        continue\n",
    "\n",
    "                    if 'men' in row_str and 'women' not in row_str:\n",
    "                        result[target]['남'] += find_number(row)\n",
    "                    elif 'women' in row_str:\n",
    "                        result[target]['여'] += find_number(row)\n",
    "                    elif 'another gender' in row_str or 'unknown gender' in row_str:\n",
    "                        result[target]['기타'] += find_number(row)\n",
    "\n",
    "    return [{'구분': '지원자', '남': result['지원자']['남'], '여': result['지원자']['여'], '기타': result['지원자']['기타']},\n",
    "            {'구분': '합격자', '남': result['합격자']['남'], '여': result['합격자']['여'], '기타': result['합격자']['기타']}]\n"
   ]
  },
  {
   "cell_type": "code",
   "execution_count": 78,
   "metadata": {},
   "outputs": [],
   "source": [
    "def extract_gender_data(file_path):\n",
    "    result = {'지원자': {'남': 0, '여': 0, '기타': 0},\n",
    "              '합격자': {'남': 0, '여': 0, '기타': 0}}\n",
    "\n",
    "    gender_cols = {}  # {'남': idx, '여': idx, '기타': idx}\n",
    "\n",
    "    with pdfplumber.open(file_path) as pdf:\n",
    "        for page in pdf.pages:\n",
    "            tables = page.extract_tables()\n",
    "\n",
    "            for table in tables:\n",
    "                for row in table:\n",
    "                    # row 를 string 으로\n",
    "                    row_str = ' '.join([str(cell or '') for cell in row]).lower()\n",
    "\n",
    "                    # 열 이름 탐색 (NYU style)\n",
    "                    if 'men' in row_str and 'women' in row_str:\n",
    "                        for idx, cell in enumerate(row):\n",
    "                            cell = (cell or '').lower()\n",
    "                            if 'men' in cell:\n",
    "                                gender_cols['남'] = idx\n",
    "                            if 'women' in cell:\n",
    "                                gender_cols['여'] = idx\n",
    "                            if 'another gender' in cell or 'unknown gender' in cell:\n",
    "                                gender_cols['기타'] = idx\n",
    "                        continue  # 이 row는 header row라 패스\n",
    "\n",
    "                    # 지원자/합격자 구분\n",
    "                    if 'who applied' in row_str:\n",
    "                        target = '지원자'\n",
    "                    elif 'who were admitted' in row_str:\n",
    "                        target = '합격자'\n",
    "                    else:\n",
    "                        continue\n",
    "\n",
    "                    if gender_cols and max(gender_cols.values()) < len(row):\n",
    "                     # NYU 스타일 처리\n",
    "                        result[target]['남'] += clean_number(row[gender_cols.get('남', -1)])\n",
    "                        result[target]['여'] += clean_number(row[gender_cols.get('여', -1)])\n",
    "                        result[target]['기타'] += clean_number(row[gender_cols.get('기타', -1)])\n",
    "                    else:\n",
    "                        # Gatech / UMN 스타일 처리\n",
    "                        if 'men' in row_str and 'women' not in row_str:\n",
    "                            result[target]['남'] += find_number(row)\n",
    "                        if 'women' in row_str:\n",
    "                            result[target]['여'] += find_number(row)\n",
    "                        if 'another gender' in row_str or 'unknown gender' in row_str:\n",
    "                            result[target]['기타'] += find_number(row)\n",
    "\n",
    "\n",
    "    return [{'구분': '지원자', '남': result['지원자']['남'], '여': result['지원자']['여'], '기타': result['지원자']['기타']},\n",
    "            {'구분': '합격자', '남': result['합격자']['남'], '여': result['합격자']['여'], '기타': result['합격자']['기타']}]\n"
   ]
  },
  {
   "cell_type": "code",
   "execution_count": 82,
   "metadata": {},
   "outputs": [],
   "source": [
    "file_path = os.path.join(input_folder, 'gatech.pdf')\n",
    "data = extract_gender_data(file_path)"
   ]
  },
  {
   "cell_type": "code",
   "execution_count": 83,
   "metadata": {},
   "outputs": [
    {
     "data": {
      "text/plain": [
       "[{'구분': '지원자', '남': 40022, '여': 19765, '기타': 2},\n",
       " {'구분': '합격자', '남': 4634, '여': 3779, '기타': 0}]"
      ]
     },
     "execution_count": 83,
     "metadata": {},
     "output_type": "execute_result"
    }
   ],
   "source": [
    "data"
   ]
  },
  {
   "cell_type": "code",
   "execution_count": 84,
   "metadata": {},
   "outputs": [],
   "source": [
    "file_path = os.path.join(input_folder, 'umn.pdf')\n",
    "data = extract_gender_data(file_path)"
   ]
  },
  {
   "cell_type": "code",
   "execution_count": 85,
   "metadata": {},
   "outputs": [
    {
     "data": {
      "text/plain": [
       "[{'구분': '지원자', '남': 18901, '여': 20862, '기타': 0},\n",
       " {'구분': '합격자', '남': 14427, '여': 16218, '기타': 0}]"
      ]
     },
     "execution_count": 85,
     "metadata": {},
     "output_type": "execute_result"
    }
   ],
   "source": [
    "data"
   ]
  },
  {
   "cell_type": "code",
   "execution_count": 76,
   "metadata": {},
   "outputs": [],
   "source": [
    "file_path = os.path.join(input_folder, 'nyu.pdf')\n",
    "data = extract_gender_data(file_path)"
   ]
  },
  {
   "cell_type": "code",
   "execution_count": 77,
   "metadata": {},
   "outputs": [
    {
     "data": {
      "text/plain": [
       "[{'구분': '지원자', '남': 0, '여': 0, '기타': 0},\n",
       " {'구분': '합격자', '남': 0, '여': 0, '기타': 0}]"
      ]
     },
     "execution_count": 77,
     "metadata": {},
     "output_type": "execute_result"
    }
   ],
   "source": [
    "data"
   ]
  },
  {
   "cell_type": "code",
   "execution_count": 26,
   "metadata": {},
   "outputs": [
    {
     "ename": "TypeError",
     "evalue": "sequence item 2: expected str instance, NoneType found",
     "output_type": "error",
     "traceback": [
      "\u001b[1;31m---------------------------------------------------------------------------\u001b[0m",
      "\u001b[1;31mTypeError\u001b[0m                                 Traceback (most recent call last)",
      "Cell \u001b[1;32mIn[26], line 5\u001b[0m\n\u001b[0;32m      3\u001b[0m \u001b[38;5;28;01mif\u001b[39;00m filename\u001b[38;5;241m.\u001b[39mendswith(\u001b[38;5;124m'\u001b[39m\u001b[38;5;124m.pdf\u001b[39m\u001b[38;5;124m'\u001b[39m):  \u001b[38;5;66;03m# pdf 파일만 처리\u001b[39;00m\n\u001b[0;32m      4\u001b[0m     file_path \u001b[38;5;241m=\u001b[39m os\u001b[38;5;241m.\u001b[39mpath\u001b[38;5;241m.\u001b[39mjoin(input_folder, filename)  \u001b[38;5;66;03m# 경로 생성\u001b[39;00m\n\u001b[1;32m----> 5\u001b[0m     data \u001b[38;5;241m=\u001b[39m \u001b[43mextract_data_from_pdf\u001b[49m\u001b[43m(\u001b[49m\u001b[43mfile_path\u001b[49m\u001b[43m)\u001b[49m           \u001b[38;5;66;03m# pdf 1개 처리 결과\u001b[39;00m\n\u001b[0;32m      6\u001b[0m     \u001b[38;5;28mprint\u001b[39m(data)\n",
      "Cell \u001b[1;32mIn[8], line 39\u001b[0m, in \u001b[0;36mextract_data_from_pdf\u001b[1;34m(file_path)\u001b[0m\n\u001b[0;32m     37\u001b[0m \u001b[38;5;28;01mfor\u001b[39;00m table \u001b[38;5;129;01min\u001b[39;00m tables:\n\u001b[0;32m     38\u001b[0m     \u001b[38;5;28;01mfor\u001b[39;00m row \u001b[38;5;129;01min\u001b[39;00m table:\n\u001b[1;32m---> 39\u001b[0m         row_str \u001b[38;5;241m=\u001b[39m \u001b[38;5;124m'\u001b[39m\u001b[38;5;124m \u001b[39m\u001b[38;5;124m'\u001b[39m\u001b[38;5;241m.\u001b[39mjoin(row)\u001b[38;5;241m.\u001b[39mlower()\n\u001b[0;32m     41\u001b[0m         \u001b[38;5;66;03m# full-time 학부생 처리\u001b[39;00m\n\u001b[0;32m     42\u001b[0m         \u001b[38;5;28;01mif\u001b[39;00m \u001b[38;5;124m'\u001b[39m\u001b[38;5;124mtotal undergraduate full-time students\u001b[39m\u001b[38;5;124m'\u001b[39m \u001b[38;5;129;01min\u001b[39;00m row_str \u001b[38;5;129;01mor\u001b[39;00m \u001b[38;5;124m'\u001b[39m\u001b[38;5;124mtotal undergraduate students\u001b[39m\u001b[38;5;124m'\u001b[39m \u001b[38;5;129;01min\u001b[39;00m row_str:\n",
      "\u001b[1;31mTypeError\u001b[0m: sequence item 2: expected str instance, NoneType found"
     ]
    }
   ],
   "source": [
    "# input 폴더 안에 있는 모든 pdf 파일 가져와서 처리\n",
    "for filename in os.listdir(input_folder):\n",
    "    if filename.endswith('.pdf'):  # pdf 파일만 처리\n",
    "        file_path = os.path.join(input_folder, filename)  # 경로 생성\n",
    "        data = extract_data_from_pdf(file_path)           # pdf 1개 처리 결과\n",
    "        print(data)"
   ]
  },
  {
   "cell_type": "code",
   "execution_count": null,
   "metadata": {},
   "outputs": [],
   "source": [
    "\n"
   ]
  }
 ],
 "metadata": {
  "kernelspec": {
   "display_name": "base",
   "language": "python",
   "name": "python3"
  },
  "language_info": {
   "codemirror_mode": {
    "name": "ipython",
    "version": 3
   },
   "file_extension": ".py",
   "mimetype": "text/x-python",
   "name": "python",
   "nbconvert_exporter": "python",
   "pygments_lexer": "ipython3",
   "version": "3.11.5"
  }
 },
 "nbformat": 4,
 "nbformat_minor": 2
}
