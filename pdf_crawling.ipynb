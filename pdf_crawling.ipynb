{
 "cells": [
  {
   "cell_type": "code",
   "execution_count": 11,
   "metadata": {},
   "outputs": [],
   "source": [
    "import os # Used for creating folders and reading files\n",
    "import re # Used for regular expressions\n",
    "import pdfplumber # Used for extracting text from PDF files\n",
    "import pandas as pd"
   ]
  },
  {
   "cell_type": "code",
   "execution_count": 12,
   "metadata": {},
   "outputs": [],
   "source": [
    "# Set input and output folder paths\n",
    "\n",
    "input_folder = 'pdf'\n",
    "output_folder = 'output'\n",
    "\n",
    "gatech_file_path = os.path.join(input_folder, 'gatech.pdf')\n",
    "umn_file_path = os.path.join(input_folder, 'umn.pdf')\n",
    "nyu_file_path = os.path.join(input_folder, 'nyu.pdf')\n",
    "uga_file_path = os.path.join(input_folder, 'uga.pdf')"
   ]
  },
  {
   "cell_type": "code",
   "execution_count": 13,
   "metadata": {},
   "outputs": [],
   "source": [
    "# Remove None and empty string from row\n",
    "\n",
    "def clean_row(row):\n",
    "    return [cell for cell in row if cell not in [None, '']]"
   ]
  },
  {
   "cell_type": "code",
   "execution_count": 14,
   "metadata": {},
   "outputs": [],
   "source": [
    "# Extract only numbers from the cell\n",
    "\n",
    "def clean_number(cell):\n",
    "    cell = re.sub(r'[^\\d]', '', str(cell)) # Remove all non-numeric characters\n",
    "    return int(cell) if cell else 0"
   ]
  },
  {
   "cell_type": "code",
   "execution_count": 15,
   "metadata": {},
   "outputs": [],
   "source": [
    "# Code to extract text from a specific page for verification\n",
    "\n",
    "def extract_text_from_page(file_path, page_number):\n",
    "    with pdfplumber.open(file_path) as pdf:\n",
    "        # Check if the given page number is valid\n",
    "        if page_number < 1 or page_number > len(pdf.pages):\n",
    "            print(f\"Invalid page number. This PDF has {len(pdf.pages)} pages.\")\n",
    "            return\n",
    "\n",
    "        # Adjust for 0-based indexing in pdfplumber\n",
    "        page = pdf.pages[page_number - 1]\n",
    "        text = page.extract_text()\n",
    "\n",
    "        # Print the extracted text if available\n",
    "        if text:\n",
    "            print(f\"Text from Page {page_number}:\\n\")\n",
    "            print(text)\n",
    "        else:\n",
    "            print(f\"No text found on page {page_number}.\")"
   ]
  },
  {
   "cell_type": "code",
   "execution_count": 16,
   "metadata": {},
   "outputs": [],
   "source": [
    "# Extract text from a section like \"C{#}.\" up to before \"C{#+1}.\"\n",
    "\n",
    "def extract_section_by_label(file_path, section_label):\n",
    "    next_label = \"c\" + str(int(section_label[1:]) + 1)\n",
    "\n",
    "    full_text = \"\"\n",
    "    with pdfplumber.open(file_path) as pdf:\n",
    "        for page in pdf.pages:\n",
    "            text = page.extract_text()\n",
    "            if text:\n",
    "                full_text += text.lower()\n",
    "\n",
    "    # Match exact line starting with \"c{#}.\"\n",
    "    # ^ = matches the beginning of a line\n",
    "    start_match = re.search(rf\"({section_label.lower()}[\\. ])\", full_text)\n",
    "    if not start_match:\n",
    "        print(f\"Section {section_label.upper()} not found.\")\n",
    "        return\n",
    "    start_idx = start_match.start()\n",
    "\n",
    "    # Look for the start of the next section\n",
    "    next_match = re.search(rf\"({next_label}[\\. ])\", full_text[start_idx:])\n",
    "    end_idx = start_idx + next_match.start() if next_match else None # If we don't find the next label, go to the end of the document\n",
    "\n",
    "    section_text = full_text[start_idx:end_idx]\n",
    "\n",
    "    return section_text"
   ]
  },
  {
   "cell_type": "markdown",
   "metadata": {},
   "source": [
    "### C1. Applications (Gender, Residency)"
   ]
  },
  {
   "cell_type": "markdown",
   "metadata": {},
   "source": [
    "##### Gender"
   ]
  },
  {
   "cell_type": "code",
   "execution_count": 17,
   "metadata": {},
   "outputs": [],
   "source": [
    "def extract_gender_data(file_path):\n",
    "    \n",
    "    result = {\n",
    "        'applicants': {'men': 0, 'women': 0, 'others': 0},\n",
    "        'admitted': {'men': 0, 'women': 0, 'others': 0}\n",
    "    }\n",
    "    \n",
    "    # Define keywords to identify gender-related and first-year-related tables\n",
    "    gender_keywords = ['men', 'women', 'another gender', 'unknown gender']\n",
    "    first_keywords = ['first-time', 'first-year']\n",
    "\n",
    "    with pdfplumber.open(file_path) as pdf:\n",
    "        for page in pdf.pages:\n",
    "            tables = page.extract_tables()\n",
    "            \n",
    "            for table in tables:\n",
    "                \n",
    "                # Check if this table is relevant\n",
    "                table_str = ' '.join(str(cell).lower() for row in table for cell in row if cell)\n",
    "                if not (any(keyword in table_str for keyword in gender_keywords) and all(keyword in table_str for keyword in first_keywords)):\n",
    "                    continue\n",
    "                \n",
    "                # Loop through data rows\n",
    "                for row in table:\n",
    "                    row = clean_row(row) # Clean up null and empty cells\n",
    "                    row_str = ' '.join(str(cell or '').lower() for cell in row)\n",
    "\n",
    "                    # Identify whether this row is about applicants or admitted students\n",
    "                    if 'applied' in row_str:\n",
    "                        target = 'applicants'\n",
    "                    elif 'admitted' in row_str:\n",
    "                        target = 'admitted'\n",
    "                    else:\n",
    "                        continue # Skip if not relevant\n",
    "                    \n",
    "                    # Add gender-specific count from the last column\n",
    "                    if 'men' in row_str and 'women' not in row_str:\n",
    "                        result[target]['men'] += clean_number(row[-1])\n",
    "                    elif 'women' in row_str:\n",
    "                        result[target]['women'] += clean_number(row[-1])\n",
    "                    elif 'another gender' in row_str or 'unknown gender' in row_str:\n",
    "                        result[target]['others'] += clean_number(row[-1])\n",
    "                            \n",
    "    return result"
   ]
  },
  {
   "cell_type": "code",
   "execution_count": 18,
   "metadata": {},
   "outputs": [
    {
     "data": {
      "text/plain": [
       "{'applicants': {'men': 40022, 'women': 19765, 'others': 2},\n",
       " 'admitted': {'men': 4634, 'women': 3779, 'others': 0}}"
      ]
     },
     "execution_count": 18,
     "metadata": {},
     "output_type": "execute_result"
    }
   ],
   "source": [
    "extract_gender_data(gatech_file_path)"
   ]
  },
  {
   "cell_type": "code",
   "execution_count": 19,
   "metadata": {},
   "outputs": [
    {
     "data": {
      "text/plain": [
       "{'applicants': {'men': 18901, 'women': 20862, 'others': 0},\n",
       " 'admitted': {'men': 14427, 'women': 16218, 'others': 0}}"
      ]
     },
     "execution_count": 19,
     "metadata": {},
     "output_type": "execute_result"
    }
   ],
   "source": [
    "extract_gender_data(umn_file_path)"
   ]
  },
  {
   "cell_type": "code",
   "execution_count": 20,
   "metadata": {},
   "outputs": [
    {
     "data": {
      "text/plain": [
       "{'applicants': {'men': 0, 'women': 0, 'others': 0},\n",
       " 'admitted': {'men': 0, 'women': 0, 'others': 0}}"
      ]
     },
     "execution_count": 20,
     "metadata": {},
     "output_type": "execute_result"
    }
   ],
   "source": [
    "extract_gender_data(nyu_file_path) # ^^"
   ]
  },
  {
   "cell_type": "code",
   "execution_count": 21,
   "metadata": {},
   "outputs": [
    {
     "data": {
      "text/plain": [
       "{'applicants': {'men': 18211, 'women': 25191, 'others': 14},\n",
       " 'admitted': {'men': 6260, 'women': 9882, 'others': 6}}"
      ]
     },
     "execution_count": 21,
     "metadata": {},
     "output_type": "execute_result"
    }
   ],
   "source": [
    "extract_gender_data(uga_file_path)"
   ]
  },
  {
   "cell_type": "markdown",
   "metadata": {},
   "source": [
    "##### Residency"
   ]
  },
  {
   "cell_type": "code",
   "execution_count": 22,
   "metadata": {},
   "outputs": [],
   "source": [
    "def extract_residency_data(file_path):\n",
    "    \n",
    "    result = {\n",
    "        'applicants': {'in_state': 0, 'out_of_state': 0, 'international': 0, 'others': 0},\n",
    "        'admitted': {'in_state': 0, 'out_of_state': 0, 'international': 0, 'others': 0}\n",
    "    }\n",
    "\n",
    "    # Define keywords to identify residency-related and first-year-related tables\n",
    "    residency_keywords = ['in-state', 'out-of-state', 'international']\n",
    "    first_keywords = ['first-time', 'first-year']\n",
    "\n",
    "    with pdfplumber.open(file_path) as pdf:\n",
    "        for page in pdf.pages:\n",
    "            tables = page.extract_tables()\n",
    "\n",
    "            for table in tables:\n",
    "                \n",
    "                # Check if this table is relevant\n",
    "                table_str = ' '.join(str(cell).lower() for row in table for cell in row if cell)\n",
    "                if not (any(keyword in table_str for keyword in residency_keywords) and all(keyword in table_str for keyword in first_keywords)):\n",
    "                    continue\n",
    "                \n",
    "                # Extract header row\n",
    "                header_row = clean_row([str(cell or '').lower() for cell in table[0]])\n",
    "\n",
    "                # Find index of each column\n",
    "                col_idx = {'in_state': -1, 'out_of_state': -1, 'international': -1, 'others': -1}\n",
    "                for idx, col in enumerate(header_row):\n",
    "                    if 'in-' in col:\n",
    "                        col_idx['in_state'] = idx\n",
    "                    elif 'out-' in col:\n",
    "                        col_idx['out_of_state'] = idx\n",
    "                    elif 'inter' in col:\n",
    "                        col_idx['international'] = idx\n",
    "                    elif 'unk' in col:\n",
    "                        col_idx['others'] = idx\n",
    "\n",
    "                # Loop through data rows\n",
    "                for row in table[1:]:  # skip header\n",
    "                    row = clean_row(row)\n",
    "                    row_str = ' '.join(str(cell or '').lower() for cell in row)\n",
    "\n",
    "                   # Identify whether this row is about applicants or admitted students\n",
    "                    if 'applied' in row_str:\n",
    "                        target = 'applicants'\n",
    "                    elif 'admitted' in row_str:\n",
    "                        target = 'admitted'\n",
    "                    else:\n",
    "                        continue # Skip if not relevant\n",
    "                    \n",
    "                    # Add residency-specific count\n",
    "                    if col_idx['in_state'] != -1:\n",
    "                        result[target]['in_state'] += clean_number(row[col_idx['in_state']])\n",
    "                    if col_idx['out_of_state'] != -1:\n",
    "                        result[target]['out_of_state'] += clean_number(row[col_idx['out_of_state']])\n",
    "                    if col_idx['international'] != -1:\n",
    "                        result[target]['international'] += clean_number(row[col_idx['international']])\n",
    "                    if col_idx['others'] != -1:\n",
    "                        result[target]['others'] += clean_number(row[col_idx['others']])\n",
    "\n",
    "    return result\n"
   ]
  },
  {
   "cell_type": "code",
   "execution_count": 23,
   "metadata": {},
   "outputs": [
    {
     "data": {
      "text/plain": [
       "{'applicants': {'in_state': 10674,\n",
       "  'out_of_state': 38320,\n",
       "  'international': 10795,\n",
       "  'others': 0},\n",
       " 'admitted': {'in_state': 3536,\n",
       "  'out_of_state': 3992,\n",
       "  'international': 885,\n",
       "  'others': 0}}"
      ]
     },
     "execution_count": 23,
     "metadata": {},
     "output_type": "execute_result"
    }
   ],
   "source": [
    "extract_residency_data(gatech_file_path)"
   ]
  },
  {
   "cell_type": "code",
   "execution_count": 24,
   "metadata": {},
   "outputs": [
    {
     "data": {
      "text/plain": [
       "{'applicants': {'in_state': 13982,\n",
       "  'out_of_state': 19461,\n",
       "  'international': 1256,\n",
       "  'others': 0},\n",
       " 'admitted': {'in_state': 10498,\n",
       "  'out_of_state': 15400,\n",
       "  'international': 982,\n",
       "  'others': 0}}"
      ]
     },
     "execution_count": 24,
     "metadata": {},
     "output_type": "execute_result"
    }
   ],
   "source": [
    "extract_residency_data(umn_file_path)"
   ]
  },
  {
   "cell_type": "code",
   "execution_count": 25,
   "metadata": {},
   "outputs": [
    {
     "data": {
      "text/plain": [
       "{'applicants': {'in_state': 18210,\n",
       "  'out_of_state': 23867,\n",
       "  'international': 1338,\n",
       "  'others': 1},\n",
       " 'admitted': {'in_state': 9149,\n",
       "  'out_of_state': 6709,\n",
       "  'international': 289,\n",
       "  'others': 1}}"
      ]
     },
     "execution_count": 25,
     "metadata": {},
     "output_type": "execute_result"
    }
   ],
   "source": [
    "extract_residency_data(uga_file_path)"
   ]
  },
  {
   "cell_type": "markdown",
   "metadata": {},
   "source": [
    "##### Applicant Summary"
   ]
  },
  {
   "cell_type": "code",
   "execution_count": 26,
   "metadata": {},
   "outputs": [],
   "source": [
    "def extract_applicant_summary(file_path):\n",
    "    gender_data = extract_gender_data(file_path)\n",
    "    residency_data = extract_residency_data(file_path)\n",
    "\n",
    "    result = {\n",
    "        'applicants': {\n",
    "            'gender': gender_data.get('applicants', {}),\n",
    "            'residency': residency_data.get('applicants', {})\n",
    "        },\n",
    "        'admitted': {\n",
    "            'gender': gender_data.get('admitted', {}),\n",
    "            'residency': residency_data.get('admitted', {})\n",
    "        }\n",
    "    }\n",
    "\n",
    "    return result\n"
   ]
  },
  {
   "cell_type": "code",
   "execution_count": 40,
   "metadata": {},
   "outputs": [
    {
     "data": {
      "text/plain": [
       "{'applicants': {'gender': {'men': 40022, 'women': 19765, 'others': 2},\n",
       "  'residency': {'in_state': 10674,\n",
       "   'out_of_state': 38320,\n",
       "   'international': 10795,\n",
       "   'others': 0}},\n",
       " 'admitted': {'gender': {'men': 4634, 'women': 3779, 'others': 0},\n",
       "  'residency': {'in_state': 3536,\n",
       "   'out_of_state': 3992,\n",
       "   'international': 885,\n",
       "   'others': 0}}}"
      ]
     },
     "execution_count": 40,
     "metadata": {},
     "output_type": "execute_result"
    }
   ],
   "source": [
    "extract_applicant_summary(gatech_file_path)"
   ]
  },
  {
   "cell_type": "code",
   "execution_count": 41,
   "metadata": {},
   "outputs": [
    {
     "data": {
      "text/plain": [
       "{'applicants': {'gender': {'men': 18901, 'women': 20862, 'others': 0},\n",
       "  'residency': {'in_state': 13982,\n",
       "   'out_of_state': 19461,\n",
       "   'international': 1256,\n",
       "   'others': 0}},\n",
       " 'admitted': {'gender': {'men': 14427, 'women': 16218, 'others': 0},\n",
       "  'residency': {'in_state': 10498,\n",
       "   'out_of_state': 15400,\n",
       "   'international': 982,\n",
       "   'others': 0}}}"
      ]
     },
     "execution_count": 41,
     "metadata": {},
     "output_type": "execute_result"
    }
   ],
   "source": [
    "extract_applicant_summary(umn_file_path)"
   ]
  },
  {
   "cell_type": "code",
   "execution_count": 42,
   "metadata": {},
   "outputs": [
    {
     "data": {
      "text/plain": [
       "{'applicants': {'gender': {'men': 18211, 'women': 25191, 'others': 14},\n",
       "  'residency': {'in_state': 18210,\n",
       "   'out_of_state': 23867,\n",
       "   'international': 1338,\n",
       "   'others': 1}},\n",
       " 'admitted': {'gender': {'men': 6260, 'women': 9882, 'others': 6},\n",
       "  'residency': {'in_state': 9149,\n",
       "   'out_of_state': 6709,\n",
       "   'international': 289,\n",
       "   'others': 1}}}"
      ]
     },
     "execution_count": 42,
     "metadata": {},
     "output_type": "execute_result"
    }
   ],
   "source": [
    "extract_applicant_summary(uga_file_path)"
   ]
  },
  {
   "cell_type": "markdown",
   "metadata": {},
   "source": [
    "### C3. High School Completetion requirement"
   ]
  },
  {
   "cell_type": "code",
   "execution_count": 27,
   "metadata": {},
   "outputs": [],
   "source": [
    "def extract_highschool_requirement(file_path):\n",
    "\n",
    "    result = {\n",
    "        'high school diploma required': 0,\n",
    "        'GED accepted': 0\n",
    "    }\n",
    "\n",
    "    # Define exact phrases expected in each case\n",
    "    diploma_and_ged = \"high school diploma is required and ged is accepted\"\n",
    "    diploma_only = \"high school diploma is required and ged is not accepted\"\n",
    "    no_diploma_needed = \"high school diploma or equivalent is not required\"\n",
    "\n",
    "    # Extract only the C3 section using helper function\n",
    "    section_text = extract_section_by_label(file_path, \"C3\")\n",
    "    if not section_text:\n",
    "        return result  # Return default if section not found\n",
    "\n",
    "    section_text = section_text.lower()\n",
    "    found_checked_option = False # Will be set to True if a checkbox is detected\n",
    "\n",
    "    # Go through each line to find checked options\n",
    "    for line in section_text.split('\\n'):\n",
    "        # '4' is included because some pdf files incorrectly render checkmarks as '4'\n",
    "        if diploma_and_ged in line and any(mark in line for mark in ['x', '☒', '✓', '✔', '4']):\n",
    "            result['high school diploma required'] = 1\n",
    "            result['GED accepted'] = 1\n",
    "            found_checked_option = True\n",
    "            break\n",
    "        elif diploma_only in line and any(mark in line for mark in ['x', '☒', '✓', '✔', '4']):\n",
    "            result['high school diploma required'] = 1\n",
    "            result['GED accepted'] = 0\n",
    "            found_checked_option = True\n",
    "            break\n",
    "        elif no_diploma_needed in line and any(mark in line for mark in ['x', '☒', '✓', '✔', '4']):\n",
    "            result['high school diploma required'] = 0\n",
    "            result['GED accepted'] = 0\n",
    "            found_checked_option = True\n",
    "            break\n",
    "\n",
    "    # If no checkboxes were found, use a fallback approach based on keyword presence\n",
    "    if not found_checked_option:\n",
    "        if diploma_and_ged in section_text:\n",
    "            result['high school diploma required'] = 1\n",
    "            result['GED accepted'] = 1\n",
    "        elif diploma_only in section_text:\n",
    "            result['high school diploma required'] = 1\n",
    "            result['GED accepted'] = 0\n",
    "        elif no_diploma_needed in section_text:\n",
    "            result['high school diploma required'] = 0\n",
    "            result['GED accepted'] = 0\n",
    "\n",
    "    return result"
   ]
  },
  {
   "cell_type": "code",
   "execution_count": 28,
   "metadata": {},
   "outputs": [
    {
     "data": {
      "text/plain": [
       "{'high school diploma required': 1, 'GED accepted': 0}"
      ]
     },
     "execution_count": 28,
     "metadata": {},
     "output_type": "execute_result"
    }
   ],
   "source": [
    "extract_highschool_requirement(gatech_file_path)"
   ]
  },
  {
   "cell_type": "code",
   "execution_count": 29,
   "metadata": {},
   "outputs": [
    {
     "data": {
      "text/plain": [
       "{'high school diploma required': 1, 'GED accepted': 1}"
      ]
     },
     "execution_count": 29,
     "metadata": {},
     "output_type": "execute_result"
    }
   ],
   "source": [
    "extract_highschool_requirement(umn_file_path)"
   ]
  },
  {
   "cell_type": "code",
   "execution_count": 30,
   "metadata": {},
   "outputs": [
    {
     "data": {
      "text/plain": [
       "{'high school diploma required': 1, 'GED accepted': 1}"
      ]
     },
     "execution_count": 30,
     "metadata": {},
     "output_type": "execute_result"
    }
   ],
   "source": [
    "extract_highschool_requirement(nyu_file_path)"
   ]
  },
  {
   "cell_type": "code",
   "execution_count": 31,
   "metadata": {},
   "outputs": [
    {
     "data": {
      "text/plain": [
       "{'high school diploma required': 1, 'GED accepted': 1}"
      ]
     },
     "execution_count": 31,
     "metadata": {},
     "output_type": "execute_result"
    }
   ],
   "source": [
    "extract_highschool_requirement(uga_file_path)"
   ]
  },
  {
   "cell_type": "code",
   "execution_count": 32,
   "metadata": {},
   "outputs": [
    {
     "data": {
      "text/plain": [
       "'c3. high school completion requirement\\ncheck the appropriate box to identify your high school completion requirement for degree-seeking entering\\nstudents:\\n4 high school diploma is required and ged is accepted\\n☐\\nhigh school diploma is required and ged is not accepted\\n☐\\nhigh school diploma or equivalent is not required\\n☐\\n'"
      ]
     },
     "execution_count": 32,
     "metadata": {},
     "output_type": "execute_result"
    }
   ],
   "source": [
    "extract_section_by_label(uga_file_path, 'c3')"
   ]
  },
  {
   "cell_type": "markdown",
   "metadata": {},
   "source": [
    "### C4. General College-Preparatory Program Requirement"
   ]
  },
  {
   "cell_type": "code",
   "execution_count": 33,
   "metadata": {},
   "outputs": [],
   "source": [
    "def extract_college_prep_requirement(file_path):\n",
    "    \n",
    "    result = {\n",
    "        'general college-preparatory program': \n",
    "            {\n",
    "                'required': 0,\n",
    "                'recommended': 0,\n",
    "                'neither required or recommended': 0\n",
    "            }\n",
    "        }\n",
    "\n",
    "    # Define key phrases to match\n",
    "    required = \"require\"\n",
    "    recommended = \"recommend\"\n",
    "    neither = \"neither require nor recommend\"\n",
    "\n",
    "    # Extract only the C4 section using helper function\n",
    "    section_text = extract_section_by_label(file_path, 'C4')\n",
    "    if not section_text:\n",
    "        return result # Return default if section not found\n",
    "    section_text = section_text.lower()\n",
    "    \n",
    "    found_checked_option = False # Will be set to True if a checkbox is detected\n",
    "\n",
    "    # Go through each line to find checked options\n",
    "    for line in section_text.split('\\n'):\n",
    "        # '4' is included because some pdf files incorrectly render checkmarks as '4'\n",
    "        if neither in line and any(mark in line for mark in ['x', '☒', '✓', '✔', '4']):\n",
    "            result['general college-preparatory program']['neither required or recommended'] = 1\n",
    "            found_checked_option = True\n",
    "            break\n",
    "        elif required in line and any(mark in line for mark in ['x', '☒', '✓', '✔', '4']):\n",
    "            result['general college-preparatory program']['required'] = 1\n",
    "            found_checked_option = True\n",
    "            break\n",
    "        elif recommended in line and any(mark in line for mark in ['x', '☒', '✓', '✔', '4']):\n",
    "            result['general college-preparatory program']['recommended'] = 1\n",
    "            found_checked_option = True\n",
    "            break\n",
    "\n",
    "    # If no checkboxes were found, use a fallback approach based on keyword presence\n",
    "    if not found_checked_option:\n",
    "        if \"neither require nor recommend\" in section_text:\n",
    "            result['general college-preparatory program']['neither required or recommended'] = 1\n",
    "        elif \"recommend\" in section_text:\n",
    "            result['general college-preparatory program']['recommended'] = 1\n",
    "        elif \"require\" in section_text:\n",
    "            result['general college-preparatory program']['required'] = 1\n",
    "\n",
    "    return result"
   ]
  },
  {
   "cell_type": "code",
   "execution_count": 34,
   "metadata": {},
   "outputs": [
    {
     "data": {
      "text/plain": [
       "{'general college-preparatory program': {'required': 1,\n",
       "  'recommended': 0,\n",
       "  'neither required or recommended': 0}}"
      ]
     },
     "execution_count": 34,
     "metadata": {},
     "output_type": "execute_result"
    }
   ],
   "source": [
    "extract_college_prep_requirement(gatech_file_path)"
   ]
  },
  {
   "cell_type": "code",
   "execution_count": 35,
   "metadata": {},
   "outputs": [
    {
     "data": {
      "text/plain": [
       "{'general college-preparatory program': {'required': 1,\n",
       "  'recommended': 0,\n",
       "  'neither required or recommended': 0}}"
      ]
     },
     "execution_count": 35,
     "metadata": {},
     "output_type": "execute_result"
    }
   ],
   "source": [
    "extract_college_prep_requirement(umn_file_path)"
   ]
  },
  {
   "cell_type": "code",
   "execution_count": 36,
   "metadata": {},
   "outputs": [
    {
     "data": {
      "text/plain": [
       "{'general college-preparatory program': {'required': 1,\n",
       "  'recommended': 0,\n",
       "  'neither required or recommended': 0}}"
      ]
     },
     "execution_count": 36,
     "metadata": {},
     "output_type": "execute_result"
    }
   ],
   "source": [
    "extract_college_prep_requirement(nyu_file_path)"
   ]
  },
  {
   "cell_type": "code",
   "execution_count": 37,
   "metadata": {},
   "outputs": [
    {
     "data": {
      "text/plain": [
       "{'general college-preparatory program': {'required': 1,\n",
       "  'recommended': 0,\n",
       "  'neither required or recommended': 0}}"
      ]
     },
     "execution_count": 37,
     "metadata": {},
     "output_type": "execute_result"
    }
   ],
   "source": [
    "extract_college_prep_requirement(uga_file_path)"
   ]
  },
  {
   "cell_type": "code",
   "execution_count": 38,
   "metadata": {},
   "outputs": [
    {
     "data": {
      "text/plain": [
       "'c4. does your institution require or recommend a general college-preparatory program for degree-seeking\\nstudents?\\n4 require\\n☐\\nrecommend\\n☐\\nneither require nor recommend\\n☐\\n'"
      ]
     },
     "execution_count": 38,
     "metadata": {},
     "output_type": "execute_result"
    }
   ],
   "source": [
    "extract_section_by_label(uga_file_path, 'c4')"
   ]
  },
  {
   "cell_type": "markdown",
   "metadata": {},
   "source": [
    "### Automation"
   ]
  },
  {
   "cell_type": "code",
   "execution_count": 39,
   "metadata": {},
   "outputs": [
    {
     "ename": "NameError",
     "evalue": "name 'extract_data_from_pdf' is not defined",
     "output_type": "error",
     "traceback": [
      "\u001b[1;31m---------------------------------------------------------------------------\u001b[0m",
      "\u001b[1;31mNameError\u001b[0m                                 Traceback (most recent call last)",
      "Cell \u001b[1;32mIn[39], line 5\u001b[0m\n\u001b[0;32m      3\u001b[0m \u001b[38;5;28;01mif\u001b[39;00m filename\u001b[38;5;241m.\u001b[39mendswith(\u001b[38;5;124m'\u001b[39m\u001b[38;5;124m.pdf\u001b[39m\u001b[38;5;124m'\u001b[39m):  \u001b[38;5;66;03m# pdf 파일만 처리\u001b[39;00m\n\u001b[0;32m      4\u001b[0m     file_path \u001b[38;5;241m=\u001b[39m os\u001b[38;5;241m.\u001b[39mpath\u001b[38;5;241m.\u001b[39mjoin(input_folder, filename)  \u001b[38;5;66;03m# 경로 생성\u001b[39;00m\n\u001b[1;32m----> 5\u001b[0m     data \u001b[38;5;241m=\u001b[39m \u001b[43mextract_data_from_pdf\u001b[49m(file_path)           \u001b[38;5;66;03m# pdf 1개 처리 결과\u001b[39;00m\n\u001b[0;32m      6\u001b[0m     \u001b[38;5;28mprint\u001b[39m(data)\n",
      "\u001b[1;31mNameError\u001b[0m: name 'extract_data_from_pdf' is not defined"
     ]
    }
   ],
   "source": [
    "# input 폴더 안에 있는 모든 pdf 파일 가져와서 처리\n",
    "for filename in os.listdir(input_folder):\n",
    "    if filename.endswith('.pdf'):  # pdf 파일만 처리\n",
    "        file_path = os.path.join(input_folder, filename)  # 경로 생성\n",
    "        data = extract_data_from_pdf(file_path)           # pdf 1개 처리 결과\n",
    "        print(data)"
   ]
  },
  {
   "cell_type": "code",
   "execution_count": null,
   "metadata": {},
   "outputs": [],
   "source": [
    "\n"
   ]
  }
 ],
 "metadata": {
  "kernelspec": {
   "display_name": "base",
   "language": "python",
   "name": "python3"
  },
  "language_info": {
   "codemirror_mode": {
    "name": "ipython",
    "version": 3
   },
   "file_extension": ".py",
   "mimetype": "text/x-python",
   "name": "python",
   "nbconvert_exporter": "python",
   "pygments_lexer": "ipython3",
   "version": "3.11.5"
  }
 },
 "nbformat": 4,
 "nbformat_minor": 2
}
